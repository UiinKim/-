{
  "nbformat": 4,
  "nbformat_minor": 0,
  "metadata": {
    "colab": {
      "provenance": [],
      "collapsed_sections": [
        "ZUsO81ATm_tl",
        "bGnpm273HBXx",
        "ybN2tJP-IKcx",
        "uG-rZF72IVf0",
        "TKozpKCwD_Dj",
        "li9HXDmQRnt4",
        "D92CjrTU8sKB",
        "KXg6WwhX8sKH",
        "EsEmKTuh8sKH",
        "yeP36Gcj8sKI"
      ],
      "include_colab_link": true
    },
    "kernelspec": {
      "name": "python3",
      "display_name": "Python 3"
    },
    "language_info": {
      "name": "python"
    }
  },
  "cells": [
    {
      "cell_type": "markdown",
      "metadata": {
        "id": "view-in-github",
        "colab_type": "text"
      },
      "source": [
        "<a href=\"https://colab.research.google.com/github/UiinKim/Crawling/blob/main/2%EA%B0%95_3_%EB%8D%B0%EC%9D%B4%ED%84%B0_%EC%88%98%EC%A7%91_%EB%B0%A9%EB%B2%95%EB%A1%A0_%ED%81%AC%EB%A1%A4%EB%A7%81%EC%9D%84_%ED%86%B5%ED%95%9C_%EB%8D%B0%EC%9D%B4%ED%84%B0_%EC%88%98%EC%A7%91.ipynb\" target=\"_parent\"><img src=\"https://colab.research.google.com/assets/colab-badge.svg\" alt=\"Open In Colab\"/></a>"
      ]
    },
    {
      "cell_type": "code",
      "source": [],
      "metadata": {
        "id": "eZCYEddSbzKj"
      },
      "execution_count": 82,
      "outputs": []
    },
    {
      "cell_type": "markdown",
      "source": [
        "### **Content License Agreement**\n",
        "\n",
        "<font color='red'><b>**WARNING**</b></font> : **TBD** TBU (운영진 작성 영역)"
      ],
      "metadata": {
        "id": "nLi3Rxpwb5c7"
      }
    },
    {
      "cell_type": "markdown",
      "source": [
        "### **Objectives**\n",
        "\n",
        "1. 실습 개요\n",
        "  - 웹 크롤링 실습\n",
        "  - 공공데이터 API 실습\n",
        "  - JSON, CSV, XML 실습\n",
        "2. 실습 진행 목적 및 배경\n",
        "  -  본 실습은 정적 페이지부터 동적 페이지까지의 웹 크롤링 실습과 다양한 라이브러리 활용법들을 배우며, 공공기관이 제공하는 API를 사용하여 구조화된 데이터를 요청하고 응답받는 과정을 익힙니다. 서로 다른 데이터 포멧 (JSON, CSV, XML)의 구조와 특징을 이해하고 데이터 변환 및 저장 방법을 학습하여 유연하게 작업할 수 있도록 합니다.\n",
        "3. 실습 수행으로 얻어갈 수 있는 역량\n",
        "  - 실시간 데이터를 수집하는 기술 습득\n",
        "  - 데이터 처리 및 변환 능력\n",
        "  - 라이브러리 활용 능력 향상\n",
        "4. 데이터셋 개요 및 저작권 정보\n",
        "  - 수치형 데이터 :  [Students' Academic Performance Dataset](https://www.kaggle.com/datasets/aljarah/xAPI-Edu-Data/data)\n",
        "  - 컬럼명 설명\n",
        "    - gender: 학생의 성별 (M: 남성, F: 여성)\n",
        "    - NationaliTy: 학생의 국적\n",
        "    - PlaceofBirth: 학생이 태어난 국가\n",
        "    - StageID: 학생이 다니는 학교 (초,중,고)\n",
        "    - GradeID: 학생이 속한 성적 등급\n",
        "    - SectionID: 학생이 속한 반 이름\n",
        "    - Topic: 수강한 과목\n",
        "    - Semester: 수강한 학기 (1학기/2학기)\n",
        "    - Relation: 주 보호자와 학생의 관계\n",
        "    - raisedhands: 학생이 수업 중 손을 든 횟수\n",
        "    - VisITedResources: 학생이 과목 공지를 확인한 횟수\n",
        "    - Discussion: 학생이 토론 그룹에 참여한 횟수\n",
        "    - ParentAnsweringSurvey: 부모가 학교 설문에 참여했는지 여부\n",
        "    - ParentschoolSatisfaction: 부모가 학교에 만족했는지 여부\n",
        "    - StudentAbscenceDays: 학생의 결석 횟수 (7회 이상/미만)\n",
        "    - Class: 학생의 성적 등급 (L: 낮음, M: 보통, H: 높음)\n",
        "\n",
        "  - 텍스트 데이터 : [네이버 영화 리뷰 데이터](https://github.com/e9t/nsmc)\n",
        "  - 컬럼명 설명\n",
        "    - id : 리뷰 아이디\n",
        "    - document : 리뷰\n",
        "    - label : 긍부정 라벨\n",
        "\n",
        "5. 실습 핵심 내용\n",
        "  - 동적 웹 크롤링 실습 (Selenium 활용)\n",
        "  - API 키 발급 및 활용법\n",
        "  - JSON, CSV, XML 데이터 포맷 실습"
      ],
      "metadata": {
        "id": "PgpZN9xOWIl_"
      }
    },
    {
      "cell_type": "markdown",
      "source": [
        "### **Prerequisites**\n",
        "\n",
        "```\n",
        "!pip install bs4\n",
        "!apt-get update -qq\n",
        "!apt-get install -qqy wget unzip\n",
        "!wget -q https://dl.google.com/linux/direct/google-chrome-stable_current_amd64.deb\n",
        "!dpkg -i google-chrome-stable_current_amd64.deb\n",
        "!apt --fix-broken install -y  \n",
        "!pip install webdriver-manager\n",
        "!pip install selenium\n",
        "!pip install pandas\n",
        "```\n"
      ],
      "metadata": {
        "id": "_kIWqSOwYMqe"
      }
    },
    {
      "cell_type": "markdown",
      "source": [
        "# 웹 크롤링 실습"
      ],
      "metadata": {
        "id": "8x6LJkFYpPDE"
      }
    },
    {
      "cell_type": "markdown",
      "source": [
        "- HTML 구조 실습"
      ],
      "metadata": {
        "id": "ZgZ4b7bnnZOQ"
      }
    },
    {
      "cell_type": "code",
      "execution_count": 83,
      "metadata": {
        "id": "vPar36-YGxt4"
      },
      "outputs": [],
      "source": [
        "html_doc ='''<html><head><title>웹크롤링 연습</title></head>\n",
        "<body>\n",
        "<p class=\"title\"><b><h1>HTML 연습</h1></b></p>\n",
        "<p class=\"link\">인터넷 링크를 작성하는 방법은\n",
        "<a class=\"naver\" href='https://sports.news.naver.com/wfootball/index' id=\"link1\">네이버 스포츠 뉴스</a>와\n",
        "<a class=\"daum\" href=\"https://sports.daum.net/worldsoccer\" id=\"link2\">다음 스포츠 뉴스</a>처럼\n",
        "HTML 링크로 작성할 수 있습니다.\n",
        "</p>\n",
        "<p class=\"story\">그리고 HTML 문서는 글자의 크기도 조정 가능해서\n",
        "<h2>크게</h2>작성할 수도 있고, <h4>작게</h4> 작성할 수도 있습니다.\n",
        "</p>\n",
        "</body></html>\n",
        "'''\n",
        "\n",
        "with open('웹크롤링 연습.html','w') as f:\n",
        "  f.write(html_doc)"
      ]
    },
    {
      "cell_type": "markdown",
      "source": [
        "- 코드 작성 이후 실행하고 코랩 탐색기에서 '웹크롤링 연습.html'을 다운받아서 실행해보기\n",
        "- 각 링크를 보며 어떤 구조로 연결이 되었는지 생각해보기\n",
        "- HTML 태그에 따른 구조를 생각하며 보기"
      ],
      "metadata": {
        "id": "vizasE_hb8qV"
      }
    },
    {
      "cell_type": "markdown",
      "source": [
        "## 1. BeautifulSoup"
      ],
      "metadata": {
        "id": "ZUsO81ATm_tl"
      }
    },
    {
      "cell_type": "markdown",
      "source": [
        "### 1-1. bs4 설치"
      ],
      "metadata": {
        "id": "uTQSzabkm_tl"
      }
    },
    {
      "cell_type": "code",
      "source": [
        "# bs4를 import로 사용하기 위해 설치\n",
        "\n",
        "!pip install bs4"
      ],
      "metadata": {
        "colab": {
          "base_uri": "https://localhost:8080/"
        },
        "outputId": "d5a9d6ef-f4a6-46b1-ffc6-74e7d9b6c11a",
        "id": "WmLS91ZTm_tm"
      },
      "execution_count": 84,
      "outputs": [
        {
          "output_type": "stream",
          "name": "stdout",
          "text": [
            "Requirement already satisfied: bs4 in /usr/local/lib/python3.10/dist-packages (0.0.2)\n",
            "Requirement already satisfied: beautifulsoup4 in /usr/local/lib/python3.10/dist-packages (from bs4) (4.12.3)\n",
            "Requirement already satisfied: soupsieve>1.2 in /usr/local/lib/python3.10/dist-packages (from beautifulsoup4->bs4) (2.6)\n"
          ]
        }
      ]
    },
    {
      "cell_type": "markdown",
      "source": [
        "HTML 구조 실습에서 작성해서 저장한 html 문서를 다시 불러들여 문서를 파싱하여 사람이 이해하기 쉬운 언어로 변환하고 필요한 정보를 추출하는 과정"
      ],
      "metadata": {
        "id": "wGCn_4a5m_tm"
      }
    },
    {
      "cell_type": "markdown",
      "source": [
        "### 1-2. 문서 파싱(parsing)\n",
        "\n",
        "- 앞서 저장한 html 문서를 다시 읽어들여 html 태그의 형태를 그대로 유지하면서 파싱하는 방법인 BeautifulSoup 클래스를 사용하여 읽는다\n",
        "- 이를 사람이 식별하기 좋게 태그 단위로 출력하는 prettify 메소드를 활용한다"
      ],
      "metadata": {
        "id": "zBsvGybem_tm"
      }
    },
    {
      "cell_type": "code",
      "source": [
        "# bs4 모듈에서 BeautifulSoup 클래스를 import하고 bs라는 약칭으로 사용\n",
        "from bs4 import BeautifulSoup as bs\n",
        "\n",
        "# 이전에 생성한 HTML 파일 ('웹크롤링 연습.html')을 읽기 모드('r')로 열기\n",
        "with open('웹크롤링 연습.html', 'r') as f:\n",
        "    # HTML 파일의 내용을 읽어와서 변수 html_doc에 저장\n",
        "    html_doc = f.read()\n",
        "\n",
        "# BeautifulSoup 객체 생성 - html_doc을 'html.parser'를 사용하여 파싱\n",
        "soup = bs(html_doc, 'html.parser')\n",
        "\n",
        "# BeautifulSoup 객체 출력 (HTML 구조를 그대로 출력)\n",
        "print(soup)\n",
        "\n",
        "# prettify() 메서드를 사용해 HTML 문서를 들여쓰기 및 정리하여 출력\n",
        "print(soup.prettify())\n"
      ],
      "metadata": {
        "colab": {
          "base_uri": "https://localhost:8080/"
        },
        "outputId": "7e514973-6a4e-41e4-8f3c-1de3759f480f",
        "id": "9nYb_-BQm_tn"
      },
      "execution_count": 85,
      "outputs": [
        {
          "output_type": "stream",
          "name": "stdout",
          "text": [
            "<html><head><title>웹크롤링 연습</title></head>\n",
            "<body>\n",
            "<p class=\"title\"><b><h1>HTML 연습</h1></b></p>\n",
            "<p class=\"link\">인터넷 링크를 작성하는 방법은\n",
            "<a class=\"naver\" href=\"https://sports.news.naver.com/wfootball/index\" id=\"link1\">네이버 스포츠 뉴스</a>와\n",
            "<a class=\"daum\" href=\"https://sports.daum.net/worldsoccer\" id=\"link2\">다음 스포츠 뉴스</a>처럼\n",
            "HTML 링크로 작성할 수 있습니다.\n",
            "</p>\n",
            "<p class=\"story\">그리고 HTML 문서는 글자의 크기도 조정 가능해서\n",
            "<h2>크게</h2>작성할 수도 있고, <h4>작게</h4> 작성할 수도 있습니다.\n",
            "</p>\n",
            "</body></html>\n",
            "\n",
            "<html>\n",
            " <head>\n",
            "  <title>\n",
            "   웹크롤링 연습\n",
            "  </title>\n",
            " </head>\n",
            " <body>\n",
            "  <p class=\"title\">\n",
            "   <b>\n",
            "    <h1>\n",
            "     HTML 연습\n",
            "    </h1>\n",
            "   </b>\n",
            "  </p>\n",
            "  <p class=\"link\">\n",
            "   인터넷 링크를 작성하는 방법은\n",
            "   <a class=\"naver\" href=\"https://sports.news.naver.com/wfootball/index\" id=\"link1\">\n",
            "    네이버 스포츠 뉴스\n",
            "   </a>\n",
            "   와\n",
            "   <a class=\"daum\" href=\"https://sports.daum.net/worldsoccer\" id=\"link2\">\n",
            "    다음 스포츠 뉴스\n",
            "   </a>\n",
            "   처럼\n",
            "HTML 링크로 작성할 수 있습니다.\n",
            "  </p>\n",
            "  <p class=\"story\">\n",
            "   그리고 HTML 문서는 글자의 크기도 조정 가능해서\n",
            "   <h2>\n",
            "    크게\n",
            "   </h2>\n",
            "   작성할 수도 있고,\n",
            "   <h4>\n",
            "    작게\n",
            "   </h4>\n",
            "   작성할 수도 있습니다.\n",
            "  </p>\n",
            " </body>\n",
            "</html>\n",
            "\n"
          ]
        }
      ]
    },
    {
      "cell_type": "markdown",
      "source": [
        "- prettify()를 사용해 출력시키면 태그의 시작과 종료 위치, 상위 및 하위 태그의 종속 관계를 이해하기 쉬워진다.\n",
        "-  여기서 저장한 soup 객체는 html 태그가 그대로 살아있어서 이 태그들의 특성을 이용해 필요한 정보를 추출할 수 있다."
      ],
      "metadata": {
        "id": "YbdnORD4m_tn"
      }
    },
    {
      "cell_type": "code",
      "source": [
        "# soup 객체에서 모든 <p> 태그를 찾은 후 반복문을 통해 텍스트만 출력\n",
        "for p in soup.find_all('p'):\n",
        "    # 찾은 <p> 태그의 텍스트 내용을 출력\n",
        "    print(p.text)\n",
        "\n",
        "# soup 객체에서 CSS 선택자 'p'를 사용하여 <p> 태그를 찾은 후 텍스트 출력\n",
        "for p in soup.select('p'):\n",
        "    # 찾은 <p> 태그의 텍스트 내용을 출력\n",
        "    print(p.text)\n"
      ],
      "metadata": {
        "colab": {
          "base_uri": "https://localhost:8080/"
        },
        "outputId": "65ff72eb-2a44-47d9-c150-2de07e209b3e",
        "id": "ZrGbt0nGm_tn"
      },
      "execution_count": 86,
      "outputs": [
        {
          "output_type": "stream",
          "name": "stdout",
          "text": [
            "HTML 연습\n",
            "인터넷 링크를 작성하는 방법은\n",
            "네이버 스포츠 뉴스와\n",
            "다음 스포츠 뉴스처럼\n",
            "HTML 링크로 작성할 수 있습니다.\n",
            "\n",
            "그리고 HTML 문서는 글자의 크기도 조정 가능해서\n",
            "크게작성할 수도 있고, 작게 작성할 수도 있습니다.\n",
            "\n",
            "HTML 연습\n",
            "인터넷 링크를 작성하는 방법은\n",
            "네이버 스포츠 뉴스와\n",
            "다음 스포츠 뉴스처럼\n",
            "HTML 링크로 작성할 수 있습니다.\n",
            "\n",
            "그리고 HTML 문서는 글자의 크기도 조정 가능해서\n",
            "크게작성할 수도 있고, 작게 작성할 수도 있습니다.\n",
            "\n"
          ]
        }
      ]
    },
    {
      "cell_type": "markdown",
      "source": [
        "- 결과를 보면 soup 객체의 메소드인 title과 태그명들을 활용하여 필요한 부분만 정보를 추출할 수 있다.\n",
        "- find_all, select 함수를 이용하는 방법이 필요한 부분의 정보를 추출하는데 더 효율적이다"
      ],
      "metadata": {
        "id": "hlWBWb-Em_tn"
      }
    },
    {
      "cell_type": "code",
      "source": [
        "# soup 객체에서 모든 <p> 태그를 찾아 텍스트를 출력\n",
        "for p in soup.find_all('p'):\n",
        "    # 각 <p> 태그 내부의 텍스트를 출력\n",
        "    print(p.text)\n",
        "\n",
        "# soup 객체에서 CSS 선택자 'p'를 사용하여 <p> 태그를 찾아 텍스트를 출력\n",
        "for p in soup.select('p'):\n",
        "    # 각 <p> 태그 내부의 텍스트를 출력\n",
        "    print(p.text)\n"
      ],
      "metadata": {
        "colab": {
          "base_uri": "https://localhost:8080/"
        },
        "outputId": "f3df2d5b-c237-4e96-9e02-aba95b23855b",
        "id": "6QkiRqmWm_to"
      },
      "execution_count": 87,
      "outputs": [
        {
          "output_type": "stream",
          "name": "stdout",
          "text": [
            "HTML 연습\n",
            "인터넷 링크를 작성하는 방법은\n",
            "네이버 스포츠 뉴스와\n",
            "다음 스포츠 뉴스처럼\n",
            "HTML 링크로 작성할 수 있습니다.\n",
            "\n",
            "그리고 HTML 문서는 글자의 크기도 조정 가능해서\n",
            "크게작성할 수도 있고, 작게 작성할 수도 있습니다.\n",
            "\n",
            "HTML 연습\n",
            "인터넷 링크를 작성하는 방법은\n",
            "네이버 스포츠 뉴스와\n",
            "다음 스포츠 뉴스처럼\n",
            "HTML 링크로 작성할 수 있습니다.\n",
            "\n",
            "그리고 HTML 문서는 글자의 크기도 조정 가능해서\n",
            "크게작성할 수도 있고, 작게 작성할 수도 있습니다.\n",
            "\n"
          ]
        }
      ]
    },
    {
      "cell_type": "markdown",
      "source": [
        "### 1-3. find 함수 활용"
      ],
      "metadata": {
        "id": "EQLbTaLAm_to"
      }
    },
    {
      "cell_type": "markdown",
      "source": [
        "- **find** 함수는 태그, 속성과 속성값을 활용해서 HTML 문서의 텍스트를 추출할 수 있다\n",
        "- **find_all** 함수는 여러 개의 내용을 리스트 형태로 가져올 수 있으며, 특정 하나의 태그만을 추출하려면 find 함수를 사용한다\n",
        "- 태그 내의 **class** 혹은 **id** 등에 해당하는 속성과 속성값을 활용하여 해당 태그의 내용을 추출할 수 있다."
      ],
      "metadata": {
        "id": "Ombd1ru2m_to"
      }
    },
    {
      "cell_type": "code",
      "source": [
        "# soup 객체에서 모든 <p> 태그를 찾아 리스트 형태로 출력\n",
        "print(soup.find_all('p'))\n",
        "\n",
        "# soup 객체에서 첫 번째 <p> 태그를 찾아 출력\n",
        "print(soup.find('p'))\n",
        "\n",
        "# soup 객체에서 클래스 이름이 'title'인 요소를 찾아 출력\n",
        "print(soup.find(class_='title'))\n",
        "\n",
        "# soup 객체에서 속성이 'class'이고 값이 'python'인 요소를 찾아 출력\n",
        "print(soup.find(attrs={'class': 'python'}))\n",
        "\n",
        "# soup 객체에서 태그가 'a'이고, 속성 'id'가 'link1'인 요소를 찾아 출력\n",
        "print(soup.find('a', {'id': 'link1'}))\n",
        "\n",
        "# soup 객체에서 속성이 'id'이고 값이 'link2'인 요소를 찾아 출력\n",
        "print(soup.find(attrs={'id': 'link2'}))\n"
      ],
      "metadata": {
        "colab": {
          "base_uri": "https://localhost:8080/"
        },
        "outputId": "ccaa9d57-2609-406f-88f9-11864cc97627",
        "id": "r3ucmSuPm_to"
      },
      "execution_count": 88,
      "outputs": [
        {
          "output_type": "stream",
          "name": "stdout",
          "text": [
            "[<p class=\"title\"><b><h1>HTML 연습</h1></b></p>, <p class=\"link\">인터넷 링크를 작성하는 방법은\n",
            "<a class=\"naver\" href=\"https://sports.news.naver.com/wfootball/index\" id=\"link1\">네이버 스포츠 뉴스</a>와\n",
            "<a class=\"daum\" href=\"https://sports.daum.net/worldsoccer\" id=\"link2\">다음 스포츠 뉴스</a>처럼\n",
            "HTML 링크로 작성할 수 있습니다.\n",
            "</p>, <p class=\"story\">그리고 HTML 문서는 글자의 크기도 조정 가능해서\n",
            "<h2>크게</h2>작성할 수도 있고, <h4>작게</h4> 작성할 수도 있습니다.\n",
            "</p>]\n",
            "<p class=\"title\"><b><h1>HTML 연습</h1></b></p>\n",
            "<p class=\"title\"><b><h1>HTML 연습</h1></b></p>\n",
            "None\n",
            "<a class=\"naver\" href=\"https://sports.news.naver.com/wfootball/index\" id=\"link1\">네이버 스포츠 뉴스</a>\n",
            "<a class=\"daum\" href=\"https://sports.daum.net/worldsoccer\" id=\"link2\">다음 스포츠 뉴스</a>\n"
          ]
        }
      ]
    },
    {
      "cell_type": "markdown",
      "source": [
        "- 기본적으로 태그 명을 사용하고, 여기에 클래스나 아이디 등의 속성과 그에 해당하는 속성값을 넣어 해당 태그의 텍스트를 추출할 수 있다.\n",
        "- 실제 값을 추출할 경우는 find_all은 여러개의 시리즈를 가지고 있으므로 for 문을 사용한다.\n",
        "- find의 경우는 단일값을 가지고 있기 때문에 속성값을 추출할 때는 get 함수를 이용하고, 태그에 둘러싸여 있는 텍스트를 추출하고자 할 때는 text 메소드를 활용하면 된다."
      ],
      "metadata": {
        "id": "HXvd16Efm_tp"
      }
    },
    {
      "cell_type": "code",
      "source": [
        "# 첫 번째 <p> 태그 내부에서 <h1> 태그를 찾아 텍스트 출력\n",
        "print(soup.find('p').find('h1').text)\n",
        "\n",
        "# 첫 번째 <p> 태그의 'class' 속성 값을 가져와 출력\n",
        "print(soup.find_all('p')[0].get('class'))"
      ],
      "metadata": {
        "colab": {
          "base_uri": "https://localhost:8080/"
        },
        "outputId": "38a79e20-4bca-4009-9b1f-78946089e038",
        "id": "Lj4Otu8Jm_tp"
      },
      "execution_count": 89,
      "outputs": [
        {
          "output_type": "stream",
          "name": "stdout",
          "text": [
            "HTML 연습\n",
            "['title']\n"
          ]
        }
      ]
    },
    {
      "cell_type": "markdown",
      "source": [
        "### 1-4. CSS 선택자(Selector) 이용 : select 함수"
      ],
      "metadata": {
        "id": "lQ_URlydm_tp"
      }
    },
    {
      "cell_type": "markdown",
      "source": [
        "- CSS(Cascading Style Sheets)에서 선택자는 디자인 스타일을 적용하고자 하는 HTML의 요소를 선택할 때 사용된다\n",
        "- 다양한 종류가 있으며 여러 개의 선택자를 통해서 하나의 태그를 공통으로 제어할 수 있다\n"
      ],
      "metadata": {
        "id": "yGTuVtWim_tp"
      }
    },
    {
      "cell_type": "markdown",
      "source": [
        "- 태그 선택자, 클래스 선택자, 아이디 선택자가 있다\n",
        "- 우선 적용 순위로는 조금 더 구체적인 선택자가 우선순위로 적용된다\n",
        "- find_all 함수와 같은 기능으로는 select 함수 (여러 개의 시리즈)\n",
        "- find 함수와 같은 기능으로는 select_one 함수 (하나의 태그)"
      ],
      "metadata": {
        "id": "_2DP-qVzm_tq"
      }
    },
    {
      "cell_type": "code",
      "source": [
        "# CSS 선택자 'p'를 사용하여 모든 <p> 태그를 리스트 형태로 출력\n",
        "print(soup.select('p'))\n",
        "\n",
        "# CSS 선택자 'p'를 사용하여 첫 번째 <p> 태그를 찾아 출력\n",
        "print(soup.select_one('p'))\n",
        "\n",
        "# 클래스 이름이 'title'인 요소를 찾아 출력 (CSS 선택자 사용)\n",
        "print(soup.select_one('.title'))\n",
        "\n",
        "# 클래스 이름이 'python'인 요소를 찾아 출력\n",
        "print(soup.select_one('python'))\n",
        "\n",
        "# 태그 'a'와 id='link1' 속성을 가진 요소를 찾아 출력 (CSS 선택자 사용)\n",
        "print(soup.select_one('a#link1'))\n",
        "\n",
        "# id='link2' 속성을 가진 요소를 찾아 출력\n",
        "print(soup.select_one('#link2'))\n"
      ],
      "metadata": {
        "colab": {
          "base_uri": "https://localhost:8080/"
        },
        "outputId": "d75ec585-134b-45ab-967a-e15ec2149e2f",
        "id": "dbZO_RVum_tq"
      },
      "execution_count": 90,
      "outputs": [
        {
          "output_type": "stream",
          "name": "stdout",
          "text": [
            "[<p class=\"title\"><b><h1>HTML 연습</h1></b></p>, <p class=\"link\">인터넷 링크를 작성하는 방법은\n",
            "<a class=\"naver\" href=\"https://sports.news.naver.com/wfootball/index\" id=\"link1\">네이버 스포츠 뉴스</a>와\n",
            "<a class=\"daum\" href=\"https://sports.daum.net/worldsoccer\" id=\"link2\">다음 스포츠 뉴스</a>처럼\n",
            "HTML 링크로 작성할 수 있습니다.\n",
            "</p>, <p class=\"story\">그리고 HTML 문서는 글자의 크기도 조정 가능해서\n",
            "<h2>크게</h2>작성할 수도 있고, <h4>작게</h4> 작성할 수도 있습니다.\n",
            "</p>]\n",
            "<p class=\"title\"><b><h1>HTML 연습</h1></b></p>\n",
            "<p class=\"title\"><b><h1>HTML 연습</h1></b></p>\n",
            "None\n",
            "<a class=\"naver\" href=\"https://sports.news.naver.com/wfootball/index\" id=\"link1\">네이버 스포츠 뉴스</a>\n",
            "<a class=\"daum\" href=\"https://sports.daum.net/worldsoccer\" id=\"link2\">다음 스포츠 뉴스</a>\n"
          ]
        }
      ]
    },
    {
      "cell_type": "markdown",
      "source": [
        "- find 함수와 다른 부분은 문법상 **'class', 'id'** 태그를 **'.'**과 **'#'**으로 대체하여 사용하며, 기능은 동일하다"
      ],
      "metadata": {
        "id": "QhRlPz3mm_tq"
      }
    },
    {
      "cell_type": "code",
      "source": [
        "# 첫 번째 <p> 태그 내부에 있는 id='link1' 요소의 텍스트 출력\n",
        "print(soup.select_one('p > #link1').text)\n",
        "\n",
        "# 두 번째 <a> 태그의 'id' 속성 값을 가져와 출력\n",
        "print(soup.select('a')[1].get('id'))\n",
        "\n",
        "# 두 번째 <p> 태그의 텍스트 내용을 출력\n",
        "print(soup.select('p')[1].text)\n"
      ],
      "metadata": {
        "colab": {
          "base_uri": "https://localhost:8080/"
        },
        "outputId": "144a060c-8af5-401c-c9d2-93801f528b15",
        "id": "6tBkOr7-m_tq"
      },
      "execution_count": 91,
      "outputs": [
        {
          "output_type": "stream",
          "name": "stdout",
          "text": [
            "네이버 스포츠 뉴스\n",
            "link2\n",
            "인터넷 링크를 작성하는 방법은\n",
            "네이버 스포츠 뉴스와\n",
            "다음 스포츠 뉴스처럼\n",
            "HTML 링크로 작성할 수 있습니다.\n",
            "\n"
          ]
        }
      ]
    },
    {
      "cell_type": "markdown",
      "source": [
        "## 2. Requests, Urllib"
      ],
      "metadata": {
        "id": "bGnpm273HBXx"
      }
    },
    {
      "cell_type": "markdown",
      "source": [
        "### 2-1. robots.txt로 확인"
      ],
      "metadata": {
        "id": "ybN2tJP-IKcx"
      }
    },
    {
      "cell_type": "markdown",
      "source": [
        "- 네이버 뉴스의 크롤링 가능 여부 : https://news.naver.com/robots.txt\n"
      ],
      "metadata": {
        "id": "1wgp-zYe6zKo"
      }
    },
    {
      "cell_type": "code",
      "source": [
        "import requests\n",
        "\n",
        "# 로봇 배제 기준 확인 (robots.txt 파일 가져오기)\n",
        "resp = requests.get(\"https://news.naver.com/robots.txt\")\n",
        "print(resp.text)\n"
      ],
      "metadata": {
        "colab": {
          "base_uri": "https://localhost:8080/"
        },
        "id": "vYoJzUNeIJzv",
        "outputId": "fb45b8a4-f3e8-4524-e8b6-517f1e05e5a1"
      },
      "execution_count": 92,
      "outputs": [
        {
          "output_type": "stream",
          "name": "stdout",
          "text": [
            "User-agent: Yeti\n",
            "Allow: /main/imagemontage\n",
            "Disallow: /\n",
            "\n",
            "User-Agent: facebookexternalhit\n",
            "Disallow: /*/template\n",
            "\n",
            "User-Agent: Twitterbot\n",
            "Disallow: /*/template\n",
            "\n",
            "User-agent: *\n",
            "Disallow: /\n",
            "\n"
          ]
        }
      ]
    },
    {
      "cell_type": "markdown",
      "source": [
        "- 3가지의 User-Agent 제외하고 모든 부분에 대해 허용"
      ],
      "metadata": {
        "id": "4jqcgP5HdUrq"
      }
    },
    {
      "cell_type": "markdown",
      "source": [
        "### 2-2. Requests\n",
        "\n",
        "- 데이터 전송시 딕셔너리 형태로 주고 받기에 별도로 디코딩 과정이 필요 없음\n",
        "- get 메소드로 해당 웹 페이지 정보 읽기 가능\n",
        "- 수신한 HTML 문서에 대한 encoding이나 headers 정보를 간단하게 파악 가능\n",
        "- 모든 텍스트 정보를 확인하기 위해 간단하게 text 메서드 활용"
      ],
      "metadata": {
        "id": "epmYp86RIOwF"
      }
    },
    {
      "cell_type": "code",
      "source": [
        "import requests\n",
        "\n",
        "# 웹 페이지에 GET 요청을 보냄\n",
        "r = requests.get('https://news.naver.com/')\n",
        "\n",
        "# 인코딩 방식 출력\n",
        "print(\"Encoding:\", r.encoding)\n",
        "\n",
        "# 헤더에서 'Expires' 정보 출력\n",
        "print(\"Expires:\", r.headers.get('Expires'))\n",
        "\n",
        "# 헤더에서 'Content-Type' 정보 출력\n",
        "print(\"Content-Type:\", r.headers.get('Content-Type'))\n",
        "\n",
        "# 전체 헤더 정보 출력\n",
        "print(\"\\nHeaders:\")\n",
        "print(r.headers)\n"
      ],
      "metadata": {
        "colab": {
          "base_uri": "https://localhost:8080/"
        },
        "id": "0QF2ISB8H8Td",
        "outputId": "1dfdbe11-2997-4b47-f75e-6c6a80f6b5c2"
      },
      "execution_count": 93,
      "outputs": [
        {
          "output_type": "stream",
          "name": "stdout",
          "text": [
            "Encoding: utf-8\n",
            "Expires: None\n",
            "Content-Type: text/html;charset=utf-8\n",
            "\n",
            "Headers:\n",
            "{'Cache-Control': 'no-cache, no-store', 'x-xss-protection': '1; mode=block', 'x-content-type-options': 'nosniff', 'x-frame-options': 'SAMEORIGIN', 'Content-Language': 'ko-KR', 'Content-Encoding': 'gzip', 'Access-Control-Allow-Credentials': 'true', 'Access-Control-Allow-Headers': 'accept, content-type', 'Access-Control-Allow-Methods': 'GET, POST', 'Content-Length': '41607', 'Content-Type': 'text/html;charset=utf-8', 'referrer-policy': 'unsafe-url', 'Server': 'nfront', 'Date': 'Thu, 28 Nov 2024 06:54:19 GMT', 'Connection': 'keep-alive', 'Vary': 'Accept-Encoding'}\n"
          ]
        }
      ]
    },
    {
      "cell_type": "markdown",
      "source": [
        "- 본인의 개인 블로그에 접근하는 방법\n",
        "- 아이디와 패스워드 입력"
      ],
      "metadata": {
        "id": "Ar0SnzsUfEZ4"
      }
    },
    {
      "cell_type": "markdown",
      "source": [
        "- requests + bs4의 select 활용"
      ],
      "metadata": {
        "id": "lkNOGB6J-tzo"
      }
    },
    {
      "cell_type": "code",
      "source": [
        "import requests\n",
        "from bs4 import BeautifulSoup as bs\n",
        "\n",
        "# 웹 페이지 요청 (requests는 정적 페이지만 가능)\n",
        "response = requests.get('https://ai-bigdataanalysis.blogspot.com/2024/03/html.html')\n",
        "\n",
        "# 요청된 페이지의 HTML 내용을 텍스트 형태로 가져옴\n",
        "html_doc = response.text\n",
        "\n",
        "# BeautifulSoup 객체 생성 및 HTML 파싱\n",
        "soup = bs(html_doc, 'html.parser')\n",
        "\n",
        "# 특정 div 태그를 선택하여 해당 콘텐츠 가져오기 (클래스가 'post-body'인 div 요소 선택)\n",
        "content = soup.select_one('div.post-body')\n",
        "\n",
        "# 추출한 콘텐츠에서 모든 <span> 태그의 텍스트를 합쳐서 저장\n",
        "text = \"\"\n",
        "if content:  # 'content'가 None이 아닐 경우에만 실행\n",
        "    for para in content.select(\"span\"):\n",
        "        text += para.text.strip()\n",
        "\n",
        "# 최종적으로 텍스트 출력\n",
        "print(text)\n"
      ],
      "metadata": {
        "colab": {
          "base_uri": "https://localhost:8080/"
        },
        "id": "m25j_MMy-ypK",
        "outputId": "dd7dbf30-39a6-4de2-dc25-2d2a5697bc75"
      },
      "execution_count": 94,
      "outputs": [
        {
          "output_type": "stream",
          "name": "stdout",
          "text": [
            "참조 :https://wikidocs.net/1278461. HTML 구조의 이해HTML은 웹 문서를 만들기 위하여 사용하는 기본적인 웹 언어의 한 종류이다. 하이퍼텍스트를 작성하기 위해 개발되었으며 인터넷 서비스의 하나인 월드와이드웹(WWW)을 통해서 볼 수 있는 문서를 만들 때 사용하는 웹 언어의 한 종류이다. 특히 인터넷에서 웹을 통해 접근되는 대부분의 웹 페이지들은 HTML로 작성되는데 문서의 글자 크기, 글자색, 글자모양, 그래픽, 문서이동(하이퍼링크) 등을 정의하는 명령어들이 있다. HTML에서 사용하는 명령어는 태그(tag)라고 하는데 꺽쇠괄호'<>'를 사용하여 나타낸다. HTML 문서는 크게 Head 부분과 Body로 나누어지는데 Head 부분에는 문서의 제목을 포함한 기본적인 정보들을 포함하고 있으며 Body 부분에는 실제 웹 페이지에 나타나는 본문 내용으로 구성된다. 그래서 이러한 구조를 간단하게 요약해서 표기하면 아래와 같은 그림으로 표현할 수 있다.좀더 구체적으로 위에 그림 중에 본문 문단을 의미하는 p 태그의 코드 기준으로 설명하면 HTML 요소는 시작 태그와 /로 시작하는 종료 태그 사이에 내용들이 들어 있으며, 시작 태그 안에는 속성명(Attributes) 'class'와 속성값(Values) 'para'를 포함하고 있고, '빅데이터 분석과 활용'이라는 내용을 포함하고 있는 태그이다.보다 다양한 HTML 태그에 대한 이해를 위해서 자주 사용하는 태그들을 표의 형태로 정리하면 아래와 같다.이러한 구조를 사람이 보기 편한 Text 문서로 파싱하기 위해서는 BeautifulSoup라는 라이브러리를 이용해야 한다.이라는 파이썬 라이브러리는 이와 같이 HTML 문서를 파싱하여 텍스트 데이터를 추출할 수 있는 유용한 도구이다.2.HTML 문서의 사례와 텍스트 추출이해를 돕기위해 아래와 같이 HTML 소스코드를 아래와 같이 작성하여 '웹크롤링 연습.html'로 파일을 저장하고 웹브라우저로 열어보면 HTML로 작성된 문서의 규칙을 이해할 수 있다.이해를 돕기위해 아래와 같이 HTML 소스코드를 아래와 같이 작성하여 '웹크롤링 연습.html'로 파일을 저장하고 웹브라우저로 열어보면 HTML로 작성된 문서의 규칙을 이해할 수 있다.<html><head><title>웹크롤링 연습</title></head><body><p class=\"title\"><b><h1>HTML 연습</h1></b></p><p class=\"link\">인터넷 링크를 작성하는 방법은<a class=\"blog\" href='https://ai-bigdataanalysis.blogspot.com/' id=\"link1\">인공지능 기반 덱스트 데이터 분석 블로그</a>와<a class=\"wikidocs\" href=\"https://wikidocs.net/book/6280\" id=\"link2\">인공지능 기반 빅데이터 자연어 처리와 통계 분석</a>처럼HTML 링크로 작성할 수 있습니다.</p><p class=\"story\">그리고 HTML 문서는 글자의 크기도 조정 가능해서<h2>크게</h2>작성할 수도 있고, <h4>작게</h4> 작성할 수도 있습니다.</p></body></html>위에 있는 소스코드로 작성된 HTML 파일을 웹브라우저로 열면 아래와 같은 형태의 웹페이지로 출력됨을 알 수 있다. 특히 여기서 인공지능 기반 덱스트 데이터 분석 블로그와 인공지능 기반 빅데이터 자연어 처리와 통계 분석의 경우는 a 태그에서 href 속성을 이용한 링크로 연결되어 다른 웹페이지로 이동할 수 있다.<html><head><title>웹크롤링 연습</title></head><body><p class=\"title\"><b><h1>HTML 연습</h1></b></p><p class=\"link\">인터넷 링크를 작성하는 방법은<a class=\"blog\" href='https://ai-bigdataanalysis.blogspot.com/' id=\"link1\">인공지능 기반 덱스트 데이터 분석 블로그</a>와<a class=\"wikidocs\" href=\"https://wikidocs.net/book/6280\" id=\"link2\">인공지능 기반 빅데이터 자연어 처리와 통계 분석</a>처럼HTML 링크로 작성할 수 있습니다.</p><p class=\"story\">그리고 HTML 문서는 글자의 크기도 조정 가능해서<h2>크게</h2>작성할 수도 있고, <h4>작게</h4> 작성할 수도 있습니다.</p></body></html>위에 있는 소스코드로 작성된 HTML 파일을 웹브라우저로 열면 아래와 같은 형태의 웹페이지로 출력됨을 알 수 있다. 특히 여기서 인공지능 기반 덱스트 데이터 분석 블로그와 인공지능 기반 빅데이터 자연어 처리와 통계 분석의 경우는 a 태그에서 href 속성을 이용한 링크로 연결되어 다른 웹페이지로 이동할 수 있다.와코랩을 이용해서 위에 그림으로 설명한 P 태그의 내용을 추출하는 방법을 설명하면 아래와 같은 코드를 실행시키면 추출이 가능하다.먼저 뷰티풀소프라는 라이브러리를 아래와 같이 설치한다.먼저 뷰티풀소프라는 라이브러리를 아래와 같이 설치한다.!pip install bs4그리고 태그를 파싱해서 그안에 담겨있는 텍스트를 추출하거나 속성에 해당하는 속성값을 추출는 방법을 정리하면 아래와 같다.그리고 태그를 파싱해서 그안에 담겨있는 텍스트를 추출하거나 속성에 해당하는 속성값을 추출는 방법을 정리하면 아래와 같다.fromimportas'''<p class='para'>빅데이터 분석과 활용</p>''''html.parser'print\"p\"print\"p\"\"class\"3. 웹크롤링 방법 사례3. 웹크롤링 방법 사례웹크롤링을 하기 위해 우선적으로 해야할 일은 우리가 정보를 추출하고자하는 웹페이지의 로봇배제기준을 확인하여 추출이 가능한 웹페이지인지 확인해야한다. 현재 이 블로그의 로봇배제기준을 확인하려면 웹페이지 주소창에 있는 주소에 추가하여 /robots.txt 를 추가하여 확인하는 것이다.웹크롤링을 하기 위해 우선적으로 해야할 일은 우리가 정보를 추출하고자하는 웹페이지의 로봇배제기준을 확인하여 추출이 가능한 웹페이지인지 확인해야한다. 현재 이 블로그의 로봇배제기준을 확인하려면 웹페이지 주소창에 있는 주소에 추가하여 /robots.txt 를 추가하여 확인하는 것이다.가. 기본정보 추출가. 기본정보 추출기본적인 웹페이지의 정보를 크롤링하기 위해서는 아래와 같이 requests나 urllib 라이브러리를 이용하여 HTML 정보를 불러오고 이를 BeautifulSoup으로 파싱하여 구체적인 텍스트 정보를 얻을 수있다.기본적인 웹페이지의 정보를 크롤링하기 위해서는 아래와 같이 requests나 urllib 라이브러리를 이용하여 HTML 정보를 불러오고 이를 BeautifulSoup으로 파싱하여 구체적인 텍스트 정보를 얻을 수있다.import requestsimport requestsfrom bs4 import BeautifulSoup as bsfrom bs4 import BeautifulSoup as bsurl = \"https://enjoystat.blogspot.com/2024/03/html.html\"url = \"https://enjoystat.blogspot.com/2024/03/html.html\"resp = requests.get(url)resp = requests.get(url)print(resp)print(resp)html_src = resp.texthtml_src = resp.textsoup = bs(html_src, 'html.parser')soup = bs(html_src, 'html.parser')나. 태그사이에 있는 정보 추출나. 태그사이에 있는 정보 추출태그사이에 있는 정보를 추출하기 위해서는 f12 또는 Ctrl+Shift+I로 소스코드가 팝업되도록 펼치고, 좌상단 element select 또는 Ctrl+Shift+C로 마우스 선택기를 활성화하여 추출하고자하는 행에서 우측마우 클릭하고, copy - copy selector 선택 복사하여 아래와 같이 Select_one문에 붙여넣기하여 기본정보를 추출할 수 있다.태그사이에 있는 정보를 추출하기 위해서는 f12 또는 Ctrl+Shift+I로 소스코드가 팝업되도록 펼치고, 좌상단 element select 또는 Ctrl+Shift+C로 마우스 선택기를 활성화하여 추출하고자하는 행에서 우측마우 클릭하고, copy - copy selector 선택 복사하여 아래와 같이 Select_one문에 붙여넣기하여 기본정보를 추출할 수 있다.soup.select_one(\"#Blog1 > div.blog-posts.hfeed > div > div > div > div.post.hentry.uncustomized-post-template > h3\").text.strip()soup.select_one(\"#Blog1 > div.blog-posts.hfeed > div > div > div > div.post.hentry.uncustomized-post-template > h3\").text.strip()다. 속성값 추출다. 속성값 추출태그 내에 작성되어 있는 속성값을 추출하기 위해서는 get(\"속성명\") 메소드를 활용하여 속성값을 추출할 수 있다.태그 내에 작성되어 있는 속성값을 추출하기 위해서는 get(\"속성명\") 메소드를 활용하여 속성값을 추출할 수 있다.print(soup.select_one(\"#Profile1 > div > a\").get(\"href\"))print(soup.select_one(\"#Profile1 > div > a\").get(\"href\"))라. 반복되는 내용 추출라. 반복되는 내용 추출웹페이지에 있는 세부 텍스트 내용은 통상 패러그래프 태그인 P 태그에 반복적으로 들어있기 때문에 아래와 같이 for문을 이용하여 추출할 수 있다.웹페이지에 있는 세부 텍스트 내용은 통상 패러그래프 태그인 P 태그에 반복적으로 들어있기 때문에 아래와 같이 for문을 이용하여 추출할 수 있다.text =\"\"text =\"\"body=soup.find(\"div\", {\"class\":\"post-body entry-content\"})body=soup.find(\"div\", {\"class\":\"post-body entry-content\"})for para in body.select(\"p\"):for para in body.select(\"p\"):text=text+para.text.strip()text=text+para.text.strip()texttext\n"
          ]
        }
      ]
    },
    {
      "cell_type": "markdown",
      "source": [
        "### 2-3. urllib"
      ],
      "metadata": {
        "id": "uG-rZF72IVf0"
      }
    },
    {
      "cell_type": "markdown",
      "source": [
        "- requests 라이브러리와 다르게 데이터 전송시 바이너리 데이터로 변환하여 주고 받기에 HTML 문서를 수신했을 때 디코딩 과정이 필요하다\n",
        "- 한글은 UTF-8, EUC-KR, cp949 형태가 존재\n",
        "- HTML 문서의 Head 부분에서 관련된 정보를 찾아 적절한 포맷에 맞게 디코딩을 해야한다\n"
      ],
      "metadata": {
        "id": "Yzc3nRNGgKP6"
      }
    },
    {
      "cell_type": "code",
      "source": [
        "# urllib.request 모듈에서 urlopen 함수를 import\n",
        "from urllib.request import urlopen\n",
        "\n",
        "# 웹 페이지 요청 및 응답 객체 가져오기\n",
        "# 'https://ai-bigdataanalysis.blogspot.com' 페이지에 접근하여 응답 객체를 html 변수에 저장\n",
        "html = urlopen('https://ai-bigdataanalysis.blogspot.com')\n",
        "\n",
        "# 응답된 페이지의 인코딩 방식 확인\n",
        "# 서버에서 응답한 HTTP 헤더에서 'Content-Type'의 charset 값을 가져와 인코딩 방식을 출력\n",
        "print(\"Encoding:\", html.headers.get_content_charset())\n",
        "\n",
        "# HTML 내용을 읽어와서 디코딩 (기본적으로 UTF-8로 인코딩된 경우)\n",
        "# 서버로부터 받은 데이터를 바이너리 형식으로 읽어온 후, 문자열로 디코딩하여 저장\n",
        "html_doc = html.read().decode()\n",
        "\n",
        "# 디코딩된 HTML 문서의 처음 200자를 출력\n",
        "# HTML 소스의 일부를 출력하여 페이지 구조를 확인\n",
        "print(html_doc[:200])\n"
      ],
      "metadata": {
        "id": "-g4n3HmQH8fz",
        "colab": {
          "base_uri": "https://localhost:8080/"
        },
        "outputId": "9c7d6732-7785-47d8-ffa5-0ef47d274960"
      },
      "execution_count": 95,
      "outputs": [
        {
          "output_type": "stream",
          "name": "stdout",
          "text": [
            "Encoding: utf-8\n",
            "<!DOCTYPE html>\n",
            "<html class='v2' dir='ltr' lang='ko'>\n",
            "<head>\n",
            "<link href='https://www.blogger.com/static/v1/widgets/3566091532-css_bundle_v2.css' rel='stylesheet' type='text/css'/>\n",
            "<meta content='width\n"
          ]
        }
      ]
    },
    {
      "cell_type": "markdown",
      "source": [
        "- UTF-8이 아닌 EUC-KR이나 cp949일경우 decode('cp949')로 변경\n",
        "- urllib과 bs4의 find 문 활용한 웹 크롤링 방식"
      ],
      "metadata": {
        "id": "bvcxUeQAg50b"
      }
    },
    {
      "cell_type": "code",
      "source": [
        "# urllib 라이브러리에서 urlopen 함수를 import\n",
        "from urllib.request import urlopen\n",
        "\n",
        "# BeautifulSoup 모듈에서 BeautifulSoup 클래스를 bs라는 이름으로 import\n",
        "from bs4 import BeautifulSoup as bs\n",
        "\n",
        "# 웹 페이지 요청 및 응답 객체 가져오기\n",
        "# 'https://ai-bigdataanalysis.blogspot.com/2024/03/html.html' 페이지에 접근하여 응답 객체를 response 변수에 저장\n",
        "response = urlopen('https://ai-bigdataanalysis.blogspot.com/2024/03/html.html')\n",
        "\n",
        "# 응답된 HTML 문서를 읽어와서 바이너리 데이터를 문자열로 디코딩\n",
        "html_doc = response.read().decode()\n",
        "\n",
        "# BeautifulSoup 객체 생성 및 HTML 파싱\n",
        "# HTML 소스를 BeautifulSoup을 사용하여 파싱하고 soup 변수에 저장\n",
        "soup = bs(html_doc, 'html.parser')\n",
        "\n",
        "# 특정 div 태그를 선택하여 해당 콘텐츠 가져오기\n",
        "# 클래스가 'post-body entry-content'인 div 태그를 찾음\n",
        "content = soup.find(\"div\", {\"class\": \"post-body entry-content\"})\n",
        "\n",
        "# 텍스트를 저장할 변수 초기화\n",
        "text = \"\"\n",
        "\n",
        "# 찾은 div 태그 내부에서 모든 <span> 태그를 순회하면서 텍스트를 추출\n",
        "if content:  # content가 None이 아닐 경우에만 실행\n",
        "    for para in content.find_all(\"span\"):\n",
        "        # 각 <span> 태그의 텍스트를 가져와서 양쪽 공백 제거 후 text 변수에 추가\n",
        "        text += para.text.strip()\n",
        "\n",
        "# 최종적으로 수집된 텍스트 출력\n",
        "print(text)\n"
      ],
      "metadata": {
        "id": "YHp5i4UO-Wrn",
        "colab": {
          "base_uri": "https://localhost:8080/"
        },
        "outputId": "c38f30b6-c158-4fd1-bed5-fa9201c160f6"
      },
      "execution_count": 96,
      "outputs": [
        {
          "output_type": "stream",
          "name": "stdout",
          "text": [
            "참조 :https://wikidocs.net/1278461. HTML 구조의 이해HTML은 웹 문서를 만들기 위하여 사용하는 기본적인 웹 언어의 한 종류이다. 하이퍼텍스트를 작성하기 위해 개발되었으며 인터넷 서비스의 하나인 월드와이드웹(WWW)을 통해서 볼 수 있는 문서를 만들 때 사용하는 웹 언어의 한 종류이다. 특히 인터넷에서 웹을 통해 접근되는 대부분의 웹 페이지들은 HTML로 작성되는데 문서의 글자 크기, 글자색, 글자모양, 그래픽, 문서이동(하이퍼링크) 등을 정의하는 명령어들이 있다. HTML에서 사용하는 명령어는 태그(tag)라고 하는데 꺽쇠괄호'<>'를 사용하여 나타낸다. HTML 문서는 크게 Head 부분과 Body로 나누어지는데 Head 부분에는 문서의 제목을 포함한 기본적인 정보들을 포함하고 있으며 Body 부분에는 실제 웹 페이지에 나타나는 본문 내용으로 구성된다. 그래서 이러한 구조를 간단하게 요약해서 표기하면 아래와 같은 그림으로 표현할 수 있다.좀더 구체적으로 위에 그림 중에 본문 문단을 의미하는 p 태그의 코드 기준으로 설명하면 HTML 요소는 시작 태그와 /로 시작하는 종료 태그 사이에 내용들이 들어 있으며, 시작 태그 안에는 속성명(Attributes) 'class'와 속성값(Values) 'para'를 포함하고 있고, '빅데이터 분석과 활용'이라는 내용을 포함하고 있는 태그이다.보다 다양한 HTML 태그에 대한 이해를 위해서 자주 사용하는 태그들을 표의 형태로 정리하면 아래와 같다.이러한 구조를 사람이 보기 편한 Text 문서로 파싱하기 위해서는 BeautifulSoup라는 라이브러리를 이용해야 한다.이라는 파이썬 라이브러리는 이와 같이 HTML 문서를 파싱하여 텍스트 데이터를 추출할 수 있는 유용한 도구이다.2.HTML 문서의 사례와 텍스트 추출이해를 돕기위해 아래와 같이 HTML 소스코드를 아래와 같이 작성하여 '웹크롤링 연습.html'로 파일을 저장하고 웹브라우저로 열어보면 HTML로 작성된 문서의 규칙을 이해할 수 있다.이해를 돕기위해 아래와 같이 HTML 소스코드를 아래와 같이 작성하여 '웹크롤링 연습.html'로 파일을 저장하고 웹브라우저로 열어보면 HTML로 작성된 문서의 규칙을 이해할 수 있다.<html><head><title>웹크롤링 연습</title></head><body><p class=\"title\"><b><h1>HTML 연습</h1></b></p><p class=\"link\">인터넷 링크를 작성하는 방법은<a class=\"blog\" href='https://ai-bigdataanalysis.blogspot.com/' id=\"link1\">인공지능 기반 덱스트 데이터 분석 블로그</a>와<a class=\"wikidocs\" href=\"https://wikidocs.net/book/6280\" id=\"link2\">인공지능 기반 빅데이터 자연어 처리와 통계 분석</a>처럼HTML 링크로 작성할 수 있습니다.</p><p class=\"story\">그리고 HTML 문서는 글자의 크기도 조정 가능해서<h2>크게</h2>작성할 수도 있고, <h4>작게</h4> 작성할 수도 있습니다.</p></body></html>위에 있는 소스코드로 작성된 HTML 파일을 웹브라우저로 열면 아래와 같은 형태의 웹페이지로 출력됨을 알 수 있다. 특히 여기서 인공지능 기반 덱스트 데이터 분석 블로그와 인공지능 기반 빅데이터 자연어 처리와 통계 분석의 경우는 a 태그에서 href 속성을 이용한 링크로 연결되어 다른 웹페이지로 이동할 수 있다.<html><head><title>웹크롤링 연습</title></head><body><p class=\"title\"><b><h1>HTML 연습</h1></b></p><p class=\"link\">인터넷 링크를 작성하는 방법은<a class=\"blog\" href='https://ai-bigdataanalysis.blogspot.com/' id=\"link1\">인공지능 기반 덱스트 데이터 분석 블로그</a>와<a class=\"wikidocs\" href=\"https://wikidocs.net/book/6280\" id=\"link2\">인공지능 기반 빅데이터 자연어 처리와 통계 분석</a>처럼HTML 링크로 작성할 수 있습니다.</p><p class=\"story\">그리고 HTML 문서는 글자의 크기도 조정 가능해서<h2>크게</h2>작성할 수도 있고, <h4>작게</h4> 작성할 수도 있습니다.</p></body></html>위에 있는 소스코드로 작성된 HTML 파일을 웹브라우저로 열면 아래와 같은 형태의 웹페이지로 출력됨을 알 수 있다. 특히 여기서 인공지능 기반 덱스트 데이터 분석 블로그와 인공지능 기반 빅데이터 자연어 처리와 통계 분석의 경우는 a 태그에서 href 속성을 이용한 링크로 연결되어 다른 웹페이지로 이동할 수 있다.와코랩을 이용해서 위에 그림으로 설명한 P 태그의 내용을 추출하는 방법을 설명하면 아래와 같은 코드를 실행시키면 추출이 가능하다.먼저 뷰티풀소프라는 라이브러리를 아래와 같이 설치한다.먼저 뷰티풀소프라는 라이브러리를 아래와 같이 설치한다.!pip install bs4그리고 태그를 파싱해서 그안에 담겨있는 텍스트를 추출하거나 속성에 해당하는 속성값을 추출는 방법을 정리하면 아래와 같다.그리고 태그를 파싱해서 그안에 담겨있는 텍스트를 추출하거나 속성에 해당하는 속성값을 추출는 방법을 정리하면 아래와 같다.fromimportas'''<p class='para'>빅데이터 분석과 활용</p>''''html.parser'print\"p\"print\"p\"\"class\"3. 웹크롤링 방법 사례3. 웹크롤링 방법 사례웹크롤링을 하기 위해 우선적으로 해야할 일은 우리가 정보를 추출하고자하는 웹페이지의 로봇배제기준을 확인하여 추출이 가능한 웹페이지인지 확인해야한다. 현재 이 블로그의 로봇배제기준을 확인하려면 웹페이지 주소창에 있는 주소에 추가하여 /robots.txt 를 추가하여 확인하는 것이다.웹크롤링을 하기 위해 우선적으로 해야할 일은 우리가 정보를 추출하고자하는 웹페이지의 로봇배제기준을 확인하여 추출이 가능한 웹페이지인지 확인해야한다. 현재 이 블로그의 로봇배제기준을 확인하려면 웹페이지 주소창에 있는 주소에 추가하여 /robots.txt 를 추가하여 확인하는 것이다.가. 기본정보 추출가. 기본정보 추출기본적인 웹페이지의 정보를 크롤링하기 위해서는 아래와 같이 requests나 urllib 라이브러리를 이용하여 HTML 정보를 불러오고 이를 BeautifulSoup으로 파싱하여 구체적인 텍스트 정보를 얻을 수있다.기본적인 웹페이지의 정보를 크롤링하기 위해서는 아래와 같이 requests나 urllib 라이브러리를 이용하여 HTML 정보를 불러오고 이를 BeautifulSoup으로 파싱하여 구체적인 텍스트 정보를 얻을 수있다.import requestsimport requestsfrom bs4 import BeautifulSoup as bsfrom bs4 import BeautifulSoup as bsurl = \"https://enjoystat.blogspot.com/2024/03/html.html\"url = \"https://enjoystat.blogspot.com/2024/03/html.html\"resp = requests.get(url)resp = requests.get(url)print(resp)print(resp)html_src = resp.texthtml_src = resp.textsoup = bs(html_src, 'html.parser')soup = bs(html_src, 'html.parser')나. 태그사이에 있는 정보 추출나. 태그사이에 있는 정보 추출태그사이에 있는 정보를 추출하기 위해서는 f12 또는 Ctrl+Shift+I로 소스코드가 팝업되도록 펼치고, 좌상단 element select 또는 Ctrl+Shift+C로 마우스 선택기를 활성화하여 추출하고자하는 행에서 우측마우 클릭하고, copy - copy selector 선택 복사하여 아래와 같이 Select_one문에 붙여넣기하여 기본정보를 추출할 수 있다.태그사이에 있는 정보를 추출하기 위해서는 f12 또는 Ctrl+Shift+I로 소스코드가 팝업되도록 펼치고, 좌상단 element select 또는 Ctrl+Shift+C로 마우스 선택기를 활성화하여 추출하고자하는 행에서 우측마우 클릭하고, copy - copy selector 선택 복사하여 아래와 같이 Select_one문에 붙여넣기하여 기본정보를 추출할 수 있다.soup.select_one(\"#Blog1 > div.blog-posts.hfeed > div > div > div > div.post.hentry.uncustomized-post-template > h3\").text.strip()soup.select_one(\"#Blog1 > div.blog-posts.hfeed > div > div > div > div.post.hentry.uncustomized-post-template > h3\").text.strip()다. 속성값 추출다. 속성값 추출태그 내에 작성되어 있는 속성값을 추출하기 위해서는 get(\"속성명\") 메소드를 활용하여 속성값을 추출할 수 있다.태그 내에 작성되어 있는 속성값을 추출하기 위해서는 get(\"속성명\") 메소드를 활용하여 속성값을 추출할 수 있다.print(soup.select_one(\"#Profile1 > div > a\").get(\"href\"))print(soup.select_one(\"#Profile1 > div > a\").get(\"href\"))라. 반복되는 내용 추출라. 반복되는 내용 추출웹페이지에 있는 세부 텍스트 내용은 통상 패러그래프 태그인 P 태그에 반복적으로 들어있기 때문에 아래와 같이 for문을 이용하여 추출할 수 있다.웹페이지에 있는 세부 텍스트 내용은 통상 패러그래프 태그인 P 태그에 반복적으로 들어있기 때문에 아래와 같이 for문을 이용하여 추출할 수 있다.text =\"\"text =\"\"body=soup.find(\"div\", {\"class\":\"post-body entry-content\"})body=soup.find(\"div\", {\"class\":\"post-body entry-content\"})for para in body.select(\"p\"):for para in body.select(\"p\"):text=text+para.text.strip()text=text+para.text.strip()texttext\n"
          ]
        }
      ]
    },
    {
      "cell_type": "markdown",
      "source": [
        "## 3. Selenium"
      ],
      "metadata": {
        "id": "TKozpKCwD_Dj"
      }
    },
    {
      "cell_type": "markdown",
      "source": [
        "### 3-1. selenium 라이브러리 설치"
      ],
      "metadata": {
        "id": "OSOAyTz-D_Dk"
      }
    },
    {
      "cell_type": "markdown",
      "source": [
        "- 웹 브라우저에 필요한 드라이버 사전 설치가 필요하다\n",
        "- 반드시 웹 브라우저의 종류와 version 정보가 일치해야 한다\n"
      ],
      "metadata": {
        "id": "LfzCzcrjD_Dk"
      }
    },
    {
      "cell_type": "code",
      "source": [
        "# 1. Google Chrome 및 ChromeDriver 설치\n",
        "!apt-get update -qq  # 패키지 목록 업데이트 (출력 최소화)\n",
        "!apt-get install -qqy wget unzip  # wget과 unzip 패키지 설치\n",
        "!wget -q https://dl.google.com/linux/direct/google-chrome-stable_current_amd64.deb  # 최신 Google Chrome 다운로드\n",
        "!dpkg -i google-chrome-stable_current_amd64.deb  # Chrome 설치\n",
        "!apt --fix-broken install -y  # 설치 중 발생하는 문제 해결\n",
        "!pip install webdriver-manager #webdriver-manager 설치\n",
        "!pip install selenium #selenium 설치\n",
        "\n",
        "# Chrome 및 ChromeDriver 버전 확인\n",
        "!google-chrome --version  # 설치된 Chrome 버전 출력\n",
        "\n",
        "# ChromeDriver 다운로드 및 설치\n",
        "import os\n",
        "from selenium import webdriver\n",
        "from selenium.webdriver.chrome.service import Service\n",
        "from webdriver_manager.chrome import ChromeDriverManager\n",
        "\n",
        "# webdriver-manager를 사용해 최신 ChromeDriver 설치\n",
        "driver_path = ChromeDriverManager().install()\n",
        "print(f\"ChromeDriver installed at: {driver_path}\")  # ChromeDriver 설치 경로 출력"
      ],
      "metadata": {
        "colab": {
          "base_uri": "https://localhost:8080/"
        },
        "outputId": "155743e2-d12f-450b-90da-8f31b6740d31",
        "id": "A6UEpEidD_Dl"
      },
      "execution_count": 97,
      "outputs": [
        {
          "output_type": "stream",
          "name": "stdout",
          "text": [
            "W: Skipping acquire of configured file 'main/source/Sources' as repository 'https://r2u.stat.illinois.edu/ubuntu jammy InRelease' does not seem to provide it (sources.list entry misspelt?)\n",
            "(Reading database ... 123785 files and directories currently installed.)\n",
            "Preparing to unpack google-chrome-stable_current_amd64.deb ...\n",
            "Unpacking google-chrome-stable (131.0.6778.85-1) over (131.0.6778.85-1) ...\n",
            "Setting up google-chrome-stable (131.0.6778.85-1) ...\n",
            "Processing triggers for man-db (2.10.2-1) ...\n",
            "Reading package lists... Done\n",
            "Building dependency tree... Done\n",
            "Reading state information... Done\n",
            "0 upgraded, 0 newly installed, 0 to remove and 53 not upgraded.\n",
            "Requirement already satisfied: webdriver-manager in /usr/local/lib/python3.10/dist-packages (4.0.2)\n",
            "Requirement already satisfied: requests in /usr/local/lib/python3.10/dist-packages (from webdriver-manager) (2.32.3)\n",
            "Requirement already satisfied: python-dotenv in /usr/local/lib/python3.10/dist-packages (from webdriver-manager) (1.0.1)\n",
            "Requirement already satisfied: packaging in /usr/local/lib/python3.10/dist-packages (from webdriver-manager) (24.2)\n",
            "Requirement already satisfied: charset-normalizer<4,>=2 in /usr/local/lib/python3.10/dist-packages (from requests->webdriver-manager) (3.4.0)\n",
            "Requirement already satisfied: idna<4,>=2.5 in /usr/local/lib/python3.10/dist-packages (from requests->webdriver-manager) (3.10)\n",
            "Requirement already satisfied: urllib3<3,>=1.21.1 in /usr/local/lib/python3.10/dist-packages (from requests->webdriver-manager) (2.2.3)\n",
            "Requirement already satisfied: certifi>=2017.4.17 in /usr/local/lib/python3.10/dist-packages (from requests->webdriver-manager) (2024.8.30)\n",
            "Requirement already satisfied: selenium in /usr/local/lib/python3.10/dist-packages (4.27.1)\n",
            "Requirement already satisfied: urllib3<3,>=1.26 in /usr/local/lib/python3.10/dist-packages (from urllib3[socks]<3,>=1.26->selenium) (2.2.3)\n",
            "Requirement already satisfied: trio~=0.17 in /usr/local/lib/python3.10/dist-packages (from selenium) (0.27.0)\n",
            "Requirement already satisfied: trio-websocket~=0.9 in /usr/local/lib/python3.10/dist-packages (from selenium) (0.11.1)\n",
            "Requirement already satisfied: certifi>=2021.10.8 in /usr/local/lib/python3.10/dist-packages (from selenium) (2024.8.30)\n",
            "Requirement already satisfied: typing_extensions~=4.9 in /usr/local/lib/python3.10/dist-packages (from selenium) (4.12.2)\n",
            "Requirement already satisfied: websocket-client~=1.8 in /usr/local/lib/python3.10/dist-packages (from selenium) (1.8.0)\n",
            "Requirement already satisfied: attrs>=23.2.0 in /usr/local/lib/python3.10/dist-packages (from trio~=0.17->selenium) (24.2.0)\n",
            "Requirement already satisfied: sortedcontainers in /usr/local/lib/python3.10/dist-packages (from trio~=0.17->selenium) (2.4.0)\n",
            "Requirement already satisfied: idna in /usr/local/lib/python3.10/dist-packages (from trio~=0.17->selenium) (3.10)\n",
            "Requirement already satisfied: outcome in /usr/local/lib/python3.10/dist-packages (from trio~=0.17->selenium) (1.3.0.post0)\n",
            "Requirement already satisfied: sniffio>=1.3.0 in /usr/local/lib/python3.10/dist-packages (from trio~=0.17->selenium) (1.3.1)\n",
            "Requirement already satisfied: exceptiongroup in /usr/local/lib/python3.10/dist-packages (from trio~=0.17->selenium) (1.2.2)\n",
            "Requirement already satisfied: wsproto>=0.14 in /usr/local/lib/python3.10/dist-packages (from trio-websocket~=0.9->selenium) (1.2.0)\n",
            "Requirement already satisfied: pysocks!=1.5.7,<2.0,>=1.5.6 in /usr/local/lib/python3.10/dist-packages (from urllib3[socks]<3,>=1.26->selenium) (1.7.1)\n",
            "Requirement already satisfied: h11<1,>=0.9.0 in /usr/local/lib/python3.10/dist-packages (from wsproto>=0.14->trio-websocket~=0.9->selenium) (0.14.0)\n",
            "Google Chrome 131.0.6778.85 \n",
            "ChromeDriver installed at: /root/.wdm/drivers/chromedriver/linux64/131.0.6778.85/chromedriver-linux64/chromedriver\n"
          ]
        }
      ]
    },
    {
      "cell_type": "markdown",
      "source": [
        "### 3-2. Selenium을 활용한 웹 크롤링\n",
        "- 코랩 환경에서는 웹 브라우저에 대한 핸들링이 직접적으로 불가능하다\n",
        "- 아래와 같은 옵션들을 크롬 웹 드라이버에 적용시켜야 한다"
      ],
      "metadata": {
        "id": "DWgsCd8ND_Dl"
      }
    },
    {
      "cell_type": "code",
      "source": [
        "from selenium import webdriver\n",
        "from selenium.webdriver.chrome.service import Service\n",
        "from selenium.webdriver.chrome.options import Options\n",
        "from webdriver_manager.chrome import ChromeDriverManager\n",
        "\n",
        "# Chrome 옵션 설정\n",
        "options = Options()\n",
        "options.add_argument(\"--headless\")  # GUI 없이 실행\n",
        "options.add_argument(\"--no-sandbox\")  # 보안 모드 비활성화\n",
        "options.add_argument(\"--disable-dev-shm-usage\")  # 메모리 공유 문제 방지\n",
        "options.add_argument(\"window-size=1920,1080\")  # 창 크기 설정\n",
        "\n",
        "# ChromeDriver 자동 설치 및 실행\n",
        "service = Service(ChromeDriverManager().install())\n",
        "driver = webdriver.Chrome(service=service, options=options)\n",
        "\n",
        "# 테스트용 코드 (구글 접속)\n",
        "driver.get(\"https://www.google.com\")\n",
        "print(\"페이지 제목:\", driver.title)\n",
        "\n",
        "driver.quit()\n"
      ],
      "metadata": {
        "id": "ry4BVngED_Dm",
        "colab": {
          "base_uri": "https://localhost:8080/"
        },
        "outputId": "0ac8c6fb-64f3-48ec-a518-f91633554d7e"
      },
      "execution_count": 98,
      "outputs": [
        {
          "output_type": "stream",
          "name": "stdout",
          "text": [
            "페이지 제목: Google\n"
          ]
        }
      ]
    },
    {
      "cell_type": "markdown",
      "source": [
        "- BBC 사이트에서 인기 뉴스 링크 웹 크롤링한 사례"
      ],
      "metadata": {
        "id": "b7TDYWSGD_Dm"
      }
    },
    {
      "cell_type": "code",
      "source": [
        "import time\n",
        "from selenium import webdriver\n",
        "from selenium.webdriver.common.by import By\n",
        "from selenium.webdriver.chrome.service import Service\n",
        "\n",
        "# Chrome 옵션 설정 (브라우저 창 없이 백그라운드에서 실행)\n",
        "options = webdriver.ChromeOptions()\n",
        "options.add_argument(\"--headless\")  # GUI 없이 실행\n",
        "options.add_argument(\"--no-sandbox\")  # 샌드박스 모드 비활성화 (Linux 권한 문제 방지)\n",
        "options.add_argument(\"--disable-dev-shm-usage\")  # /dev/shm 사용 비활성화 (메모리 문제 방지)\n",
        "options.add_argument(\"window-size=1920,1080\")  # 창 크기 설정 (전체 화면으로 설정)\n",
        "\n",
        "# ChromeDriver 자동 설치 및 실행\n",
        "service = Service(ChromeDriverManager().install())\n",
        "driver = webdriver.Chrome(service=service, options=options)\n",
        "\n",
        "# BBC 인기 뉴스 페이지 접속\n",
        "url = \"https://www.bbc.com/korean/popular/read\"\n",
        "driver.get(url)  # 지정된 URL로 이동\n",
        "time.sleep(3)  # 페이지 로딩 대기\n",
        "\n",
        "# 인기 뉴스 목록에서 기사 링크 크롤링\n",
        "articles = []  # 기사 링크를 저장할 리스트\n",
        "for i in range(1, 11):  # 1부터 10까지의 기사 목록을 순회\n",
        "    try:\n",
        "        # 특정 기사 항목의 링크를 찾기 위해 CSS Selector 사용\n",
        "        element = driver.find_element(By.CSS_SELECTOR, f\"#main-wrapper > div > main > div > div > div > div > ol > li:nth-child({i}) > div > div.bbc-14zb6im > a\")\n",
        "        link = element.get_attribute(\"href\")  # 링크 추출\n",
        "        articles.append(link)  # 리스트에 링크 추가\n",
        "        print(f\"Article {i}: {link}\")  # 링크 출력\n",
        "    except Exception as e:\n",
        "        print(f\"Error accessing article {i}: {e}\")  # 에러 발생 시 출력\n",
        "\n",
        "# 크롤링한 기사 링크 출력\n",
        "for article in articles:\n",
        "    print(article)\n",
        "\n",
        "# 브라우저 종료\n",
        "driver.quit()\n"
      ],
      "metadata": {
        "id": "wM17vPZWD_Dm",
        "colab": {
          "base_uri": "https://localhost:8080/"
        },
        "outputId": "50e63ff2-6623-4af5-a784-cc7379d08e19"
      },
      "execution_count": 99,
      "outputs": [
        {
          "output_type": "stream",
          "name": "stdout",
          "text": [
            "Article 1: https://www.bbc.com/korean/articles/cly0mmkkrn2o\n",
            "Article 2: https://www.bbc.com/korean/articles/c3e8lpyxndpo\n",
            "Article 3: https://www.bbc.com/korean/articles/c4gm78wk8evo\n",
            "Article 4: https://www.bbc.com/korean/international-57147399\n",
            "Article 5: https://www.bbc.com/korean/60521326\n",
            "Article 6: https://www.bbc.com/korean/articles/c80lp2z9gpmo\n",
            "Article 7: https://www.bbc.com/korean/articles/cn7md402zk8o\n",
            "Article 8: https://www.bbc.com/korean/articles/cxw277y29zlo\n",
            "Article 9: https://www.bbc.com/korean/articles/c99rz9gkv74o\n",
            "Article 10: https://www.bbc.com/korean/articles/c20ldzy6z78o\n",
            "https://www.bbc.com/korean/articles/cly0mmkkrn2o\n",
            "https://www.bbc.com/korean/articles/c3e8lpyxndpo\n",
            "https://www.bbc.com/korean/articles/c4gm78wk8evo\n",
            "https://www.bbc.com/korean/international-57147399\n",
            "https://www.bbc.com/korean/60521326\n",
            "https://www.bbc.com/korean/articles/c80lp2z9gpmo\n",
            "https://www.bbc.com/korean/articles/cn7md402zk8o\n",
            "https://www.bbc.com/korean/articles/cxw277y29zlo\n",
            "https://www.bbc.com/korean/articles/c99rz9gkv74o\n",
            "https://www.bbc.com/korean/articles/c20ldzy6z78o\n"
          ]
        }
      ]
    },
    {
      "cell_type": "markdown",
      "source": [
        "- BBC 기사 본문 및 관련 토픽 크롤링"
      ],
      "metadata": {
        "id": "K17MRtdVQrbA"
      }
    },
    {
      "cell_type": "code",
      "source": [
        "from selenium import webdriver\n",
        "from selenium.webdriver.common.by import By\n",
        "from selenium.webdriver.chrome.service import Service\n",
        "import time\n",
        "\n",
        "# Chrome 옵션 설정 (브라우저 창 없이 실행)\n",
        "options = webdriver.ChromeOptions()\n",
        "options.add_argument(\"--headless\")\n",
        "options.add_argument(\"--no-sandbox\")\n",
        "options.add_argument(\"--disable-dev-shm-usage\")\n",
        "options.add_argument(\"window-size=1920,1080\")\n",
        "\n",
        "# ChromeDriver 자동 설치 및 실행\n",
        "service = Service(ChromeDriverManager().install())\n",
        "driver = webdriver.Chrome(service=service, options=options)\n",
        "\n",
        "# 크롤링할 기사 링크 목록 (수동 입력)\n",
        "article_links = [\n",
        "    \"https://www.bbc.com/korean/articles/c8rl0n8yrmlo\",\n",
        "    \"https://www.bbc.com/korean/articles/c80lp2z9gpmo\",\n",
        "    \"https://www.bbc.com/korean/articles/cq8vdnw2w22o\",\n",
        "    \"https://www.bbc.com/korean/articles/cn7md402zk8o\",\n",
        "    \"https://www.bbc.com/korean/articles/c3vk59q96z5o\",\n",
        "    \"https://www.bbc.com/korean/articles/c5y59jgrwxwo\",\n",
        "    \"https://www.bbc.com/korean/articles/cwy9k9zz807o\",\n",
        "    \"https://www.bbc.com/korean/articles/c4gz5nyv4e2o\",\n",
        "    \"https://www.bbc.com/korean/articles/cn8gemm2ep7o\",\n",
        "    \"https://www.bbc.com/korean/articles/crk407xy2rdo\"\n",
        "]\n",
        "\n",
        "# 각 기사 페이지에서 본문 및 관련 토픽 크롤링\n",
        "for link in article_links:\n",
        "    driver.get(link)  # 기사 페이지로 이동\n",
        "    time.sleep(3)  # 페이지 로딩 대기\n",
        "\n",
        "    try:\n",
        "        # 기사 본문 내용 가져오기 (CSS Selector 사용)\n",
        "        paragraphs = driver.find_elements(By.CSS_SELECTOR, \"main[role='main'] p\")\n",
        "        content = \"\\n\".join([p.text for p in paragraphs])  # 본문을 문자열로 합침\n",
        "\n",
        "        # 관련 토픽 가져오기 (있을 경우)\n",
        "        topics = driver.find_elements(By.CSS_SELECTOR, \"div.bbc-1rf29kq a\")\n",
        "        related_topics = [topic.text for topic in topics]  # 관련 토픽 텍스트 추출\n",
        "\n",
        "        # 기사 내용과 관련 토픽 출력\n",
        "        print(f\"URL: {link}\")\n",
        "        print(f\"관련 토픽: {', '.join(related_topics)}\")\n",
        "        print(f\"기사 내용:\\n{content}\\n\")\n",
        "        print(\"=\" * 80)  # 구분선 출력\n",
        "    except Exception as e:\n",
        "        print(f\"Error accessing article {link}: {e}\")  # 에러 발생 시 출력\n",
        "\n",
        "# 브라우저 종료\n",
        "driver.quit()\n"
      ],
      "metadata": {
        "id": "Wz9UdWzvF9Ec",
        "colab": {
          "base_uri": "https://localhost:8080/"
        },
        "outputId": "3d888ff3-1da1-4ea2-fe8e-0732caf2877e"
      },
      "execution_count": 100,
      "outputs": [
        {
          "output_type": "stream",
          "name": "stdout",
          "text": [
            "URL: https://www.bbc.com/korean/articles/c8rl0n8yrmlo\n",
            "관련 토픽: \n",
            "기사 내용:\n",
            "사진 출처,\n",
            "뉴스1\n",
            "오는 15일 이재명 더불어민주당 대표의 공직선거법 위반(허위사실공표) 혐의 사건 1심 선고를 앞두고 관심이 쏠린다. 차기 대권주자로 꼽히는 제1야당 대표가 유죄를 받아들 경우 대권가도에 큰 변화가 예상되기 때문이다.\n",
            "10일 정치권과 법조계 등에 따르면 서울중앙지법 형사합의34는 오는 15일 공직선거법 위반 혐의로 재판에 넘겨진 이 대표의 1심 선고를 진행한다.\n",
            "이번 결과는 이 대표와 관련해 진행 중인 4건의 재판 중 가장 먼저 나오는 판결이다. 검찰이 2022년 9월 이 대표를 기소한 지 약 2년 2개월 만의 일이다.\n",
            "이 대표는 지난 20대 대선 과정 중 방송사 인터뷰와 국정감사 등에서 대통령에 당선될 목적으로 대장동·백현동 개발사업 관련 의혹에 대해 허위 사실 등을 공표한 혐의를 받는다.\n",
            "이 개발사업은 이 대표의 성남시장시절 성남시에서 추진된 대규모 부동산 개발 프로젝트로, 개발 과정에서 특혜와 비리 의혹이 불거지며 큰 논란이 됐다.\n",
            "지난 2021년 12월 대선후보 인터뷰에서 이 대표가 고 김문기 성남도시개발공사 개발사업 1처장에 대해 한 말이 문제가 됐다. 김 씨는 전날 스스로 목숨을 끊었다.\n",
            "김 씨를 알았냐는 질문에 이 대표는 \"시장할 때는 이 사람의 존재를 몰랐다\"고 답했다. 당시 직원이 워낙 많아 하위직인 김 전 처장을 기억하지 못했다는 것.\n",
            "하지만, 이 대표가 유동규 전 성남도시개발공사 본부장, 김 전 처장과 함께 해외여행을 가 함께 골프 라운딩을 하고 김 전 처장에게서 여러 차례 직접 보고를 받은 정황 등이 알려졌다.\n",
            "검찰은 대장동 비리에 연루된 사실을 감추기 위해 김 전 처장과의 관계를 부인했다고 보고 있다.\n",
            "이번 선거법 위반 재판의 핵심 쟁점은 발언의 고의성 여부다.\n",
            "법정은 '김문기를 모른다'는 이 대표 말이 사실 발언인지 의견 표출인지를 겨루고 있다. 법적 처벌 대상이 되는 건 의견이 아니라 '사실에 관해 거짓을 유포한 행위'이기 때문이다.\n",
            "이 대표 측은 '모른다'는 것이 친분이 없다는 주관적 표현이라고 보는 반면, 검찰은 객관적 사실에 대해 의혹을 부인하는 발언이라고 맞서고 있다.\n",
            "사진 출처,\n",
            "뉴스1\n",
            "검찰은 이 외에도 이 대표가 같은 해 경기도 국정감사장에서 성남시 분당구 백현동 한국식품연구원 부지 용도변경 특혜 의혹과 관련해 한 언급도 허위라고 보고 있다. 국토부의 협박이 없었는데 이 발언으로 이득을 취하려 했다는 것이다.\n",
            "당시 이 대표는 \"국토교통부가 요청해서 한 일이고 공공기관 이전 특별법에 따라서 저희가 응할 수밖에 없는 그런 상황\"이라며 \"만약 안 해주면 직무 유기 이런 것을 문제 삼겠다고 협박을 해서\"라고 말한 바 있다.\n",
            "검찰은 이와 관련해 백현동 개발과 관련해 성남시 직원들이 “국토부의 협박은 없었다”고 밝힌 진술을 허위 발언 증거로 제시했다.\n",
            "지난 9월 20일 최후진술에서 이 대표는 \"화가 나 협박이라고 과하게 표현했지만, 어쨌거나 (국토부가) 성남시를 압박한 것은 사실\"이라고 주장했다.\n",
            "또한 그 증거로 국토부가 성남시에 용도변경을 요청한 공문들이 수사 기록에 모두 빠져있다며 반박했다.\n",
            "검찰은 이 두 가지 선거법 위반 혐의에 대해 징역 2년을 선고해달라고 재판부에 요청해 놓은 상태다.\n",
            "현재 이 대표는 공직선거법상 위증교사 혐의 위반 관련해서도 1심 판결을 기다리고 있다. 대장동·백현동·위례신도시 개발비리 및 성남FC 불법 후원금 의혹 사건 재판도 진행 중이다.\n",
            "그럼에도 15일 선고에 특히 이목이 쏠리는 이유는 유죄 판결 시 이 대표의 정치생명을 좌우할 첫 분수령이 될 수 있기 때문이다.\n",
            "다음 대선 전까지 확정판결이 나올 가능성이 가장 큰 재판이도 하다. 현행법에 따르면 공직선거법 위반 재판의 경우 1심은 기소 6개월 이내에, 2심과 3심은 원심 선고 후 각각 3개월 안에 끝마쳐야 한다고 규정한다.\n",
            "아울러 공직선거법 위반의 경우, 일반형사 사건보다 기준이 엄격해 100만원 이상의 벌금형만 최종 확정되면 향후 5년간 피선거권이 박탈되며 의원직도 잃게 된다.\n",
            "이 경우, 이 대표가 다음 대선에 출마할 수 없는 건 물론 민주당은 지난 대선에서 보전받은 선거비용 434억원까지 반납해야 한다.\n",
            "사진 출처,\n",
            "뉴스1\n",
            "이 대표의 사법리스크가 현실화되면 당내에서는 어떤 변화가 있을까.\n",
            "'사법부 불신'을 기조로 내세우고 있는 더불어민주당 입장에선 '이재명 리더십' 붕괴는 선을 긋고 있다.\n",
            "앞서 친명계 좌장으로 분류되는 정성호 의원은 지난달 9일 MBC 라디오 시사 방송에 출연해 \"피선거권 박탈 형이 선고되면 이 대표가 상당히 위기에 처할 것 같다고 외부에서 말하는데 지금 당내 상황이나 당 지지자들, 국민 여론을 보면 그렇지 않다\"고 말했다.\n",
            "같은 당 장경태 의원 역시 지난 10일 YTN 라디오에서 “(이 대표의) 리더십은 흔들릴 것이 없고, 재판 결과도 무죄가 확실하다고 본다”고 주장했다.\n",
            "하지만 대체로 전문가들은 이 대표가 1심 판결에서 유죄를 받을 경우, 특히 비명계 중심으로 당내 동요와 국민 여론 움직임은 불가피하다고 진단했다.\n",
            "경희대 공공거버넌스연구소 채진원 교수는 BBC코리아에 \"이재명 대표에게 1심에서 유죄판결이 내려지면 '친명계'와 이 대표 지지자들은 강력히 반발할 것이지만 당내 '비명계'와 일반 국민들은 이 대표의 도덕성과 자격에 파탄이 난 만큼, 이 대표에 대한 반감과 비호감이 커지게 되어 결국 3심이 확정될 때까지 대권주자의 경쟁력 하락으로 이어질 것으로 보인다\"고 전망했다.\n",
            "채 교수는 지지층의 이탈화도 피하기 어렵다고 봤다. 그는 \"이재명의 민주당'에서 벗어나는 '탈이재명-이재명 지우기 흐름'이 민주당의 대세가 될 것으로 보인다\"고 예측했다.\n",
            "이종훈 정치평론가 역시 \"유죄 판결이 나오면 이제 빈명계 쪽에서 대표직 사퇴하라고 하는 이제 얘기가 나올 수밖에 없다\"며 \"이 대표의 사법 리스크가 이제 현실화하면서 정치적인 주도권 상실과 정당 지지율이 하락할 가능성이 높아지기 때문\"이라고 말했다.\n",
            "이와 더불어 이 평론가는 국민 사이에서 일고 있는 동정론 역시 사라질 수 있다고 봤다.\n",
            "\"최근 들어 윤석열 대통령이 지지율이 워낙 낮고 소통도 일방적인 상황에서 이재명 대표 부부에 대해서 너무 과한 수사가 아닌가 하는 여론과 또 반사적 이익이 있었거든요. 그런데 검찰이 아닌 사법부 그러니까 법원에서 판결이 유죄 판결이 나오는 건 또 얘기가 다르잖아요…. 그런 게 사라져 버리는 것이죠.\"\n",
            "타격은 있겠지만, 당내 리더십이나 분열이 크지는 않을 것이란 관측도 있다.\n",
            "동국대 정치외교학과 박명호 교수는 유죄 유무보다는 피선거권까지 연결되는 유죄인지 등에 따라 엇갈릴 것이라고 말했다. 아직 재판 과정이 남아있고 다른 재판도 있어서 추이를 더 지켜봐야 한다는 것.\n",
            "박 교수는 \"당내 리더십에는 흠집 정도는 일 수 있지만 심각한 위협이 되기에는 아직 좀 이르다\"며 \"아마 (당에서) 최악의 경우를 전제로 그 나름의 대비가 있지 않을까 싶다\"고 했다.\n",
            "반면 재판부가 15일 법원이 이 대표에게 무죄를 선고할 경우 그동안 야당이 끊임없이 제기해 온 '표적 수사' 주장에 힘이 실릴 예정이다. 현재 민주당은 이 대표를 둘러싼 혐의와 수사가 탄압이라며 연일 장외 투쟁을 이어 가고 있다.\n",
            "박 교수는 이번 재판이 정치적 양극화로까지 이어질 수 있다고 우려했다.\n",
            "그는 \"정치적으로 다툼이 있고 서로의 입장이 있는 부분은 이해되는데 이게 사법의 영역으로 자꾸 넘어가서 OX 문제처럼 돼 버리고 정치적 양극화를 악화시키고 공동체를 위협하는 듯하다\"며 \"그런 면에서는 우리 사회에 꽤 중요한 메시지를 주는 계기가 되지 않겠나\"라고 말했다.\n",
            "한편, 이 대표의 공직선거법 위반 혐의 1심 선고는 금요일인 15일, 오후 2시 30분에 열린다.\n",
            "\n",
            "================================================================================\n",
            "URL: https://www.bbc.com/korean/articles/c80lp2z9gpmo\n",
            "관련 토픽: \n",
            "기사 내용:\n",
            "사진 출처,\n",
            "GETTY IMAGES\n",
            "도널드 트럼프 공화당 대선 후보가 이번 대선에서 역사적인 승리를 거두며 다시 한번 백악관에 입성할 예정이다.\n",
            "카멀라 해리스 민주당 후보와는 치열한 접전을 펼칠 것으로 예상됐으나, 밤사이 개표 결과 트럼프는 승리를 확정할 수 있을 만큼의 표를 확보한 것으로 나타났다.\n",
            "트럼프는 130여 년 만에 재선에 실패했다 다시 당선된 최초의 전직 대통령이자, 현재 78세로 역사상 최고령 당선인이 될 전망이다.\n",
            "베냐민 네타냐후 이스라엘 총리, 키어 스타머 영국 총리 등 각국 정상들이 이미 트럼프의 당선을 축하하긴 했으나, 아직 대선 결과는 공식적으로 확정되지 않았다.\n",
            "앞서 일부 ‘경합’주에서 매우 치열한 접전이 펼쳐지면서 결과를 쉽게 알기 어려울 수도 있다는 우려가 제기되기도 했다.\n",
            "그러나 전통적으로 공화당 강세인 주에서 승리를 확정하고, 노스캐롤라이나, 조지아, 펜실베이니아, 위스콘신에서도 예상보다 일찍 결과가 나오며 트럼프는 당선을 확신할 수 있는 선거인단 270명을 확보하게 됐다.\n",
            "BBC의 미국 현지 파트너인 CBS 뉴스는 불과 선거 다음날인 6일 오전 5시 30분(EST) 트럼프를 최종 당선인으로 예상했다.\n",
            "그러나 각 주의 구체적인 선거 결과가 공식적으로 발표되려면 앞으로 며칠 혹은 몇 주가 걸릴 수 있다.\n",
            "아니다. 트럼프는 이제 대통령 당선인이, 그의 러닝메이트였던 J.D. 밴스는 부통령 당선인이 된다.\n",
            "트럼프는 내년 1월 20일 월요일 대통령 취임식에서 선서를 하게 되는데, 이 순간을 기점으로 법적으로 대통령직에 따르는 권한과 책임을 맡게 된다.\n",
            "모든 유효한 표가 최종 결과에 집계되면 선거인단 제도를 통해 선거 결과를 확정 짓게 된다.\n",
            "각 주마다 배정된 수도 다른 이 선거인단들이 나서 투표를 하게 된다. 유권자들의 지지뿐만 아니라 이들의 지지를 얻어야 궁극적으로 대통령직에 당선될 수 있다.\n",
            "일반적으로 각 주에서는 주민 투표에서 득표율 1위를 차지한 후보 1명에게 자신들의 주에 배당된 모든 선거인단의 표를 몰아준다. 그리고 선거인단들은 각 주에서 모여 투표를 실시한다.\n",
            "그런 다음 내년 1월 6일, 미 의회는 상하원 합동 회의를 열고 선거인단의 표를 집계해 차기 대통령을 공식적으로 확정한다.\n",
            "과거 트럼프가 바이든 후보에 맞서 패배했음을 인정하지 않자 트럼프 지지자들이 국회의사당으로 행진하려고 했는데, 이들이 막으려고 했던 행사가 바로 이 선거 결과를 공식적으로 인증하는 의회 회의였다.\n",
            "사진 출처,\n",
            "GETTY IMAGES\n",
            "트럼프 대통령 당선인과 밴스 부통령 당선인은 정권 인수팀과 협력해 바이든 현 행정부로부터 인수인계를 받게 된다.\n",
            "인수팀은 정책적으로 우선순위를 파악하고, 새 행정부의 주요 인사 후보자를 검증하고, 정부 역할을 인수받을 준비를 할 것이다.\n",
            "아울러 트럼프와 주요 인사들은 현재 직면한 위협이나 진행 중인 군사 작전을 다루는 국가 안보 기밀 사항도 보고받기 시작할 것이다.\n",
            "대통령 당선인과 부통령 당선인은 미국 비밀경호국의 의무 경호 대상이다.\n",
            "한편 현직 대통령은 보통 선거일 이후 차기 대통령을 백악관으로 초대하곤 한다.\n",
            "또한 평화적인 권력 이양의 상징으로 후임 대통령의 취임식에도 참석하나, 트럼프는 2020년 바이든의 취임식에 불참했다.\n",
            "그러나 로널드 레이건 대통령이 시작한 전통에 따라 집무실에 후임자를 위한 친필 메모는 남겼다.\n",
            "당시 바이든 대통령은 기자들에게 전임자가 “매우 관대한 편지”를 남겼다고 말한 바 있다.\n",
            "취임식을 치른 새 대통령은 곧바로 업무를 시작하게 된다.\n",
            "\n",
            "================================================================================\n",
            "URL: https://www.bbc.com/korean/articles/cq8vdnw2w22o\n",
            "관련 토픽: \n",
            "기사 내용:\n",
            "사진 출처,\n",
            "BBC NEWS\n",
            "홀리는 16살이 되던 해, 장애인도 성관계가 가능하냐는 질문을 들었다.\n",
            "이후로 수년 동안 “거친 관계도 가능한지”, 휠체어를 탄 상태로 해야 하는지 등등 여러 질문을 받았다.\n",
            "“사람들은 제게 호의를 베풀고 있다고 생각해요. 희생이라도 하는 것처럼 여기죠. 더 나쁜 점은, 제가 더 이상 충격을 받거나 공격받았다고 느끼지 않는다는 겁니다.”\n",
            "홀리 그리더(26)는 만성 통증과 과운동 증후군을 앓고 있다. 홀리는 다른 장애 여성들과 함께 장애인의 데이트와 연인 관계에 대한 편견과 낙인에 맞서 목소리를 내고 있다.\n",
            "홀리는 장애를 가진 사람들의 행복한 관계성을 보여주는 것이 중요하다고 말한다.\n",
            "홀리는 십대 시절에 지금의 남편 제임스와 사귀기 시작했다. 올해 초 결혼해 9년째 함께하고 있다.\n",
            "홀리는 “미디어에서 장애인의 삶은 주로 비참하게 다뤄진다. 우리는 그저 비극적 소재로 취급된다”고 말한다.\n",
            "또한, 남편에게서는 항상 응원받는 기분이 들지만, 다른 사람들의 태도에서는 고정관념이 느껴진다고 덧붙였다.\n",
            "“처음 동거를 시작했을 때, 주변에서는 제 건강이 나빠지면 남편이 저를 떠날 거라고 했어요.”\n",
            "“부담스럽거나 감당하기 어려울 거라는 거였죠.”\n",
            "홀리는 학교에 다닐 때 사람들이 특정한 편견을 갖고 있었고, 그런 편견을 직접 질문하기도 했다고 말한다.\n",
            "사진 출처,\n",
            "RAM PHOTOGRAPHY & FILM\n",
            "“휠체어를 사용하는 사람이 가장 먼저 듣는 질문은 항상 “성관계를 가질 수 있냐”는 거예요.”\n",
            "홀리는 같은 반 남학생들이 개인적이고 사적인 부분을 질문했다고 털어놓았다.\n",
            "“휠체어를 타야만 관계를 가질 수 있는지, 관절이 탈구되지는 않는지, 본인이 저와 거친 섹스를 하려면 가능한지, 그런 질문들이었죠.”\n",
            "홀리는 SNS에서 성관계를 제안받기도 했다. 주로 홀리가 그런 제안들을 “행운”으로 여겨야 할 것처럼 적혀있었다.\n",
            "홀리는 미디어가 성을 더 긍정적으로 다루길 바란다. 최근 접한 것 중에는 넷플릭스 드라마 “오티스의 비밀 상담소”에 나오는 ‘아이작 굿윈’ 캐릭터가 거의 유일한 사례였다.\n",
            "사진 출처,\n",
            "BBC NEWS\n",
            "케어필리 출신의 니콜라 토마스(38)는 시각장애인으로 등록되어 있다.\n",
            "니콜라는 “가장 많이 듣는 질문 중 하나가 ‘어떻게 섹스를 하느냐’는 것이다. 말도 안 되게 사적이고 개인적인 질문”이라고 말한다.\n",
            "니콜라는 자가면역질환인 시신경척수염을 앓고 있다. 15년 전 한쪽 눈의 시력을, 5년 전에는 나머지 눈의 시력을 잃었다.\n",
            "“많은 사람들이 실명으로 인해 큰 장벽을 마주하죠. 저는 그 장벽을 허무는 사람이에요.\"\n",
            "사진 출처,\n",
            "NICOLA THOMAS\n",
            "니콜라는 시력을 잃었을 당시 남자친구가 있었지만 이후 헤어졌다.\n",
            "“저는 짐짝 취급을 받았어요. 주변에서는 남자친구에게 제 간병인이 되어서는 안 된다고 말했는데, 저는 간병인이 필요하지 않았어요.”\n",
            "지금은 시각 장애를 가진 남자친구와 만나고 있다.\n",
            "“우리 둘 다 시각장애인이지만, 도시를 돌아다니거나 데이트를 할 때 스스로 길을 찾을 수 있어요. 아무것도 우리를 막을 수 없죠.”\n",
            "니콜라는 사람들이 자신에게 관심을 보일 때 고정관념을 느낀다고 말했다.\n",
            "“사람들이 SNS에서 데이트 요청 메시지를 보내는데, 제가 시각장애인이라고 말하면 관심을 잃거나 행동이 바뀌어요.”\n",
            "“마치 내게 호의를 베푸는 것처럼 대하죠. 그러면 바로 기분이 식어버려요.”\n",
            "니콜라는 “사람들이 편견에 싸인 협소한 시선으로 우릴 바라본다. 그 편견을 깨고 싶다. 나는 충만하고 행복한 삶을 살고 있다”고 덧붙였다.\n",
            "캣 왓킨스는 장애인도 비장애인과 마찬가지로 자신의 성적 정체성을 탐구하고 관계를 발전시킬 권리가 있다고 말한다.\n",
            "캣은 비영리단체 ‘웨일즈 장애인 협회’(Disability Wales)에서 정치 참여 프로젝트를 담당한다.\n",
            "“왜 장애인에게 섹스와 관계 형성이 금기처럼 여겨질까요? 우리도 생계를 유지하고 지붕 덮인 집에서 사는 것 외에 더 많은 관심사가 있습니다.”\n",
            "“자신의 삶을 살고 스스로 즐기는 것은 당연히 인생의 일부인데, 장애인에게는 이 부분이 충분히 조명되지 않습니다.”\n",
            "캣은 장애 여성들이 어떤 메시지를 받았는지 들려주는 경우가 “슬프게도 너무 많다”고 말했다.\n",
            "캣은 맞춤형 성인용품과 보조기구가 자신감 형성에 도움이 될 수 있으며, 더 대중적인 성인용품 사이트와 매장에서 이런 제품을 보고 싶다고 말했다.\n",
            "“스스로를 편안하게 느끼고 자신의 몸을 이해해야 다른 사람에게 설명할 수 있습니다. 자기애를 느끼는 것도 정말 중요합니다.”\n",
            "\n",
            "================================================================================\n",
            "URL: https://www.bbc.com/korean/articles/cn7md402zk8o\n",
            "관련 토픽: \n",
            "기사 내용:\n",
            "사진 출처,\n",
            "GETTY IMAGES\n",
            "도널드 트럼프가 이민자·경제·우크라이나 전쟁 등의 사안에서 대응책을 약속하며 백악관으로 복귀할 예정이다.\n",
            "또한 공화당이 상원 다수당 탈환에 성공한 만큼, 의회에서 트럼프의 정치 의제에 힘이 실릴 가능성이 높다.\n",
            "트럼프는 승리 연설에서 “내 통치 원칙은 단순하다. 약속한 것은 지킨다는 것이다. 우리는 계속 약속을 지켜나가겠다”고 말했다.\n",
            "하지만, 각종 목표를 어떻게 달성할 것인지 세부 내용을 거의 밝히지 않은 의제들도 있다.\n",
            "트럼프는 2023년 폭스뉴스 타운홀 대담에서 권력을 남용하거나 정적을 표적으로 삼을 것이냐는 질문에 “첫날만 그럴 것”이라고 답했다.\n",
            "“아니, 아니, 아니, 첫날만 그럴 겁니다. 첫날에만 국경을 닫고 시추를 하는 거죠. 그 이후로는 독재자가 아닐 겁니다.”\n",
            "트럼프는 선거운동 기간 동안 미국 역사상 최대 규모의 불법 이민자 추방을 약속했다.\n",
            "또한, 첫 번째 임기에서 시작한 멕시코 국경의 장벽 건설을 완료하겠다고 공약했다.\n",
            "미국 남부 국경을 넘어온 이민자는 바이든-해리스 행정부 시절인 지난해 말 사상 최고치를 기록한 후 올해 감소세를 보였다.\n",
            "전문가들은 트럼프가 약속한 규모로 추방을 단행하면 법적·절차적 문제가 상당할 것이며 경제 성장을 둔화시킬 수 있다고 BBC에 전했다.\n",
            "이번 미 대선의 출구조사 결과에 따르면 유권자들은 경제 문제를 특히 중요하게 생각했다. 트럼프는 “인플레이션 종식”을 약속했다. 인플레이션은 조 바이든 행정부에서 역사적 고점을 기록한 이후 다시 하락했다. 하지만, 물가에 직접 영향을 미칠 수 있는 대통령의 권한은 제한적이다.\n",
            "또한 트럼프는 2017년부터 시행된 감세 정책을 연장하는 등 광범위한 세금 감면을 약속했다. 트럼프는 팁 소득에 대한 면세, 사회보장 급여에 대한 과세 폐지, 법인세 인하를 내걸었다.\n",
            "한편, 무역 적자 축소를 위해 대부분의 수입품에 최소 10%의 관세를 새로 부과하는 방안을 제시했다. 특히, 중국산 수입품에는 60%의 추가 관세가 부과될 수 있다고 말했다. 일부 경제학자들은 이러한 조치가 소비자 가격 인상으로 이어질 수 있다고 경고했다.\n",
            "2021년 1월 6일 워싱턴DC에서는 2020년 조 바이든의 대선 승리를 저지하기 위해 트럼프 지지자들이 국회 의사당 건물을 습격하는 폭동이 벌어졌다. 트럼프는 이 폭동 사태에서 유죄로 판결난 사람 중 일부를 “자유의 몸”으로 만들겠다고 밝혔다.\n",
            "이 폭동으로 여러 명의 사망자가 나왔고, 트럼프는 폭동을 선동했다는 비난을 받았다.\n",
            "트럼프는 폭동의 심각성을 축소하고 유죄 판결을 받은 수백 명의 지지자가 정치범으로 보이도록 만들었다.\n",
            "트럼프는 폭동범 중 상당수가 “부당하게 수감됐다”는 주장을 유지하면서도, “그들 중 몇 명은 아마도 통제 불능 상태였을 것”이라고 인정했다.\n",
            "트럼프는 본인을 상대로 2건의 형사기소를 지휘한 베테랑 검사를 취임 후 “2초만에” 해임하겠다고 공언했다.\n",
            "잭 스미스 특별검사는 2020년 대선 뒤집기 시도와 기밀문서 유출 혐의로 트럼프를 기소했다.\n",
            "트럼프는 모든 혐의를 부인했고, 두 사건 모두 선거 전 재판 회부를 막아냈다. 트럼프는 스미스 검사가 본인을 “정치적 마녀사냥”의 표적으로 삼았다고 말한다.\n",
            "트럼프는 뉴욕에서 기업 문서 조작 혐의로 유죄 판결을 받은 바 있다. 이로써 사상 처음으로 유죄 판결을 받은 대통령으로서 백악관에 복귀하게 된다.\n",
            "트럼프는 미국이 러시아-우크라이나 전쟁에서 우크라이나에 제공한 수백억 달러의 지출을 비판하며, 협상을 통해 “24시간 내에” 분쟁을 끝내겠다고 약속했다.\n",
            "다만, 양측이 무엇을 양보해야 한다고 생각하는지는 밝히지 않았다. 민주당은 이런 방식이 블라디미르 푸틴 러시아 대통령을 더 대담하게 만들 것이라고 말한다.\n",
            "트럼프는 미국이 세계 각지의 분쟁에서 발을 빼기를 원한다. 가자지구 전쟁과 관련해서는 본인을 이스라엘의 확고한 지지자로 내세우는 한편, 이스라엘에는 신속한 마무리를 촉구했다. 또한 레바논에서 벌어지는 관련 폭력 사태에 대해서도 종식을 약속했지만, 세부 사항은 언급하지 않았다.\n",
            "트럼프는 일부 지지자들의 바람과는 달리 카멀라 해리스와의 대선 토론에서 전국적인 낙태 금지법에 서명하지 않겠다고 말했다.\n",
            "트럼프의 첫 대통령 취임 후 보수 성향 판사가 대법원에서 다수를 차지하게 됐고, 2022년에는 임신 중절에 관한 헌법상의 권리가 뒤집혔다.\n",
            "생식권 보호는 해리스 후보의 주요 선거 공약이 됐다. 여러 주에서는 투표일에 낙태권을 보호하거나 확대하는 조치를 승인했다.\n",
            "트럼프는 각 주에서 낙태 관련법을 자유롭게 결정할 수 있어야 한다고 꾸준히 발언해 왔다. 다만, 본인이 내세울 일관된 메시지를 찾는 데 난항을 겪었다.\n",
            "트럼프는 첫 임기 동안 환경 보호 규제 수백 건을 철회하고 미국을 파리기후협약 최초의 탈퇴국으로 만들었다.\n",
            "이번에도 규제 완화를 다시 한번 공언했고, 특히 그 목적이 미국의 자동차 산업을 지원하는 것이라고 밝혔다. 트럼프는 전기차를 끊임없이 비판하며 청정 자동차 전환을 장려하려던 바이든의 목표를 뒤집겠다고 약속했다.\n",
            "또한, 풍력 등 재생 에너지원 대신 미국의 화석 연료 생산을 늘리기 위해 첫날부터 “시추, 시추, 시추”에 나서겠다고 약속했다.\n",
            "트럼프는 북극 황야와 같은 지역에서 석유 시추를 허용해 에너지 비용을 낮추겠다고 주장하는데, 분석가들은 이에 회의적이다.\n",
            "\n",
            "================================================================================\n",
            "URL: https://www.bbc.com/korean/articles/c3vk59q96z5o\n",
            "관련 토픽: \n",
            "기사 내용:\n",
            "사진 출처,\n",
            "NEWS1\n",
            "딥페이크를 이용한 성범죄를 막고 피해자를 보호하기 위한 이른바 '딥페이크 성범죄 방지법'이 국회 본회의를 통과했다.\n",
            "지난 26일 국회 본회의에서는 딥페이크 범죄에 대한 국가의 책임을 강화하고, 단순 시청 행위도 범죄에 포함하며, 피해자 회복 조치를 강화하는 등의 내용을 담은 개정안 세 건이 모두 통과됐다.\n",
            "이날 통과된 딥페이크 관련 법안은 성폭력범죄처벌특례법(성폭력처벌법), 아동·청소년 성보호에 관한 법(청소년보호법), 성폭력방지 및 피해자 보호 등에 관한 법률(성폭력방지법) 등 총 3개 법 개정안이다.\n",
            "지난 8월 딥페이크를 이용한 성착취물 범죄가 광범위하게 퍼져있고, 특히 가해자와 피의자 상당수가 10대인 것으로 드러나 큰 충격을 준 가운데, 이번에 개정된 법이 딥페이크 이용 성범죄를 근절할 수 있을지 귀추가 주목된다.\n",
            "이날 통과된 법들은 아동·청소년을 대상으로 하는 딥페이크 성착취물의 수사와 처벌을 강화하고, 피해자를 보호하는 내용을 골자로 한다.\n",
            "우선 딥페이크 성범죄물을 시청한 행위도 처벌 대상이 됐다. 개정된 성폭력처벌법은 불법합성 성범죄물을 소지·구입·저장 또는 시청할 경우 3년 이하의 징역 또는 3천만원 이하 벌금에 처하도록 했다.\n",
            "딥페이크 합성물 제작자를 처벌할 때 '반포할 목적'을 입증해야 할 필요성도 사라졌다. 기존 법에서 허위 영상물을 \"반포할 목적\"으로 편집·합성 또는 가공한 자를 처벌한다는 조항에서 \"반포할 목적\"이라는 단서 조항이 빠져, 당사자의 의사에 반해 불법 합성물을 제작할 경우 목적과 관계 없이 처벌할 수 있게 됐다.\n",
            "청소년보호법에서는 아동·청소년 성착취물을 이용한 협박과 강요에 대한 처벌 수위가 높아졌다. 기존 법에서는 협박은 1년 이하, 강요는 3년 이하의 징역이던 수위가 협박은 3년 이하, 강요는 5년 이하로 상향됐다.\n",
            "또 비공개 수사 항목을 신설해 긴급을 요할 때는 경찰이 상급 경찰관서의 승인 없이 비공개 수사를 할 수 있도록 했다.\n",
            "사진 출처,\n",
            "NEWS1\n",
            "딥페이크 성범죄물 등에 대한 국가의 책임도 강화됐다. 성폭력방지법에서는 제3조 국가 등의 책무에 '불법촬영물 등의 삭제지원 및 피해자에 대한 일상 회복 지원' 항목이 신설돼, 삭제와 일상회복 지원이 국가의 책무임을 명시했다.\n",
            "또 불법촬영물 등의 삭제지원을 요청할 수 있는 대상을 기존 '국가'에서 '국가와 지방자치단체'로 바꿔 지방자치단체도 적극적으로 삭제지원에 나서도록 했다. 삭제지원 대상에는 촬영물은 물론 신상정보도 포함할 수 있도록 했고, 가해자에 대한 구상권 행사에 필요한 개인정보를 관계 행정기관 장에게 요청할 수 있도록 하는 내용도 담겼다.\n",
            "또한 현재 서울, 경기, 인천, 부산에만 있는 '디지털성범죄피해자지원센터'가 전국으로 확대될 수 있도록 설치 및 위탁 등 운영 근거를 명시했다.\n",
            "이번 법안에 대해서는 지금이라도 통과돼 다행이라는 반응과 아쉽다는 반응이 동시에 나오고 있다.\n",
            "국회 여성가족위원회 위원장인 국민의힘 이인선 의원은 보도자료를 통해 \"국민들이 안심할 수 있는 사회를 만들기 위해서는 강력한 법적 지원이 필요하기에 이번 법률 제정이 큰 의미가 있다고 생각한다\"고 밝혔다.\n",
            "딥페이크 이용 성범죄와 지난 2019년 이른바 ’N번방 사건’의 존재를 알린 추적단불꽃의 원은지 활동가는 BBC에 이번 개정안에 대해 일부 환영한다는 입장을 밝히면서도 특정 법안이 통과되지 못한 데 대해서는 아쉬움을 전했다.\n",
            "원씨는 성폭력처벌법에서 ‘반포할 목적으로’라는 문구가 삭제된 데 대해 “유포 목적이 입증되지 않더라도 딥페이크를 이용한 성범죄물을 이용한 경우 처벌할 수 있도록 한 부분은 굉장히 좋게 본다”고 밝혔다.\n",
            "사진 출처,\n",
            "대한민국국회\n",
            "서울대 딥페이크 사건의 재판 과정에서도 “유포하려고 제작했는지 여부가 다뤄졌었다”는 원씨는 “유포 목적이 유죄 여부와 판결 형량에 영향을 미쳤는데, 이제 그런 것들이 바뀌었다”며, “이런 부분은 긍정적으로 보고 있다”고 전했다.\n",
            "그러나 원씨는 경찰이 인터넷 서비스 제공자에게 직접 아동·청소년 성착취물의 삭제와 차단을 요청하도록 한 법안이 법제사법위원회를 통과하지 못한 데 대해선 아쉬움을 표했다.\n",
            "현재 경찰이 인터넷 서비스 제공자에게 아동·청소년 성착취물의 삭제를 요청하려면 방송통신심의위원회에 삭제조치에 나설 것을 요청해야 한다. 이 때문에 신속 대응을 위해 경찰이 직접 삭제와 차단을 요청할 수 있어야 한다는 문제제기가 지속적으로 있었다.\n",
            "지난 9일 조국혁신당 박은정 의원 등은 이같은 내용을 담은 성폭력처벌법 개정안인 이른바 '응급조치법'을 발의했지만, 이 안은 이번에 법사위에서 논의되지 않았다.\n",
            "“피해자들이 가장 두려워하는 게 유포잖아요. 그래서 경찰이나 방심위에서 권한을 나눠서 적극적으로 처리하라는 응급조치 법안이 통과되지 않아서 좀 아쉽습니다.”\n",
            "지난 25일 71개 여성 단체가 모인 ‘딥페이크 성범죄 아웃 공동행동’은 이 '응급조치법' 불발을 규탄하는 기자회견을 열기도 했다.\n",
            "사진 출처,\n",
            "NEWS1\n",
            "한편 성폭력처벌법 개정 과정에서는 '알면서'라는 조항이 법률안 심사 과정에서 추가돼 논란이 된 후 최종적으로는 삭제된 안이 통과됐다. 문제가 된 대목은 14조 4항의 불법합성 성범죄물인줄 '알면서' 이를 소지·구입·저장 또는 시청할 경우 3년 이하의 징역 또는 3천만원 이하 벌금에 처하도록 한다는 부분이다.\n",
            "국회 법제사법위원회(법사위) 김용민 더불어민주당 의원은 25일 법사위 회의에서 '알면서'라는 단서 조항이 없으면 \"딥페이크 영상을 누군가가 보냈는데 나도 모르게 소지하고 있고, '이게 뭐지' 하고 시청했다가 처벌될 수 있는 길이 열린다\"며 \"알면서라는 것을 명확하게 규정할 필요가 있다\"고 밝혔다. 이어 여야 의원들의 동의로 이 문구가 추가된 법률안이 본회의에 상정됐다.\n",
            "이후 이 문구에 대해 '가해자들이 모르고 시청했다'는 식으로 처벌을 피해갈 수 있다는 우려의 목소리가 나왔고, 본회의 전 더불어민주당은 이 문구를 뺀 수정안을 다시 제출했다. 최종적으로는 이 '알면서'가 빠진 안이 통과됐다.\n",
            "여성가족위원회 소속 더불어민주당 김한규 의원은 수정안 제안 설명에서 \"현재 법안에 따르면 딥페이크 영상물을 소지·구입·저장·시청한 자가 몰랐다고 주장할 경우 수사기관이 행위자가 알았음을 입증해야지만 처벌할 수 있다\"며 \"부당하게 처벌을 피하는 경우가 있을 수 있어 우려가 큰 상황\"이라고 설명했다.\n",
            "딥페이크 성범죄 문제가 공론화된 지 한 달 여만에 관련법이 통과된 만큼, 이번 딥페이크 방지법과 관련해선 후속 논의와 입법이 필요하다는 의견이 주를 잇는다.\n",
            "전날인 25일 열린 국회 법사위 회의에서 더불어민주당 정청래 위원장은 “딥페이크 관련해 법안이 수십 건이 쏟아져나왔고 물리적으로 심사할 시간이 부족했지만 시급성을 요하기 때문에 빠르게 심사했다”고 밝혔다.\n",
            "이어 “시간이 부족하다 보니 다섯 가지 정도의 법을 담지 못 했다”며 추후 입법 논의의 필요성을 언급했다.\n",
            "김한규 의원도 “추가적인 조치가 필요하다”고 26일 더불어민주당 정책조정회의 모두 발언에서 밝혔다.\n",
            "김 의원은 “성인 대상 디지털성범죄도 비공개, 위장 수사가 필요하다는 요구가 많고, 경찰이 방송통신심의위원회를 거치지 않고 직접 영상물 삭제 요청과 접속 차단 조치를 하는 방안도 고민할 필요가 있다”고 밝히며 추가 입법의 필요성을 설명했다.\n",
            "지난 2017년부터 디지털 성폭력 대응 활동을 해오고 있는 한국사이버성폭력대응센터 이효린 사무국장은 여전히 법이 담지 못한 사각지대를 지적했다.\n",
            "이 사무국장은 \"현재 법은 행위를 저지른 사람을 처벌\"한다며 \"의뢰자는 행위자가 아니게 되는지, 정범이 되는 것인지, 방조범인지, 교사범인지 명확하지 않다\"고 설명했다.\n",
            "그는 이어 \"촬영, 유포, 협박, 합성 이런 식으로 행위들이 나열되는 방식\"의 법제화에 대해서도 우려를 표했다. 그는 \"새로운 형태의 폭력이 등장할 때마다 이 안에 들어가는지 여부가 중요해진다\"며, \"행위를 나열하는 게 아니라 폭력이 발생할 수 있는 과정을 포괄해 법제화하는 것이 필요하다\"는 의견을 전했다.\n",
            "\n",
            "================================================================================\n",
            "URL: https://www.bbc.com/korean/articles/c5y59jgrwxwo\n",
            "관련 토픽: \n",
            "기사 내용:\n",
            "사진 출처,\n",
            "NEWS1\n",
            "2025학년도 대학수학능력시험(수능)이 14일 오전 8시 40분부터 전국 1282개 시험장에서 치러졌다.\n",
            "한국교육과정평가원에 따르면 올해 수능에는 전년도보다 1만8082명 많은 52만2670명이 지원했다.\n",
            "그 중 N수생(고등학교를 졸업한 수험생)은 전체 수능 응시자 중 31%(16만1784명)로 2004년 이후 21년 만에 가장 많다. 특히 입시업계는 이 중 대학에 입학해 1학기를 마치고 수능에 응시하는 반수생을 9만여 명으로 추정하고 있다.\n",
            "의대 증원이 반영된 첫 시험이어서 의대에 도전하는 N수생이 크게 늘어난 것으로 분석된다.\n",
            "2025학년도 의대 신입생 모집 인원은 4610명으로 지난해보다 1497명이 늘어났다.\n",
            "입시 전문가들은 올해 수능 난이도가 '불수능'에 가까울 것이라고 예상했다. 최상위권 경쟁이 치열할 수 있어 국어·수학에서 변별력을 확보할 수 있는 문항들이 많이 출제될 것이라는 전망이다.\n",
            "한편 수능 출제 본부는 “사교육 경감 대책에 따라 이번 수능은 ‘킬러문항(초고난이도 문항)’을 배제했다”고 밝혔다.\n",
            "사진 출처,\n",
            "NEWS1\n",
            "사진 출처,\n",
            "NEWS1\n",
            "사진 출처,\n",
            "NEWS1\n",
            "사진 출처,\n",
            "NEWS1\n",
            "사진 출처,\n",
            "NEWS1\n",
            "사진 출처,\n",
            "NEWS1\n",
            "사진 출처,\n",
            "NEWS1\n",
            "사진 출처,\n",
            "NEWS1\n",
            "사진 출처,\n",
            "NEWS1\n",
            "\n",
            "================================================================================\n",
            "URL: https://www.bbc.com/korean/articles/cwy9k9zz807o\n",
            "관련 토픽: \n",
            "기사 내용:\n",
            "미국의 제47대 대통령을 뽑는 선거가 현지시간 5일 치러졌다.\n",
            "한국시간 6일 오후 8시 기준, 도널드 트럼프 공화당 후보는 승리 요건인 전체 선거인단 538명 중 과반인 270명을 넘는 279명의 선거인단을 확보하면서 사실상 승리를 확정지었다.\n",
            "이날 미국민들은 자신들의 삶에 지대한 영향을 미칠 여러 법안을 통과시키는 데 핵심적인 역할을 하는 차기 상하원 의원도 선출한다.\n",
            "도널드 트럼프 공화당 후보는 최종적으로 7개 경합주 모두에서 승리하며 312명의 선거인단을 확보했다.\n",
            "앞서 트럼프 전 대통령은 조지아와 노스캐롤라이나 등 경합주에서 잇따라 승리한 이후 미국 대통령 선거 승리를 선언했다.\n",
            "트럼프 전 대통령은 자택이 있는 플로리다 팜비치 컨벤션센터에 모인 지지자들 앞에서 \"제45대, 그리고 제47대 대통령으로 당선되는 영광을 누리게 해준 미국민에 감사하고 싶다\"고 말했다.\n",
            "트럼프 전 대통령은 \"이는 미국 국민을 위한 장대한 승리이며 미국을 다시 위대하게 만들 수 있게 해줄 것\"이라고 했다.\n",
            "트럼프 전 대통령이 확보한 선거인단은 다음과 같다.\n",
            "앨라배마(9), 알래스카(3), 애리조나(11), 아칸소(6), 플로리다(30), 조지아(16), 아이다호(4), 인디애나(11), 아이오와(6), 캔자스(6), 켄터키(8), 루이지애나(8), 메인(1), 미시간(15), 미시시피(6), 미주리(10), 몬태나(4), 네브레스카(4), 네바다(6), 노스캐롤라이나(16), 노스다코타(3), 오하이오(17), 오클라호마(7), 펜실베이니아(19), 사우스캐롤라이나(9), 사우스다코타(3), 테네시(11), 텍사스(40), 유타(6), 웨스트버지니아(4), 위스콘신(10), 와이오밍(3)\n",
            "카멀라 해리스 민주당 후보는 최종적으로 총 226명의 선거인단을 확보했다.\n",
            "캘리포니아(54), 콜로라도(10), 코네티컷(7), 델라웨어(3), 워싱턴 DC(3), 하와이(4), 일리노이(19), 메인(3), 메릴랜드(10), 매사추세츠(11), 미네소타(10), 네브레스카(1), 뉴햄프셔(4), 뉴저지(14), 뉴멕시코(5), 뉴욕(28), 오리건(8), 로드아일랜드(4), 버몬트(3), 버지니아(13), 워싱턴(12)\n",
            "*메인주와 네브레스카주는 승자독식제가 아닌 선거인단을 일부 분할하는 제도를 사용하고 있다.\n",
            "*아래 지도에서 개표 결과를 확인할 수 있습니다. 이 정보는 정기적으로 업데이트됩니다.\n",
            "민주당과 공화당은 대선과 더불어 상원과 하원을 장악하기 위해 경쟁하고 있다.\n",
            "상원의원은 6년의 임기를 가지며 2년마다 총 의석수인 100석의 3분의 1을 다시 선출한다. 올해는 총 100석 중 34석의 상원을 뽑는다.\n",
            "하원의원은 2년의 임기를 가지며 선거 때마다 435명 전원을 새로 선발한다.\n",
            "지난 2022년 치러진 선거 당시 공화당은 222석, 민주당은 213석을 차지했다. 현재는 공화당 220석, 민주당 212석, 그리고 3석은 현직 의원의 사망, 사임 등으로 공석이다.\n",
            "\n",
            "================================================================================\n",
            "URL: https://www.bbc.com/korean/articles/c4gz5nyv4e2o\n",
            "관련 토픽: \n",
            "기사 내용:\n",
            "사진 출처,\n",
            "SHUTTERSTOCK\n",
            "13일(현지시간) 오후, 도널드 트럼프 미국 대통령 당선인은 워싱턴 DC에서 우레와 같은 박수를 받으며 맷 게이츠 연방 하원의원(플로리다주)을 법무장관으로 지명했다.\n",
            "맷 게이츠는 지금까지 트럼프 당선인이 행정부 구성원으로 지명한 모든 인물 가운데 가장 논란이 많다. 집권 후 기존 체제를 뒤흔들겠다는 당선인의 메시지가 선명히 드러난다.\n",
            "불같은 태도로 유명한 맷 게이츠는 지난해 케빈 매카시(공화당) 당시 연방 하원의장을 끌어내리는 데 앞장선 것으로 가장 잘 알려져 있다. 한편, 차분한 의회에서 화염방사기처럼 일관된 공격성을 보였다.\n",
            "2018년에는 미국 국정연설(연두교서) 자리에 홀로코스트 부정론자를 불러들였다. 총기 난사 사건으로 자녀를 잃은 두 아버지가 게이츠의 총기 소지 찬성론에 반기를 들자 청문회에서 퇴장시키려 하기도 했다.\n",
            "그 과격한 태도는 본인이 소속된 공화당을 비롯해 여기저기에서 적을 만들었다. 따라서 트럼프가 이 중요한 자리에 게이츠를 지명한 것은 같은 공화당 의원들에게도 신호를 보내는 것이다. 트럼프 2기 행정부가 트럼프 당선인의 공약을 실행할 충성스러운 인사로 채워질 것이고, 기존의 정치적 의견은 묵살하겠다는 신호다.\n",
            "미국 인터넷 매체 악시오스(Axios)는 현장 소식통을 인용해 법무장관 지명이 발표되자 공화당 의원들의 탄식이 들렸다고 보도했다.\n",
            "보도에 따르면, 마이크 심슨 공화당 하원의원(아이다호주)은 비속어를 내뱉었다.\n",
            "리사 머코스키 공화당 상원의원(알래스카주)은 “법무장관 지명이 부적절하게 느껴진다”고 밝혔다. “제 빙고카드(예상 후보)에는 없던 이름입니다.”\n",
            "게이츠의 우군은 트럼프의 변함없는 충신들이다. 게이츠는 의회 청문회, 기자회견, 텔레비전 출연 등을 통해 트럼프 당선인을 가장 적극적이고 끈질기게 옹호하는 사람 중 한 명이다.\n",
            "13일 또 다른 트럼프 충성파 마이크 존슨 하원의장은 게이츠 의원을 “뛰어난 변호사”라고 불렀다.\n",
            "존슨은 “게이츠 의원은 마음과 정신에 개혁을 품고 있으며, (법무부에) 많은 변화를 가져올 수 있을 것”이라고 말했다.\n",
            "트럼프는 SNS 게시물에서 게이츠를 통해 미국 법무부의 근본적 변화를 가져올 계획을 설명했다. 트럼프는 지금까지 여러 법적 문제에 시달리면서 꾸준히 법무부를 비난해 왔다.\n",
            "트럼프 당선인은 “맷은 법무부의 조직적 부패를 뿌리 뽑고, 범죄와 싸우고 민주주의와 헌법을 수호한다는 법무부 본연의 사명을 회복시킬 것”이라고 썼다.\n",
            "트럼프는 선거운동 기간 동안 자신을 겨냥한 수많은 표적 수사에 보복하겠다고 공언했다. 이제 게이츠는 트럼프의 법무부 길들이기 작업에서 최전선에 서게 될 것으로 보인다.\n",
            "법무부는 게이츠에 대한 수사도 진행한 바 있다.\n",
            "작년 법무부는 게이츠가 여성에게 돈을 지불하고 바하마를 여행하면서 성매매법을 위반했다는 혐의에 대해 기소를 거부했다. 게이츠는 하원 윤리위원회에서 성 비위, 불법약물 사용, 선거자금 사적유용 등의 혐의로 지속적인 조사를 받았다.\n",
            "하지만 13일 오후 존슨은 게이츠가 하원의원직을 사임했으며, 윤리위원회 조사 대상은 의원으로 한정되므로 윤리위 조사가 사실상 종료됐다고 말했다.\n",
            "게이츠는 자신에 대한 모든 혐의를 부인했다.\n",
            "CBS 뉴스에 따르면, 게이츠는2021년 1월 트럼프 대통령 퇴임 전에 해당 범죄에 대한 선제적 사면을 요청했다.\n",
            "이 모든 상황을 감안하면, 일반적으로 법에 정통한 고위 정치인에게 주어지는 법무장관 자리에 게이츠가 어울리지 않는 것처럼 보인다.\n",
            "올해로 42세인 게이츠는 법학 학위를 받았으며 플로리다 로펌에서 근무한 이후 정계에 입문해 8년 동안 의원직을 지냈다. 조 바이든 행정부의 메릭 갈랜드 법무장관은 연방 항소법원 고위 판사였다. 트럼프는 첫 임기 때 상원의원 제프 세션스와 빌 바를 법무장관으로 지명했다. 빌 바는 공화당 대통령 행정부에서 수십 년의 경력을 쌓은 인물이다.\n",
            "게이츠의 지명이 확정되려면 상원 인준이 필요하다. 게이츠는 상원에서 공화당 의원을 포함해 많은 이들의 심기를 건드렸다. 공화당이 내년 다수당 지위를 차지하기는 하나, 민주당 및 통합 야당의 반대 표에 4표만 추가되면 상원 인준이 무산될 수 있다.\n",
            "지난해 게이츠는 법무장관이 되고 싶다고 말하면서도 가능성이 희박하다는 점을 인정했다.\n",
            "게이츠는 미국 인터넷 언론 뉴스맥스(Newsmax)와의 인터뷰에서 “세상은 아직 준비가 안 된 것 같다”고 말했다. “상원의 인준은 못 받겠지만, 꿈은 꿀 수 있는 거니까요.”\n",
            "하지만 현재는 트럼프 최측근 지지자들이 게이츠 지명자에게 축하를 보내고 있다.\n",
            "일론 머스크는 X(구 트위터)에서 게이츠를 두고 “정의의 망치가 다가온다”는 글을 올렸다.\n",
            "게이츠 법무장관 인준의 최종 결과에 관계없이, 트럼프는 미국 정부에 경고장을 날린 셈이다. 그의 두 번째 임기는 첫 번째 임기보다 더 조직적일 수도 있겠으나, 결국 더 큰 대립을 가져올 수도 있다.\n",
            "\n",
            "================================================================================\n",
            "URL: https://www.bbc.com/korean/articles/cn8gemm2ep7o\n",
            "관련 토픽: \n",
            "기사 내용:\n",
            "사진 출처,\n",
            "REUTERS\n",
            "테슬라와 X(구 트위터)의 수장 일론 머스크는 지난달 뉴욕시에서 열린 도널드 트럼프 선거 집회에서 “낭비”를 근절하면 미국 정부 지출을 “최소 2조 달러(약 2800조원)” 줄일 수 있다고 주장했다.\n",
            "차기 미국 대통령이 신설 ‘정부효율부’ 수장으로 머스크를 임명한 만큼, 이제 머스크는 본인이 주장한 계획을 실행에 옮길 수 있게 됐다.\n",
            "미국 재무부 자료에 따르면, 가장 최근 회계연도(2023년 10월~2024년 9월) 기준으로 미국 연방정부는 6조7500억달러(약 9490억원)를 지출했다.\n",
            "즉, 머스크가 제안한 2조 달러 삭감은 총 연방정부 지출(다른 나라의 경우 국가 지출)의 약 30%를 잘라낸다는 의미다.\n",
            "이 제안의 현실성은 얼마나 될까?\n",
            "총 지출 내역을 살펴보면 현실성을 가늠하는 데 도움이 될 것이다.\n",
            "총 지출에서 13%를 차지하는 약 8800억달러(약 1237조원)는 국채 이자 지급에 사용된다. 즉, 미국 정부가 채무불이행을 선언하지 않고서는 해당 지출을 줄일 수 없다는 의미다.\n",
            "지출의 22%에 해당하는 약 1조4600억달러(약 2053조원)는 사회보장 비용을 충당한다. 주로 은퇴한 미국인들의 연금 지급을 위한 것이다. 이는 ‘의무지출’ 항목으로, 법에 따라 적격 대상자에게 반드시 지출해야 하는 비용이다.\n",
            "메디케어 또한 금액이 큰 의무지출 항목이다. 메디케어는 주로 65세 이상 미국인을 대상으로 하는 정부 지원 의료보험이다.\n",
            "‘재량지출’(매년 미국 의회에서 표결을 거쳐야 하는 정부 지출)에는 국방(8740억달러/약 1228조원, 13%), 교통(1370억달러/약 193조원, 2%), 교육·훈련·고용·사회 서비스(3050억달러/약 429조원, 5%)가 포함된다.\n",
            "미 의회예산국(CBO)에 따르면, 2023 회계연도 재량지출은 전체 지출의 약 25%를 차지한다. 그중 절반 이상이 국방비로 사용됐다.\n",
            "이론적으로, 차기 트럼프 행정부는 의무지출보다 재량지출을 삭감하는 것이 더 쉬울 것이다.\n",
            "도널드 트럼프는 정부효율부 공동 수장으로 낙점한 일론 머스크와 비벡 라마스와미가 정부 관료주의 해체, 과도한 규제 철폐, 정부기관 구조조정을 통해 지출을 줄일 것이라고 밝혔다. 머스크는 2023년 4월 BBC와의 인터뷰에서 2022년 트위터(현 X)를 인수한 뒤 직원을 8000명에서 1500명으로 줄였다고 주장했다.\n",
            "그러나 분석가들의 계산에 따르면, 현재 머스크가 목표로 삼는 2조 달러의 정부 지출 삭감액이 모두 재량지출에서 나온다면 교통·농업·국토안보부 등 모든 기관을 완전히 폐쇄해야 한다. 2023년 재량지출은 1조7000억달(약 2390조원)에 불과했다.\n",
            "머스크는 2조 달러 삭감이 1년 기준인지, 아니면 장기간에 걸친 계획인지 구체적으로 밝히지 않았다. 다만, 정부 지출 감축에 원칙적으로 찬성하는 전문가를 비롯해 많은 공공재정 전문가들은 중요한 정부 기능의 붕괴나 대중의 큰 저항 없이 이런 대규모 삭감이 가능할지에 대해 회의적인 입장이다.\n",
            "2022년 공화당은 하원 다수당을 차지했지만, 공화당 내에서도 의견이 갈려 정부 재량지출 1300억달러(약 183조원) 삭감 법안을 통과시키지 못했다.\n",
            "또한, 도널드 트럼프가 선거 공약에서 사회보장 급여에 부과되는 소득세를 없애 수급자에게 사회보장을 바탕으로 더 넉넉한 재정 상태를 약속했다는 점도 주목할 만하다. 국방 분야에서는 미국 주변에 “아이언돔 미사일 방어막”을 구축하겠다고 말했는데, 이는 국방비 지출 증가를 시사한다.\n",
            "미국 재무부에 따르면 2024년 미국 연방정부의 총 지출은 미국 경제에서 약 23%를 차지한다.\n",
            "이는 다른 선진국의 중앙정부 지출에 비해 상당히 작은 비중이다.\n",
            "그러나, 미국 정부 지출의 상당 부분(거의 모든 학교 관련 지출을 포함)은 연방정부가 아닌 주정부 차원에서 처리된다. 주정부는 지방 판매세와 재산세로 재원을 조달한다.\n",
            "국제통화기금(IMF)은 주정부 지출을 포함한 미국의 ‘일반정부 지출’ 합계가 2024년 GDP의 약 37.5%에 해당할 것으로 예상했다.\n",
            "이는 영국의 43%, 독일의 48%, 프랑스의 57%와 비교해 상당히 낮은 수준이다.\n",
            "미 정부의 연간 재정 적자(세출과 세수 간 부족분)는 경제 규모의 약 6% 수준이다. 그리고 미국 국민들이 보유한 국채는 현재 경제 규모의 약 97%에 달한다.\n",
            "미국 초당파 비영리 싱크탱크 ‘책임 있는 연방예산위원회’(CRFB)는 이 수치가 2035년까지 125%로 증가한다고 예측했다.\n",
            "또한, 대대적인 지출 감축 없이 도널드 트럼프의 감세 계획이 실행된다면 향후 10년간 미국의 재정 적자가 크게 증가하고 국가 부채 비율은 경제 규모 대비 143%까지 증가할 것으로 예측했다.\n",
            "\n",
            "================================================================================\n",
            "URL: https://www.bbc.com/korean/articles/crk407xy2rdo\n",
            "관련 토픽: \n",
            "기사 내용:\n",
            "미국 유권자들은 대통령 선거일에 민주당 후보 카멀라 해리스 부통령과 공화당 후보 도널드 트럼프 전 대통령 사이에서 중요한 한 표를 행사하게 된다.\n",
            "두 후보의 공약과 다양한 이슈에 대한 정책을 다음과 같이 비교했다.\n",
            "해리스는 가계의 식비·주거비 부담 완화를 최우선 과제로 삼겠다고 밝혔다.\n",
            "해리스는 식료품 가격 부풀리기를 금지하고, 생애 최초 주택 구매자를 지원하고, 주택 공급을 늘리는 방향으로 정책을 펼치겠다고 약속했다.\n",
            "트럼프는 “인플레이션을 종식시키고 미국 물가를 다시 적정 수준으로 되돌리겠다”고 약속했다.\n",
            "트럼프는 대통령에게 권한이 없는 금리 인하를 약속했으며, 불법 이민자를 추방하면 주택 가격 부담이 완화될 것이라고 말했다.\n",
            "해리스는 낙태권 보호를 선거 운동의 핵심으로 삼았으며, 전국적으로 여성의 생식권을 보장하는 법안을 지지하고 있다.\n",
            "트럼프는 최근 몇 주 동안 일관된 메시지를 찾기 위해 고군분투했다.\n",
            "그가 대통령 재임 시절 임명한 3명의 연방 대법관은 ‘로 대 웨이드’ 판결(연방 차원에서 여성의 낙태권을 인정한 판례)의 낙태권 보호를 뒤집는 데 핵심적 역할을 했다.\n",
            "해리스는 남부 국경 문제의 근본 원인을 해결하는 역할을 맡았다. 수십억 달러의 민간 기금을 조성해 지역 투자를 지원함으로써 북쪽(미국)으로의 이민자 유입을 막고자 했다.\n",
            "2023년 말에는 기록적으로 많은 사람들이 멕시코에서 국경을 넘었지만, 이후로는 그 수가 감소했다. 이번 선거 운동에서는 캘리포니아에서 인신매매범들을 상대했던 검사로서의 경험을 강조하며 좀더 강경한 입장을 내세웠다.\n",
            "트럼프는 장벽 건설을 완료하고 단속을 강화해 국경을 봉쇄하겠다고 공언했다. 하지만, 해리스가 지지하는 강경파의 초당적 국경 법안을 폐기할 것을 공화당에 촉구했다.\n",
            "또한, 미국 역사상 최대 규모의 불법 이민자 추방을 약속했다. 전문가들은 BBC에 이 부분이 법적 문제에 직면할 것이라고 말했다.\n",
            "해리스는 대기업과 연봉이 40만달러(약 5억5000만원) 이상인 고연봉자의 세금을 인상하고자 한다.\n",
            "다만, 자녀 세액공제 확대를 포함해 가계의 세금 부담을 완화할 수 있는 여러 가지 조치를 내놓았다.\n",
            "트럼프는 주로 부유층에 유리했던 2017년 감세 정책의 연장을 포함해 수조 달러에 달하는 여러 감세안을 제안했다. 세수 감소분은 더 높은 성장률과 수입품 관세를 통해 충당할 것이라고 말한다.\n",
            "분석가들은 두 계획 모두 재정 적자를 더 부풀릴 것이라고 말하지만, 트럼프 계획의 적자폭이 더 클 것으로 예상한다.\n",
            "해리스는 “필요한 만큼” 우크라이나를 지원하겠다고 약속했으며, 대통령으로 당선되면 중국이 아닌 미국이 “21세기 경쟁에서 승리”하도록 하겠다고 약속했다.\n",
            "해리스는 오랫동안 ‘2국가 해법’(이스라엘과 팔레스타인이 개별 국가로 병존하는 해법)을 지지해 왔으며 가자지구의 전쟁 종식을 촉구해 왔다.\n",
            "트럼프는 고립주의 외교 정책을 추구하며 미국이 세계 각지의 분쟁에서 발을 빼기를 원한다.\n",
            "그는 러시아와의 협상을 통해 우크라이나 전쟁을 24시간 안에 끝내겠다고 했는데, 민주당은 이런 방식이 블라디미르 푸틴 러시아 대통령을 더 대담하게 만들 것이라고 말한다.\n",
            "트럼프는 이스라엘에 대한 확고한 지지를 내세웠지만, 가자지구에서 전쟁을 어떻게 끝낼지는 거의 언급하지 않았다.\n",
            "해리스는 수입품에 관세를 부과하려는 트럼프의 광범위한 계획을 비판하며, 결국 소비자에게 세금처럼 작용해 각 가구에 연간 4000달러(약 552만원)의 비용을 전가할 것이라고 말했다. 해리스는 수입품 과세 대상을 보다 세분화할 것으로 예상된다.\n",
            "트럼프는 이번 선거 운동에서 관세를 핵심 공약으로 내세웠다. 대부분의 수입품에 10~20%의 새로운 관세를 제안했고 중국산 상품에는 훨씬 더 높은 관세를 제안했다.\n",
            "해리스는 부통령으로서 재생에너지와 전기차 세액 공제 및 리베이트 제도에 수천억 달러를 투입하는 인플레이션 감소법 통과에 기여했다.\n",
            "하지만, 환경론자들이 반대하는 수압 파쇄법(셰일가스 시추 기술)에 대한 반대 입장을 철회했다.\n",
            "트럼프는 대통령 재임 당시 발전소와 자동차의 이산화탄소 배출량 제한을 포함해 수백 가지의 환경 보호 조치를 철회했다.\n",
            "이번 선거에서는 북극 시추를 확대하고 전기차 산업을 공격하겠다고 공언했다.\n",
            "해리스는 처방약 비용을 낮추고 인슐린 가격을 35달러(약 4만8000원)로 제한한 바이든 행정부의 일원이었다.\n",
            "트럼프는 대통령 재임 당시 수백만 명에게 보험 혜택을 확대한 건강보험개혁법(ACA)을 폐지하려 했던 시도를 반복하지 않겠다고 밝혔다.\n",
            "트럼프는 정부 차원의 불임 치료 지원을 촉구했으나, 의회의 공화당원들이 반대할 수 있다.\n",
            "해리스는 본인이 검사로 근무한 이력과 트럼프가 범죄로 유죄 판결을 받았다는 사실이 대비되도록 했다.\n",
            "트럼프는 마약 카르텔을 무너뜨리고, 조직 폭력을 근절하며, 민주당 시장 아래에서 범죄의 온상이 된 도시들을 재건하겠다고 공언했다.\n",
            "\n",
            "================================================================================\n"
          ]
        }
      ]
    },
    {
      "cell_type": "markdown",
      "source": [
        "## 4. csv화"
      ],
      "metadata": {
        "id": "li9HXDmQRnt4"
      }
    },
    {
      "cell_type": "markdown",
      "source": [
        "### 4-1. csv로 만들어 기사 본문, 관련 토픽으로 구성"
      ],
      "metadata": {
        "id": "4g9aG04vRnt5"
      }
    },
    {
      "cell_type": "markdown",
      "source": [
        "- 크롤링을 하는 모든 과정을 실습\n",
        "- robots.txt로 검사\n",
        "-BBC 인기 뉴스 페이지에서 상위 10개의 기사 링크 자동 크롤링\n",
        "-각 기사 링크로 이동하여 본문 및 기사 제목을 가져와 CSV 파일로 저장\n"
      ],
      "metadata": {
        "id": "vz6UQLVBRnt5"
      }
    },
    {
      "cell_type": "code",
      "source": [
        "!pip install pandas\n",
        "#판다스 설치"
      ],
      "metadata": {
        "id": "ObW8LispFyvd",
        "colab": {
          "base_uri": "https://localhost:8080/"
        },
        "outputId": "9c40d69b-ae4a-4be4-e479-73dd547f9525"
      },
      "execution_count": 101,
      "outputs": [
        {
          "output_type": "stream",
          "name": "stdout",
          "text": [
            "Requirement already satisfied: pandas in /usr/local/lib/python3.10/dist-packages (2.2.2)\n",
            "Requirement already satisfied: numpy>=1.22.4 in /usr/local/lib/python3.10/dist-packages (from pandas) (1.26.4)\n",
            "Requirement already satisfied: python-dateutil>=2.8.2 in /usr/local/lib/python3.10/dist-packages (from pandas) (2.8.2)\n",
            "Requirement already satisfied: pytz>=2020.1 in /usr/local/lib/python3.10/dist-packages (from pandas) (2024.2)\n",
            "Requirement already satisfied: tzdata>=2022.7 in /usr/local/lib/python3.10/dist-packages (from pandas) (2024.2)\n",
            "Requirement already satisfied: six>=1.5 in /usr/local/lib/python3.10/dist-packages (from python-dateutil>=2.8.2->pandas) (1.16.0)\n"
          ]
        }
      ]
    },
    {
      "cell_type": "code",
      "source": [
        "import time  # 대기 시간을 설정하기 위해 time 모듈을 가져옴\n",
        "import requests  # HTTP 요청을 보내기 위해 requests 모듈을 가져옴\n",
        "import re  # 정규 표현식을 사용하기 위해 re 모듈을 가져옴\n",
        "import pandas as pd  # 데이터 프레임을 생성하고 CSV 파일로 저장하기 위해 pandas 모듈을 가져옴\n",
        "from selenium import webdriver  # 웹 자동화를 위해 selenium 모듈을 가져옴\n",
        "from selenium.webdriver.common.by import By  # HTML 요소를 찾기 위해 By 모듈을 가져옴\n",
        "from selenium.webdriver.chrome.service import Service  # ChromeDriver 서비스 제어를 위해 Service 모듈을 가져옴\n",
        "\n",
        "# Chrome 옵션 설정\n",
        "options = webdriver.ChromeOptions()\n",
        "options.add_argument(\"--headless\")  # 브라우저를 표시하지 않고 실행 (백그라운드에서 실행)\n",
        "options.add_argument(\"--no-sandbox\")  # 보안 옵션 비활성화 (일부 환경에서 필수)\n",
        "options.add_argument(\"--disable-dev-shm-usage\")  # 메모리 문제를 방지하기 위한 설정\n",
        "options.add_argument(\"window-size=1920,1080\")  # 브라우저 창 크기를 설정\n",
        "\n",
        "# ChromeDriver 자동 설치 및 실행\n",
        "service = Service(ChromeDriverManager().install())\n",
        "driver = webdriver.Chrome(service=service, options=options)\n",
        "\n",
        "# BBC 뉴스 사이트의 robots.txt 파일 URL (크롤링이 가능한지 확인하기 위해 사용)\n",
        "robots_url = \"https://www.bbc.com/robots.txt\"\n",
        "\n",
        "# robots.txt 파일을 확인하여 특정 경로의 크롤링 허용 여부를 확인하는 함수\n",
        "def is_crawling_allowed(url):\n",
        "    try:\n",
        "        # HTTP GET 요청으로 robots.txt 파일을 가져옴\n",
        "        response = requests.get(url)\n",
        "\n",
        "        # 응답이 성공적일 경우 (상태 코드 200)\n",
        "        if response.status_code == 200:\n",
        "            lines = response.text.splitlines()  # 텍스트를 줄 단위로 분리\n",
        "            for line in lines:\n",
        "                # 모든 사용자 에이전트에 대한 규칙을 찾음\n",
        "                if line.startswith(\"User-agent: *\"):\n",
        "                    # '/korean/' 경로가 Disallow 되어 있는지 확인\n",
        "                    if \"Disallow: /korean/\" in lines:\n",
        "                        print(\"해당 경로는 크롤링이 허용되지 않습니다.\")\n",
        "                        return False\n",
        "            print(\"크롤링이 허용됩니다.\")\n",
        "            return True  # 크롤링 허용 시 True 반환\n",
        "        else:\n",
        "            print(\"robots.txt 파일을 불러올 수 없습니다.\")\n",
        "            return False  # 파일을 불러오지 못하면 False 반환\n",
        "    except Exception as e:\n",
        "        # 예외 발생 시 오류 메시지 출력\n",
        "        print(f\"robots.txt 확인 중 오류 발생: {e}\")\n",
        "        return False\n",
        "\n",
        "# 크롤링이 허용되는지 확인\n",
        "if not is_crawling_allowed(robots_url):\n",
        "    print(\"크롤링을 종료합니다.\")\n",
        "else:\n",
        "    # 크롬 드라이버 실행\n",
        "    driver = webdriver.Chrome(service=service, options=options)\n",
        "\n",
        "    # BBC 인기 뉴스 페이지 URL 설정\n",
        "    url = \"https://www.bbc.com/korean/popular/read\"\n",
        "    driver.get(url)  # 해당 페이지를 열기\n",
        "    time.sleep(3)  # 페이지 로딩을 기다리기 위해 3초 대기\n",
        "\n",
        "    # 기사 링크 목록을 저장할 리스트 초기화\n",
        "    article_links = []\n",
        "    try:\n",
        "        # 상위 10개의 인기 뉴스 링크를 가져옴\n",
        "        for i in range(1, 11):\n",
        "            # 특정 CSS 선택자를 사용하여 기사 링크를 찾음\n",
        "            element = driver.find_element(By.CSS_SELECTOR, f\"#main-wrapper > div > main > div > div > div > div > ol > li:nth-child({i}) > div > div.bbc-14zb6im > a\")\n",
        "            link = element.get_attribute(\"href\")  # href 속성에서 링크를 추출\n",
        "            article_links.append(link)  # 링크를 리스트에 추가\n",
        "            print(f\"기사 링크 {i}: {link}\")\n",
        "    except Exception as e:\n",
        "        print(f\"기사 링크 크롤링 중 오류 발생: {e}\")\n",
        "\n",
        "    # 데이터를 저장할 빈 DataFrame 생성\n",
        "    df = pd.DataFrame(columns=[\"URL\", \"본문 내용\"])\n",
        "\n",
        "    # 각 기사 페이지에서 본문 크롤링\n",
        "    for link in article_links:\n",
        "        driver.get(link)  # 각 기사 페이지 열기\n",
        "        time.sleep(3)  # 페이지 로딩 대기\n",
        "\n",
        "        try:\n",
        "            # 기사 본문 가져오기 (CSS 선택자를 사용하여 <p> 태그 요소 찾기)\n",
        "            paragraphs = driver.find_elements(By.CSS_SELECTOR, \"main[role='main'] p\")\n",
        "            content = \" \".join([p.text for p in paragraphs])  # 각 <p> 태그의 텍스트를 공백으로 연결\n",
        "\n",
        "            # \\n과 ,를 공백으로 대체 후, 연속된 공백을 하나의 공백으로 정리\n",
        "            content = content.replace(\"\\n\", \" \").replace(\",\", \" \")\n",
        "            content = re.sub(r'\\s+', ' ', content).strip()  # 연속된 공백을 하나로 축소하고 양 끝 공백 제거\n",
        "\n",
        "            # DataFrame에 데이터 추가 (URL과 본문 내용)\n",
        "            df = pd.concat([df, pd.DataFrame({\"URL\": [link], \"본문 내용\": [content]})], ignore_index=True)\n",
        "            print(f\"저장된 기사: {link}\")\n",
        "\n",
        "        except Exception as e:\n",
        "            print(f\"기사 접근 중 오류 발생: {link}, 오류: {e}\")\n",
        "\n",
        "    # 브라우저 종료\n",
        "    driver.quit()\n",
        "\n",
        "    print(\"\\n크롤링 완료. DataFrame으로 데이터 저장 완료.\")\n",
        "\n",
        "    # DataFrame을 CSV 파일로 저장 (UTF-8 인코딩 사용, ';'로 구분)\n",
        "    csv_filename = \"bbc_뉴스_기사.csv\"\n",
        "    df.to_csv(csv_filename, index=False, encoding='utf-8-sig', sep=';')\n",
        "    print(f\"CSV 파일 '{csv_filename}'에 데이터 저장 완료.\")\n",
        "\n",
        "    # 저장된 CSV 파일을 Pandas DataFrame으로 읽기\n",
        "    print(\"\\nPandas DataFrame으로 CSV 파일 읽기:\")\n",
        "    try:\n",
        "        df_loaded = pd.read_csv(csv_filename, delimiter=';', encoding='utf-8-sig')\n",
        "        print(df_loaded)\n",
        "\n",
        "        # 기사 요약 출력\n",
        "        print(\"\\n기사 요약:\")\n",
        "        print(df_loaded[[\"URL\", \"본문 내용\"]])\n",
        "\n",
        "        # 특정 키워드로 기사 필터링 (예: '한국'이 포함된 기사)\n",
        "        keyword = \"한국\"\n",
        "        filtered_df = df_loaded[df_loaded[\"본문 내용\"].str.contains(keyword, case=False, na=False)]\n",
        "        print(f\"\\n'{keyword}' 키워드가 포함된 기사들:\")\n",
        "        print(filtered_df)\n",
        "\n",
        "    except Exception as e:\n",
        "        print(f\"CSV 파일 읽기 중 오류 발생: {e}\")\n"
      ],
      "metadata": {
        "id": "-JM7DrulEwu9",
        "colab": {
          "base_uri": "https://localhost:8080/"
        },
        "outputId": "f9849881-8396-4f13-fe1d-8242d3447fb5"
      },
      "execution_count": 102,
      "outputs": [
        {
          "output_type": "stream",
          "name": "stdout",
          "text": [
            "크롤링이 허용됩니다.\n",
            "기사 링크 1: https://www.bbc.com/korean/articles/cly0mmkkrn2o\n",
            "기사 링크 2: https://www.bbc.com/korean/articles/c3e8lpyxndpo\n",
            "기사 링크 3: https://www.bbc.com/korean/articles/c4gm78wk8evo\n",
            "기사 링크 4: https://www.bbc.com/korean/international-57147399\n",
            "기사 링크 5: https://www.bbc.com/korean/60521326\n",
            "기사 링크 6: https://www.bbc.com/korean/articles/c80lp2z9gpmo\n",
            "기사 링크 7: https://www.bbc.com/korean/articles/cn7md402zk8o\n",
            "기사 링크 8: https://www.bbc.com/korean/articles/cxw277y29zlo\n",
            "기사 링크 9: https://www.bbc.com/korean/articles/c99rz9gkv74o\n",
            "기사 링크 10: https://www.bbc.com/korean/articles/c20ldzy6z78o\n",
            "저장된 기사: https://www.bbc.com/korean/articles/cly0mmkkrn2o\n",
            "저장된 기사: https://www.bbc.com/korean/articles/c3e8lpyxndpo\n",
            "저장된 기사: https://www.bbc.com/korean/articles/c4gm78wk8evo\n",
            "저장된 기사: https://www.bbc.com/korean/international-57147399\n",
            "저장된 기사: https://www.bbc.com/korean/60521326\n",
            "저장된 기사: https://www.bbc.com/korean/articles/c80lp2z9gpmo\n",
            "저장된 기사: https://www.bbc.com/korean/articles/cn7md402zk8o\n",
            "저장된 기사: https://www.bbc.com/korean/articles/cxw277y29zlo\n",
            "저장된 기사: https://www.bbc.com/korean/articles/c99rz9gkv74o\n",
            "저장된 기사: https://www.bbc.com/korean/articles/c20ldzy6z78o\n",
            "\n",
            "크롤링 완료. DataFrame으로 데이터 저장 완료.\n",
            "CSV 파일 'bbc_뉴스_기사.csv'에 데이터 저장 완료.\n",
            "\n",
            "Pandas DataFrame으로 CSV 파일 읽기:\n",
            "                                                 URL  \\\n",
            "0   https://www.bbc.com/korean/articles/cly0mmkkrn2o   \n",
            "1   https://www.bbc.com/korean/articles/c3e8lpyxndpo   \n",
            "2   https://www.bbc.com/korean/articles/c4gm78wk8evo   \n",
            "3  https://www.bbc.com/korean/international-57147399   \n",
            "4                https://www.bbc.com/korean/60521326   \n",
            "5   https://www.bbc.com/korean/articles/c80lp2z9gpmo   \n",
            "6   https://www.bbc.com/korean/articles/cn7md402zk8o   \n",
            "7   https://www.bbc.com/korean/articles/cxw277y29zlo   \n",
            "8   https://www.bbc.com/korean/articles/c99rz9gkv74o   \n",
            "9   https://www.bbc.com/korean/articles/c20ldzy6z78o   \n",
            "\n",
            "                                               본문 내용  \n",
            "0  사진 출처 RUSSIAN DEFENCE MINISTRY 2022년 2월 러시아가 우...  \n",
            "1  사진 출처 EPA-EFE/REX/SHUTTERSTOCK 27일 서울에 16㎝가 넘는...  \n",
            "2  사진 출처 NEWS1 “소멸할지언정 개방하지 않는다.” 동덕여대 재학생들이 이러한 ...  \n",
            "3  사진 출처 GETTY IMAGES 팔레스타인 무장단체 하마스가 지난 7일(현지시간)...  \n",
            "4  사진 출처 GETTY IMAGES 공중에서도 지상에서도 바다에서도. 인구 4400만...  \n",
            "5  사진 출처 GETTY IMAGES 도널드 트럼프 공화당 대선 후보가 이번 대선에서 ...  \n",
            "6  사진 출처 GETTY IMAGES 도널드 트럼프가 이민자·경제·우크라이나 전쟁 등의...  \n",
            "7  사진 출처 AFP 최근 이스라엘이 무장 조직 ‘헤즈볼라’를 공습하면서 레바논에서는 ...  \n",
            "8  사진 출처 GETTY IMAGES BBC 분석 결과 중국 기업들이 제재를 우회해 군...  \n",
            "9  사진 출처 GETTY IMAGES \"지하철 옆자리에 앉은 사람이 나한테 말을 좀 안...  \n",
            "\n",
            "기사 요약:\n",
            "                                                 URL  \\\n",
            "0   https://www.bbc.com/korean/articles/cly0mmkkrn2o   \n",
            "1   https://www.bbc.com/korean/articles/c3e8lpyxndpo   \n",
            "2   https://www.bbc.com/korean/articles/c4gm78wk8evo   \n",
            "3  https://www.bbc.com/korean/international-57147399   \n",
            "4                https://www.bbc.com/korean/60521326   \n",
            "5   https://www.bbc.com/korean/articles/c80lp2z9gpmo   \n",
            "6   https://www.bbc.com/korean/articles/cn7md402zk8o   \n",
            "7   https://www.bbc.com/korean/articles/cxw277y29zlo   \n",
            "8   https://www.bbc.com/korean/articles/c99rz9gkv74o   \n",
            "9   https://www.bbc.com/korean/articles/c20ldzy6z78o   \n",
            "\n",
            "                                               본문 내용  \n",
            "0  사진 출처 RUSSIAN DEFENCE MINISTRY 2022년 2월 러시아가 우...  \n",
            "1  사진 출처 EPA-EFE/REX/SHUTTERSTOCK 27일 서울에 16㎝가 넘는...  \n",
            "2  사진 출처 NEWS1 “소멸할지언정 개방하지 않는다.” 동덕여대 재학생들이 이러한 ...  \n",
            "3  사진 출처 GETTY IMAGES 팔레스타인 무장단체 하마스가 지난 7일(현지시간)...  \n",
            "4  사진 출처 GETTY IMAGES 공중에서도 지상에서도 바다에서도. 인구 4400만...  \n",
            "5  사진 출처 GETTY IMAGES 도널드 트럼프 공화당 대선 후보가 이번 대선에서 ...  \n",
            "6  사진 출처 GETTY IMAGES 도널드 트럼프가 이민자·경제·우크라이나 전쟁 등의...  \n",
            "7  사진 출처 AFP 최근 이스라엘이 무장 조직 ‘헤즈볼라’를 공습하면서 레바논에서는 ...  \n",
            "8  사진 출처 GETTY IMAGES BBC 분석 결과 중국 기업들이 제재를 우회해 군...  \n",
            "9  사진 출처 GETTY IMAGES \"지하철 옆자리에 앉은 사람이 나한테 말을 좀 안...  \n",
            "\n",
            "'한국' 키워드가 포함된 기사들:\n",
            "                                                URL  \\\n",
            "1  https://www.bbc.com/korean/articles/c3e8lpyxndpo   \n",
            "2  https://www.bbc.com/korean/articles/c4gm78wk8evo   \n",
            "8  https://www.bbc.com/korean/articles/c99rz9gkv74o   \n",
            "9  https://www.bbc.com/korean/articles/c20ldzy6z78o   \n",
            "\n",
            "                                               본문 내용  \n",
            "1  사진 출처 EPA-EFE/REX/SHUTTERSTOCK 27일 서울에 16㎝가 넘는...  \n",
            "2  사진 출처 NEWS1 “소멸할지언정 개방하지 않는다.” 동덕여대 재학생들이 이러한 ...  \n",
            "8  사진 출처 GETTY IMAGES BBC 분석 결과 중국 기업들이 제재를 우회해 군...  \n",
            "9  사진 출처 GETTY IMAGES \"지하철 옆자리에 앉은 사람이 나한테 말을 좀 안...  \n"
          ]
        }
      ]
    },
    {
      "cell_type": "code",
      "source": [
        "import time\n",
        "import csv\n",
        "import requests\n",
        "from selenium import webdriver\n",
        "from selenium.webdriver.common.by import By\n",
        "from selenium.webdriver.chrome.service import Service\n",
        "\n",
        "# Chrome 옵션 설정\n",
        "options = webdriver.ChromeOptions()\n",
        "options.add_argument(\"--headless\")\n",
        "options.add_argument(\"--no-sandbox\")\n",
        "options.add_argument(\"--disable-dev-shm-usage\")\n",
        "options.add_argument(\"window-size=1920,1080\")\n",
        "\n",
        "# ChromeDriver 자동 설치 및 실행\n",
        "service = Service(ChromeDriverManager().install())\n",
        "driver = webdriver.Chrome(service=service, options=options)\n",
        "\n",
        "# BBC 뉴스 사이트의 robots.txt 파일 URL\n",
        "robots_url = \"https://www.bbc.com/robots.txt\"\n",
        "\n",
        "# robots.txt 파일 확인 함수\n",
        "def is_crawling_allowed(url):\n",
        "    try:\n",
        "        response = requests.get(url)\n",
        "        if response.status_code == 200:\n",
        "            lines = response.text.splitlines()\n",
        "            for line in lines:\n",
        "                if line.startswith(\"User-agent: *\"):\n",
        "                    if \"Disallow: /korean/\" in lines:\n",
        "                        print(\"해당 경로는 크롤링이 허용되지 않습니다.\")\n",
        "                        return False\n",
        "            print(\"크롤링이 허용됩니다.\")\n",
        "            return True\n",
        "        else:\n",
        "            print(\"robots.txt 파일을 불러올 수 없습니다.\")\n",
        "            return False\n",
        "    except Exception as e:\n",
        "        print(f\"robots.txt 확인 중 오류 발생: {e}\")\n",
        "        return False\n",
        "\n",
        "# 크롤링이 허용되는지 확인\n",
        "if not is_crawling_allowed(robots_url):\n",
        "    print(\"크롤링을 종료합니다.\")\n",
        "else:\n",
        "    # 크롤링 허용 시 크롬 드라이버 실행\n",
        "    driver = webdriver.Chrome(service=service, options=options)\n",
        "\n",
        "    # BBC 인기 뉴스 페이지에서 기사 링크 크롤링\n",
        "    url = \"https://www.bbc.com/korean/popular/read\"\n",
        "    driver.get(url)\n",
        "    time.sleep(3)\n",
        "\n",
        "    # 인기 뉴스 목록에서 기사 링크 가져오기\n",
        "    article_links = []\n",
        "    try:\n",
        "        for i in range(1, 11):  # 상위 10개의 인기 뉴스만 가져오기\n",
        "            element = driver.find_element(By.CSS_SELECTOR, f\"#main-wrapper > div > main > div > div > div > div > ol > li:nth-child({i}) > div > div.bbc-14zb6im > a\")\n",
        "            link = element.get_attribute(\"href\")\n",
        "            article_links.append(link)\n",
        "            print(f\"기사 링크 {i}: {link}\")\n",
        "    except Exception as e:\n",
        "        print(f\"기사 링크 크롤링 중 오류 발생: {e}\")\n",
        "\n",
        "    # CSV 파일 생성 및 헤더 작성 (한글 컬럼명, 세미콜론 구분자 사용)\n",
        "    csv_filename = \"bbc_뉴스_기사.csv\"\n",
        "    with open(csv_filename, mode='w', newline='', encoding='utf-8') as file:\n",
        "        writer = csv.writer(file, delimiter=';')\n",
        "        writer.writerow([\"URL\", \"기사 제목\", \"소제목\", \"본문 내용\"])\n",
        "\n",
        "    # 각 기사 페이지에서 기사 제목 및 본문 크롤링\n",
        "    for link in article_links:\n",
        "        driver.get(link)\n",
        "        time.sleep(3)\n",
        "\n",
        "        try:\n",
        "            # 기사 제목 가져오기\n",
        "            title_element = driver.find_element(By.CSS_SELECTOR, \"h1\")\n",
        "            title = title_element.text\n",
        "\n",
        "            # 기사 본문에서 h2와 p 태그만 가져오기\n",
        "            h2_elements = driver.find_elements(By.CSS_SELECTOR, \"main[role='main'] h2\")\n",
        "            p_elements = driver.find_elements(By.CSS_SELECTOR, \"main[role='main'] p\")\n",
        "\n",
        "            # 소제목과 본문 내용을 가져와 ' '으로 연결\n",
        "            subtitles = ' '.join([h2.text for h2 in h2_elements if h2.text])\n",
        "            content = ' '.join([p.text for p in p_elements if p.text])\n",
        "\n",
        "            # CSV 파일에 데이터 추가 (세미콜론 구분자 사용)\n",
        "            with open(csv_filename, mode='a', newline='', encoding='utf-8') as file:\n",
        "                writer = csv.writer(file, delimiter=';')\n",
        "                writer.writerow([link, title, subtitles, content])\n",
        "\n",
        "            print(f\"저장된 기사: {title} - {link}\")\n",
        "\n",
        "        except Exception as e:\n",
        "            print(f\"기사 접근 중 오류 발생: {link}, 오류: {e}\")\n",
        "\n",
        "    # 브라우저 종료\n",
        "    driver.quit()\n",
        "\n",
        "    print(f\"\\n크롤링 완료. '{csv_filename}' 파일에 저장되었습니다.\")\n",
        "\n",
        "    # CSV 파일 내용 읽고 출력\n",
        "    print(\"\\nCSV 파일 내용 출력:\")\n",
        "    try:\n",
        "        with open(csv_filename, mode='r', encoding='utf-8') as file:\n",
        "            reader = csv.reader(file, delimiter=';')\n",
        "            for row in reader:\n",
        "                print(row)\n",
        "    except Exception as e:\n",
        "        print(f\"CSV 파일 읽기 중 오류 발생: {e}\")\n"
      ],
      "metadata": {
        "id": "xG283dPMBKzr",
        "colab": {
          "base_uri": "https://localhost:8080/"
        },
        "outputId": "a08ca238-c5d0-4ec2-a075-f0ed3e52eed3"
      },
      "execution_count": 103,
      "outputs": [
        {
          "output_type": "stream",
          "name": "stdout",
          "text": [
            "크롤링이 허용됩니다.\n",
            "기사 링크 1: https://www.bbc.com/korean/articles/cly0mmkkrn2o\n",
            "기사 링크 2: https://www.bbc.com/korean/articles/c3e8lpyxndpo\n",
            "기사 링크 3: https://www.bbc.com/korean/articles/c4gm78wk8evo\n",
            "기사 링크 4: https://www.bbc.com/korean/international-57147399\n",
            "기사 링크 5: https://www.bbc.com/korean/60521326\n",
            "기사 링크 6: https://www.bbc.com/korean/articles/c80lp2z9gpmo\n",
            "기사 링크 7: https://www.bbc.com/korean/articles/cn7md402zk8o\n",
            "기사 링크 8: https://www.bbc.com/korean/articles/c99rz9gkv74o\n",
            "기사 링크 9: https://www.bbc.com/korean/articles/c20ldzy6z78o\n",
            "기사 링크 10: https://www.bbc.com/korean/articles/cj4v0nkqrxro\n",
            "저장된 기사: 러시아 탈영병, 핵기지 경비와 극비 사항 공개 - https://www.bbc.com/korean/articles/cly0mmkkrn2o\n",
            "저장된 기사: 하얗게 물든 서울...117년만에 최대 폭설 - https://www.bbc.com/korean/articles/c3e8lpyxndpo\n",
            "저장된 기사: 동덕여대 사태로 본 '여대'의 의미 - https://www.bbc.com/korean/articles/c4gm78wk8evo\n",
            "저장된 기사: 이스라엘-팔레스타인인 분쟁: 이들이 싸우는 이유 - https://www.bbc.com/korean/international-57147399\n",
            "저장된 기사: 러시아가 우크라이나를 침공한 이유... 푸틴이 원하는 바는? - https://www.bbc.com/korean/60521326\n",
            "저장된 기사: 트럼프가 공식적으로 대통령이 되는 시점은? - https://www.bbc.com/korean/articles/c80lp2z9gpmo\n",
            "저장된 기사: 트럼프가 공언한 7가지 대선 공약 - https://www.bbc.com/korean/articles/cn7md402zk8o\n",
            "저장된 기사: 중국 기업들, 제재 피해 러시아에 기술 판매 - https://www.bbc.com/korean/articles/c99rz9gkv74o\n",
            "저장된 기사: 한국에 통일을 바라는 젊은 세대가 점차 사라지는 이유 - https://www.bbc.com/korean/articles/c20ldzy6z78o\n",
            "저장된 기사: 북한군 출신 탈북민들이 우크라이나 전쟁터에 보내달라는 이유 - https://www.bbc.com/korean/articles/cj4v0nkqrxro\n",
            "\n",
            "크롤링 완료. 'bbc_뉴스_기사.csv' 파일에 저장되었습니다.\n",
            "\n",
            "CSV 파일 내용 출력:\n",
            "['URL', '기사 제목', '소제목', '본문 내용']\n",
            "['https://www.bbc.com/korean/articles/cly0mmkkrn2o', '러시아 탈영병, 핵기지 경비와 극비 사항 공개', '', '사진 출처,\\nRUSSIAN DEFENCE MINISTRY 2022년 2월 러시아가 우크라이나 전면전을 시작한 날, 안톤은 자신이 복무하던 핵무기 기지가 완전한 전투경계 태세에 돌입했다고 밝혔다. 러시아 핵부대 전직 장교였던 안톤은 “그전에는 훈련만 했다. 하지만, 전쟁이 시작되자 무기가 전부 배치됐다”고 말했다. “우리는 바다와 공중으로 군대를 출격시킬 준비가 되어있었습니다. 이론적으로는 핵 공격을 수행할 준비도 되어있었습니다.” 러시아 외부의 비밀 장소에서 안톤을 만났다. BBC는 안톤의 신변 보호를 위치를 밝히지 않는다. 가명을 사용하고 얼굴도 공개하지 않는다. 안톤은 러시아 극비 핵무기 시설의 장교였다. 안톤은 과거 소속과 계급, 기지를 확인할 수 있는 문서를 제시했다. BBC가 안톤이 설명한 사건들을 전부 독립적으로 검증할 수는 없지만, 안톤의 증언은 당시 러시아 측의 진술과 일치하는 부분이 있다. 군대가 우크라이나 국경을 넘은 지 3일 후, 블라디미르 푸틴은 러시아의 핵 억지력이 “특별 전투태세”로 전환됐다고 발표했다. 안톤은 전쟁 첫날 전투 경보가 발령됐고, 자신의 부대는 “기지 안에 갇혀 있었다”고 말한다. 안톤은 “우리가 가진 것은 러시아 국영 TV뿐이었다”며, ”그 모든 상황이 무엇을 의미하는지 잘 몰랐다. 그저 자율적으로 임무를 수행했다. 우리는 전쟁에서 싸우지 않고, 그저 핵무기를 지키고 있었다”고 말했다. 또한, 2~3주 후에 경보 상태가 해제됐다고 덧붙였다. 안톤의 증언을 바탕으로 러시아 핵부대의 내부 극비 사정을 미루어 짐작해볼 수 있다. 군인이 기자와 대화하는 것은 극히 드문 일이다. 안톤은 “그 부대는 매우 엄격한 선발 과정을 거쳐서 들어온다. 징집병은 없고 모두 직업 군인”이라고 설명한다. “모든 사람이 계속 검문을 받고 거짓말 탐지기 검사도 받습니다. 훨씬 많은 급여를 받는데 전쟁에 투입되지도 않지요. 임무는 핵 공격을 격퇴하거나 수행하는 것입니다.” 안톤은 생활이 엄격히 통제됐다고 말한다. “제가 책임지고 제 밑에 있는 병사들이 핵기지에 휴대전화를 반입하지 못하도록 해야 했습니다.” “아주 폐쇄적인 곳이었죠. 모든 구성원이 서로를 알았습니다. 부모님이 방문하시려면 3개월 전에 FSB 보안국에 요청서를 제출해야 했습니다.” 사진 출처,\\nRUSSIAN DEFENCE MINISTRY 안톤은 핵무기를 지키는 보안부대의 일원이었다. 신속 대응에 특화된 부대였다. 안톤은 자부심을 내비치며 “우리는 끊임없이 훈련을 받았다. 2분이면 대응이 가능했다”고 말했다. ‘미국 과학자 연맹’에 따르면 러시아는 약 4380개의 핵탄두를 보유하고 있지만, “배치”됐거나 사용 준비가 된 것은 1700개 정도다. 이는 북대서양조약기구(NATO·나토) 국가들의 모든 핵탄두를 합친 것과 비슷한 수준이다. 푸틴이 전술 핵무기로 불리는 “비전략적” 핵무기를 배치할 것인지에 대한 우려도 있다. 전술 핵무기는 일반적으로 광범위한 방사능 낙진이 발생하지 않는 소형 미사일이다. 그럼에도 불구하고, 이러한 무기를 사용하면 전쟁의 위험도가 치솟을 수 있다. 러시아는 서방이 어디까지 참을지 시험이라도 하듯 다양한 시도를 해왔다. 푸틴은 불과 지난주에 핵무기 사용 원칙을 담은 핵교리 개정을 비준했다. 핵교리는 러시아의 핵무기 발사 방법과 시기를 규정하는 공식 규칙이다. 이제 러시아는 비핵 국가의 재래식 미사일로 “대규모 공격”을 받고 “핵 국가가 이에 참여 또는 지원”하는 경우 핵무기를 발사할 수 있다고 정한다. 러시아 관리들은 개정된 내용을 적용하면 전장에서 패배할 가능성이 “실질적으로 제거”된다고 말한다. 하지만, 러시아의 핵무기가 완벽하게 작동할까? 서방의 일부 전문가들은 러시아의 무기 개발 시기가 대부분 소련 시대로 거슬러 올라가며, 제대로 작동하지 않을 수도 있다고 주장한다. 안톤은 “자칭 전문가들의 극히 단순화된 견해”라며 이러한 의견을 일축했다. “일부 지역에는 구식 무기가 있을지도 모르지만, 러시아는 방대한 규모의 핵무기와 엄청난 양의 탄두를 보유하고 있습니다. 또한, 육상, 해상, 공중에서 지속적인 전투 순찰을 실시합니다.” 안톤은 러시아의 핵무기가 완벽하게 작동하고 전투 준비가 완료된 상태라고 주장했다. “핵무기를 관리하는 작업은 끊임없이 수행됩니다. 단 1분도 멈추지 않습니다.” 본격적인 전쟁이 시작된 직후 안톤은 매우 구체적인 서면 지침에 따라 병사들에게 강의를 하도록 지시받았다고 한다. 안톤은 이를 “범죄 명령”이라고 묘사했다. 안톤은 “(상부에서) 우크라이나 민간인은 전투원이므로 파괴해야 한다고 말했다!”며 소리를 높였다. “선을 넘은 내용입니다. 전쟁 범죄죠. 저는 이 선전을 퍼뜨리지 않겠다고 말했습니다.” 고위 장교들은 안톤을 다른 지역의 일반 공격여단으로 전속시키고 질책했다. 안톤은 전쟁에 투입될 것이라는 말을 들었다. 이 부대는 주로 전투의 “1차 공격”에 투입된다. 많은 러시아 탈영병들은 전쟁에 반대하는 “문제아”들이 “대포밥(총알받이)”으로 사용됐다고 BBC에 전했다. 런던 주재 러시아 대사관은 의견 요청에 응하지 않았다. 안톤은 최전선으로 보내지기 전에 전쟁에 참여하지 않겠다는 진술서에 서명했고, 그에 대한 형사 소송이 시작됐다. 안톤은 공격여단 전속 명령을 입증하는 서류와 형사 사건의 세부 사항을 BBC에 제시했다. 이후, 탈영병 지원 단체의 도움을 받아 나라를 떠나기로 결심했다. “만약 제가 핵군 기지에서 도망쳤다면 현지 FSB 보안국이 단호하게 대응했을 것이고, 아마 나라를 떠나지 못했을 것입니다.” 하지만, 안톤은 자신이 일반 공격여단으로 전속됐기 때문에 최고 수준의 보안 체계에 구멍이 났다고 생각한다. 안톤은 많은 러시아 군인들이 전쟁에 반대한다는 사실을 세상에 알리고 싶다고 말했다. 탈영병을 돕는 자원봉사 단체 ‘이디테 레솜’(Idite Lesom·숲으로 가라)은 도움을 요청하는 탈영병이 한 달에 350명으로 증가했다고 BBC에 말했다. 탈영병이 마주하는 위험도 커지고 있다. 해외로 도망친 탈영병 중 최소 한 명이 사망했으며, 러시아로 강제 송환되어 재판을 받는 사례가 여러 건 발생했다. 안톤은 러시아를 떠났지만 안보기관이 여전히 그를 찾고 있다고 말한다. “저는 여기서 여러 예방 조치를 마련하고, 미등록 상태로 일하며, 공식적인 시스템에 잡히지 않습니다.” 안톤은 핵기지에 있는 동료들과 더 이상 대화하지 않는다고 말했다. 그들을 위험에 빠뜨릴 수 있기 때문이다. “그들은 거짓말 탐지기 검사를 받아야 합니다. 저와 접촉하면 형사 사건으로 이어질 수도 있습니다.”\" 하지만, 다른 병사들의 탈출을 도우면서 자신이 처해있는 위험을 경시하지 않는다. “제가 탈출을 도울수록 보안국이 저를 죽이려고 할 가능성이 커진다는 걸 잘 알고 있죠.”']\n",
            "['https://www.bbc.com/korean/articles/c3e8lpyxndpo', '하얗게 물든 서울...117년만에 최대 폭설', '역대급 폭설에 사고 잇따라 기록적 폭설 이유', '사진 출처,\\nEPA-EFE/REX/SHUTTERSTOCK 27일 서울에 16㎝가 넘는 눈이 쌓이면서 117년 만에 11월 적설 최고치를 기록했다. 이날 오전 8시까지 서울(종로구 서울기상관측소 기준)에 쌓인 눈은 16.5㎝로 나타났다. 이는 1907년 서울에서 근대적 기상 관측이 시작된 이래 11월 중 가장 많은 적설량이다. 구체적으로 눈이 많이 쌓인 서울 지역은 서대문구(17.2㎝)와 도봉구(16.4㎝), 은평구(16.0㎝), 마포구(14.1㎝), 관악구(12.2㎝), 동대문구(12.0㎝) 등이다. 사진 출처,\\nEPA-EFE/REX/SHUTTERSTOCK 사진 출처,\\nEPA-EFE/REX/SHUTTERSTOCK 이날 아침부터 많은 눈이 쏟아지면서 곳곳에서 교통사고와 항공기 운항 차질이 발생하기도 했다. 출근길 제설 작업이 제대로 이뤄지지 않은 도로에서는 미끄러운 노면 탓에 차량이 거북이걸음을 이어갔고, 일부 구간에서는 교통사고가 잇따랐다. 서울소방재난본부에 따르면 전날 오후 6시부터 이날 오전 8시까지 폭설과 관련해 148건의 신고가 접수됐다. 사진 출처,\\nEPA-EFE/REX/SHUTTERSTOCK 사진 출처,\\n뉴스1 인천국제공항에서는 활주로와 계류장 제설 작업이 지연되면서 항공기 운항에 차질이 빚어졌다. 이날 오전 9시 기준으로 예정된 1219편 중 34편이 결항되고, 162편이 지연됐다. 정전 피해도 잇따랐다. 이날 오전 성북구 성북동 일대에서는 174가구가 정전 피해를 겪었다. 한국전력공사에 따르면 밤사이 많은 눈이 내리면서 무거워진 가로수가 쓰러져 전주와 전선을 접촉해 정전이 일어난 것으로 추정된다. 사진 출처,\\nEPA-EFE/REX/SHUTTERSTOCK 서울에 이례적으로 많은 눈이 쏟아진 이유는 현재 한반도 북쪽에 자리한 절리저기압 영향 때문으로 분석된다. 절리저기압은 대기 상층의 매우 빠른 바람인 제트기류가 매우 구불구불하게 흐를 때 그 일부가 분리되면서 만들어지는 것을 말한다. 북극의 찬 공기를 머금으면서 매우 차고, 대기를 매우 불안정하게 만드는 게 특징이다. 이러한 대기와 바닷물 간 온도 차 때문에 거대한 눈구름이 형성되면서 역대급 폭설이 이어졌다. 일각에서는 이번 폭설이 기후 변화의 영향일 가능성을 제기하고 있다. 사진 출처,\\n뉴스1 사진 출처,\\n뉴스1 28일 오전까지 수도권과 강원 등 곳곳에 눈이 이어질 것으로 보인다. 일부 지역에는 비가 쏟아질 예정이다. 기상청은 27일 밤부터 28일 오전까지 서해상에서 다시 눈구름대가 들어오면서 수도권과 강원내륙·산지, 충청내륙 등에 습기를 머금은 무거운 눈이 다시 쏟아질 것이라며 주민들의 주의를 당부했다.']\n",
            "['https://www.bbc.com/korean/articles/c4gm78wk8evo', \"동덕여대 사태로 본 '여대'의 의미\", \"젠더 갈등·폭력 시위 논란도 '여대의 존재, 여전히 중요한 사회적 필요성' '내가 여대에서 배운 것' 여대가 '여대의 역할'을 하고 있는가?\", '사진 출처,\\nNEWS1 “소멸할지언정 개방하지 않는다.” 동덕여대 재학생들이 이러한 구호를 외치며, 대학 측의 남녀공학 전환 추진에 강력히 반발하고 있다. 동덕여대 총학생회는 학교 측이 남녀공학 논의를 완전히 철회할 때까지 본관 점거를 계속하겠다는 입장이다. 반면 대학당국은 학생 시위와 관련, \"폭력 사태에 법률적 조치를 포함한 모든 대응을 단호히 실행하겠다\"고 밝혔다. 25일 진행된 3차 면담에서도 양측의 협상이 결렬되면서 갈등은 당분간 지속될 것으로 보인다. 동덕여대 시위는 앞서 지난 11일 시작됐다. 학교 측이 경쟁력 강화를 이유로 남녀공학 전환을 논의하고 있다는 사실이 알려진 것이 계기가 됐다. 특히 시위에 참여한 학생들은 이 과정에서 학생들의 의견수렴과 소통이 없었다고 지적했다. 학생들은 학교 건물을 점거해 농성을 벌이고, 학과 점퍼 수백 벌을 길바닥에 벗어두는 ‘과잠 시위’를 하며 수업을 거부하기 시작했다. 그러자 동덕여대 측은 “공학 전환은 학교 발전 계획을 고민하며 나온 의견 중 하나일 뿐 구체적인 논의는 이뤄지지 않았다”며 “모든 구성원들과의 의견수렴 절차를 계획 중”이었다고 입장을 밝혔다. 그리고 학생들의 건물 점거로 인한 기물 파손 등 시위 행위에 대해 최대 54억 원의 피해가 발생할 것으로 추산된다며 경고했다. 이에 대해 최현아 동덕여대 총학생회장은 \\'아이디어 수준\\'에 불과하다는 공학 전환 논의에 대해 일부 교수들이 수업 중 \"내년부터 남녀공학으로 전환된다\"고 언급했으며, 이는 학생들 사이에 빠르게 퍼져 불안감을 일으켰다고 BBC와의 인터뷰에서 밝혔다. “대학 본부가 학생들의 의견을 수용하지 않은 태도를 꾸준히 보였기 때문에 학생들은 학교가 이번에도 의견을 무시하고 남녀 공학을 진행할 거라고 느껴 학생들이 이를 막기 위해 행동에 나선 겁니다.” BBC가 학교 캠퍼스에서 만난 한 조교도 학교 측의 의사결정 구조에 문제점을 지적했다. 동덕여대에서 졸업 후 조교로 근무 중인 강소희(가명) 씨는 시위로 인해 업무가 마비된 상황에도 학교 측이 조교들에게 출근 지시를 내렸다고 밝혔다. 강 씨는 “출근은 했지만 제대로 업무를 볼 수 없는 상황에 떠돌아다니고 있다”고 토로했다. 또한 19일 학교가 전체 직원 성명서를 발표하면서 “조교들의 의견은 전혀 묻지 않았다\"고 비판했다. 총학생회는 지난 20일 학생총회를 소집해 \\'동덕여대 공학 전환\\' 안건을 표결했는데, 재학생 약 3분의 1인 1973명이 참여했다. 이 중 기권 2명을 제외한 1971명이 남녀공학에 반대했다. 찬성은 한 명도 없었다. 그리고 21일 학교 처장단과 총학생회가 면담을 통해 남녀공학 전환 논의를 잠정 중단하고, 본관을 제외한 다른 건물들의 점거를 해제하며 수업을 재개하기로 합의했지만 남녀공학 전환을 둘러싼 갈등은 여전히 이어지고 있다. 시위에 나선 동덕여대 재학생들은 여대의 정체성을 지켜야 한다며 공학 전환에 강력히 반대하고 있다. 공학 전환이 여자 대학의 근간을 흔들고 여성의 지위를 상실하게 한다는 이유에서다. 김엘리 서강대 트랜스내셔널인문학 연구소 연구교수는 여대가 “남성중심의 문화나 시선으로부터 자유롭고, 여성들이 자율적으로 논의하고 결정하는 정치를 배우는 장이며, 모든 일들을 여성 스스로 해낼 수 있다는 역량을 강화하는 공간”이라며 “이 공간을 유지하고 싶은 학생들의 열망은 클 것”이라고 전했다. 올해 수능을 치른 고3 박 양도 일방적인 공학 전환 논의에 반대했다. 박 양은 “공학 전환이 추진된다면 수시 접수가 끝난 뒤에야 그 사실을 알게 된 수험생들은 불공평한 상황에 놓인 셈”이라며 “동덕여대를 ‘여대’라는 이유로 선택한 이들도 있을 텐데 이런 변화는 최소 4~5년 전부터 협의돼야 한다”고 말했다. 동덕여대의 남녀공학 전환 반대 시위는 다른 여자대학으로도 확산되고 있다. 덕성여대, 숙명여대, 성신여대, 한양여대 등은 동덕여대의 공학 전환 철회를 지지하는 성명서를 발표하며 연대 의사를 밝혔다. 한편 동덕여대 학생들은 일부 반여성주의 단체와 누리꾼들에게 \\'폭도\\'로 규정되며 공격과 혐오 발언을 받고 있다. 학교 기물에 래커칠을 하는 등 시설을 파손시키며 강의실 건물을 무단 점거해 학생들의 학습권을 침해했다는 이유에서다. 하지만 권김현영 이화여대 한국여성연구원 기획연구위원은 시위를 폭력적으로 보는 시각에 반박했다. 그는 “한국의 학원 민주화 투쟁 역사를 보면, 지금의 동덕여대 시위는 폭력적이라고 보기 어렵다”며 “학교 기물 파손에 초점을 맞추는 것은 시위의 본질을 왜곡하는 자본주의적 논리”라고 지적했다. 이어 “기물 훼손을 폭력으로 규정하는 것은 헌법이 보장하는 집회와 파업권을 무시하는 관점”이라며 “학생들이 자율성과 발언권을 확보하기 위해 투쟁하는 상황을 고려해야 한다”고 말했다. 최 총학생회장도 자신들의 투쟁을 폭력 시위로 보는 관점에 대해 “학생들이 왜 이런 방식으로까지 나설 수밖에 없었는지를 본질을 봐줬으면 한다”고 전했다. 사진 출처,\\nNEWS1 “여성들에게 법적, 제도적인 기회는 다 열렸는데 무슨 이유로 여자 대학이 필요한가? 라고 물어볼 수 있어요. 그런데 공식적으로 기회는 열렸지만 그것이 결과적인 평등으로 가진 않았어요.” 장필화 한국여성재단 이사장은 기회의 평등이 곧 결과의 평등으로 펼쳐지지 못했으며, 여전히 통계적으로 여성 차별 문제들이 존재하고 있다고 설명했다. 덧붙여 그는 정치 및 경제계에서 여성들의 아이디어, 니즈가 제대로 반영될 수 있는 사회가 되길 바란다며 “여성들이 어떤 그 비판을 의식하지 않고도 그들의 생각과 니즈, 관점을 사회적 목소리로 낼 수 있는 공간이 필요하다”고 밝혔다. \\'안전성\\'도 여대의 필요성 중 하나로 꼽혔다. 김 연구교수는 \"온라인 상에서의 여성 혐오 발화, 화장실 불법 촬영, 성폭력 및 여성 살해 사건 등으로 인해 여성들이 느끼는 안전 감각은 매우 높아졌다\"며 “불안전을 느끼는 여성들이 문제라고 말하는 것보다는 불안전함을 가져오는 사회적 요소들이 무엇인가를 파악하고 해결하는 방향으로 초점이 맞추어져야 한다”고 밝혔다. 동덕여대 총학생회도 여전히 존재하는 여성 차별을 언급하며, 여대가 차별과 혐오로부터 안전한 논의의 장을 제공해야 한다고 주장했다. 최 총학생회장은 \"현재 여성 인권이 완전히 보장된 상태라고 할 수는 없다\"며 \"여성들이 불평등과 혐오에서 벗어나 마음껏 교육을 받고, 자유롭게 성평등을 논의할 수 있는 공간이 바로 현재 우리 대학의 역할\"이라고 강조했다. 한편 권김 위원은 여대가 “안전한 공간을 넘어, 가보지 않은 길을 개척해 온 해방과 평등의 공간”으로 재의미하는 작업도 필요하다고 말했다. 그는 “여성들이 네트워크를 형성하고 리더십을 키우는 방법, 그리고 여성들이 현재의 한계를 넘어설 수 있는 가능성을 탐구하는 과정이 여대의 학문적 가치로 이어진다”고 말했다. 현재 전국 4년제 여대는 이화·숙명·성신·동덕·덕성·서울·광주여대 7곳 뿐이다. 상명여대는 상명대로, 부산여대는 신라대로 이름을 바꾸며 남녀공학으로 전환했다. 성심여대는 가톨릭대와, 효성여대는 대구가톨릭대와 통합돼 남녀공학이 됐다. 사진 출처,\\nNEWS1 “공학을 다닐 때는 여학생들이 ‘여학생 휴게실’에서나 누워있었는데, 이화여대는 누울 수 있는 곳이라면 여자들도 어디에나 누워있는 거예요. (웃음)” 권김 위원은 공학을 다닐 때 자신이 차별받고 있다는 사실을 인식하지 못했다. 그는 남녀공학에서는 늘 수위 아저씨나 교수님, 남학생들로부터 여학생들에게 부당한 언행을 듣는 일이 많았다며, 예를들면 “밤늦게 공부를 마친 후 집에 가면 수위 아저씨가 ‘여자가 이렇게 늦게 나가면 안 된다’며 ‘남자친구가 오게 하라’는 식의 말을 들었다”고 전했다. 또한 “수업 시간에 군대 이야기를 하면서 여학생들은 아예 존재하지 않는 것처럼 다루거나, 여학생들이 나중에 결혼해 아이를 낳는다는 식으로 묘사하는 일이 많았다”고 밝혔다. 하지만 그는 여대에서의 경험을 통해 남성 중심적인 문화에서 벗어나 여성들이 자율적으로 생활하고 학습할 수 있는 환경을 경험했다고 설명했다. 여대는 안전한 공간을 넘어, 여성들이 서로 네트워크를 형성하고 리더십을 발휘할 수 있는 공간이었다. 동덕여대 졸업생 강 씨도 “여대를 다니며 리더로서 주체적으로 행동할 수 있다는 자신감을 배웠다”며 “여대가 내게 사회에서 당당히 설 수 있는 토대를 마련해줬다”고 전했다. 그리고 “후배들도 여대에서 리더십을 경험하고 목소리를 낼 수 있는 자신감을 배웠으면 좋겠다”며 공학 전환에 반대했다. 김선혜 이화여대 여성학과 교수는 “여대에서 재학 중인 학생들이 ‘여’대생이 아니라 단순히 ‘대학생’으로 여겨지는 환경에서, 많은 자율성과 새로운 책임감을 학습하고 훈련할 수 있는 중요한 기회를 갖게 된다”며 자신들의 정체성을 자유롭게 탐구하고 성장할 수 있다고 설명했다. 사진 출처,\\nNEWS1 한편 여대가 과연 본연의 역할을 충실히 수행하고 있는지에 대한 의문을 제기하는 목소리도 존재한다. 동덕여대 정문 앞에서 근조화환과 시위 대자보를 바라보던 경희대 22학번 김정훈(가명) 씨와 고려대 24학번 이경진(가명) 씨는 시대 변화에 따른 여대 존립 논의가 필요하다고 주장했다. 김 씨는 여대가 과거 가부장적 사회에서 여성들에게 교육의 기회를 제공하는 중요한 역할을 했다는 점을 인정했다. 하지만 그는 \"현대에는 남녀 간 교육 기회의 격차가 거의 사라졌다\"며 \"여대의 필요성은 과거만큼 크지 않다\"고 주장했다. 그는 이어 \"공군사관학교가 여성 조종사를 선발하는 등 점점 교육의 평등이 실현되고 있다\"고 덧붙였다. 이 씨도 비슷한 입장을 보였다. 그는 여대가 여성 안전 문제 해결의 대안이 될 수 있는지에 대해 의문을 제기했다. \"여성들이 남성 범죄로 인해 압박을 받는다는 이유로 여대라는 울타리 안에서만 문제를 해결하려는 시도는 본질적인 문제 해결에 도움이 되지 않는다\"고 지적하며 \"남성과의 대화를 통해 갈등을 해결하려는 노력이 필요하다\"고 강조했다. 30대 남성 최현필(가명) 씨는 여대가 현재 젠더 갈등을 더욱 악화시키고 있다고 주장했다. 그는 \"오늘날의 여대는 남녀를 이분법적으로 구분하는 특수한 구조만이 남았다\"며 \"특정 성별만을 대상으로 한 교육과 환경을 제공하는 것은 오히려 성별에 따라 다른 사회적 역할을 기대하거나 강화하는 결과를 초래할 수 있다\"고 말했다. 또한 그는 \"여대가 남성과 여성 간의 협력보다는 분리를 강조함으로써, 오히려 상호 이해와 공감을 방해한다\"며 \"특히 취업 시장 등에서 남성과 여성의 역할에 대한 고정관념을 깨기보다 오히려 이를 강화하는 요소로 작용할 가능성이 있다\"고 지적하면서 \"유리천장은 사라져야 하는 것이지 깨져야 하는 것이 아니다\"라고 밝혔다. 그리고 \"젠더 갈등은 단순히 남성과 여성 간의 문제를 넘어, 세대, 경제적 계층, 그리고 교육 수준 등 다양한 요인이 얽힌 복합적 문제\"라며 \"여대는 이런 복잡한 갈등 구조 속에서 특정 성별만을 위한 울타리를 제공하기보다 더 포괄적인 방식으로 사회를 바라보고 문제를 해결하려는 노력이 필요하다\"고 덧붙였다.']\n",
            "['https://www.bbc.com/korean/international-57147399', '이스라엘-팔레스타인인 분쟁: 이들이 싸우는 이유', \"분쟁의 시작 100년 묵은 '현재 진행형' 이슈들 이스라엘의 건국과 '대참사' 오늘날 무슨일이 벌어지고 있나? 양측 갈등의 핵심 사안 미래 전망은?\", '사진 출처,\\nGETTY IMAGES 팔레스타인 무장단체 하마스가 지난 7일(현지시간) 이스라엘을 향해 로켓 수천 발을 발사하며 전례 없는 이스라엘 공격에 나섰다. 하마스는 가자지구 인근 지역에 무장 대원들을 진입시켜 주민 수백 명을 살해하고 수십 명을 인질로 잡았다. 이스라엘과 팔레스타인인의 무력 충돌을 이해하기 위한 필수적인 맥락을 짚어봤다. 사진 출처,\\nGETTY IMAGES 중동의 패권 국가였던 오스만 제국이 1차 세계대전에서 패망한 뒤 \\'팔레스타인\\'으로 알려진 지역을 영국이 장악하게 된다. 당시 이곳에 사는 사람 중 대부분이 아랍인이었고, 유대인은 소수 민족이었다. 그 뒤 국제사회가 유대인을 위한 \"고국(National Home)\"을 팔레스타인 지역에 건설하는 과제를 영국에 안기면서 두 민족 간의 긴장감이 커지게 된다. 유대인들에게 팔레스타인 땅은 조상들의 고향이었지만, 팔레스타인 아랍인들도 이 땅의 영유권을 주장하며 계획에 반대했다. 사진 출처,\\nGETTY IMAGES 그러던 중 1920년대와 40년대 사이 2차 세계대전에서 벌어진 홀로코스트(나치에 의한 유대인 학살)를 피해 팔레스타인 지역에 도착하는 유대인이 늘게 됐다. 이는 곧 유대인과 아랍인 사이의 폭력 사태로 이어졌고 영국의 통치에 대한 반감도 커졌다. 1947년 유엔은 팔레스타인 지역을 유대인 국가, 아랍 국가로 분리하되 예루살렘은 국제공동 통치구역으로 두는 \\'팔레스타인 분할안\\'을 통과시킨다. 예루살렘은 누구의 소유도 아닌 \\'국제도시\\'가 될 계획이었다. 하지만 이 분할안은 유대인 지도자들은 받아들였지만, 아랍 측의 거부로 결국 실행되지는 못했다. 사진 출처,\\nGETTY IMAGES 1948년 문제를 해결하지 못한 영국 통치자들은 팔레스타인 지역에서 철수했고, 그 뒤 유대인 지도자들은 이스라엘 국가 건국을 선언했다. 많은 팔레스타인인들은 이스라엘의 국가 수립에 반대했고, 1차 중동전쟁이 이어졌다. 이웃 아랍국가의 군대들이 팔레스타인 지역을 침략하게 된다. 이로 인해 팔레스타인 지역 주민 수십만 명이 피난길에 나서야 했고 이 사건은 아랍어로 \\'알 나크바(Al Nakba)\\' 혹은 \\'대재앙\\'으로 불린다. 이듬해 1차 중동전쟁이 휴전으로 끝날 무렵, 이스라엘은 팔레스타인 지역의 대부분을 장악하게 된다. 오늘날 서안지구로 알려진 땅은 요르단이 차지했고, 가자지구는 이집트가 점령했다. 예루살렘의 경우 서쪽은 이스라엘군 지역, 동쪽은 요르단군 지역으로 나뉘게 된다. 하지만 참전 세력들 간 서로를 향한 비난이 끊이지 않으면서 이 전쟁은 결국 평화협정을 맺지 못했고, 이후 수십 년 동안 더 많은 전쟁과 싸움이 지속되고 있다. 그리고 1967년 또 다른 전쟁이 발생한다. 그 결과 이스라엘은 동예루살렘과 서안지구, 시리아 골란고원, 가자지구와 이집트 시나이반도까지 점령하게 된다. 팔레스타인 난민 대다수와 그 후손들은 가자지구와 요르단, 시리아, 레바논에 흩어져 살고 있다. 이스라엘은 이들이 고향으로 돌아오는 것을 허락하지 않고 있다. 이스라엘은 이들이 귀향하면 이스라엘이 압도될 것이고 유대인 국가로서의 존재를 위협당하게 된다고 주장하고 있다. 사진 출처,\\nGETTY IMAGES 이스라엘은 여전히 서안지구를 점령하고 있다. 가자 지구에선 철수했지만, 유엔은 가자지구를 이스라엘 점령지 일부로 간주하고 있다. 이스라엘은 동예루살렘을 포함한 예루살렘 전체를 자국의 수도라고 주장하는 반면, 팔레스타인인들은 동예루살렘은 자국의 미래 수도라고 주장하고 있다. 미국을 비롯한 몇몇 국가들은 이스라엘의 주장을 인정하고 있다. 지난 50년간 이스라엘이 동예루살렘에 유대인 정착촌을 건설한 결과 현재 유대인 60만 명이 동예루살렘에 살고 있다. 팔레스타인 측에선 유대인의 동예루살렘 정착은 국제법상 불법이며 평화의 장애물이라고 말하지만, 이스라엘은 이를 부인하고 있다. 사진 출처,\\nGETTY IMAGES 동예루살렘과 가자지구, 서안지구에서는 여러 차례 이스라엘과 팔레스타인 주민 간 긴장이 고조됐었다. 가자지구는 하마스라고 불리는 팔레스타인 무장단체가 장악하고 있는데 이들은 이스라엘과 여러 번 대치해왔다. 이스라엘과 이집트는 하마스에 무기가 반입되는 걸 막기 위해 가자지구의 국경을 철저히 통제하고 있다. 가자지구와 요르단강 서쪽의 서안지구에 사는 팔레스타인인들은 이스라엘 정부의 행동과 제한으로 고통을 겪고 있다고 말한다. 이스라엘 정부는 팔레스타인의 폭력에 대한 방어 행동일 뿐이라는 입장이다. 이런 가운데 2021년 4월 중순 라마단이 시작된 이후 이스라엘 경찰과 팔레스타인 시민이 야간에 충돌하는 일이 잦아지며 사태가 고조되고 있다. 여기에 이스라엘 당국이 동예루살렘에 거주하는 팔레스타인 시민 일부에게 퇴거를 위협하면서 팔레스타인의 분노가 더 고조됐다. 사진 출처,\\nGETTY IMAGES 이스라엘과 팔레스타인 사이에는 서로 합의하지 못하고 있는 수많은 문제가 산적해 있다. 팔레스타인 난민 처리 문제에서부터, 이스라엘이 점령 중인 요르단강 서안지구의 유대인 정착촌의 잔류 문제, 그리고 양측이 예루살렘을 공유해야 하는지 아닌지가 해결돼야 한다. 또한 팔레스타인을 국가로 만들어져야 하느냐는 가장 답하기 어려운 문제도 있다. 양측은 25년 넘게 평화회담은 해왔지만, 지금까지 갈등을 해결하지 못했다. 결론만 얘기하자면 이런 갈등 상황은 쉽사리 해결되지 않을 것이다. 지난 2020년 당시 도널드 트럼프 미국 대통령은 중동 평화안을 내놓았다. 베냐민 네타냐후 이스라엘 총리는 이를 \\'세기의 딜\\' 이라 부르며 환영했지만, 팔레스타인은 한쪽에 치우쳤다며 거부했다. 중동 평화안은 그 뒤로 실행되지 못하고 있다. 향후 어떤 평화협정이든 이스라엘과 팔레스타인 모두의 동의를 얻어야 할 것이다. 그렇게 될 때까지 양측의 갈등은 이어질 전망이다.']\n",
            "['https://www.bbc.com/korean/60521326', '러시아가 우크라이나를 침공한 이유... 푸틴이 원하는 바는?', '러시아는 어디까지 갈 것인가? 이번 침공은 유럽에 얼마나 위험한가? 서방세계가 할 수 있는 것은? 푸틴이 원하는 것은? NATO는 뭐라고 했나? 외교적 해법은 없나?', '사진 출처,\\nGETTY IMAGES 공중에서도, 지상에서도, 바다에서도. 인구 4400만, 민주주의 국가인 우크라이나를 향해 러시아는 파괴적인 공격을 가했다. 블라디미르 푸틴 러시아 대통령은 몇 달간 우크라이나 침공설을 부인했다. 그러나 평화 협정을 파기하며 러시아군은 우크라이나의 북쪽, 동쪽, 남쪽 국경을 넘어 쳐들어왔다. 사망자 수가 증가하면서 이제 푸틴 대통령은 유럽의 평화를 깨뜨린 책임을 벗어날 수 없으며, 향후 전개 상황은 유럽 대륙 전체의 안보를 위태롭게 할 수 있다. 러시아 침공 지역은 어디, 이유는? 우크라이나 수도 키예프 근처의 보리스필 국제공항을 비롯해 우크라이나 전역의 공항과 주요 군사시설이 가장 먼저 공격의 대상이 됐다. 그리고 인구 140만 명의 도시이자 우크라이나 북동쪽의 하르키우 인근에서도, 동쪽의 루간스크 인근에서도, 북쪽의 접경 국가 벨라루스에서도, 그리고 남쪽의 크림반도에서도 탱크와 지상군이 밀려들었다. 낙하산 부대가 키예프 바로 외각의 비행장을 점령했으며 러시아군은 우크라이나의 최대 항구도시 오데사와 마리우폴에도 상륙했다. 침공 직전 푸틴 대통령은 TV 연설에서 \"현대 우크라이나로부터의 지속적인 위협\"에 러시아가 \"안전함을 느끼며, 발전하고, 존재하기\" 어렵다고 주장했다. 푸틴 대통령의 주장 대부분은 거짓이며 합리적이지 않다. 푸틴 대통령은 이번 군사 행동의 목표가 우크라이나 정부의 괴롭힘과 집단 학살의 대상이 된 사람들을 보호하고 우크라이나를 \"비무장화, 비나치화\"하는 것이라고 밝혔다. 그러나 우크라이나에서는 집단 학살이 자행되지 않았다. 우크라이나는 유대계 대통령이 이끄는 활기찬 민주주의 국가다. 볼로디미르 젤렌스키 우크라이나 대통령은 이번 러시아의 침공을 제2차 세계 대전 당시의 나치 독일 침공에 비유하며 \"어떻게 내가 나치가 될 수 있나\"라고 되물었다. 푸틴 대통령은 친러시아 성향의 빅토르 야누코비치 전 우크라이나 대통령이 몇 달간 이어진 반정부 시위 끝에 2014년 축출된 이후 우크라이나가 극단주의자들의 손에 넘어갔다고 빈번히 주장했다. 이후 러시아는 우크라이나 남부 크림반도를 합병하며 보복했다. 또한 현재까지 1만4000명의 목숨을 앗아간 우크라이나 동부지역의 분쟁에서 우크라이나 정부군에 맞서 분리주의 반군 세력을 지원했다. 2021년 말 푸틴 대통령은 우크라이나 국경 근처에서 러시아군 병력을 증강하기 시작했다. 그리고 이번 주에 동부지역의 휴전을 위해 맺었던 2015년 평화 협정을 파기하면서 반군이 점령한 자칭 도네츠크 인민공화국(DPR), 루간스크 인민공화국(LPR)의 독립을 인정했다. 러시아는 유럽연합(EU)과 북대서양조약기구(NATO)에 가입하려는 우크라이나의 시도를 오랫동안 반대해왔다. 침공 개시를 명하면서 푸틴 대통령은 NATO가 \"러시아의 국가로서의 역사적 미래\"를 위협하고 있다고 비난했다. 러시아는 우크라이나를 \"해방시키고 나치즘으로부터 정화해야 한다\"고 믿으면서도, 우크라이나 내 민주적으로 선출된 정부를 전복시키고자 하는지에는 답하지 않았다. 푸틴 대통령은 \"민간인을 상대로 수없이 많은 유혈 범죄를 저지른 자들\"을 법정에 세우는 것에 대해 언급했다. 러시아군은 벨라루스에서도 진격해왔으며 키예프 외곽의 우크라이나 군 공항인 호스토멜 공항도 점령당한 상황으로 미뤄보아 수도 키예프를 노리고 있다는 건 의심의 여지가 없다. 우크라이나와의 접경지대에 최대 20만 명의 병력을 배치하기 전, 푸틴 대통령은 우크라이나 동부 지역에 관심을 쏟았다. 동부 지역의 도네츠크 인민공화국(DPR)과 루간스크 인민공화국(LPR)을 독립국으로 인정하면서 푸틴 대통령은 이 지역이 우크라이나의 영토가 아니라고 결정 내렸다. 이후 그는 더 많은 우크라이나의 영토를 원하는 이들 반군 세력을 지지한다고 밝혔다. 자칭 인민공화국인 이 두 곳은 루간스크와 도네츠크 전체 면적의 3분의 1 가량을 차지하고 있는데, 나머지 지역도 탐내고 있는 것이다. 제2차 세계대전 이후 처음으로 유럽 내에서 침략 전쟁이 일어나고 있는 지금은 우크라이나 국민에게는 물론, 나머지 유럽 국가에도 두려운 시간이다. 독일이 \"푸틴의 전쟁\"이라고 부르는 이번 침공으로 이미 민간인과 군인을 포함해 수십 명이 사망했다. 그리고 유럽의 지도자들은 이번 러시아의 침공으로 1940년대 이후 가장 어두운 시간을 보내고 있다. 에마뉘엘 마크롱 프랑스 대통령은 유럽사의 전환점이라고 표현했다. 냉전 시기의 소련을 회상하며 젤렌스키 대통령은 문명 세계로부터 러시아를 고립시키는 새로운 \"철의 장막\"을 피하고자 우크라이나가 노력하고 있다고 말했다. 사진 출처,\\nEPA 양측 군인들의 가족들에게는 불안한 날들이 지속될 것이다. 우크라이나군은 이미 친러 분리주의자들과 지난 8년간 끔찍한 전쟁을 치렀다. 현재 우크라이나군은 18~60세 사이의 모든 예비군을 소집한 상태다. 마크 밀리 미국 합참의장은 러시아군의 규모를 미뤄볼 때 인구가 밀집된 도시 지역에서 교전이 발생하면 \"끔찍한\" 시나리오가 될 수 있다고 말했다. 이번 러시아의 침공은 러시아 및 우크라이나와 국경을 접하는 다른 많은 나라들에도 연쇄적인 영향을 끼쳤다. 라트비아, 폴란드, 몰도바는 대규모 난민 유입에 대비하고 있다고 밝혔다. 국가 비상사태를 선포한 리투아니아와 몰도바에는 이미 여성과 어린이 피난민이 수천 명에 이른다. 이번 전쟁에 러시아 국민들도 준비되지 않은 건 마찬가지다. 이번 침공은 국민들의 보편적인 지지를 얻지 못하고 있는 러시아 상원이 승인한 것이기 때문이다. NATO가 전투기를 경계 태세에 두긴 했지만, 서방 연합군은 우크라이나에 파병할 계획이 없다고 분명히 밝혔다. 대신 서방 국가들은 군사 고문관을 보내며 무기와 야전병원 등을 지원했다. 한편 NATO는 병력 5000명을 발트해 연안국과 폴란드에 배치했다. 병력 4000명이 추가로 루마니아, 불가리아, 헝가리, 슬로바키아에 배치될 수도 있다. 군사적 개입 대신 서방 국가들은 러시아의 경제, 산업, 개인을 겨냥하고 있다. EU는 러시아의 자본 시장 및 최신 기술 접근을 차단한다고 발표했다. 도네츠크 인민공화국(DPR), 루간스크 인민공화국(LPR)의 독립을 인정한 러시아 하원의원 351명은 이미 제재 대상에 올랐다. 독일은 러시아와 유럽 기업들이 대규모로 투자한 노르트스트림-2 가스관 개통을 중단했다. 미국은 서방 금융기관에서 러시아의 접근을 차단하겠다고 발표하며 러시아 \"엘리트\" 고위층을 공략하겠다고 밝혔다. 영국은 모든 주요 러시아 은행들의 자산을 동결했으며, 개인과 기관을 포함한 100명을 제재 대상에 추가했다. 또한 러시아 국적 항공사인 아에로플로트의 영국 내 착륙이 금지될 것이라고 밝혔다. 우크라이나는 동맹국들에게 러시아산 석유와 천연가스 구매를 중단해달라고 촉구했다. 발트 3국은 러시아 은행이 국제은행간통신협회(SWIFT) 결제 시스템에 접근하는 것을 막아달라고 국제 사회에 호소했다. 이러한 제재는 미국과 유럽 경제에도 악영향을 끼칠 수 있다. 러시아 상트페테르부르크에서는 올 시즌 유럽축구연맹(UEFA) 챔피언스리그 결승전이 열릴 예정이었으나 이는 보안상의 이유로 불가능해 보인다. UEFA 또한 추가 조치를 계획 중이다. 사진 출처,\\nREUTERS 푸틴 대통령은 NATO의 동진을 비난해왔다. 앞서 그는 러시아가 \"더 물러날 곳도 없다\"면서 \"서방은 우리가 앉아서 당하고 있으리라 생각하는 것인가\"라며 불평을 토로했다. 우크라이나는 NATO 가입을 위한 일정을 모색하고 있다. 그러나 세르게이 랴브코프 러시아 외무차관은 \"우크라이나가 절대로 NATO에 가입하지 않는다는 보장이 반드시 필요하다\"고 밝혔다. 푸틴 대통령은 지난해 장문의 글에서 러시아와 우크라이나를 \"하나의 국가\"로 묘사했으며 1991년 12월의 소련 붕괴를 \"역사적 러시아의 해체\"라고 표현했다. 또한 그는 현대 우크라이나는 전적으로 공산주의 러시아에 의해 만들어졌다고 주장하며 지금의 우크라이나 정부를 서방 세계에 휘둘리는 꼭두각시라고 표현했다. 푸틴 대통령은 우크라이나가 NTAO에 가입하면 NATO가 크림반도를 탈환하려고 할 수 있다고 주장하기도 했다. 그러나 비단 러시아는 우크라이나에만 집중하고 있는 것이 아니다. 러시아는 NATO 군이 \\'1997년의 경계선\\' 밖으로 철수하길 요구한다. 푸틴 대통령은 NATO가 1997년 이후 가입한 회원국에서 병력과 군사 기반 시설 등을 철수하고 \"러시아 국경 근처에 무기를 배치\"하지 않길 요구한다. 중부 유럽, 동유럽, 발트 3국에서 물러나라는 것이다. 푸틴 대통령은 1990년 서방 세계가 NATO는 \"동쪽으로 1인치도 확장하지 않는다\"고 약속했음에도 동진한 것으로 보고 있다. 하지만 이때는 소련 해체 전이었다. 그래서 당시 미하일 고르바초프 소련 공산당 서기장에게 했던 이 약속은 통일된 독일의 맥락에서 동독을 언급한 것이었다. 나중에 고르바초프 서기장은 당시 \"NATO 확장에 대해서는 논의한 적이 없다\"고 말했다. 서방 국가의 군사동맹체인 NATO는 새로운 회원국에 대해 \"열린 문\" 정책을 펼친다. 그리고 30개 NATO 회원국은 이 정책에 변함은 없다는 뜻을 고수한다. 독일 총리가 분명히 밝혔듯이 우크라이나가 조만간 NATO에 합류할 가능성은 작다. 그러나 현재의 NATO 가입국이 자국의 회원 자격을 포기할 것이라는 생각은 설득력이 없다. 지금 당장은 아니지만, 미래에 어떤 합의가 이뤄지든 간에 군비 축소와 우크라이나 동부 지역의 분쟁을 포함하는 내용이어야 할 것이다. 미국은 대륙간미사일에 대한 새로운 조약과 단거리 및 중거리 미사일 제한을 언급하며 회담을 제안했다. 러시아는 미국의 모든 핵무기가 미국 영토 밖에서 금지되길 원한다. 러시아의 기지 2곳과 루마니아 및 폴란드에 있는 NATO 미사일 기지에 대한 상호 검증의 \"투명성 메커니즘\" 제안에 대해서는 러시아가 긍정적인 반응을 보였다.']\n",
            "['https://www.bbc.com/korean/articles/c80lp2z9gpmo', '트럼프가 공식적으로 대통령이 되는 시점은?', '선거 결과 확정 시점은? 이제 트럼프는 대통령인가? 선거일과 취임식 사이 예정된 절차는? 대통령 및 부통령 당선인이 할 일은?', '사진 출처,\\nGETTY IMAGES 도널드 트럼프 공화당 대선 후보가 이번 대선에서 역사적인 승리를 거두며 다시 한번 백악관에 입성할 예정이다. 카멀라 해리스 민주당 후보와는 치열한 접전을 펼칠 것으로 예상됐으나, 밤사이 개표 결과 트럼프는 승리를 확정할 수 있을 만큼의 표를 확보한 것으로 나타났다. 트럼프는 130여 년 만에 재선에 실패했다 다시 당선된 최초의 전직 대통령이자, 현재 78세로 역사상 최고령 당선인이 될 전망이다. 베냐민 네타냐후 이스라엘 총리, 키어 스타머 영국 총리 등 각국 정상들이 이미 트럼프의 당선을 축하하긴 했으나, 아직 대선 결과는 공식적으로 확정되지 않았다. 앞서 일부 ‘경합’주에서 매우 치열한 접전이 펼쳐지면서 결과를 쉽게 알기 어려울 수도 있다는 우려가 제기되기도 했다. 그러나 전통적으로 공화당 강세인 주에서 승리를 확정하고, 노스캐롤라이나, 조지아, 펜실베이니아, 위스콘신에서도 예상보다 일찍 결과가 나오며 트럼프는 당선을 확신할 수 있는 선거인단 270명을 확보하게 됐다. BBC의 미국 현지 파트너인 CBS 뉴스는 불과 선거 다음날인 6일 오전 5시 30분(EST) 트럼프를 최종 당선인으로 예상했다. 그러나 각 주의 구체적인 선거 결과가 공식적으로 발표되려면 앞으로 며칠 혹은 몇 주가 걸릴 수 있다. 아니다. 트럼프는 이제 대통령 당선인이, 그의 러닝메이트였던 J.D. 밴스는 부통령 당선인이 된다. 트럼프는 내년 1월 20일 월요일 대통령 취임식에서 선서를 하게 되는데, 이 순간을 기점으로 법적으로 대통령직에 따르는 권한과 책임을 맡게 된다. 모든 유효한 표가 최종 결과에 집계되면 선거인단 제도를 통해 선거 결과를 확정 짓게 된다. 각 주마다 배정된 수도 다른 이 선거인단들이 나서 투표를 하게 된다. 유권자들의 지지뿐만 아니라 이들의 지지를 얻어야 궁극적으로 대통령직에 당선될 수 있다. 일반적으로 각 주에서는 주민 투표에서 득표율 1위를 차지한 후보 1명에게 자신들의 주에 배당된 모든 선거인단의 표를 몰아준다. 그리고 선거인단들은 각 주에서 모여 투표를 실시한다. 그런 다음 내년 1월 6일, 미 의회는 상하원 합동 회의를 열고 선거인단의 표를 집계해 차기 대통령을 공식적으로 확정한다. 과거 트럼프가 바이든 후보에 맞서 패배했음을 인정하지 않자 트럼프 지지자들이 국회의사당으로 행진하려고 했는데, 이들이 막으려고 했던 행사가 바로 이 선거 결과를 공식적으로 인증하는 의회 회의였다. 사진 출처,\\nGETTY IMAGES 트럼프 대통령 당선인과 밴스 부통령 당선인은 정권 인수팀과 협력해 바이든 현 행정부로부터 인수인계를 받게 된다. 인수팀은 정책적으로 우선순위를 파악하고, 새 행정부의 주요 인사 후보자를 검증하고, 정부 역할을 인수받을 준비를 할 것이다. 아울러 트럼프와 주요 인사들은 현재 직면한 위협이나 진행 중인 군사 작전을 다루는 국가 안보 기밀 사항도 보고받기 시작할 것이다. 대통령 당선인과 부통령 당선인은 미국 비밀경호국의 의무 경호 대상이다. 한편 현직 대통령은 보통 선거일 이후 차기 대통령을 백악관으로 초대하곤 한다. 또한 평화적인 권력 이양의 상징으로 후임 대통령의 취임식에도 참석하나, 트럼프는 2020년 바이든의 취임식에 불참했다. 그러나 로널드 레이건 대통령이 시작한 전통에 따라 집무실에 후임자를 위한 친필 메모는 남겼다. 당시 바이든 대통령은 기자들에게 전임자가 “매우 관대한 편지”를 남겼다고 말한 바 있다. 취임식을 치른 새 대통령은 곧바로 업무를 시작하게 된다.']\n",
            "['https://www.bbc.com/korean/articles/cn7md402zk8o', '트럼프가 공언한 7가지 대선 공약', '1) 불법 이민자 추방 2) 경제·세금·관세 관련 움직임 3) 1월 6일 폭동범 일부 사면 4) 잭 스미스 특별검사 해임 5) 우크라이나 전쟁 종식 6) 낙태 금지법 서명 안 해 7) 기후 규제 완화', '사진 출처,\\nGETTY IMAGES 도널드 트럼프가 이민자·경제·우크라이나 전쟁 등의 사안에서 대응책을 약속하며 백악관으로 복귀할 예정이다. 또한 공화당이 상원 다수당 탈환에 성공한 만큼, 의회에서 트럼프의 정치 의제에 힘이 실릴 가능성이 높다. 트럼프는 승리 연설에서 “내 통치 원칙은 단순하다. 약속한 것은 지킨다는 것이다. 우리는 계속 약속을 지켜나가겠다”고 말했다. 하지만, 각종 목표를 어떻게 달성할 것인지 세부 내용을 거의 밝히지 않은 의제들도 있다. 트럼프는 2023년 폭스뉴스 타운홀 대담에서 권력을 남용하거나 정적을 표적으로 삼을 것이냐는 질문에 “첫날만 그럴 것”이라고 답했다. “아니, 아니, 아니, 첫날만 그럴 겁니다. 첫날에만 국경을 닫고 시추를 하는 거죠. 그 이후로는 독재자가 아닐 겁니다.” 트럼프는 선거운동 기간 동안 미국 역사상 최대 규모의 불법 이민자 추방을 약속했다. 또한, 첫 번째 임기에서 시작한 멕시코 국경의 장벽 건설을 완료하겠다고 공약했다. 미국 남부 국경을 넘어온 이민자는 바이든-해리스 행정부 시절인 지난해 말 사상 최고치를 기록한 후 올해 감소세를 보였다. 전문가들은 트럼프가 약속한 규모로 추방을 단행하면 법적·절차적 문제가 상당할 것이며 경제 성장을 둔화시킬 수 있다고 BBC에 전했다. 이번 미 대선의 출구조사 결과에 따르면 유권자들은 경제 문제를 특히 중요하게 생각했다. 트럼프는 “인플레이션 종식”을 약속했다. 인플레이션은 조 바이든 행정부에서 역사적 고점을 기록한 이후 다시 하락했다. 하지만, 물가에 직접 영향을 미칠 수 있는 대통령의 권한은 제한적이다. 또한 트럼프는 2017년부터 시행된 감세 정책을 연장하는 등 광범위한 세금 감면을 약속했다. 트럼프는 팁 소득에 대한 면세, 사회보장 급여에 대한 과세 폐지, 법인세 인하를 내걸었다. 한편, 무역 적자 축소를 위해 대부분의 수입품에 최소 10%의 관세를 새로 부과하는 방안을 제시했다. 특히, 중국산 수입품에는 60%의 추가 관세가 부과될 수 있다고 말했다. 일부 경제학자들은 이러한 조치가 소비자 가격 인상으로 이어질 수 있다고 경고했다. 2021년 1월 6일 워싱턴DC에서는 2020년 조 바이든의 대선 승리를 저지하기 위해 트럼프 지지자들이 국회 의사당 건물을 습격하는 폭동이 벌어졌다. 트럼프는 이 폭동 사태에서 유죄로 판결난 사람 중 일부를 “자유의 몸”으로 만들겠다고 밝혔다. 이 폭동으로 여러 명의 사망자가 나왔고, 트럼프는 폭동을 선동했다는 비난을 받았다. 트럼프는 폭동의 심각성을 축소하고 유죄 판결을 받은 수백 명의 지지자가 정치범으로 보이도록 만들었다. 트럼프는 폭동범 중 상당수가 “부당하게 수감됐다”는 주장을 유지하면서도, “그들 중 몇 명은 아마도 통제 불능 상태였을 것”이라고 인정했다. 트럼프는 본인을 상대로 2건의 형사기소를 지휘한 베테랑 검사를 취임 후 “2초만에” 해임하겠다고 공언했다. 잭 스미스 특별검사는 2020년 대선 뒤집기 시도와 기밀문서 유출 혐의로 트럼프를 기소했다. 트럼프는 모든 혐의를 부인했고, 두 사건 모두 선거 전 재판 회부를 막아냈다. 트럼프는 스미스 검사가 본인을 “정치적 마녀사냥”의 표적으로 삼았다고 말한다. 트럼프는 뉴욕에서 기업 문서 조작 혐의로 유죄 판결을 받은 바 있다. 이로써 사상 처음으로 유죄 판결을 받은 대통령으로서 백악관에 복귀하게 된다. 트럼프는 미국이 러시아-우크라이나 전쟁에서 우크라이나에 제공한 수백억 달러의 지출을 비판하며, 협상을 통해 “24시간 내에” 분쟁을 끝내겠다고 약속했다. 다만, 양측이 무엇을 양보해야 한다고 생각하는지는 밝히지 않았다. 민주당은 이런 방식이 블라디미르 푸틴 러시아 대통령을 더 대담하게 만들 것이라고 말한다. 트럼프는 미국이 세계 각지의 분쟁에서 발을 빼기를 원한다. 가자지구 전쟁과 관련해서는 본인을 이스라엘의 확고한 지지자로 내세우는 한편, 이스라엘에는 신속한 마무리를 촉구했다. 또한 레바논에서 벌어지는 관련 폭력 사태에 대해서도 종식을 약속했지만, 세부 사항은 언급하지 않았다. 트럼프는 일부 지지자들의 바람과는 달리 카멀라 해리스와의 대선 토론에서 전국적인 낙태 금지법에 서명하지 않겠다고 말했다. 트럼프의 첫 대통령 취임 후 보수 성향 판사가 대법원에서 다수를 차지하게 됐고, 2022년에는 임신 중절에 관한 헌법상의 권리가 뒤집혔다. 생식권 보호는 해리스 후보의 주요 선거 공약이 됐다. 여러 주에서는 투표일에 낙태권을 보호하거나 확대하는 조치를 승인했다. 트럼프는 각 주에서 낙태 관련법을 자유롭게 결정할 수 있어야 한다고 꾸준히 발언해 왔다. 다만, 본인이 내세울 일관된 메시지를 찾는 데 난항을 겪었다. 트럼프는 첫 임기 동안 환경 보호 규제 수백 건을 철회하고 미국을 파리기후협약 최초의 탈퇴국으로 만들었다. 이번에도 규제 완화를 다시 한번 공언했고, 특히 그 목적이 미국의 자동차 산업을 지원하는 것이라고 밝혔다. 트럼프는 전기차를 끊임없이 비판하며 청정 자동차 전환을 장려하려던 바이든의 목표를 뒤집겠다고 약속했다. 또한, 풍력 등 재생 에너지원 대신 미국의 화석 연료 생산을 늘리기 위해 첫날부터 “시추, 시추, 시추”에 나서겠다고 약속했다. 트럼프는 북극 황야와 같은 지역에서 석유 시추를 허용해 에너지 비용을 낮추겠다고 주장하는데, 분석가들은 이에 회의적이다.']\n",
            "['https://www.bbc.com/korean/articles/c99rz9gkv74o', '중국 기업들, 제재 피해 러시아에 기술 판매', '신노 네트워크 이면의 한 부부', '사진 출처,\\nGETTY IMAGES BBC 분석 결과 중국 기업들이 제재를 우회해 군사 무기 제작 시 필요한 민감한 기술 장비를 러시아에 판매해 온 것으로 나타났다. 지난 2022년 9월 미국의 제재 대상이 된 이후에도 약 2억달러(약 2790억원) 상당의 물품을 러시아로 보낸 이 같은 기업 네트워크에는 ‘신노 일렉트로닉스’도 있다. 이들이 보낸 물품 중에는 마이크로칩, 카메라, 내비게이션 등 우크라이나와의 전쟁에 사용되는 러시아 무기에 필수적인 기술 장비도 있다. BBC의 이 같은 조사 결과는 러시아가 무기 제조 시 필요한 부품을 확보할 수 없도록 마련된 미국의 제재가 과연 효과가 있는 것인지 의문이 들게 한다. 제재 조치는 전 세계 기업들이 러시아와 함께 일하지 못하고, 만약 이를 어길 시 미국의 금융 시스템에서 차단해 전 세계적으로 무역하지 못하도록 처벌하고자 마련됐다. 그러나 BBC는 일부 제재 대상 기업들이 어떻게 이를 우회해 러시아와 대규모로 무역할 수 있었는지 밝혀냈다. BBC가 미국의 무역 데이터 집계 업체 ‘임포트지니어스’의 러시아 세관 기록을 분석한 결과, 2022년 10월~2024년 4월 기준 신노 네트워크는 러시아로 민감한 물품 약 2만5000건을 보냈다. 그리고 이 중 76%가 고정밀미사일과 드론 등의 무기 제조에 사용되는 마이크로칩이었다. 특히 마이크로칩의 경우 러시아가 자국 능력이 부족해 수입에 대부분 의존하는 분야로, 현재 이 분야의 주요 제조 지역은 대만, 한국, 중국, 미국이다. BBC는 신노 네트워크가 러시아로 보낸 수백만달러 상당의 마이크로칩이 우크라이나 정부가 러시아 드론과 순항 미사일에서 발견한 ‘텍사스 인스트루먼츠’와 ‘아날로그 디바이스’사 등 미국 기업의 제품임을 밝혀냈다. 두 기업 모두 자신들의 제품은 판매된 이후 여러 번 재판매되기에 최종적으로 어디로 가게 될지 추적하기 어렵다고 설명한 바 있다. 그러나 두 기업 모두 미 의원들로부터 해당 기술이 러시아 무기에 사용되지 않도록 충분한 조처를 하지 않았다는 비난을 받고 있다. 텍사스 인스트루먼츠와 아날로그 디바이스는 BBC에 자신들의 제품이 러시아로 ‘불법 우회’되고 ‘오용’되는 것에 강력히 반대한다는 입장을 전했다. 신노 일렉스토닉스는 린 칭과 그의 아내 펭 민보가 운영하는 업체로, 이들 부부의 이름은 신노 네트워크 전반에 걸쳐 눈에 띈다. BBC 분석 결과, 남편 린 칭은 신노 네트워크에 속한 세 기업의 이사 겸 주주를 맡고 있으며, 펭은 다른 두 기업의 주식을 보유하고 있는 것으로 밝혀졌다. 그리고 이 회사들 중 일부는 사무실 주소가 같거나 사명이 비슷하다. 펭은 신노 일렉트로닉스가 제재 대상에 오른 이후에도 자신의 이름 혹은 이 네트워크에 속한 다른 기업 이름을 통해 약 2600만달러 상당의 미국산 칩과 기술 장비를 러시아로 수출했다. 또한 신노 일렉트로닉스는 올해 4월 러시아에서 열린 최대 규모의 전자제품 전시회의 후원사였으며, 이 부부가 직접 참석하기도 했다. BBC는 여러 경로를 통해 린 칭 부부와 신노 네트워크에 속한 다른 기업들에 연락하고자 노력했으나, 돌아오는 답변은 없었다. 한편 다국적 로펌 ‘애셔스트’에서 제재 및 수출 통제와 관련해 기업에 자문하고 있는 알렉산더 드미트렌코 변호사는 회사 이름이나 주소가 미국의 제재 목록에 있는 기업과 매우 유사하면 “적신호”로 본다고 설명했다. “마치 버섯처럼 새로운 기업이 불쑥 탄생하는 건’ 흔한 일이며, 이러한 신생 기업들은 사실상 서로 동일한 회사라는 것이다. 즉 이렇게 새로 만들어진 회사들은 제재 대상이 아니기에 제재 대상이 된 기업을 대신해 상품을 제조하거나, 판매하거나, 수출할 수 있다는 설명이다. 사진 출처,\\nREUTERS 2022년 2월 러시아가 우크라이나를 본격적으로 침공한 이후 미국은 중국이 핵심 부품을 공급해 러시아의 전쟁 기계를 돕고 있다고 비난해왔다. 이에 중국 등의 다른 국가가 러시아에 핵심 기술을 공급하지 못하게 막고자 여러 차례 제재를 실시했다. 중국은 러시아의 무장을 돕고 있다는 의혹을 거듭 부인하는 한편 우크라이나의 평화와 대화를 촉구하는 입장이다. BBC의 이러한 조사 결과에 대해서도 주영국 중국 대사관은 중국이 “이중용도 물품에 대해서 수출을 엄격히 통제하고 있다”고 주장했다. 한편 지난달 미국 재무부는 앞서 제재 회피를 꾀한 “개인 및 단체” 275곳을 추가로 제재했다. 여기에는 린과 펭은 물론 신노 네트워크에 속한 다른 기업들도 포함돼 있었다. 제재 대상이 되면 미국 내 이들의 재산은 동결되며, 미국 은행들은 이들에게 자금이나 서비스를 제공할 수 없다. 그리고 이렇게 되면 현실적으로 중국 은행으로부터도 거절당하게 된다. 중국 은행들이 미국 제재 대상에 오르길 원치 않기 때문이다. 드미트렌코 변호사는 “아무도 그 제재 명단에 이름을 올리고 싶어 하지 않는다”면서 “(제재 대상이 되면) 그 어떤 주요 은행도 당신과 일하려고 하지 않을 것이며, 주요 고객도 당신을 꺼릴 것”이라고 덧붙였다 그러나 이러한 제재는 주로 전 세계를 상대로 활동하는 기업들에 더 큰 문제로 작용한다. 이들은 미국 금융 시스템에서 단절되면 잃을 것이 더 많기 때문이다. 드미트렌코 변호사에 따르면 미국 규제 당국이 러시아와 중국 간 거래하는 소규모 기업, 특히 이름과 세부 정보를 쉽게 변경할 수 있는 기업에 대해서는 수출을 제대로 통제하기 어렵다고 한다. BBC는 지난 10월 홍콩에서 열린 전자제품 박람회에서 제재를 받지 않는 중국 마이크로칩 기업의 영업 관리자들을 만나 제재를 우회하면서도 사업을 이어 나가는 방법이 무엇인지 들어봤다. 익명을 요구한 한 여성 담당자는 BBC에 자신의 회사와 거래하는 러시아 소재 고객 대부분이 키르기스스탄이나 홍콩 내 중개업체와 같은 제3자 회사를 통해 결제한다고 설명했다. 그러면서 자신의 회사도 러시아 국영 VTB 은행의 상하이 지점을 이용한다고 말했다. 러시아가 본격적으로 침공한 2022년 2월 24일부터 미국 금융기관에 보관된 VTB 자산은 동결된 상태다. BBC가 이에 관해 연락하자 모스크바 소재 VTB 대외홍보팀은 이와 관련해서는 아무런 정보도 제공할 수 없다고 답했다. 러시아에 인쇄 회로 기판을 납품하는 회사의 영업부에서 일하는 또 다른 여성 담당자는 비행기로 실어 나르거나, 중국 서부 신장 지역의 국경을 통과하는 고속도로를 지나는 트럭으로 운송한다고 설명했다. 사실 이 기업들은 자사 상품이 최종적으로 어디로 향하게 되는지 굳이 그리 궁금해하지 않는다. 그 부품이 무기에 사용되는지 아닌지는 상사가 밤에 잠을 설칠 정도로 중요한 부분이 아니라는 것이다. “비즈니스가 우선입니다.” 추가 보도: 올가 샤미나']\n",
            "['https://www.bbc.com/korean/articles/c20ldzy6z78o', '한국에 통일을 바라는 젊은 세대가 점차 사라지는 이유', \"10명 중 4명 '통일 불필요' 경제적 부담 깊어지는 단절 탈정치·탈이데올로기 젊은 세대만의 문제인가?\", '사진 출처,\\nGETTY IMAGES \"지하철 옆자리에 앉은 사람이 나한테 말을 좀 안 걸었으면 좋겠는데, 계속 말을 거는 거예요.\" 박준규(32) 씨는 한국의 젊은 세대가 생각하는 \\'통일\\'을 \\'지하철 불청객\\'에 빗대어 표현했다. \"자기 좋자고 다리 쩍 벌리고, 핸드폰 소리 크게 틀고…그래서 대화를 전혀 하고 싶지 않은데 자꾸 말을 거는 상황? 사회·경제 문제나 청년들이 직면한 현실적인 문제도 있고요. 가장 잘못한 건 기성세대가 북한 문제를 정치적으로 양극화된 문제로 각인시켰다는 거죠.\" 박 씨는 남북 청년 싱크탱크 ‘한반도청년미래포럼’의 창립자다. 남북 청년 간 대화와 협력, 정보 공유 등을 통해 장기적인 관점에서 통일을 지향하는 포럼을 이끄는 박 씨조차 젊은 세대의 통일에 대한 “무관심과 부정적”인 감정을 충분히 이해한다고 밝혔다. 많은 한국 청년의 머릿속에 북한에 대한 부정적 이미지가 지배적인 상황에서, 통일담론이 설득력 없이 전개됐다는 지적이다. 오는 15일 윤석열 대통령의 제79주년 광복절 축사를 앞두고 새로운 통일구상에 대한 여러 궁금증이 쏟아진 이유이기도 하다. ‘젊어질수록 통일과 멀어진다.’ 북한·통일 연구자들 사이에서 나오는 우려다. 실제로 여러 설문조사에서 10~30대 젊은 세대의 통일 인식이 다른 연령층에 비해 낮다는 결과가 드러났다. 서울대학교 통일평화연구원에서 전국 17개 시·도에 거주하는 성인 1200명을 대상으로 진행한 ‘2023 통일의식조사’에서 19~29세 응답자 중 통일이 필요하다고 답한 비율은 28.2%, 필요하지 않다고 답한 비율은 41.2%로 60대 이상에서 각각 51.3%, 20.7%을 기록한 것과 큰 차이가 났다. 한편 통일부가 지난해 교육부와 함께 전국 초·중·고 756개교 학생 약 7만4000명을 대상으로 ‘2023년도 학교 통일교육 실태조사’를 시행한 결과 ‘통일이 필요하다’고 답한 비율이 49.8%을 기록했다. 2014년 조사를 시작한 이래 처음으로 50% 아래로 떨어진 것이다. 반면 ‘통일이 불필요하다’고 응답한 학생 비율은 39.8%로 역대 가장 높은 수치를 기록했다. 두 조사에서 응답자들이 공통적으로 통일이 불필요하다고 생각한 이유로 ‘통일의 경제적 부담’과 ‘통일 이후 발생할 사회적 문제’가 꼽혔다. 한국과 북한의 경제 규모가 차이가 크다보니, 통일 후 한국인들의 경제적 부담이 커질 것이라는 우려 때문이다. 특히 서독과 동독 간 통일 사례를 참고했을 때, 인구 비율과 소득 격차 면에서 한국 국민들이 감당해야 할 통일 비용이 크다는 지적이 나온다. 2010년 이명박 정부 시절 한국개발연구원(KDI)은 갑작스러운 통일을 맞이할 경우 30년간 약 2500조원이 필요할 것으로 예상했다. 고등학교 2학년 정현준 군은 “최근 사회적 분위기를 보면 더 이상 자신이 부양해야 할 무언가가 늘지 않기를 원해서 혼자 살거나 자녀를 낳지 않는 등의 양상이 2030세대에서 많이 나타나고 있다”며 “(통일이) 과연 이러한 세대들에게서 지지를 받을 수 있을지 의문”이라고 말했다. 물론 남북 통일이 이뤄졌을 때의 경제적 기대효과도 분명 존재한다. 2014년 박근혜 전 대통령은 새해 기자회견에서 통일 비용보다 실익이 크다는 취지에서 ‘통일 대박론’을 언급하기도 했다. 전영선 건국대 통일인문학연구단 교수는 “통일 대박론을 통해 경제적 관점의 접근이 이뤄졌지만, (젊은 세대에게) 실질적으로 경제적인 부분이 와닿지 않는 상황에서 (통일에 대한) 부담이 올 수밖에 없다”고 설명했다. 고등학교 3학년 권수민 양은 인구 균형과 국제 무역 등 중장기적인 이익을 고려했을 때 통일에 긍정적이라면서도 “주변 친구들을 보면 통일에 대해 관심이 없는 경우가 대부분”이라면서 “굳이 (통일에 대해) 묻는다면 통일을 지향하지만 본인이 후세대가 됐을 때 통일이 됐으면 좋겠다고 말하기도 한다”고 했다. 사진 출처,\\n한반도청년미래포럼 젊은 세대는 갈수록 북한과의 연결고리가 희미해지고 있다. 이런 가운데 하루가 멀다하고 미사일 발사, 오물풍선 등의 속보를 쏟아내는 미디어를 통해 북한을 접한다. 30대 초반인 박 씨는 ‘북한’이라고 했을 때 “연평도 포격 도발, 목함지뢰, 연락사무소 폭발, 오물 풍선” 등의 이미지가 떠오른다고 했다. 전 교수는 “내년이면 벌써 (분단) 80년”이라며 “그러면 본인의 기억 속에 있는 역사가 아니라 교과서에서 나온 역사이기 때문에 자신의 삶과 연관시켜서 얘기하기가 매우 어렵다”고 지적했다. 북한에 대한 세대의 인식과 경험이 달라지고 있는 것에 비해 통일담론은 제자리라는 지적도 나온다. 젊은 세대가 공감하기에는 너무 추상적이고 민족주의적이라는 것. 동국대 북한학연구소의 하승희 교수는 “세대는 계속 변화하고 있는데 (통일) 프레임 자체는 고정돼 있다”며 “(담론을) 현실로 끌고 올 필요가 있다”고 지적했다. “예를 들면 우리가 해외여행을 갔을 때 북한 주민을 만나면 접촉 신고를 해야 하잖아요. 그런데 이걸 모르는 국민들이 많아요. 또 1989년부터 통일부가 북한자료센터를 통해 특수 자료를 개방했는데, 지금도 ‘북한 책 보면 잡혀가는 거 아니야?’ 이런 인식이 있죠. 아직도 북한이나 북한 자료 이런 것들은 전문가 영역에서만 접할 수 있는 것으로 생각되는 거예요.” “우리 세대가 보기에 통일은 너무 레토릭(rhetoric·수사학)스러워요. ‘우리의 소원은 통일’은 더 이상 먹히질 않거든요.” 박 씨는 젊은 세대의 또 다른 특징으로 탈정치·탈이데올로기(이념)를 꼽았다. 민족주의, 반공 등 통일담론을 이끌던 이념들이 더 이상 유효하지 않다는 것. 전 교수는 “예전과 달리 지금은 국적 자체를 선택할 수 있는 시대로, 세계 어디를 가든 선택지가 열려있다”며 “그렇기 때문에 젊은 세대는 (통일을) 숙명적으로 받아들이지는 않는 것”이라고 했다. 박 씨는 남북 연락사무소 폭파, 서해 공무원 피살사건 등 남북 관련 중요한 사건이 발생할 때마다 “국가가 두 개로 갈라져서 싸우”고 선거철 때마다 과거 사건이 다시 끌어올려지는 것을 보면서 눈살이 찌푸려졌다고 했다. “이런 (정치적인) 부분들 때문에 젊은층이 (통일에 대해) 막연하게 거부감이 생긴 거죠. 보기도 싫은 거죠. 근데 이런 상황에서 통일 얘기를 한다? 반대한다고 말할 수밖에 없는 거죠.” 실제로 젊은 세대의 ‘정치혐오’ 또는 ‘정치무관심’ 현상은 두드러지고 있다. 올해 총선에서도 2030세대를 중심으로 무당층 비중이 크게 늘면서 막판까지 중요한 선거 변수로 주목받았다. 사진 출처,\\nGETTY IMAGES 하지만 젊은 세대가 유독 통일에 무관심하다고 보긴 힘들다는 의견도 있다. 고등학교 2학년 서혜주 양은 “그래도 2018년 평창 올림픽에 남북 단일팀이 출전하는 모습을 보기도 했고, 북한관과 남한 간의 관계 증진 관련한 긍정적인 측면도 봐서 그런지 주변에 (통일을) 긍정적으로 보는 친구들이 꽤 많다는 생각이 든다”고 했다. 박주화 통일연구원 연구위원은 젊은 세대의 통일인식이 특별히 낮은 것이 아니라, 사실 모든 세대의 통일인식이 높지 않을 수 있다고 지적했다. 지난 7월 2주차 전국지표조사(NBS)에 따르면 ‘남한과 북한이 앞으로 어떻게 살아가는 것이 좋다고 생각하나’를 묻는 질문에 모든 연령이 ‘자유로운 왕래가 가능한 2국가’가 가장 바람직하다고 선택했다. 선택지 중에는 ‘통일된 단일국가’도 있었다. 반면 ‘남한과 북한이 반드시 통일되어야 한다고 생각하나’를 묻는 항목에 ‘반드시 통일이 되어야 한다’고 한 18~29세 응답자는 28%로 연령대 중 가장 낮았다. 박 연구위원은 “통일이라는 단어는 굉장히 많은 가치를 수반하고 있어 일종의 사회적 의무감을 느끼는 사람들이 많다”고 설명했다. “그래서 ‘통일’이라는 단어를 빼고 ‘남한과 북한이 어떻게 살아갔으면 좋겠’는지 물어보면 의무감이 작동하지 않을 가능성이 상대적으로 높은 거죠. 그러니까, 이게 속마음이라는 거예요.” 그러면서 그는 “젊은 세대의 통일인식이 좋아지지 않는 이유는 어떻게 보면 기성세대들이 그들에게 통일 필요성과 관련해 설득력있는 이야기를 못 해주기 때문”이라며 “어쩌면 기성세대들도 통일을 해야 하는 확실한 이유를 아직 모르고 있는 것일 수 있다”고 지적했다.']\n",
            "['https://www.bbc.com/korean/articles/cj4v0nkqrxro', '북한군 출신 탈북민들이 우크라이나 전쟁터에 보내달라는 이유', \"'탈북민만이 북한군 깨우쳐줄 수 있어' '폭풍군단, 설득 쉽지 않을 것' 탈북민 심리전 통할까?\", '사진 출처,\\nEPA-EFE/REX/SHUTTERSTOCK “(파병된 북한군은) 북한에서 교육한 대로 거기에 속아서 ‘내 죽음이 영광스러운 죽음이다’ 이렇게 생각하면서 싸울 수 있어요. (그게 아니라는 것을) 깨우쳐줘야죠.” (탈북기독군인회 심주일 씨) 북한군 약 1만 명이 우크라이나-러시아 전선에 파병됐다는 보도가 나오면서, 사태를 바라보는 북한이탈주민(탈북민)의 동요도 커지고 있다. 이 가운데 일부는 파병된 북한군의 귀순을 적극적으로 도와야 한다고 목소리를 높이고 있다. 북한군 출신 탈북민 중에는 목숨을 걸고 \\'우크라이나 전선으로 보내달라\\'는 이들도 있다. 국내 민간단체인 탈북기독군인회와 탈북시니어아미는 지난달 28일 “자신의 통치 자금 마련과 전쟁 장비 현대화를 위해 인민의 아들들을 총알받이로 내모는 김정은 정권의 반인륜적 작태를 준렬히 규탄한다”라며 자신들을 우크라이나-러시아 전선으로 보내달라는 내용의 성명을 발표했다. 북한 장교 출신으로 탈북기독군인회를 이끌고 있는 심주일 씨는 BBC 코리아에 “(전선에 간다면) 같은 총포탄을 가지고 군인들과 맞닥뜨려서 죽고 살고 하는 것도 중요하겠지만, 그것보다는 그들을 (전쟁의 실상과 관련해) 깨우쳐주는 데 방점을 둘 것”이라고 설명했다. \"우리는 옳다고 생각하면 하는 사람들이에요...생의 마지막을 그런 데 가서 이바지하면 얼마나 좋습니까.\" 탈북 군인들은 북한 특수군의 사정을 잘 알기 때문에 현지에 파견돼 이들을 상대로 심리전을 벌이면 북한군의 전장 이탈과 귀순을 효과적으로 유도할 수 있다는 취지에서다. 탈북시니어아미를 이끄는 안찬일 세계북한연구센터 소장은 정찰총국 소속 민경대대에서 10년 복무했다. 그는 “북한이 선전용으로 내놓는 군부대와 실제 부대는 체격 등에서 차이가 많이 난다”라며 겉보기에는 일반 부대원들처럼 보이더라도 실제로는 제11군단(폭풍군단)과 같은 정예 특수부대가 참전했을 수 있다고 예상했다. 안 소장은 “(러시아에) 북한군 2개, 3개 사단이 나오면 분명 우리가 할 일이 있을 것으로 예상하고 선전포고를 한 것”이라며 “(현지에서) 드론으로 삐라(선전물)를 뿌리고 유튜브도 하고, 전선에 가까이 갈 수 있다면 메가폰을 이용한 함화공작 등 전쟁에서 할 수 있는 심리전을 하겠다는 것”이라고 설명했다. 안 소장은 주한 우크라이나 대사관에 뜻을 전달한 상태라고 밝혔다. 다만 이러한 의견은 아직 소수에 불과한 것으로 보인다. 일각에서는 현실적으로 어려울 뿐만 아니라, 러시아와 북한을 자극해 한국의 안보 상황을 더욱 불안정하게 만들 수 있다는 지적도 나온다. 이민복 북한동포직접돕기운동 대표는 “‘우리도 가서 싸우겠다’고 선언적으로 하는 건 좋은데, 파병이라는 게 국가 간의 관계에서 묘한 부분”이라며 탈북민을 우크라이나로 보낼 경우 있을 수 있는 정치·외교적 파장을 우려했다. 현재 한국 외교부는 우크라이나 전 지역에 여행경보 4단계(여행 금지)를 발령한 상태다. 국내 여권법에 따르면 영주, 취재·보도, 긴급한 인도적 사유, 공무 등 대통령령으로 정하는 목적의 여행으로서 외교부장관이 필요하다고 인정하면 방문 및 체류를 허가할 수 있지만, 허가 없이 여행 금지 국가를 방문하면 1년 이하 징역 또는 1000만원 이하 벌금에 처할 수 있다. 사진 출처,\\nREUTERS 폭풍군단 출신으로 알려진 이웅길 씨는 탈북군인들이 우크라이나 전장에 직접 가는 것에 대해서는 다소 회의적인 반응을 보였다. 한국 정보당국과 일부 군사 전문가 등은 북한군 최정예부대인 폭풍군단이 이번 러시아 파병 부대에 포함됐다는 분석을 내놓고 있다. 이 씨는 북에서 군 복무를 한 지 오래된 탈북민들은 최근 북한군 내부 실정을 잘 모를뿐더러, 파병된 부대가 폭풍군단일 경우 설득이 쉽지 않을 것이라고 지적했다. 그는 “(폭풍군단 소속 군인들의) 충성심이라든가 훈련 정도에 따르면 그렇게 얘기하면 바로 헤드샷을 날려버릴 것”이라고 우려했다. 심 씨도 북한 파병군을 과소평가해서는 안 된다는 점에 동의했다. 그는 “(북한군 파병이) 하루 이틀 전에 계획됐겠나. 이미 전에 러시아와 계획하고 거기에 따르는 훈련을 많이 했을 것”이라며 “김정은은 (북한) 부대가 (전장에) 가서 싸움을 잘해서 ‘야, 북한은 보통 아니다’ 이런 얘기를 듣고 싶어 하는 사람”이라며 파병된 북한군 전력을 지나치게 과소평가해서는 안 된다고 지적했다. “(북한 파병군은) 수령과 당을 위해서 용감하게 싸우다 죽겠다고 다 각오하고 결단한 사람들입니다. 그저 돈이 없어서, 먹을 게 없어서 비리비리한 사람들 모아가지고 보낸 게 아니란 말이에요.” 이 씨는 친우크라이나 텔레그램 채널에서 공개한 부상당한 북한 병사 영상을 보고 “ 말투만 들어봐도 저건 우리 부대 군인들”이라고 생각했다며 “‘친구’라는 말을 썼다고 (그래서 진짜 영상이 아니라고) 하는데, 북한에서 ‘동지’·’동무’는 상관들이나 행사 때 쓰는 거지, 일상시에는 다 친구라고 한다”고 했다. BBC는 해당 영상의 진위 여부를 별도로 파악하지 못했다. 그러면서 “차라리 영상이라던가 녹음을 해서 보내는 게 (전선에) 직접 가서 확성기 부는 것보다 (나을 것 같다)”라며 “군인 출신 탈북자들이 여기(한국에) 와서 행복하게 사는 이런 (모습을 담은) 영상을 조금씩 짤막하게 해서 보내는 게 오히려 훨씬 더 도움이 될 것”이라고 덧붙였다. 사진 출처,\\nCHUNG SUNG-JUN/GETTY IMAGES 일각에서는 북한군을 상대로 선전물과 확성기를 활용한 심리전을 벌여야 한다는 주장도 나온다. 실제로 최근 일부 탈북민들은 우크라이나 파병 북한군의 귀순을 목적으로 하는 ‘탈북민 선전단’을 구성하고 우크라이나 측에 북한군의 귀순을 유도하고 전선에서 탈출하는 방법 등을 안내하는 전단과 오디오 파일 등을 전달한 것으로 알려졌다. 다만 전장에서 심리전을 벌이는 것은 국내 접경지역에서 대북전단 등을 살포하는 것보다 훨씬 위험하고 까다로운 일이다. 두진호 한국국방연구원 국제전략연구실장은 “(대북 확성기) 방송을 트는 순간 드론으로 타격을 받을 것”이라며 현대전으로 치러지고 있는 우크라이나 전쟁에서 심리전의 효과가 제한적일 것이라고 분석했다. 북한군이 귀순 유도 영상을 시청하거나 음성 파일을 재생할 방법도 다소 제한적일 것으로 보인다. 이 씨는 MP3나 중고 휴대폰에 영상을 담아서 보내는 것이 하나의 방법이 될 수 있다고 했다. 만약 이러한 일이 가능하다면 그가 북한군에게 전하고 싶은 말이 있다고 했다. “당신들이 침략의 용병으로 또다시 그 길에 서면 우크라이나 인민들은 우리 북조선 인민들처럼 또 다른 독재의 발밑에 살게 될 텐데 그걸 정녕 원하는가? 아니라면 자유의 품으로 와서 우리 북한을 해방시키는 길에 함께 서자. 나 또한 한국에 처음 올 때, 자유의 품에 안길 때는 겁이 났다…그러나 나는 지금 십칠 년째 여기서 열심히 잘 살고 있다.” 앞서 우크라이나 정부는 러시아군의 투항을 유도하기 위해 운영하는 유튜브 및 텔레그램에 \\'조선인민군 병사들에게 전하는 말씀\\'이라는 제목으로 북한군 대상 선전 영상을 올렸다. BBC 코리아는 해당 사안에 대한 한국 외교부와 통일부의 입장을 물었으나 답변을 듣지 못했다.']\n"
          ]
        }
      ]
    },
    {
      "cell_type": "code",
      "source": [],
      "metadata": {
        "id": "PG3IW3WiDGSW"
      },
      "execution_count": 103,
      "outputs": []
    },
    {
      "cell_type": "markdown",
      "source": [
        "# API 데이터 수집"
      ],
      "metadata": {
        "id": "OLG7jTnd8sKA"
      }
    },
    {
      "cell_type": "markdown",
      "source": [
        "- JSON과 XML 데이터 구조 숙달\n",
        "- 공공데이터 API 활용해보기\n",
        "- 네이버 API 활용해보기"
      ],
      "metadata": {
        "id": "eGZ1QZ688sKB"
      }
    },
    {
      "cell_type": "markdown",
      "source": [
        "## 1. JSON"
      ],
      "metadata": {
        "id": "D92CjrTU8sKB"
      }
    },
    {
      "cell_type": "markdown",
      "source": [
        "### 1-1. 데이터 저장"
      ],
      "metadata": {
        "id": "F2SPPIeE8sKC"
      }
    },
    {
      "cell_type": "markdown",
      "source": [
        "- 구글 드라이브를 마운트하여 구글 드라이브에 JSON 파일 저장"
      ],
      "metadata": {
        "id": "ZzFxIkTCANYi"
      }
    },
    {
      "cell_type": "code",
      "source": [
        "from google.colab import drive\n",
        "drive.mount('/content/drive')\n"
      ],
      "metadata": {
        "id": "_8e45YXV8sKC",
        "colab": {
          "base_uri": "https://localhost:8080/"
        },
        "outputId": "71802529-65bd-447b-ed63-85518d3ccfcb"
      },
      "execution_count": 104,
      "outputs": [
        {
          "output_type": "stream",
          "name": "stdout",
          "text": [
            "Drive already mounted at /content/drive; to attempt to forcibly remount, call drive.mount(\"/content/drive\", force_remount=True).\n"
          ]
        }
      ]
    },
    {
      "cell_type": "markdown",
      "source": [
        "- 파일을 저장할 디렉토리 생성"
      ],
      "metadata": {
        "id": "Wm9NvD7S8sKC"
      }
    },
    {
      "cell_type": "code",
      "source": [
        "import os\n",
        "my_path = \"/content/drive/MyDrive/data\"\n",
        "if not os.path.exists(my_path):\n",
        "    os.makedirs(my_path)\n",
        "    print(f\"'{my_path}' 폴더가 생성되었습니다.\")\n",
        "else:\n",
        "    print(f\"'{my_path}' 폴더가 이미 존재합니다.\")\n"
      ],
      "metadata": {
        "id": "sw2P5IgbAKK6",
        "colab": {
          "base_uri": "https://localhost:8080/"
        },
        "outputId": "efc4c093-2ed2-4847-f6ca-50c3d2b53cf1"
      },
      "execution_count": 105,
      "outputs": [
        {
          "output_type": "stream",
          "name": "stdout",
          "text": [
            "'/content/drive/MyDrive/data' 폴더가 이미 존재합니다.\n"
          ]
        }
      ]
    },
    {
      "cell_type": "markdown",
      "source": [
        "- 여러 사이트의 아이디와 비밀번호 관리하는 JSON 파일\n",
        "- 다른 사용자가 접근할 수 없는 곳에 저장해두고 불러서 사용"
      ],
      "metadata": {
        "id": "yOZWb705AbkQ"
      }
    },
    {
      "cell_type": "code",
      "source": [
        "import json\n",
        "admin={\n",
        "    '1.name' : \"hong gildong\",\n",
        "    '2.mysql' : { \"id\" :\"mysql\", \"pass\" : \"12345\" },\n",
        "    '3.naver_api':{\n",
        "        'id' : 'gildong',\n",
        "        'api_key': 'my_naver_6789',\n",
        "        'api_secret': \"12345\" },\n",
        "    }\n",
        "with open(os.path.join(my_path, 'admin_ex.json'), 'w') as f:\n",
        "    json.dump(admin, f) #들여쓰기 옵션\n"
      ],
      "metadata": {
        "id": "COAaB_7WAYZL"
      },
      "execution_count": 106,
      "outputs": []
    },
    {
      "cell_type": "markdown",
      "source": [
        "### 1-2. JSON 읽기, 활용하기\n",
        "\n",
        "- 코랩에서 프로그래밍할 때 구글 드라이브에 저장해놓고 보안키를 불러서 사용\n",
        "- 타 사용자는 읽기 불가"
      ],
      "metadata": {
        "id": "jKgpoigC8sKC"
      }
    },
    {
      "cell_type": "code",
      "source": [
        "with open('/content/drive/MyDrive/data/admin_ex.json','r') as f:\n",
        "    s=f.read()\n",
        "    admin = json.loads(s)\n",
        "    admin1= json.loads(s)['3.naver_api']\n",
        "\n",
        "print(s)\n",
        "print(json.dumps(admin, indent= 4))\n",
        "print(admin['3.naver_api']['api_key'])\n",
        "print(admin1['api_key'], admin1['api_secret'])\n"
      ],
      "metadata": {
        "id": "5l1MZd3g8sKD",
        "colab": {
          "base_uri": "https://localhost:8080/"
        },
        "outputId": "7951f515-8f94-4f10-bed9-5ac2c6d95d54"
      },
      "execution_count": 107,
      "outputs": [
        {
          "output_type": "stream",
          "name": "stdout",
          "text": [
            "{\"1.name\": \"hong gildong\", \"2.mysql\": {\"id\": \"mysql\", \"pass\": \"12345\"}, \"3.naver_api\": {\"id\": \"gildong\", \"api_key\": \"my_naver_6789\", \"api_secret\": \"12345\"}}\n",
            "{\n",
            "    \"1.name\": \"hong gildong\",\n",
            "    \"2.mysql\": {\n",
            "        \"id\": \"mysql\",\n",
            "        \"pass\": \"12345\"\n",
            "    },\n",
            "    \"3.naver_api\": {\n",
            "        \"id\": \"gildong\",\n",
            "        \"api_key\": \"my_naver_6789\",\n",
            "        \"api_secret\": \"12345\"\n",
            "    }\n",
            "}\n",
            "my_naver_6789\n",
            "my_naver_6789 12345\n"
          ]
        }
      ]
    },
    {
      "cell_type": "markdown",
      "source": [
        "- f.read()로 텍스트 읽기\n",
        "- json.loads() 함수를 사용하여 파일 인식 처리"
      ],
      "metadata": {
        "id": "THPUwVxI8sKD"
      }
    },
    {
      "cell_type": "markdown",
      "source": [
        "### 1-3. 데이터프레임으로 변환 저장"
      ],
      "metadata": {
        "id": "OEu22d4F8sKE"
      }
    },
    {
      "cell_type": "code",
      "source": [
        "import json\n",
        "import pandas as pd\n",
        "df = pd.json_normalize(admin['2.mysql'])\n",
        "json_csv = df.to_csv()\n",
        "print(json_csv)\n",
        "df\n"
      ],
      "metadata": {
        "id": "9OqJhcVC8sKE",
        "colab": {
          "base_uri": "https://localhost:8080/",
          "height": 0
        },
        "outputId": "41c8d8fd-c5af-4871-b748-1995ca5f2295"
      },
      "execution_count": 108,
      "outputs": [
        {
          "output_type": "stream",
          "name": "stdout",
          "text": [
            ",id,pass\n",
            "0,mysql,12345\n",
            "\n"
          ]
        },
        {
          "output_type": "execute_result",
          "data": {
            "text/plain": [
              "      id   pass\n",
              "0  mysql  12345"
            ],
            "text/html": [
              "\n",
              "  <div id=\"df-3c4468cd-c3d0-49ef-b9cd-eb49d69d9e75\" class=\"colab-df-container\">\n",
              "    <div>\n",
              "<style scoped>\n",
              "    .dataframe tbody tr th:only-of-type {\n",
              "        vertical-align: middle;\n",
              "    }\n",
              "\n",
              "    .dataframe tbody tr th {\n",
              "        vertical-align: top;\n",
              "    }\n",
              "\n",
              "    .dataframe thead th {\n",
              "        text-align: right;\n",
              "    }\n",
              "</style>\n",
              "<table border=\"1\" class=\"dataframe\">\n",
              "  <thead>\n",
              "    <tr style=\"text-align: right;\">\n",
              "      <th></th>\n",
              "      <th>id</th>\n",
              "      <th>pass</th>\n",
              "    </tr>\n",
              "  </thead>\n",
              "  <tbody>\n",
              "    <tr>\n",
              "      <th>0</th>\n",
              "      <td>mysql</td>\n",
              "      <td>12345</td>\n",
              "    </tr>\n",
              "  </tbody>\n",
              "</table>\n",
              "</div>\n",
              "    <div class=\"colab-df-buttons\">\n",
              "\n",
              "  <div class=\"colab-df-container\">\n",
              "    <button class=\"colab-df-convert\" onclick=\"convertToInteractive('df-3c4468cd-c3d0-49ef-b9cd-eb49d69d9e75')\"\n",
              "            title=\"Convert this dataframe to an interactive table.\"\n",
              "            style=\"display:none;\">\n",
              "\n",
              "  <svg xmlns=\"http://www.w3.org/2000/svg\" height=\"24px\" viewBox=\"0 -960 960 960\">\n",
              "    <path d=\"M120-120v-720h720v720H120Zm60-500h600v-160H180v160Zm220 220h160v-160H400v160Zm0 220h160v-160H400v160ZM180-400h160v-160H180v160Zm440 0h160v-160H620v160ZM180-180h160v-160H180v160Zm440 0h160v-160H620v160Z\"/>\n",
              "  </svg>\n",
              "    </button>\n",
              "\n",
              "  <style>\n",
              "    .colab-df-container {\n",
              "      display:flex;\n",
              "      gap: 12px;\n",
              "    }\n",
              "\n",
              "    .colab-df-convert {\n",
              "      background-color: #E8F0FE;\n",
              "      border: none;\n",
              "      border-radius: 50%;\n",
              "      cursor: pointer;\n",
              "      display: none;\n",
              "      fill: #1967D2;\n",
              "      height: 32px;\n",
              "      padding: 0 0 0 0;\n",
              "      width: 32px;\n",
              "    }\n",
              "\n",
              "    .colab-df-convert:hover {\n",
              "      background-color: #E2EBFA;\n",
              "      box-shadow: 0px 1px 2px rgba(60, 64, 67, 0.3), 0px 1px 3px 1px rgba(60, 64, 67, 0.15);\n",
              "      fill: #174EA6;\n",
              "    }\n",
              "\n",
              "    .colab-df-buttons div {\n",
              "      margin-bottom: 4px;\n",
              "    }\n",
              "\n",
              "    [theme=dark] .colab-df-convert {\n",
              "      background-color: #3B4455;\n",
              "      fill: #D2E3FC;\n",
              "    }\n",
              "\n",
              "    [theme=dark] .colab-df-convert:hover {\n",
              "      background-color: #434B5C;\n",
              "      box-shadow: 0px 1px 3px 1px rgba(0, 0, 0, 0.15);\n",
              "      filter: drop-shadow(0px 1px 2px rgba(0, 0, 0, 0.3));\n",
              "      fill: #FFFFFF;\n",
              "    }\n",
              "  </style>\n",
              "\n",
              "    <script>\n",
              "      const buttonEl =\n",
              "        document.querySelector('#df-3c4468cd-c3d0-49ef-b9cd-eb49d69d9e75 button.colab-df-convert');\n",
              "      buttonEl.style.display =\n",
              "        google.colab.kernel.accessAllowed ? 'block' : 'none';\n",
              "\n",
              "      async function convertToInteractive(key) {\n",
              "        const element = document.querySelector('#df-3c4468cd-c3d0-49ef-b9cd-eb49d69d9e75');\n",
              "        const dataTable =\n",
              "          await google.colab.kernel.invokeFunction('convertToInteractive',\n",
              "                                                    [key], {});\n",
              "        if (!dataTable) return;\n",
              "\n",
              "        const docLinkHtml = 'Like what you see? Visit the ' +\n",
              "          '<a target=\"_blank\" href=https://colab.research.google.com/notebooks/data_table.ipynb>data table notebook</a>'\n",
              "          + ' to learn more about interactive tables.';\n",
              "        element.innerHTML = '';\n",
              "        dataTable['output_type'] = 'display_data';\n",
              "        await google.colab.output.renderOutput(dataTable, element);\n",
              "        const docLink = document.createElement('div');\n",
              "        docLink.innerHTML = docLinkHtml;\n",
              "        element.appendChild(docLink);\n",
              "      }\n",
              "    </script>\n",
              "  </div>\n",
              "\n",
              "\n",
              "  <div id=\"id_6aeeaf2a-57e9-477a-bf03-1ac513767070\">\n",
              "    <style>\n",
              "      .colab-df-generate {\n",
              "        background-color: #E8F0FE;\n",
              "        border: none;\n",
              "        border-radius: 50%;\n",
              "        cursor: pointer;\n",
              "        display: none;\n",
              "        fill: #1967D2;\n",
              "        height: 32px;\n",
              "        padding: 0 0 0 0;\n",
              "        width: 32px;\n",
              "      }\n",
              "\n",
              "      .colab-df-generate:hover {\n",
              "        background-color: #E2EBFA;\n",
              "        box-shadow: 0px 1px 2px rgba(60, 64, 67, 0.3), 0px 1px 3px 1px rgba(60, 64, 67, 0.15);\n",
              "        fill: #174EA6;\n",
              "      }\n",
              "\n",
              "      [theme=dark] .colab-df-generate {\n",
              "        background-color: #3B4455;\n",
              "        fill: #D2E3FC;\n",
              "      }\n",
              "\n",
              "      [theme=dark] .colab-df-generate:hover {\n",
              "        background-color: #434B5C;\n",
              "        box-shadow: 0px 1px 3px 1px rgba(0, 0, 0, 0.15);\n",
              "        filter: drop-shadow(0px 1px 2px rgba(0, 0, 0, 0.3));\n",
              "        fill: #FFFFFF;\n",
              "      }\n",
              "    </style>\n",
              "    <button class=\"colab-df-generate\" onclick=\"generateWithVariable('df')\"\n",
              "            title=\"Generate code using this dataframe.\"\n",
              "            style=\"display:none;\">\n",
              "\n",
              "  <svg xmlns=\"http://www.w3.org/2000/svg\" height=\"24px\"viewBox=\"0 0 24 24\"\n",
              "       width=\"24px\">\n",
              "    <path d=\"M7,19H8.4L18.45,9,17,7.55,7,17.6ZM5,21V16.75L18.45,3.32a2,2,0,0,1,2.83,0l1.4,1.43a1.91,1.91,0,0,1,.58,1.4,1.91,1.91,0,0,1-.58,1.4L9.25,21ZM18.45,9,17,7.55Zm-12,3A5.31,5.31,0,0,0,4.9,8.1,5.31,5.31,0,0,0,1,6.5,5.31,5.31,0,0,0,4.9,4.9,5.31,5.31,0,0,0,6.5,1,5.31,5.31,0,0,0,8.1,4.9,5.31,5.31,0,0,0,12,6.5,5.46,5.46,0,0,0,6.5,12Z\"/>\n",
              "  </svg>\n",
              "    </button>\n",
              "    <script>\n",
              "      (() => {\n",
              "      const buttonEl =\n",
              "        document.querySelector('#id_6aeeaf2a-57e9-477a-bf03-1ac513767070 button.colab-df-generate');\n",
              "      buttonEl.style.display =\n",
              "        google.colab.kernel.accessAllowed ? 'block' : 'none';\n",
              "\n",
              "      buttonEl.onclick = () => {\n",
              "        google.colab.notebook.generateWithVariable('df');\n",
              "      }\n",
              "      })();\n",
              "    </script>\n",
              "  </div>\n",
              "\n",
              "    </div>\n",
              "  </div>\n"
            ],
            "application/vnd.google.colaboratory.intrinsic+json": {
              "type": "dataframe",
              "variable_name": "df",
              "summary": "{\n  \"name\": \"df\",\n  \"rows\": 1,\n  \"fields\": [\n    {\n      \"column\": \"id\",\n      \"properties\": {\n        \"dtype\": \"string\",\n        \"num_unique_values\": 1,\n        \"samples\": [\n          \"mysql\"\n        ],\n        \"semantic_type\": \"\",\n        \"description\": \"\"\n      }\n    },\n    {\n      \"column\": \"pass\",\n      \"properties\": {\n        \"dtype\": \"string\",\n        \"num_unique_values\": 1,\n        \"samples\": [\n          \"12345\"\n        ],\n        \"semantic_type\": \"\",\n        \"description\": \"\"\n      }\n    }\n  ]\n}"
            }
          },
          "metadata": {},
          "execution_count": 108
        }
      ]
    },
    {
      "cell_type": "markdown",
      "source": [
        "## 2. XML"
      ],
      "metadata": {
        "id": "KXg6WwhX8sKH"
      }
    },
    {
      "cell_type": "markdown",
      "source": [
        "### 2-1. 데이터 구조"
      ],
      "metadata": {
        "id": "EsEmKTuh8sKH"
      }
    },
    {
      "cell_type": "markdown",
      "source": [
        "- HTML과 유사한 구조\n",
        "- JSON과 유사하게 데이터를 주고 받음"
      ],
      "metadata": {
        "id": "Gw4AOiXn8sKH"
      }
    },
    {
      "cell_type": "code",
      "source": [
        "%%writefile test.xml\n",
        "<?xml version=\"1.0\" encoding=\"utf-8\"?>\n",
        "<world name = \"주소록과 네이버 API 서비스키\">\n",
        "    <people name='김민국'>\n",
        "        <age>15</age>\n",
        "        <tall>183cm</tall>\n",
        "        <add>서울시 서대문구</add>\n",
        "    </people>\n",
        "    <people name='박한솔' >\n",
        "        <age>30</age>\n",
        "        <tall>175cm</tall>\n",
        "        <add>서울시 용산구</add>\n",
        "    </people>\n",
        "    <naver_api>\n",
        "        <client_id>JXRlq56Db1L0PA</client_id>\n",
        "        <client_secret>hwiniqqkgvH</client_secret>\n",
        "    </naver_api>\n",
        "</world>\n"
      ],
      "metadata": {
        "id": "R2IoYayu8sKH",
        "colab": {
          "base_uri": "https://localhost:8080/"
        },
        "outputId": "de3cdfb0-3ac2-4635-8427-d6ec2b1f5836"
      },
      "execution_count": 109,
      "outputs": [
        {
          "output_type": "stream",
          "name": "stdout",
          "text": [
            "Overwriting test.xml\n"
          ]
        }
      ]
    },
    {
      "cell_type": "markdown",
      "source": [
        "### 2-2. XML 데이터 파싱\n",
        "\n",
        "- root 노드에 world\n",
        "- 하위 자식 노드에 두 개의 people 존재\n",
        "- <> 태그 내에 들어가 있는 것 : 속성 (attributes)\n",
        "- 속성의 이름인 name의 value인 '김민국', '박한솔'\n",
        "- 파이썬에서 xml 문서를 파싱하기 위해서는 xml.etree.ElementTree 모듈 사용\n",
        "- 시작 태그와 /의 종료 태그 사이에 위치한 텍스트들이 실제 표현하고자 하는 내용\n",
        "-XML을 읽어 특정 내용을 추출하기 위해서 XML 문서를 ET.parse로 파싱하고 getroot() 메소드를 이용해 루트 태그를 추출하고 반복문을 이용해 자식 노드의 태그와 속성 추출"
      ],
      "metadata": {
        "id": "yeP36Gcj8sKI"
      }
    },
    {
      "cell_type": "code",
      "source": [
        "import xml.etree.ElementTree as ET\n",
        "tree = ET.parse(\"test.xml\")\n",
        "root = tree.getroot()\n",
        "print(root.tag)\n",
        "print(root.get('name'))\n",
        "print(root[0][1].text)\n",
        "for child in root:\n",
        "    print(child.tag, child.attrib)\n",
        "for add in root.iter('add'):\n",
        "    print(add.text)\n"
      ],
      "metadata": {
        "id": "wNrbgmmW8sKI",
        "colab": {
          "base_uri": "https://localhost:8080/"
        },
        "outputId": "03446490-8e5a-426e-b575-222e739f60f3"
      },
      "execution_count": 110,
      "outputs": [
        {
          "output_type": "stream",
          "name": "stdout",
          "text": [
            "world\n",
            "주소록과 네이버 API 서비스키\n",
            "183cm\n",
            "people {'name': '김민국'}\n",
            "people {'name': '박한솔'}\n",
            "naver_api {}\n",
            "서울시 서대문구\n",
            "서울시 용산구\n"
          ]
        }
      ]
    },
    {
      "cell_type": "markdown",
      "source": [
        "- bs4 활용하여 파싱 후 텍스트 데이터 추출"
      ],
      "metadata": {
        "id": "yDEQQVsZ8sKI"
      }
    },
    {
      "cell_type": "code",
      "source": [
        "from bs4 import BeautifulSoup as bs\n",
        "with open(\"test.xml\", 'r') as f:\n",
        "    xml_doc = f.read()\n",
        "soup = bs(xml_doc, 'xml')\n",
        "for row in soup.find_all('people'):\n",
        "    print(row.get('name'))\n",
        "    print(row.age.text)\n",
        "    print(row.tall.text)\n",
        "    print(row.add.text)\n",
        "print(soup.world.naver_api.client_id.text, soup.world.naver_api.client_secret.text)\n"
      ],
      "metadata": {
        "id": "F0l0qdZE8sKI",
        "colab": {
          "base_uri": "https://localhost:8080/"
        },
        "outputId": "edcc3970-16bb-4bfc-c8bd-52c26618a7a3"
      },
      "execution_count": 111,
      "outputs": [
        {
          "output_type": "stream",
          "name": "stdout",
          "text": [
            "김민국\n",
            "15\n",
            "183cm\n",
            "서울시 서대문구\n",
            "박한솔\n",
            "30\n",
            "175cm\n",
            "서울시 용산구\n",
            "JXRlq56Db1L0PA hwiniqqkgvH\n"
          ]
        }
      ]
    },
    {
      "cell_type": "markdown",
      "source": [
        "### 2-3. 데이터 프레임으로 저장"
      ],
      "metadata": {
        "id": "A8mGMAyP8sKJ"
      }
    },
    {
      "cell_type": "markdown",
      "source": [
        "- 세부적인 자식노드의 속성은 attrib.get() 메서드 이용해서 내용을 추출\n",
        "- 태그 사이의 내용은 tag.text를 이용하여 추출"
      ],
      "metadata": {
        "id": "5Kn5zqga8sKJ"
      }
    },
    {
      "cell_type": "code",
      "source": [
        "import pandas as pd\n",
        "persons=[]\n",
        "for p in soup.find_all('people') :\n",
        "    persons.append({ \"이름\" : p.get(\"name\"),\n",
        "                 '나이': p.age.text,\n",
        "                 \"키\": p.tall.text,\n",
        "                 '주소':p.add.text})\n",
        "df = pd.DataFrame(persons)\n",
        "df\n"
      ],
      "metadata": {
        "id": "02z_X-Yp8sKK",
        "colab": {
          "base_uri": "https://localhost:8080/",
          "height": 0
        },
        "outputId": "5586c6fc-d658-4ac2-f91a-023c03a0b414"
      },
      "execution_count": 112,
      "outputs": [
        {
          "output_type": "execute_result",
          "data": {
            "text/plain": [
              "    이름  나이      키        주소\n",
              "0  김민국  15  183cm  서울시 서대문구\n",
              "1  박한솔  30  175cm   서울시 용산구"
            ],
            "text/html": [
              "\n",
              "  <div id=\"df-2ebf8db7-228d-484e-b826-f133d7367384\" class=\"colab-df-container\">\n",
              "    <div>\n",
              "<style scoped>\n",
              "    .dataframe tbody tr th:only-of-type {\n",
              "        vertical-align: middle;\n",
              "    }\n",
              "\n",
              "    .dataframe tbody tr th {\n",
              "        vertical-align: top;\n",
              "    }\n",
              "\n",
              "    .dataframe thead th {\n",
              "        text-align: right;\n",
              "    }\n",
              "</style>\n",
              "<table border=\"1\" class=\"dataframe\">\n",
              "  <thead>\n",
              "    <tr style=\"text-align: right;\">\n",
              "      <th></th>\n",
              "      <th>이름</th>\n",
              "      <th>나이</th>\n",
              "      <th>키</th>\n",
              "      <th>주소</th>\n",
              "    </tr>\n",
              "  </thead>\n",
              "  <tbody>\n",
              "    <tr>\n",
              "      <th>0</th>\n",
              "      <td>김민국</td>\n",
              "      <td>15</td>\n",
              "      <td>183cm</td>\n",
              "      <td>서울시 서대문구</td>\n",
              "    </tr>\n",
              "    <tr>\n",
              "      <th>1</th>\n",
              "      <td>박한솔</td>\n",
              "      <td>30</td>\n",
              "      <td>175cm</td>\n",
              "      <td>서울시 용산구</td>\n",
              "    </tr>\n",
              "  </tbody>\n",
              "</table>\n",
              "</div>\n",
              "    <div class=\"colab-df-buttons\">\n",
              "\n",
              "  <div class=\"colab-df-container\">\n",
              "    <button class=\"colab-df-convert\" onclick=\"convertToInteractive('df-2ebf8db7-228d-484e-b826-f133d7367384')\"\n",
              "            title=\"Convert this dataframe to an interactive table.\"\n",
              "            style=\"display:none;\">\n",
              "\n",
              "  <svg xmlns=\"http://www.w3.org/2000/svg\" height=\"24px\" viewBox=\"0 -960 960 960\">\n",
              "    <path d=\"M120-120v-720h720v720H120Zm60-500h600v-160H180v160Zm220 220h160v-160H400v160Zm0 220h160v-160H400v160ZM180-400h160v-160H180v160Zm440 0h160v-160H620v160ZM180-180h160v-160H180v160Zm440 0h160v-160H620v160Z\"/>\n",
              "  </svg>\n",
              "    </button>\n",
              "\n",
              "  <style>\n",
              "    .colab-df-container {\n",
              "      display:flex;\n",
              "      gap: 12px;\n",
              "    }\n",
              "\n",
              "    .colab-df-convert {\n",
              "      background-color: #E8F0FE;\n",
              "      border: none;\n",
              "      border-radius: 50%;\n",
              "      cursor: pointer;\n",
              "      display: none;\n",
              "      fill: #1967D2;\n",
              "      height: 32px;\n",
              "      padding: 0 0 0 0;\n",
              "      width: 32px;\n",
              "    }\n",
              "\n",
              "    .colab-df-convert:hover {\n",
              "      background-color: #E2EBFA;\n",
              "      box-shadow: 0px 1px 2px rgba(60, 64, 67, 0.3), 0px 1px 3px 1px rgba(60, 64, 67, 0.15);\n",
              "      fill: #174EA6;\n",
              "    }\n",
              "\n",
              "    .colab-df-buttons div {\n",
              "      margin-bottom: 4px;\n",
              "    }\n",
              "\n",
              "    [theme=dark] .colab-df-convert {\n",
              "      background-color: #3B4455;\n",
              "      fill: #D2E3FC;\n",
              "    }\n",
              "\n",
              "    [theme=dark] .colab-df-convert:hover {\n",
              "      background-color: #434B5C;\n",
              "      box-shadow: 0px 1px 3px 1px rgba(0, 0, 0, 0.15);\n",
              "      filter: drop-shadow(0px 1px 2px rgba(0, 0, 0, 0.3));\n",
              "      fill: #FFFFFF;\n",
              "    }\n",
              "  </style>\n",
              "\n",
              "    <script>\n",
              "      const buttonEl =\n",
              "        document.querySelector('#df-2ebf8db7-228d-484e-b826-f133d7367384 button.colab-df-convert');\n",
              "      buttonEl.style.display =\n",
              "        google.colab.kernel.accessAllowed ? 'block' : 'none';\n",
              "\n",
              "      async function convertToInteractive(key) {\n",
              "        const element = document.querySelector('#df-2ebf8db7-228d-484e-b826-f133d7367384');\n",
              "        const dataTable =\n",
              "          await google.colab.kernel.invokeFunction('convertToInteractive',\n",
              "                                                    [key], {});\n",
              "        if (!dataTable) return;\n",
              "\n",
              "        const docLinkHtml = 'Like what you see? Visit the ' +\n",
              "          '<a target=\"_blank\" href=https://colab.research.google.com/notebooks/data_table.ipynb>data table notebook</a>'\n",
              "          + ' to learn more about interactive tables.';\n",
              "        element.innerHTML = '';\n",
              "        dataTable['output_type'] = 'display_data';\n",
              "        await google.colab.output.renderOutput(dataTable, element);\n",
              "        const docLink = document.createElement('div');\n",
              "        docLink.innerHTML = docLinkHtml;\n",
              "        element.appendChild(docLink);\n",
              "      }\n",
              "    </script>\n",
              "  </div>\n",
              "\n",
              "\n",
              "<div id=\"df-d9081518-22a4-4cf2-948a-62d6d77559c4\">\n",
              "  <button class=\"colab-df-quickchart\" onclick=\"quickchart('df-d9081518-22a4-4cf2-948a-62d6d77559c4')\"\n",
              "            title=\"Suggest charts\"\n",
              "            style=\"display:none;\">\n",
              "\n",
              "<svg xmlns=\"http://www.w3.org/2000/svg\" height=\"24px\"viewBox=\"0 0 24 24\"\n",
              "     width=\"24px\">\n",
              "    <g>\n",
              "        <path d=\"M19 3H5c-1.1 0-2 .9-2 2v14c0 1.1.9 2 2 2h14c1.1 0 2-.9 2-2V5c0-1.1-.9-2-2-2zM9 17H7v-7h2v7zm4 0h-2V7h2v10zm4 0h-2v-4h2v4z\"/>\n",
              "    </g>\n",
              "</svg>\n",
              "  </button>\n",
              "\n",
              "<style>\n",
              "  .colab-df-quickchart {\n",
              "      --bg-color: #E8F0FE;\n",
              "      --fill-color: #1967D2;\n",
              "      --hover-bg-color: #E2EBFA;\n",
              "      --hover-fill-color: #174EA6;\n",
              "      --disabled-fill-color: #AAA;\n",
              "      --disabled-bg-color: #DDD;\n",
              "  }\n",
              "\n",
              "  [theme=dark] .colab-df-quickchart {\n",
              "      --bg-color: #3B4455;\n",
              "      --fill-color: #D2E3FC;\n",
              "      --hover-bg-color: #434B5C;\n",
              "      --hover-fill-color: #FFFFFF;\n",
              "      --disabled-bg-color: #3B4455;\n",
              "      --disabled-fill-color: #666;\n",
              "  }\n",
              "\n",
              "  .colab-df-quickchart {\n",
              "    background-color: var(--bg-color);\n",
              "    border: none;\n",
              "    border-radius: 50%;\n",
              "    cursor: pointer;\n",
              "    display: none;\n",
              "    fill: var(--fill-color);\n",
              "    height: 32px;\n",
              "    padding: 0;\n",
              "    width: 32px;\n",
              "  }\n",
              "\n",
              "  .colab-df-quickchart:hover {\n",
              "    background-color: var(--hover-bg-color);\n",
              "    box-shadow: 0 1px 2px rgba(60, 64, 67, 0.3), 0 1px 3px 1px rgba(60, 64, 67, 0.15);\n",
              "    fill: var(--button-hover-fill-color);\n",
              "  }\n",
              "\n",
              "  .colab-df-quickchart-complete:disabled,\n",
              "  .colab-df-quickchart-complete:disabled:hover {\n",
              "    background-color: var(--disabled-bg-color);\n",
              "    fill: var(--disabled-fill-color);\n",
              "    box-shadow: none;\n",
              "  }\n",
              "\n",
              "  .colab-df-spinner {\n",
              "    border: 2px solid var(--fill-color);\n",
              "    border-color: transparent;\n",
              "    border-bottom-color: var(--fill-color);\n",
              "    animation:\n",
              "      spin 1s steps(1) infinite;\n",
              "  }\n",
              "\n",
              "  @keyframes spin {\n",
              "    0% {\n",
              "      border-color: transparent;\n",
              "      border-bottom-color: var(--fill-color);\n",
              "      border-left-color: var(--fill-color);\n",
              "    }\n",
              "    20% {\n",
              "      border-color: transparent;\n",
              "      border-left-color: var(--fill-color);\n",
              "      border-top-color: var(--fill-color);\n",
              "    }\n",
              "    30% {\n",
              "      border-color: transparent;\n",
              "      border-left-color: var(--fill-color);\n",
              "      border-top-color: var(--fill-color);\n",
              "      border-right-color: var(--fill-color);\n",
              "    }\n",
              "    40% {\n",
              "      border-color: transparent;\n",
              "      border-right-color: var(--fill-color);\n",
              "      border-top-color: var(--fill-color);\n",
              "    }\n",
              "    60% {\n",
              "      border-color: transparent;\n",
              "      border-right-color: var(--fill-color);\n",
              "    }\n",
              "    80% {\n",
              "      border-color: transparent;\n",
              "      border-right-color: var(--fill-color);\n",
              "      border-bottom-color: var(--fill-color);\n",
              "    }\n",
              "    90% {\n",
              "      border-color: transparent;\n",
              "      border-bottom-color: var(--fill-color);\n",
              "    }\n",
              "  }\n",
              "</style>\n",
              "\n",
              "  <script>\n",
              "    async function quickchart(key) {\n",
              "      const quickchartButtonEl =\n",
              "        document.querySelector('#' + key + ' button');\n",
              "      quickchartButtonEl.disabled = true;  // To prevent multiple clicks.\n",
              "      quickchartButtonEl.classList.add('colab-df-spinner');\n",
              "      try {\n",
              "        const charts = await google.colab.kernel.invokeFunction(\n",
              "            'suggestCharts', [key], {});\n",
              "      } catch (error) {\n",
              "        console.error('Error during call to suggestCharts:', error);\n",
              "      }\n",
              "      quickchartButtonEl.classList.remove('colab-df-spinner');\n",
              "      quickchartButtonEl.classList.add('colab-df-quickchart-complete');\n",
              "    }\n",
              "    (() => {\n",
              "      let quickchartButtonEl =\n",
              "        document.querySelector('#df-d9081518-22a4-4cf2-948a-62d6d77559c4 button');\n",
              "      quickchartButtonEl.style.display =\n",
              "        google.colab.kernel.accessAllowed ? 'block' : 'none';\n",
              "    })();\n",
              "  </script>\n",
              "</div>\n",
              "\n",
              "  <div id=\"id_ec0caa39-ffcd-4d44-93be-37c94131ae19\">\n",
              "    <style>\n",
              "      .colab-df-generate {\n",
              "        background-color: #E8F0FE;\n",
              "        border: none;\n",
              "        border-radius: 50%;\n",
              "        cursor: pointer;\n",
              "        display: none;\n",
              "        fill: #1967D2;\n",
              "        height: 32px;\n",
              "        padding: 0 0 0 0;\n",
              "        width: 32px;\n",
              "      }\n",
              "\n",
              "      .colab-df-generate:hover {\n",
              "        background-color: #E2EBFA;\n",
              "        box-shadow: 0px 1px 2px rgba(60, 64, 67, 0.3), 0px 1px 3px 1px rgba(60, 64, 67, 0.15);\n",
              "        fill: #174EA6;\n",
              "      }\n",
              "\n",
              "      [theme=dark] .colab-df-generate {\n",
              "        background-color: #3B4455;\n",
              "        fill: #D2E3FC;\n",
              "      }\n",
              "\n",
              "      [theme=dark] .colab-df-generate:hover {\n",
              "        background-color: #434B5C;\n",
              "        box-shadow: 0px 1px 3px 1px rgba(0, 0, 0, 0.15);\n",
              "        filter: drop-shadow(0px 1px 2px rgba(0, 0, 0, 0.3));\n",
              "        fill: #FFFFFF;\n",
              "      }\n",
              "    </style>\n",
              "    <button class=\"colab-df-generate\" onclick=\"generateWithVariable('df')\"\n",
              "            title=\"Generate code using this dataframe.\"\n",
              "            style=\"display:none;\">\n",
              "\n",
              "  <svg xmlns=\"http://www.w3.org/2000/svg\" height=\"24px\"viewBox=\"0 0 24 24\"\n",
              "       width=\"24px\">\n",
              "    <path d=\"M7,19H8.4L18.45,9,17,7.55,7,17.6ZM5,21V16.75L18.45,3.32a2,2,0,0,1,2.83,0l1.4,1.43a1.91,1.91,0,0,1,.58,1.4,1.91,1.91,0,0,1-.58,1.4L9.25,21ZM18.45,9,17,7.55Zm-12,3A5.31,5.31,0,0,0,4.9,8.1,5.31,5.31,0,0,0,1,6.5,5.31,5.31,0,0,0,4.9,4.9,5.31,5.31,0,0,0,6.5,1,5.31,5.31,0,0,0,8.1,4.9,5.31,5.31,0,0,0,12,6.5,5.46,5.46,0,0,0,6.5,12Z\"/>\n",
              "  </svg>\n",
              "    </button>\n",
              "    <script>\n",
              "      (() => {\n",
              "      const buttonEl =\n",
              "        document.querySelector('#id_ec0caa39-ffcd-4d44-93be-37c94131ae19 button.colab-df-generate');\n",
              "      buttonEl.style.display =\n",
              "        google.colab.kernel.accessAllowed ? 'block' : 'none';\n",
              "\n",
              "      buttonEl.onclick = () => {\n",
              "        google.colab.notebook.generateWithVariable('df');\n",
              "      }\n",
              "      })();\n",
              "    </script>\n",
              "  </div>\n",
              "\n",
              "    </div>\n",
              "  </div>\n"
            ],
            "application/vnd.google.colaboratory.intrinsic+json": {
              "type": "dataframe",
              "variable_name": "df",
              "summary": "{\n  \"name\": \"df\",\n  \"rows\": 2,\n  \"fields\": [\n    {\n      \"column\": \"\\uc774\\ub984\",\n      \"properties\": {\n        \"dtype\": \"string\",\n        \"num_unique_values\": 2,\n        \"samples\": [\n          \"\\ubc15\\ud55c\\uc194\",\n          \"\\uae40\\ubbfc\\uad6d\"\n        ],\n        \"semantic_type\": \"\",\n        \"description\": \"\"\n      }\n    },\n    {\n      \"column\": \"\\ub098\\uc774\",\n      \"properties\": {\n        \"dtype\": \"string\",\n        \"num_unique_values\": 2,\n        \"samples\": [\n          \"30\",\n          \"15\"\n        ],\n        \"semantic_type\": \"\",\n        \"description\": \"\"\n      }\n    },\n    {\n      \"column\": \"\\ud0a4\",\n      \"properties\": {\n        \"dtype\": \"string\",\n        \"num_unique_values\": 2,\n        \"samples\": [\n          \"175cm\",\n          \"183cm\"\n        ],\n        \"semantic_type\": \"\",\n        \"description\": \"\"\n      }\n    },\n    {\n      \"column\": \"\\uc8fc\\uc18c\",\n      \"properties\": {\n        \"dtype\": \"string\",\n        \"num_unique_values\": 2,\n        \"samples\": [\n          \"\\uc11c\\uc6b8\\uc2dc \\uc6a9\\uc0b0\\uad6c\",\n          \"\\uc11c\\uc6b8\\uc2dc \\uc11c\\ub300\\ubb38\\uad6c\"\n        ],\n        \"semantic_type\": \"\",\n        \"description\": \"\"\n      }\n    }\n  ]\n}"
            }
          },
          "metadata": {},
          "execution_count": 112
        }
      ]
    },
    {
      "cell_type": "markdown",
      "source": [
        "- UTF-8이 아닌 EUC-KR이나 cp949일경우 decode('cp949')로 변경\n",
        "- urllib과 bs4의 find 문 활용한 웹 크롤링 방식"
      ],
      "metadata": {
        "id": "pfgVBjYp8sKK"
      }
    },
    {
      "cell_type": "code",
      "source": [
        "# urllib 라이브러리에서 urlopen 함수를 import\n",
        "from urllib.request import urlopen\n",
        "\n",
        "# BeautifulSoup 모듈에서 BeautifulSoup 클래스를 bs라는 이름으로 import\n",
        "from bs4 import BeautifulSoup as bs\n",
        "\n",
        "# 웹 페이지 요청 및 응답 객체 가져오기\n",
        "# 'https://ai-bigdataanalysis.blogspot.com/2024/03/html.html' 페이지에 접근하여 응답 객체를 response 변수에 저장\n",
        "response = urlopen('https://ai-bigdataanalysis.blogspot.com/2024/03/html.html')\n",
        "\n",
        "# 응답된 HTML 문서를 읽어와서 바이너리 데이터를 문자열로 디코딩\n",
        "html_doc = response.read().decode()\n",
        "\n",
        "# BeautifulSoup 객체 생성 및 HTML 파싱\n",
        "# HTML 소스를 BeautifulSoup을 사용하여 파싱하고 soup 변수에 저장\n",
        "soup = bs(html_doc, 'html.parser')\n",
        "\n",
        "# 특정 div 태그를 선택하여 해당 콘텐츠 가져오기\n",
        "# 클래스가 'post-body entry-content'인 div 태그를 찾음\n",
        "content = soup.find(\"div\", {\"class\": \"post-body entry-content\"})\n",
        "\n",
        "# 텍스트를 저장할 변수 초기화\n",
        "text = \"\"\n",
        "\n",
        "# 찾은 div 태그 내부에서 모든 <span> 태그를 순회하면서 텍스트를 추출\n",
        "if content:  # content가 None이 아닐 경우에만 실행\n",
        "    for para in content.find_all(\"span\"):\n",
        "        # 각 <span> 태그의 텍스트를 가져와서 양쪽 공백 제거 후 text 변수에 추가\n",
        "        text += para.text.strip()\n",
        "\n",
        "# 최종적으로 수집된 텍스트 출력\n",
        "print(text)\n"
      ],
      "metadata": {
        "id": "CNCbmQZT8sKK",
        "colab": {
          "base_uri": "https://localhost:8080/"
        },
        "outputId": "92ea36c1-5f60-42e9-b782-e498ce030346"
      },
      "execution_count": 113,
      "outputs": [
        {
          "output_type": "stream",
          "name": "stdout",
          "text": [
            "참조 :https://wikidocs.net/1278461. HTML 구조의 이해HTML은 웹 문서를 만들기 위하여 사용하는 기본적인 웹 언어의 한 종류이다. 하이퍼텍스트를 작성하기 위해 개발되었으며 인터넷 서비스의 하나인 월드와이드웹(WWW)을 통해서 볼 수 있는 문서를 만들 때 사용하는 웹 언어의 한 종류이다. 특히 인터넷에서 웹을 통해 접근되는 대부분의 웹 페이지들은 HTML로 작성되는데 문서의 글자 크기, 글자색, 글자모양, 그래픽, 문서이동(하이퍼링크) 등을 정의하는 명령어들이 있다. HTML에서 사용하는 명령어는 태그(tag)라고 하는데 꺽쇠괄호'<>'를 사용하여 나타낸다. HTML 문서는 크게 Head 부분과 Body로 나누어지는데 Head 부분에는 문서의 제목을 포함한 기본적인 정보들을 포함하고 있으며 Body 부분에는 실제 웹 페이지에 나타나는 본문 내용으로 구성된다. 그래서 이러한 구조를 간단하게 요약해서 표기하면 아래와 같은 그림으로 표현할 수 있다.좀더 구체적으로 위에 그림 중에 본문 문단을 의미하는 p 태그의 코드 기준으로 설명하면 HTML 요소는 시작 태그와 /로 시작하는 종료 태그 사이에 내용들이 들어 있으며, 시작 태그 안에는 속성명(Attributes) 'class'와 속성값(Values) 'para'를 포함하고 있고, '빅데이터 분석과 활용'이라는 내용을 포함하고 있는 태그이다.보다 다양한 HTML 태그에 대한 이해를 위해서 자주 사용하는 태그들을 표의 형태로 정리하면 아래와 같다.이러한 구조를 사람이 보기 편한 Text 문서로 파싱하기 위해서는 BeautifulSoup라는 라이브러리를 이용해야 한다.이라는 파이썬 라이브러리는 이와 같이 HTML 문서를 파싱하여 텍스트 데이터를 추출할 수 있는 유용한 도구이다.2.HTML 문서의 사례와 텍스트 추출이해를 돕기위해 아래와 같이 HTML 소스코드를 아래와 같이 작성하여 '웹크롤링 연습.html'로 파일을 저장하고 웹브라우저로 열어보면 HTML로 작성된 문서의 규칙을 이해할 수 있다.이해를 돕기위해 아래와 같이 HTML 소스코드를 아래와 같이 작성하여 '웹크롤링 연습.html'로 파일을 저장하고 웹브라우저로 열어보면 HTML로 작성된 문서의 규칙을 이해할 수 있다.<html><head><title>웹크롤링 연습</title></head><body><p class=\"title\"><b><h1>HTML 연습</h1></b></p><p class=\"link\">인터넷 링크를 작성하는 방법은<a class=\"blog\" href='https://ai-bigdataanalysis.blogspot.com/' id=\"link1\">인공지능 기반 덱스트 데이터 분석 블로그</a>와<a class=\"wikidocs\" href=\"https://wikidocs.net/book/6280\" id=\"link2\">인공지능 기반 빅데이터 자연어 처리와 통계 분석</a>처럼HTML 링크로 작성할 수 있습니다.</p><p class=\"story\">그리고 HTML 문서는 글자의 크기도 조정 가능해서<h2>크게</h2>작성할 수도 있고, <h4>작게</h4> 작성할 수도 있습니다.</p></body></html>위에 있는 소스코드로 작성된 HTML 파일을 웹브라우저로 열면 아래와 같은 형태의 웹페이지로 출력됨을 알 수 있다. 특히 여기서 인공지능 기반 덱스트 데이터 분석 블로그와 인공지능 기반 빅데이터 자연어 처리와 통계 분석의 경우는 a 태그에서 href 속성을 이용한 링크로 연결되어 다른 웹페이지로 이동할 수 있다.<html><head><title>웹크롤링 연습</title></head><body><p class=\"title\"><b><h1>HTML 연습</h1></b></p><p class=\"link\">인터넷 링크를 작성하는 방법은<a class=\"blog\" href='https://ai-bigdataanalysis.blogspot.com/' id=\"link1\">인공지능 기반 덱스트 데이터 분석 블로그</a>와<a class=\"wikidocs\" href=\"https://wikidocs.net/book/6280\" id=\"link2\">인공지능 기반 빅데이터 자연어 처리와 통계 분석</a>처럼HTML 링크로 작성할 수 있습니다.</p><p class=\"story\">그리고 HTML 문서는 글자의 크기도 조정 가능해서<h2>크게</h2>작성할 수도 있고, <h4>작게</h4> 작성할 수도 있습니다.</p></body></html>위에 있는 소스코드로 작성된 HTML 파일을 웹브라우저로 열면 아래와 같은 형태의 웹페이지로 출력됨을 알 수 있다. 특히 여기서 인공지능 기반 덱스트 데이터 분석 블로그와 인공지능 기반 빅데이터 자연어 처리와 통계 분석의 경우는 a 태그에서 href 속성을 이용한 링크로 연결되어 다른 웹페이지로 이동할 수 있다.와코랩을 이용해서 위에 그림으로 설명한 P 태그의 내용을 추출하는 방법을 설명하면 아래와 같은 코드를 실행시키면 추출이 가능하다.먼저 뷰티풀소프라는 라이브러리를 아래와 같이 설치한다.먼저 뷰티풀소프라는 라이브러리를 아래와 같이 설치한다.!pip install bs4그리고 태그를 파싱해서 그안에 담겨있는 텍스트를 추출하거나 속성에 해당하는 속성값을 추출는 방법을 정리하면 아래와 같다.그리고 태그를 파싱해서 그안에 담겨있는 텍스트를 추출하거나 속성에 해당하는 속성값을 추출는 방법을 정리하면 아래와 같다.fromimportas'''<p class='para'>빅데이터 분석과 활용</p>''''html.parser'print\"p\"print\"p\"\"class\"3. 웹크롤링 방법 사례3. 웹크롤링 방법 사례웹크롤링을 하기 위해 우선적으로 해야할 일은 우리가 정보를 추출하고자하는 웹페이지의 로봇배제기준을 확인하여 추출이 가능한 웹페이지인지 확인해야한다. 현재 이 블로그의 로봇배제기준을 확인하려면 웹페이지 주소창에 있는 주소에 추가하여 /robots.txt 를 추가하여 확인하는 것이다.웹크롤링을 하기 위해 우선적으로 해야할 일은 우리가 정보를 추출하고자하는 웹페이지의 로봇배제기준을 확인하여 추출이 가능한 웹페이지인지 확인해야한다. 현재 이 블로그의 로봇배제기준을 확인하려면 웹페이지 주소창에 있는 주소에 추가하여 /robots.txt 를 추가하여 확인하는 것이다.가. 기본정보 추출가. 기본정보 추출기본적인 웹페이지의 정보를 크롤링하기 위해서는 아래와 같이 requests나 urllib 라이브러리를 이용하여 HTML 정보를 불러오고 이를 BeautifulSoup으로 파싱하여 구체적인 텍스트 정보를 얻을 수있다.기본적인 웹페이지의 정보를 크롤링하기 위해서는 아래와 같이 requests나 urllib 라이브러리를 이용하여 HTML 정보를 불러오고 이를 BeautifulSoup으로 파싱하여 구체적인 텍스트 정보를 얻을 수있다.import requestsimport requestsfrom bs4 import BeautifulSoup as bsfrom bs4 import BeautifulSoup as bsurl = \"https://enjoystat.blogspot.com/2024/03/html.html\"url = \"https://enjoystat.blogspot.com/2024/03/html.html\"resp = requests.get(url)resp = requests.get(url)print(resp)print(resp)html_src = resp.texthtml_src = resp.textsoup = bs(html_src, 'html.parser')soup = bs(html_src, 'html.parser')나. 태그사이에 있는 정보 추출나. 태그사이에 있는 정보 추출태그사이에 있는 정보를 추출하기 위해서는 f12 또는 Ctrl+Shift+I로 소스코드가 팝업되도록 펼치고, 좌상단 element select 또는 Ctrl+Shift+C로 마우스 선택기를 활성화하여 추출하고자하는 행에서 우측마우 클릭하고, copy - copy selector 선택 복사하여 아래와 같이 Select_one문에 붙여넣기하여 기본정보를 추출할 수 있다.태그사이에 있는 정보를 추출하기 위해서는 f12 또는 Ctrl+Shift+I로 소스코드가 팝업되도록 펼치고, 좌상단 element select 또는 Ctrl+Shift+C로 마우스 선택기를 활성화하여 추출하고자하는 행에서 우측마우 클릭하고, copy - copy selector 선택 복사하여 아래와 같이 Select_one문에 붙여넣기하여 기본정보를 추출할 수 있다.soup.select_one(\"#Blog1 > div.blog-posts.hfeed > div > div > div > div.post.hentry.uncustomized-post-template > h3\").text.strip()soup.select_one(\"#Blog1 > div.blog-posts.hfeed > div > div > div > div.post.hentry.uncustomized-post-template > h3\").text.strip()다. 속성값 추출다. 속성값 추출태그 내에 작성되어 있는 속성값을 추출하기 위해서는 get(\"속성명\") 메소드를 활용하여 속성값을 추출할 수 있다.태그 내에 작성되어 있는 속성값을 추출하기 위해서는 get(\"속성명\") 메소드를 활용하여 속성값을 추출할 수 있다.print(soup.select_one(\"#Profile1 > div > a\").get(\"href\"))print(soup.select_one(\"#Profile1 > div > a\").get(\"href\"))라. 반복되는 내용 추출라. 반복되는 내용 추출웹페이지에 있는 세부 텍스트 내용은 통상 패러그래프 태그인 P 태그에 반복적으로 들어있기 때문에 아래와 같이 for문을 이용하여 추출할 수 있다.웹페이지에 있는 세부 텍스트 내용은 통상 패러그래프 태그인 P 태그에 반복적으로 들어있기 때문에 아래와 같이 for문을 이용하여 추출할 수 있다.text =\"\"text =\"\"body=soup.find(\"div\", {\"class\":\"post-body entry-content\"})body=soup.find(\"div\", {\"class\":\"post-body entry-content\"})for para in body.select(\"p\"):for para in body.select(\"p\"):text=text+para.text.strip()text=text+para.text.strip()texttext\n"
          ]
        }
      ]
    },
    {
      "cell_type": "markdown",
      "source": [
        "## 3. 공공데이터 API"
      ],
      "metadata": {
        "id": "v3w7XcQ18sKK"
      }
    },
    {
      "cell_type": "markdown",
      "source": [
        "- 각 자료들을 활용하기 위한 Service key 확보 (강의 내용 확인)\n",
        "- 미리 공공데이터 API 발급 신청을 완료한 상태에서 진행이 가능합니다\n",
        "- 각 파일들을 다운로드 받아서 어떻게 다른지 직접 확인해봅니다\n"
      ],
      "metadata": {
        "id": "MxnHsAjXFw0q"
      }
    },
    {
      "cell_type": "markdown",
      "source": [
        "### 3-1. XML API 활용"
      ],
      "metadata": {
        "id": "FGYQ5ANd8sKL"
      }
    },
    {
      "cell_type": "markdown",
      "source": [
        "- API_KEY: 발급받은 공공데이터 포털 API 키를 입력합니다.\n",
        "- BASE_URL: 공공데이터 API의 엔드포인트 URL을 입력합니다.\n",
        "- params: API 문서에서 요구하는 파라미터를 추가로 정의합니다.\n",
        "- XML 파싱: 응답 데이터를 XML로 파싱하고 필요한 정보를 추출합니다.\n"
      ],
      "metadata": {
        "id": "ylDL90B_8sKL"
      }
    },
    {
      "cell_type": "markdown",
      "source": [
        "![한글파일.png](data:image/png;base64,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)\n",
        "![요청메시지.png](data:image/png;base64,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)"
      ],
      "metadata": {
        "id": "oWEzbgP6Hu_A"
      }
    },
    {
      "cell_type": "markdown",
      "source": [
        "- 참고문서에 있는 한글 파일 다운로드\n",
        "- 한글 파일에서 요청메시지 항목을 찾기\n",
        "- 요청 메시지의 검정색 가려져 있는 부분이 엔드포인트 URL\n",
        "- 요청 메시지의 인증키 뒷 부분(numOfRow=10, pageNo=1, apiType=XML, year=2019)가 params에 해당됨\n",
        "- 서비스키는 해당 웹사이트 페이지에 일반인증키가 해당됨"
      ],
      "metadata": {
        "id": "dfbe2WPJIXPz"
      }
    },
    {
      "cell_type": "code",
      "source": [
        "from google.colab import drive\n",
        "drive.mount('/content/drive')\n"
      ],
      "metadata": {
        "id": "Noj0cid7F-PZ",
        "colab": {
          "base_uri": "https://localhost:8080/"
        },
        "outputId": "a1d05da8-2a87-4f1d-8c51-e2e684676407"
      },
      "execution_count": 114,
      "outputs": [
        {
          "output_type": "stream",
          "name": "stdout",
          "text": [
            "Drive already mounted at /content/drive; to attempt to forcibly remount, call drive.mount(\"/content/drive\", force_remount=True).\n"
          ]
        }
      ]
    },
    {
      "cell_type": "markdown",
      "source": [
        "- 디렉토리 존재 유무 확인 필수"
      ],
      "metadata": {
        "id": "1hOKiXnAGvvn"
      }
    },
    {
      "cell_type": "markdown",
      "source": [
        "- 새로운 XML 파일 생성"
      ],
      "metadata": {
        "id": "BikPtLKdLkrt"
      }
    },
    {
      "cell_type": "code",
      "source": [
        "%%writefile /content/drive/MyDrive/data/elderly_person.xml\n",
        "<?xml version=\"1.0\" encoding=\"utf-8\"?>\n",
        "<body>\n",
        "    <elderly>\n",
        "    <serviceKey>qti9hzkkxlvaMjcYZ4mXJgiIjBBNk0K0zpniWtIKAHbrv5aE0WqKoSvrN2ZEd8GoLhGWgKAMKsP7wV6GbyazjQ%3D%3D</serviceKey>\n",
        "    </elderly>\n",
        "</body>\n"
      ],
      "metadata": {
        "colab": {
          "base_uri": "https://localhost:8080/"
        },
        "id": "5D6MrAmfKV0e",
        "outputId": "3819d9a4-96cb-4405-810b-bb09dcfe5477"
      },
      "execution_count": 115,
      "outputs": [
        {
          "output_type": "stream",
          "name": "stdout",
          "text": [
            "Overwriting /content/drive/MyDrive/data/elderly_person.xml\n"
          ]
        }
      ]
    },
    {
      "cell_type": "markdown",
      "source": [
        "- 파일을 읽고 서비스 키를 추출한다"
      ],
      "metadata": {
        "id": "Q5snz7p9M4-I"
      }
    },
    {
      "cell_type": "code",
      "source": [
        "import bs4\n",
        "with open(\"/content/drive/MyDrive/data/elderly_person.xml\", 'r') as f:\n",
        "    xml_doc = f.read()\n",
        "elderly_person = bs4.BeautifulSoup(xml_doc, features=\"xml\")\n",
        "my_key = elderly_person.body.elderly.serviceKey.text\n"
      ],
      "metadata": {
        "id": "eTUIifEZLjlP"
      },
      "execution_count": 116,
      "outputs": []
    },
    {
      "cell_type": "markdown",
      "source": [
        "- 요청에 필요한 항목들을 정리한다 (항목들을 모두 연결하면 한글 파일의 요청메시지와 같아짐)"
      ],
      "metadata": {
        "id": "uS_Qw-mhNKMh"
      }
    },
    {
      "cell_type": "code",
      "source": [
        "url = 'http://apis.data.go.kr/1352000/ODMS_STAT_24/callStat24Api?'\n",
        "params ='&numOfRows=10&pageNo=1&apiType=XML&year=2019'\n",
        "servicekey = f'&serviceKey={my_key}'\n",
        "print(url+params+servicekey)\n"
      ],
      "metadata": {
        "colab": {
          "base_uri": "https://localhost:8080/"
        },
        "id": "INt5jJ-YMXe0",
        "outputId": "8932d44c-4461-4db9-fcbf-143242f3c9f8"
      },
      "execution_count": 117,
      "outputs": [
        {
          "output_type": "stream",
          "name": "stdout",
          "text": [
            "http://apis.data.go.kr/1352000/ODMS_STAT_24/callStat24Api?&numOfRows=10&pageNo=1&apiType=XML&year=2019&serviceKey=qti9hzkkxlvaMjcYZ4mXJgiIjBBNk0K0zpniWtIKAHbrv5aE0WqKoSvrN2ZEd8GoLhGWgKAMKsP7wV6GbyazjQ%3D%3D\n"
          ]
        }
      ]
    },
    {
      "cell_type": "markdown",
      "source": [
        "- 한글 파일의 응답메시지를 참고하면 <item>에 필요한 정보들이 있는 것을 확인할 수 있다"
      ],
      "metadata": {
        "id": "oHMZY77kUZha"
      }
    },
    {
      "cell_type": "code",
      "source": [
        "from urllib.request import urlopen\n",
        "from bs4 import BeautifulSoup\n",
        "\n",
        "result=urlopen(url+servicekey+params)\n",
        "house=BeautifulSoup(result, 'lxml-xml')\n",
        "items=house.find_all('item')"
      ],
      "metadata": {
        "id": "Mm-Nq8V1NM8u"
      },
      "execution_count": 118,
      "outputs": []
    },
    {
      "cell_type": "code",
      "source": [
        "print(items) #출력으로 확인하며 응답메시지와 비교하면 같다는 것을 알 수 있다"
      ],
      "metadata": {
        "colab": {
          "base_uri": "https://localhost:8080/"
        },
        "id": "f9xPA_q4PJe3",
        "outputId": "4dcba46e-1a31-4f63-d0ad-6fe92d984353"
      },
      "execution_count": 119,
      "outputs": [
        {
          "output_type": "stream",
          "name": "stdout",
          "text": [
            "[<item>\n",
            "<year>2019</year>\n",
            "<all>1500413</all>\n",
            "<age65-69>379377</age65-69>\n",
            "<age70-74>339066</age70-74>\n",
            "<age75-79>348966</age75-79>\n",
            "<age80-84>260141</age80-84>\n",
            "<age85-89>126045</age85-89>\n",
            "<age90u>46818</age90u>\n",
            "</item>]\n"
          ]
        }
      ]
    },
    {
      "cell_type": "markdown",
      "source": [
        "- 가져온 정보들을 csv 파일로 저장"
      ],
      "metadata": {
        "id": "ZKNe-3trUk_d"
      }
    },
    {
      "cell_type": "code",
      "source": [
        "# CSV 파일 저장\n",
        "csv_file_path = '/content/drive/MyDrive/data/elderly_data.csv'\n",
        "\n",
        "# CSV 파일 생성 및 데이터 저장\n",
        "with open(csv_file_path, mode='w', newline='', encoding='utf-8') as file:\n",
        "    writer = csv.writer(file)\n",
        "\n",
        "    # 헤더 작성\n",
        "    header = ['year', 'all', 'age65-69', 'age70-74', 'age75-79', 'age80-84', 'age85-89', 'age90u']\n",
        "    writer.writerow(header)\n",
        "\n",
        "    # 데이터 추출 및 작성\n",
        "    for item in items:\n",
        "        row = [\n",
        "            item.find('year').text if item.find('year') else '',\n",
        "            item.find('all').text if item.find('all') else '',\n",
        "            item.find('age65-69').text if item.find('age65-69') else '',\n",
        "            item.find('age70-74').text if item.find('age70-74') else '',\n",
        "            item.find('age75-79').text if item.find('age75-79') else '',\n",
        "            item.find('age80-84').text if item.find('age80-84') else '',\n",
        "            item.find('age85-89').text if item.find('age85-89') else '',\n",
        "            item.find('age90u').text if item.find('age90u') else '',\n",
        "        ]\n",
        "        writer.writerow(row)\n",
        "\n",
        "print(f\"CSV 파일이 생성되었습니다: {csv_file_path}\")\n",
        "\n",
        "# 저장된 CSV 파일 읽기 및 출력\n",
        "print(\"\\nCSV 파일의 내용:\")\n",
        "with open(csv_file_path, mode='r', encoding='utf-8') as file:\n",
        "    csv_reader = csv.reader(file)\n",
        "    for row in csv_reader:\n",
        "        print(row)"
      ],
      "metadata": {
        "colab": {
          "base_uri": "https://localhost:8080/"
        },
        "id": "wyyqeQxkPQ6M",
        "outputId": "7662f252-3f5e-4190-bb0e-1f1a17edb842"
      },
      "execution_count": 120,
      "outputs": [
        {
          "output_type": "stream",
          "name": "stdout",
          "text": [
            "CSV 파일이 생성되었습니다: /content/drive/MyDrive/data/elderly_data.csv\n",
            "\n",
            "CSV 파일의 내용:\n",
            "['year', 'all', 'age65-69', 'age70-74', 'age75-79', 'age80-84', 'age85-89', 'age90u']\n",
            "['2019', '1500413', '379377', '339066', '348966', '260141', '126045', '46818']\n"
          ]
        }
      ]
    },
    {
      "cell_type": "markdown",
      "source": [
        "### 3-2. JSON API 활용\n",
        "- apiType만 바뀜"
      ],
      "metadata": {
        "id": "GWPAJPMT8sKL"
      }
    },
    {
      "cell_type": "code",
      "source": [
        "# JSON 데이터 생성 및 저장\n",
        "elderly_person = {\n",
        "    'elderly': {\n",
        "        \"serviceKey\": \"qti9hzkkxlvaMjcYZ4mXJgiIjBBNk0K0zpniWtIKAHbrv5aE0WqKoSvrN2ZEd8GoLhGWgKAMKsP7wV6GbyazjQ%3D%3D\"\n",
        "    }\n",
        "}\n",
        "\n",
        "json_file_path = \"/content/drive/MyDrive/data/elderly.json\"\n",
        "with open(json_file_path, 'w') as f:\n",
        "    json.dump(elderly_person, f)\n",
        "\n",
        "print(f\"JSON 파일이 생성되었습니다: {json_file_path}\")"
      ],
      "metadata": {
        "id": "PHZjk8Si8sKM",
        "colab": {
          "base_uri": "https://localhost:8080/"
        },
        "outputId": "1944dbc6-4815-4f84-9ecf-3a37122a0a06"
      },
      "execution_count": 124,
      "outputs": [
        {
          "output_type": "stream",
          "name": "stdout",
          "text": [
            "JSON 파일이 생성되었습니다: /content/drive/MyDrive/data/elderly.json\n"
          ]
        }
      ]
    },
    {
      "cell_type": "code",
      "source": [
        "# JSON 파일 읽기\n",
        "with open(json_file_path, 'r') as f:\n",
        "    data = json.load(f)\n",
        "\n",
        "# 서비스 키 추출\n",
        "service_key = data['elderly']['serviceKey']\n",
        "\n",
        "# API 호출\n",
        "url = 'http://apis.data.go.kr/1352000/ODMS_STAT_24/callStat24Api?'\n",
        "params = '&numOfRows=10&pageNo=1&apiType=XML&year=2019'\n",
        "servicekey = f'&serviceKey={service_key}'\n",
        "result = urlopen(url + params + servicekey)\n"
      ],
      "metadata": {
        "id": "mgGaCpgKUq78"
      },
      "execution_count": 129,
      "outputs": []
    },
    {
      "cell_type": "markdown",
      "source": [
        "- 가져온 파일들을 json 형식으로 저장"
      ],
      "metadata": {
        "id": "EJgH52Z4rIcc"
      }
    },
    {
      "cell_type": "code",
      "source": [
        "house = BeautifulSoup(result, 'lxml-xml')\n",
        "items = house.find_all('item')\n",
        "\n",
        "# JSON 변환 및 저장\n",
        "json_data = {\"items\": []}\n",
        "\n",
        "for item in items:\n",
        "    json_data[\"items\"].append({\n",
        "        \"year\": item.find('year').text if item.find('year') else '',\n",
        "        \"all\": item.find('all').text if item.find('all') else '',\n",
        "        \"age65-69\": item.find('age65-69').text if item.find('age65-69') else '',\n",
        "        \"age70-74\": item.find('age70-74').text if item.find('age70-74') else '',\n",
        "        \"age75-79\": item.find('age75-79').text if item.find('age75-79') else '',\n",
        "        \"age80-84\": item.find('age80-84').text if item.find('age80-84') else '',\n",
        "        \"age85-89\": item.find('age85-89').text if item.find('age85-89') else '',\n",
        "        \"age90u\": item.find('age90u').text if item.find('age90u') else '',\n",
        "    })\n",
        "\n",
        "# JSON 파일 저장\n",
        "json_output_file = \"/content/drive/MyDrive/data/elderly_data.json\"\n",
        "with open(json_output_file, 'w', encoding='utf-8') as json_file:\n",
        "    json.dump(json_data, json_file, ensure_ascii=False, indent=4)\n",
        "\n",
        "print(f\"XML 응답 데이터를 JSON 형식으로 저장하였습니다: {json_output_file}\")\n",
        "\n",
        "# 저장된 JSON 데이터 출력\n",
        "print(\"\\n저장된 JSON 데이터:\")\n",
        "print(json.dumps(json_data, ensure_ascii=False, indent=4))"
      ],
      "metadata": {
        "colab": {
          "base_uri": "https://localhost:8080/"
        },
        "id": "egeeSG6VrAFE",
        "outputId": "d3388fbd-e462-4b64-86f2-223be7e53aa3"
      },
      "execution_count": 130,
      "outputs": [
        {
          "output_type": "stream",
          "name": "stdout",
          "text": [
            "XML 응답 데이터를 JSON 형식으로 저장하였습니다: /content/drive/MyDrive/data/elderly_data.json\n",
            "\n",
            "저장된 JSON 데이터:\n",
            "{\n",
            "    \"items\": [\n",
            "        {\n",
            "            \"year\": \"2019\",\n",
            "            \"all\": \"1500413\",\n",
            "            \"age65-69\": \"379377\",\n",
            "            \"age70-74\": \"339066\",\n",
            "            \"age75-79\": \"348966\",\n",
            "            \"age80-84\": \"260141\",\n",
            "            \"age85-89\": \"126045\",\n",
            "            \"age90u\": \"46818\"\n",
            "        }\n",
            "    ]\n",
            "}\n"
          ]
        }
      ]
    },
    {
      "cell_type": "code",
      "source": [],
      "metadata": {
        "id": "mAIdnn1osu7r"
      },
      "execution_count": null,
      "outputs": []
    }
  ]
}