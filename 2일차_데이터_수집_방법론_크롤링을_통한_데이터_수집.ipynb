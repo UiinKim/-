{
  "nbformat": 4,
  "nbformat_minor": 0,
  "metadata": {
    "colab": {
      "provenance": [],
      "collapsed_sections": [
        "_ErFzCXQpeMJ",
        "abHK6C_cqG2N",
        "HWHg6d2IuZ6w",
        "wtKWSaUaUj99",
        "yywxAHEZiJmF",
        "ZSRR7g8xjIGm",
        "ybN2tJP-IKcx",
        "epmYp86RIOwF",
        "uG-rZF72IVf0",
        "iU6kTvQxIZ3h"
      ],
      "include_colab_link": true
    },
    "kernelspec": {
      "name": "python3",
      "display_name": "Python 3"
    },
    "language_info": {
      "name": "python"
    }
  },
  "cells": [
    {
      "cell_type": "markdown",
      "metadata": {
        "id": "view-in-github",
        "colab_type": "text"
      },
      "source": [
        "<a href=\"https://colab.research.google.com/github/UiinKim/Crawling/blob/main/2%EC%9D%BC%EC%B0%A8_%EB%8D%B0%EC%9D%B4%ED%84%B0_%EC%88%98%EC%A7%91_%EB%B0%A9%EB%B2%95%EB%A1%A0_%ED%81%AC%EB%A1%A4%EB%A7%81%EC%9D%84_%ED%86%B5%ED%95%9C_%EB%8D%B0%EC%9D%B4%ED%84%B0_%EC%88%98%EC%A7%91.ipynb\" target=\"_parent\"><img src=\"https://colab.research.google.com/assets/colab-badge.svg\" alt=\"Open In Colab\"/></a>"
      ]
    },
    {
      "cell_type": "markdown",
      "source": [
        "# 2일차_데이터_수집_방법론_크롤링을_통한_데이터_수집\n",
        "-----------\n",
        "\n",
        "## 실습 가이드\n",
        "1. 코드 실행은 Shift + Enter\n",
        "2. 코드는 위에서부터 아래로 순서대로 실행한다.\n",
        "\n",
        "## 데이터 설명\n"
      ],
      "metadata": {
        "id": "BOFj0UO-bSq3"
      }
    },
    {
      "cell_type": "markdown",
      "source": [
        "# 웹 크롤링 실습"
      ],
      "metadata": {
        "id": "8x6LJkFYpPDE"
      }
    },
    {
      "cell_type": "markdown",
      "source": [
        "- HTML 구조 실습"
      ],
      "metadata": {
        "id": "ZgZ4b7bnnZOQ"
      }
    },
    {
      "cell_type": "code",
      "execution_count": 1,
      "metadata": {
        "id": "vPar36-YGxt4"
      },
      "outputs": [],
      "source": [
        "html_doc ='''<html><head><title>웹크롤링 연습</title></head>\n",
        "<body>\n",
        "<p class=\"title\"><b><h1>HTML 연습</h1></b></p>\n",
        "<p class=\"link\">인터넷 링크를 작성하는 방법은\n",
        "<a class=\"naver\" href='https://sports.news.naver.com/wfootball/index' id=\"link1\">네이버 스포츠 뉴스</a>와\n",
        "<a class=\"daum\" href=\"https://sports.daum.net/worldsoccer\" id=\"link2\">다음 스포츠 뉴스</a>처럼\n",
        "HTML 링크로 작성할 수 있습니다.\n",
        "</p>\n",
        "<p class=\"story\">그리고 HTML 문서는 글자의 크기도 조정 가능해서\n",
        "<h2>크게</h2>작성할 수도 있고, <h4>작게</h4> 작성할 수도 있습니다.\n",
        "</p>\n",
        "</body></html>\n",
        "'''\n",
        "\n",
        "with open('웹크롤링 연습.html','w') as f:\n",
        "  f.write(html_doc)"
      ]
    },
    {
      "cell_type": "markdown",
      "source": [
        "- 코드 작성 이후 실행하고 코랩 탐색기에서 '웹크롤링 연습.html'을 다운받아서 실행해보기\n",
        "- 각 링크를 보며 어떤 구조로 연결이 되었는지 생각해보기\n",
        "- HTML 태그에 따른 구조를 생각하며 보기"
      ],
      "metadata": {
        "id": "vizasE_hb8qV"
      }
    },
    {
      "cell_type": "markdown",
      "source": [
        "## 1. BeautifulSoup"
      ],
      "metadata": {
        "id": "ZUsO81ATm_tl"
      }
    },
    {
      "cell_type": "markdown",
      "source": [
        "### 1-1. bs4 설치"
      ],
      "metadata": {
        "id": "uTQSzabkm_tl"
      }
    },
    {
      "cell_type": "code",
      "source": [
        "# bs4를 import로 사용하기 위해 설치\n",
        "\n",
        "!pip install bs4"
      ],
      "metadata": {
        "colab": {
          "base_uri": "https://localhost:8080/"
        },
        "outputId": "baadaaa3-d846-4a06-d6f7-e09b32475dfa",
        "id": "WmLS91ZTm_tm"
      },
      "execution_count": 2,
      "outputs": [
        {
          "output_type": "stream",
          "name": "stdout",
          "text": [
            "Collecting bs4\n",
            "  Downloading bs4-0.0.2-py2.py3-none-any.whl.metadata (411 bytes)\n",
            "Requirement already satisfied: beautifulsoup4 in /usr/local/lib/python3.10/dist-packages (from bs4) (4.12.3)\n",
            "Requirement already satisfied: soupsieve>1.2 in /usr/local/lib/python3.10/dist-packages (from beautifulsoup4->bs4) (2.6)\n",
            "Downloading bs4-0.0.2-py2.py3-none-any.whl (1.2 kB)\n",
            "Installing collected packages: bs4\n",
            "Successfully installed bs4-0.0.2\n"
          ]
        }
      ]
    },
    {
      "cell_type": "markdown",
      "source": [
        "HTML 구조 실습에서 작성해서 저장한 html 문서를 다시 불러들여 문서를 파싱하여 사람이 이해하기 쉬운 언어로 변환하고 필요한 정보를 추출하는 과정"
      ],
      "metadata": {
        "id": "wGCn_4a5m_tm"
      }
    },
    {
      "cell_type": "markdown",
      "source": [
        "### 1-2. 문서 파싱(parsing)\n",
        "\n",
        "- 앞서 저장한 html 문서를 다시 읽어들여 html 태그의 형태를 그대로 유지하면서 파싱하는 방법인 BeautifulSoup 클래스를 사용하여 읽는다\n",
        "- 이를 사람이 식별하기 좋게 태그 단위로 출력하는 prettify 메소드를 활용한다"
      ],
      "metadata": {
        "id": "zBsvGybem_tm"
      }
    },
    {
      "cell_type": "code",
      "source": [
        "# bs4 모듈에서 BeautifulSoup 클래스를 import하고 bs라는 약칭으로 사용\n",
        "from bs4 import BeautifulSoup as bs\n",
        "\n",
        "# 이전에 생성한 HTML 파일 ('웹크롤링 연습.html')을 읽기 모드('r')로 열기\n",
        "with open('웹크롤링 연습.html', 'r') as f:\n",
        "    # HTML 파일의 내용을 읽어와서 변수 html_doc에 저장\n",
        "    html_doc = f.read()\n",
        "\n",
        "# BeautifulSoup 객체 생성 - html_doc을 'html.parser'를 사용하여 파싱\n",
        "soup = bs(html_doc, 'html.parser')\n",
        "\n",
        "# BeautifulSoup 객체 출력 (HTML 구조를 그대로 출력)\n",
        "print(soup)\n",
        "\n",
        "# prettify() 메서드를 사용해 HTML 문서를 들여쓰기 및 정리하여 출력\n",
        "print(soup.prettify())\n"
      ],
      "metadata": {
        "colab": {
          "base_uri": "https://localhost:8080/"
        },
        "outputId": "7466a072-3bd2-4129-bd57-1dd22fe85c40",
        "id": "9nYb_-BQm_tn"
      },
      "execution_count": 3,
      "outputs": [
        {
          "output_type": "stream",
          "name": "stdout",
          "text": [
            "<html><head><title>웹크롤링 연습</title></head>\n",
            "<body>\n",
            "<p class=\"title\"><b><h1>HTML 연습</h1></b></p>\n",
            "<p class=\"link\">인터넷 링크를 작성하는 방법은\n",
            "<a class=\"naver\" href=\"https://sports.news.naver.com/wfootball/index\" id=\"link1\">네이버 스포츠 뉴스</a>와\n",
            "<a class=\"daum\" href=\"https://sports.daum.net/worldsoccer\" id=\"link2\">다음 스포츠 뉴스</a>처럼\n",
            "HTML 링크로 작성할 수 있습니다.\n",
            "</p>\n",
            "<p class=\"story\">그리고 HTML 문서는 글자의 크기도 조정 가능해서\n",
            "<h2>크게</h2>작성할 수도 있고, <h4>작게</h4> 작성할 수도 있습니다.\n",
            "</p>\n",
            "</body></html>\n",
            "\n",
            "<html>\n",
            " <head>\n",
            "  <title>\n",
            "   웹크롤링 연습\n",
            "  </title>\n",
            " </head>\n",
            " <body>\n",
            "  <p class=\"title\">\n",
            "   <b>\n",
            "    <h1>\n",
            "     HTML 연습\n",
            "    </h1>\n",
            "   </b>\n",
            "  </p>\n",
            "  <p class=\"link\">\n",
            "   인터넷 링크를 작성하는 방법은\n",
            "   <a class=\"naver\" href=\"https://sports.news.naver.com/wfootball/index\" id=\"link1\">\n",
            "    네이버 스포츠 뉴스\n",
            "   </a>\n",
            "   와\n",
            "   <a class=\"daum\" href=\"https://sports.daum.net/worldsoccer\" id=\"link2\">\n",
            "    다음 스포츠 뉴스\n",
            "   </a>\n",
            "   처럼\n",
            "HTML 링크로 작성할 수 있습니다.\n",
            "  </p>\n",
            "  <p class=\"story\">\n",
            "   그리고 HTML 문서는 글자의 크기도 조정 가능해서\n",
            "   <h2>\n",
            "    크게\n",
            "   </h2>\n",
            "   작성할 수도 있고,\n",
            "   <h4>\n",
            "    작게\n",
            "   </h4>\n",
            "   작성할 수도 있습니다.\n",
            "  </p>\n",
            " </body>\n",
            "</html>\n",
            "\n"
          ]
        }
      ]
    },
    {
      "cell_type": "markdown",
      "source": [
        "- prettify()를 사용해 출력시키면 태그의 시작과 종료 위치, 상위 및 하위 태그의 종속 관계를 이해하기 쉬워진다.\n",
        "-  여기서 저장한 soup 객체는 html 태그가 그대로 살아있어서 이 태그들의 특성을 이용해 필요한 정보를 추출할 수 있다."
      ],
      "metadata": {
        "id": "YbdnORD4m_tn"
      }
    },
    {
      "cell_type": "code",
      "source": [
        "# soup 객체에서 모든 <p> 태그를 찾은 후 반복문을 통해 텍스트만 출력\n",
        "for p in soup.find_all('p'):\n",
        "    # 찾은 <p> 태그의 텍스트 내용을 출력\n",
        "    print(p.text)\n",
        "\n",
        "# soup 객체에서 CSS 선택자 'p'를 사용하여 <p> 태그를 찾은 후 텍스트 출력\n",
        "for p in soup.select('p'):\n",
        "    # 찾은 <p> 태그의 텍스트 내용을 출력\n",
        "    print(p.text)\n"
      ],
      "metadata": {
        "colab": {
          "base_uri": "https://localhost:8080/"
        },
        "outputId": "c58a6ac7-30ab-4bca-dc59-b16e2034a889",
        "id": "ZrGbt0nGm_tn"
      },
      "execution_count": 4,
      "outputs": [
        {
          "output_type": "stream",
          "name": "stdout",
          "text": [
            "HTML 연습\n",
            "인터넷 링크를 작성하는 방법은\n",
            "네이버 스포츠 뉴스와\n",
            "다음 스포츠 뉴스처럼\n",
            "HTML 링크로 작성할 수 있습니다.\n",
            "\n",
            "그리고 HTML 문서는 글자의 크기도 조정 가능해서\n",
            "크게작성할 수도 있고, 작게 작성할 수도 있습니다.\n",
            "\n",
            "HTML 연습\n",
            "인터넷 링크를 작성하는 방법은\n",
            "네이버 스포츠 뉴스와\n",
            "다음 스포츠 뉴스처럼\n",
            "HTML 링크로 작성할 수 있습니다.\n",
            "\n",
            "그리고 HTML 문서는 글자의 크기도 조정 가능해서\n",
            "크게작성할 수도 있고, 작게 작성할 수도 있습니다.\n",
            "\n"
          ]
        }
      ]
    },
    {
      "cell_type": "markdown",
      "source": [
        "- 결과를 보면 soup 객체의 메소드인 title과 태그명들을 활용하여 필요한 부분만 정보를 추출할 수 있다.\n",
        "- find_all, select 함수를 이용하는 방법이 필요한 부분의 정보를 추출하는데 더 효율적이다"
      ],
      "metadata": {
        "id": "hlWBWb-Em_tn"
      }
    },
    {
      "cell_type": "code",
      "source": [
        "# soup 객체에서 모든 <p> 태그를 찾아 텍스트를 출력\n",
        "for p in soup.find_all('p'):\n",
        "    # 각 <p> 태그 내부의 텍스트를 출력\n",
        "    print(p.text)\n",
        "\n",
        "# soup 객체에서 CSS 선택자 'p'를 사용하여 <p> 태그를 찾아 텍스트를 출력\n",
        "for p in soup.select('p'):\n",
        "    # 각 <p> 태그 내부의 텍스트를 출력\n",
        "    print(p.text)\n"
      ],
      "metadata": {
        "colab": {
          "base_uri": "https://localhost:8080/"
        },
        "outputId": "2d27ed51-56b8-4456-b9cc-ea1a16059869",
        "id": "6QkiRqmWm_to"
      },
      "execution_count": 5,
      "outputs": [
        {
          "output_type": "stream",
          "name": "stdout",
          "text": [
            "HTML 연습\n",
            "인터넷 링크를 작성하는 방법은\n",
            "네이버 스포츠 뉴스와\n",
            "다음 스포츠 뉴스처럼\n",
            "HTML 링크로 작성할 수 있습니다.\n",
            "\n",
            "그리고 HTML 문서는 글자의 크기도 조정 가능해서\n",
            "크게작성할 수도 있고, 작게 작성할 수도 있습니다.\n",
            "\n",
            "HTML 연습\n",
            "인터넷 링크를 작성하는 방법은\n",
            "네이버 스포츠 뉴스와\n",
            "다음 스포츠 뉴스처럼\n",
            "HTML 링크로 작성할 수 있습니다.\n",
            "\n",
            "그리고 HTML 문서는 글자의 크기도 조정 가능해서\n",
            "크게작성할 수도 있고, 작게 작성할 수도 있습니다.\n",
            "\n"
          ]
        }
      ]
    },
    {
      "cell_type": "markdown",
      "source": [
        "### 1-3. find 함수 활용"
      ],
      "metadata": {
        "id": "EQLbTaLAm_to"
      }
    },
    {
      "cell_type": "markdown",
      "source": [
        "- **find** 함수는 태그, 속성과 속성값을 활용해서 HTML 문서의 텍스트를 추출할 수 있다\n",
        "- **find_all** 함수는 여러 개의 내용을 리스트 형태로 가져올 수 있으며, 특정 하나의 태그만을 추출하려면 find 함수를 사용한다\n",
        "- 태그 내의 **class** 혹은 **id** 등에 해당하는 속성과 속성값을 활용하여 해당 태그의 내용을 추출할 수 있다."
      ],
      "metadata": {
        "id": "Ombd1ru2m_to"
      }
    },
    {
      "cell_type": "code",
      "source": [
        "# soup 객체에서 모든 <p> 태그를 찾아 리스트 형태로 출력\n",
        "print(soup.find_all('p'))\n",
        "\n",
        "# soup 객체에서 첫 번째 <p> 태그를 찾아 출력\n",
        "print(soup.find('p'))\n",
        "\n",
        "# soup 객체에서 클래스 이름이 'title'인 요소를 찾아 출력\n",
        "print(soup.find(class_='title'))\n",
        "\n",
        "# soup 객체에서 속성이 'class'이고 값이 'python'인 요소를 찾아 출력\n",
        "print(soup.find(attrs={'class': 'python'}))\n",
        "\n",
        "# soup 객체에서 태그가 'a'이고, 속성 'id'가 'link1'인 요소를 찾아 출력\n",
        "print(soup.find('a', {'id': 'link1'}))\n",
        "\n",
        "# soup 객체에서 속성이 'id'이고 값이 'link2'인 요소를 찾아 출력\n",
        "print(soup.find(attrs={'id': 'link2'}))\n"
      ],
      "metadata": {
        "colab": {
          "base_uri": "https://localhost:8080/"
        },
        "outputId": "3c8f7af0-1aca-41bd-c243-e968a7f3a4f3",
        "id": "r3ucmSuPm_to"
      },
      "execution_count": 6,
      "outputs": [
        {
          "output_type": "stream",
          "name": "stdout",
          "text": [
            "[<p class=\"title\"><b><h1>HTML 연습</h1></b></p>, <p class=\"link\">인터넷 링크를 작성하는 방법은\n",
            "<a class=\"naver\" href=\"https://sports.news.naver.com/wfootball/index\" id=\"link1\">네이버 스포츠 뉴스</a>와\n",
            "<a class=\"daum\" href=\"https://sports.daum.net/worldsoccer\" id=\"link2\">다음 스포츠 뉴스</a>처럼\n",
            "HTML 링크로 작성할 수 있습니다.\n",
            "</p>, <p class=\"story\">그리고 HTML 문서는 글자의 크기도 조정 가능해서\n",
            "<h2>크게</h2>작성할 수도 있고, <h4>작게</h4> 작성할 수도 있습니다.\n",
            "</p>]\n",
            "<p class=\"title\"><b><h1>HTML 연습</h1></b></p>\n",
            "<p class=\"title\"><b><h1>HTML 연습</h1></b></p>\n",
            "None\n",
            "<a class=\"naver\" href=\"https://sports.news.naver.com/wfootball/index\" id=\"link1\">네이버 스포츠 뉴스</a>\n",
            "<a class=\"daum\" href=\"https://sports.daum.net/worldsoccer\" id=\"link2\">다음 스포츠 뉴스</a>\n"
          ]
        }
      ]
    },
    {
      "cell_type": "markdown",
      "source": [
        "- 기본적으로 태그 명을 사용하고, 여기에 클래스나 아이디 등의 속성과 그에 해당하는 속성값을 넣어 해당 태그의 텍스트를 추출할 수 있다.\n",
        "- 실제 값을 추출할 경우는 find_all은 여러개의 시리즈를 가지고 있으므로 for 문을 사용한다.\n",
        "- find의 경우는 단일값을 가지고 있기 때문에 속성값을 추출할 때는 get 함수를 이용하고, 태그에 둘러싸여 있는 텍스트를 추출하고자 할 때는 text 메소드를 활용하면 된다."
      ],
      "metadata": {
        "id": "HXvd16Efm_tp"
      }
    },
    {
      "cell_type": "code",
      "source": [
        "# 첫 번째 <p> 태그 내부에서 <h1> 태그를 찾아 텍스트 출력\n",
        "print(soup.find('p').find('h1').text)\n",
        "\n",
        "# 첫 번째 <p> 태그의 'class' 속성 값을 가져와 출력\n",
        "print(soup.find_all('p')[0].get('class'))"
      ],
      "metadata": {
        "colab": {
          "base_uri": "https://localhost:8080/"
        },
        "outputId": "764a41d8-969a-4070-c9f4-b606a906cfb4",
        "id": "Lj4Otu8Jm_tp"
      },
      "execution_count": 7,
      "outputs": [
        {
          "output_type": "stream",
          "name": "stdout",
          "text": [
            "HTML 연습\n",
            "['title']\n"
          ]
        }
      ]
    },
    {
      "cell_type": "markdown",
      "source": [
        "### 1-4. CSS 선택자(Selector) 이용 : select 함수"
      ],
      "metadata": {
        "id": "lQ_URlydm_tp"
      }
    },
    {
      "cell_type": "markdown",
      "source": [
        "- CSS(Cascading Style Sheets)에서 선택자는 디자인 스타일을 적용하고자 하는 HTML의 요소를 선택할 때 사용된다\n",
        "- 다양한 종류가 있으며 여러 개의 선택자를 통해서 하나의 태그를 공통으로 제어할 수 있다\n"
      ],
      "metadata": {
        "id": "yGTuVtWim_tp"
      }
    },
    {
      "cell_type": "markdown",
      "source": [
        "- 태그 선택자, 클래스 선택자, 아이디 선택자가 있다\n",
        "- 우선 적용 순위로는 조금 더 구체적인 선택자가 우선순위로 적용된다\n",
        "- find_all 함수와 같은 기능으로는 select 함수 (여러 개의 시리즈)\n",
        "- find 함수와 같은 기능으로는 select_one 함수 (하나의 태그)"
      ],
      "metadata": {
        "id": "_2DP-qVzm_tq"
      }
    },
    {
      "cell_type": "code",
      "source": [
        "# CSS 선택자 'p'를 사용하여 모든 <p> 태그를 리스트 형태로 출력\n",
        "print(soup.select('p'))\n",
        "\n",
        "# CSS 선택자 'p'를 사용하여 첫 번째 <p> 태그를 찾아 출력\n",
        "print(soup.select_one('p'))\n",
        "\n",
        "# 클래스 이름이 'title'인 요소를 찾아 출력 (CSS 선택자 사용)\n",
        "print(soup.select_one('.title'))\n",
        "\n",
        "# 클래스 이름이 'python'인 요소를 찾아 출력\n",
        "print(soup.select_one('python'))\n",
        "\n",
        "# 태그 'a'와 id='link1' 속성을 가진 요소를 찾아 출력 (CSS 선택자 사용)\n",
        "print(soup.select_one('a#link1'))\n",
        "\n",
        "# id='link2' 속성을 가진 요소를 찾아 출력\n",
        "print(soup.select_one('#link2'))\n"
      ],
      "metadata": {
        "colab": {
          "base_uri": "https://localhost:8080/"
        },
        "outputId": "c39af8e0-0be8-436a-d33e-afe192b2a869",
        "id": "dbZO_RVum_tq"
      },
      "execution_count": 8,
      "outputs": [
        {
          "output_type": "stream",
          "name": "stdout",
          "text": [
            "[<p class=\"title\"><b><h1>HTML 연습</h1></b></p>, <p class=\"link\">인터넷 링크를 작성하는 방법은\n",
            "<a class=\"naver\" href=\"https://sports.news.naver.com/wfootball/index\" id=\"link1\">네이버 스포츠 뉴스</a>와\n",
            "<a class=\"daum\" href=\"https://sports.daum.net/worldsoccer\" id=\"link2\">다음 스포츠 뉴스</a>처럼\n",
            "HTML 링크로 작성할 수 있습니다.\n",
            "</p>, <p class=\"story\">그리고 HTML 문서는 글자의 크기도 조정 가능해서\n",
            "<h2>크게</h2>작성할 수도 있고, <h4>작게</h4> 작성할 수도 있습니다.\n",
            "</p>]\n",
            "<p class=\"title\"><b><h1>HTML 연습</h1></b></p>\n",
            "<p class=\"title\"><b><h1>HTML 연습</h1></b></p>\n",
            "None\n",
            "<a class=\"naver\" href=\"https://sports.news.naver.com/wfootball/index\" id=\"link1\">네이버 스포츠 뉴스</a>\n",
            "<a class=\"daum\" href=\"https://sports.daum.net/worldsoccer\" id=\"link2\">다음 스포츠 뉴스</a>\n"
          ]
        }
      ]
    },
    {
      "cell_type": "markdown",
      "source": [
        "- find 함수와 다른 부분은 문법상 **'class', 'id'** 태그를 **'.'**과 **'#'**으로 대체하여 사용하며, 기능은 동일하다"
      ],
      "metadata": {
        "id": "QhRlPz3mm_tq"
      }
    },
    {
      "cell_type": "code",
      "source": [
        "# 첫 번째 <p> 태그 내부에 있는 id='link1' 요소의 텍스트 출력\n",
        "print(soup.select_one('p > #link1').text)\n",
        "\n",
        "# 두 번째 <a> 태그의 'id' 속성 값을 가져와 출력\n",
        "print(soup.select('a')[1].get('id'))\n",
        "\n",
        "# 두 번째 <p> 태그의 텍스트 내용을 출력\n",
        "print(soup.select('p')[1].text)\n"
      ],
      "metadata": {
        "colab": {
          "base_uri": "https://localhost:8080/"
        },
        "outputId": "4c954db3-9ec3-4065-c4ab-086367de1f9c",
        "id": "6tBkOr7-m_tq"
      },
      "execution_count": 9,
      "outputs": [
        {
          "output_type": "stream",
          "name": "stdout",
          "text": [
            "네이버 스포츠 뉴스\n",
            "link2\n",
            "인터넷 링크를 작성하는 방법은\n",
            "네이버 스포츠 뉴스와\n",
            "다음 스포츠 뉴스처럼\n",
            "HTML 링크로 작성할 수 있습니다.\n",
            "\n"
          ]
        }
      ]
    },
    {
      "cell_type": "markdown",
      "source": [
        "## 2. Requests, Urllib"
      ],
      "metadata": {
        "id": "bGnpm273HBXx"
      }
    },
    {
      "cell_type": "markdown",
      "source": [
        "### 2-1. robots.txt로 확인"
      ],
      "metadata": {
        "id": "ybN2tJP-IKcx"
      }
    },
    {
      "cell_type": "markdown",
      "source": [
        "- 네이버 뉴스의 크롤링 가능 여부 : https://news.naver.com/robots.txt\n"
      ],
      "metadata": {
        "id": "1wgp-zYe6zKo"
      }
    },
    {
      "cell_type": "code",
      "source": [
        "import requests\n",
        "\n",
        "# 로봇 배제 기준 확인 (robots.txt 파일 가져오기)\n",
        "resp = requests.get(\"https://news.naver.com/robots.txt\")\n",
        "print(resp.text)\n"
      ],
      "metadata": {
        "colab": {
          "base_uri": "https://localhost:8080/"
        },
        "id": "vYoJzUNeIJzv",
        "outputId": "b59f41c8-7c39-432d-fd08-a1e1d3db1b8f"
      },
      "execution_count": 10,
      "outputs": [
        {
          "output_type": "stream",
          "name": "stdout",
          "text": [
            "User-agent: Yeti\n",
            "Allow: /main/imagemontage\n",
            "Disallow: /\n",
            "\n",
            "User-Agent: facebookexternalhit\n",
            "Disallow: /*/template\n",
            "\n",
            "User-Agent: Twitterbot\n",
            "Disallow: /*/template\n",
            "\n",
            "User-agent: *\n",
            "Disallow: /\n",
            "\n"
          ]
        }
      ]
    },
    {
      "cell_type": "markdown",
      "source": [
        "- 3가지의 User-Agent 제외하고 모든 부분에 대해 허용"
      ],
      "metadata": {
        "id": "4jqcgP5HdUrq"
      }
    },
    {
      "cell_type": "markdown",
      "source": [
        "### 2-2. Requests\n",
        "\n",
        "- 데이터 전송시 딕셔너리 형태로 주고 받기에 별도로 디코딩 과정이 필요 없음\n",
        "- get 메소드로 해당 웹 페이지 정보 읽기 가능\n",
        "- 수신한 HTML 문서에 대한 encoding이나 headers 정보를 간단하게 파악 가능\n",
        "- 모든 텍스트 정보를 확인하기 위해 간단하게 text 메서드 활용"
      ],
      "metadata": {
        "id": "epmYp86RIOwF"
      }
    },
    {
      "cell_type": "code",
      "source": [
        "import requests\n",
        "\n",
        "# 웹 페이지에 GET 요청을 보냄\n",
        "r = requests.get('https://news.naver.com/')\n",
        "\n",
        "# 인코딩 방식 출력\n",
        "print(\"Encoding:\", r.encoding)\n",
        "\n",
        "# 헤더에서 'Expires' 정보 출력\n",
        "print(\"Expires:\", r.headers.get('Expires'))\n",
        "\n",
        "# 헤더에서 'Content-Type' 정보 출력\n",
        "print(\"Content-Type:\", r.headers.get('Content-Type'))\n",
        "\n",
        "# 전체 헤더 정보 출력\n",
        "print(\"\\nHeaders:\")\n",
        "print(r.headers)\n"
      ],
      "metadata": {
        "colab": {
          "base_uri": "https://localhost:8080/"
        },
        "id": "0QF2ISB8H8Td",
        "outputId": "1ffcac95-67b7-4ad7-81c7-dca1eaadccb4"
      },
      "execution_count": 11,
      "outputs": [
        {
          "output_type": "stream",
          "name": "stdout",
          "text": [
            "Encoding: utf-8\n",
            "Expires: None\n",
            "Content-Type: text/html;charset=utf-8\n",
            "\n",
            "Headers:\n",
            "{'Cache-Control': 'no-cache, no-store', 'x-xss-protection': '1; mode=block', 'x-content-type-options': 'nosniff', 'x-frame-options': 'SAMEORIGIN', 'Content-Language': 'ko-KR', 'Content-Encoding': 'gzip', 'Access-Control-Allow-Credentials': 'true', 'Access-Control-Allow-Headers': 'accept, content-type', 'Access-Control-Allow-Methods': 'GET, POST', 'Content-Type': 'text/html;charset=utf-8', 'referrer-policy': 'unsafe-url', 'Server': 'nfront', 'Date': 'Mon, 18 Nov 2024 06:41:28 GMT', 'Transfer-Encoding': 'chunked', 'Connection': 'keep-alive, Transfer-Encoding', 'Vary': 'Accept-Encoding'}\n"
          ]
        }
      ]
    },
    {
      "cell_type": "markdown",
      "source": [
        "- 본인의 개인 블로그에 접근하는 방법\n",
        "- 아이디와 패스워드 입력"
      ],
      "metadata": {
        "id": "Ar0SnzsUfEZ4"
      }
    },
    {
      "cell_type": "code",
      "source": [
        "# 웹 페이지에 GET 요청을 보냄\n",
        "r = requests.get('https://blog.naver.com/right98', auth=('아이디', '패스워드'))\n",
        "\n",
        "# 인코딩 방식 출력\n",
        "print(\"Encoding:\", r.encoding)\n",
        "\n",
        "# 헤더에서 'Expires' 정보 출력\n",
        "print(\"Expires:\", r.headers.get('Expires'))\n",
        "\n",
        "# 헤더에서 'Content-Type' 정보 출력\n",
        "print(\"Content-Type:\", r.headers.get('Content-Type'))\n",
        "\n",
        "# 전체 헤더 정보 출력\n",
        "print(\"\\nHeaders:\")\n",
        "print(r.headers)\n"
      ],
      "metadata": {
        "colab": {
          "base_uri": "https://localhost:8080/",
          "height": 373
        },
        "id": "Ryd_PbE0sF3H",
        "outputId": "70925b23-ee19-4ead-97bc-cc0025eb91c7"
      },
      "execution_count": 12,
      "outputs": [
        {
          "output_type": "error",
          "ename": "UnicodeEncodeError",
          "evalue": "'latin-1' codec can't encode characters in position 0-2: ordinal not in range(256)",
          "traceback": [
            "\u001b[0;31m---------------------------------------------------------------------------\u001b[0m",
            "\u001b[0;31mUnicodeEncodeError\u001b[0m                        Traceback (most recent call last)",
            "\u001b[0;32m<ipython-input-12-108313b48cc6>\u001b[0m in \u001b[0;36m<cell line: 2>\u001b[0;34m()\u001b[0m\n\u001b[1;32m      1\u001b[0m \u001b[0;31m# 웹 페이지에 GET 요청을 보냄\u001b[0m\u001b[0;34m\u001b[0m\u001b[0;34m\u001b[0m\u001b[0m\n\u001b[0;32m----> 2\u001b[0;31m \u001b[0mr\u001b[0m \u001b[0;34m=\u001b[0m \u001b[0mrequests\u001b[0m\u001b[0;34m.\u001b[0m\u001b[0mget\u001b[0m\u001b[0;34m(\u001b[0m\u001b[0;34m'https://blog.naver.com/right98'\u001b[0m\u001b[0;34m,\u001b[0m \u001b[0mauth\u001b[0m\u001b[0;34m=\u001b[0m\u001b[0;34m(\u001b[0m\u001b[0;34m'아이디'\u001b[0m\u001b[0;34m,\u001b[0m \u001b[0;34m'패스워드'\u001b[0m\u001b[0;34m)\u001b[0m\u001b[0;34m)\u001b[0m\u001b[0;34m\u001b[0m\u001b[0;34m\u001b[0m\u001b[0m\n\u001b[0m\u001b[1;32m      3\u001b[0m \u001b[0;34m\u001b[0m\u001b[0m\n\u001b[1;32m      4\u001b[0m \u001b[0;31m# 인코딩 방식 출력\u001b[0m\u001b[0;34m\u001b[0m\u001b[0;34m\u001b[0m\u001b[0m\n\u001b[1;32m      5\u001b[0m \u001b[0mprint\u001b[0m\u001b[0;34m(\u001b[0m\u001b[0;34m\"Encoding:\"\u001b[0m\u001b[0;34m,\u001b[0m \u001b[0mr\u001b[0m\u001b[0;34m.\u001b[0m\u001b[0mencoding\u001b[0m\u001b[0;34m)\u001b[0m\u001b[0;34m\u001b[0m\u001b[0;34m\u001b[0m\u001b[0m\n",
            "\u001b[0;32m/usr/local/lib/python3.10/dist-packages/requests/api.py\u001b[0m in \u001b[0;36mget\u001b[0;34m(url, params, **kwargs)\u001b[0m\n\u001b[1;32m     71\u001b[0m     \"\"\"\n\u001b[1;32m     72\u001b[0m \u001b[0;34m\u001b[0m\u001b[0m\n\u001b[0;32m---> 73\u001b[0;31m     \u001b[0;32mreturn\u001b[0m \u001b[0mrequest\u001b[0m\u001b[0;34m(\u001b[0m\u001b[0;34m\"get\"\u001b[0m\u001b[0;34m,\u001b[0m \u001b[0murl\u001b[0m\u001b[0;34m,\u001b[0m \u001b[0mparams\u001b[0m\u001b[0;34m=\u001b[0m\u001b[0mparams\u001b[0m\u001b[0;34m,\u001b[0m \u001b[0;34m**\u001b[0m\u001b[0mkwargs\u001b[0m\u001b[0;34m)\u001b[0m\u001b[0;34m\u001b[0m\u001b[0;34m\u001b[0m\u001b[0m\n\u001b[0m\u001b[1;32m     74\u001b[0m \u001b[0;34m\u001b[0m\u001b[0m\n\u001b[1;32m     75\u001b[0m \u001b[0;34m\u001b[0m\u001b[0m\n",
            "\u001b[0;32m/usr/local/lib/python3.10/dist-packages/requests/api.py\u001b[0m in \u001b[0;36mrequest\u001b[0;34m(method, url, **kwargs)\u001b[0m\n\u001b[1;32m     57\u001b[0m     \u001b[0;31m# cases, and look like a memory leak in others.\u001b[0m\u001b[0;34m\u001b[0m\u001b[0;34m\u001b[0m\u001b[0m\n\u001b[1;32m     58\u001b[0m     \u001b[0;32mwith\u001b[0m \u001b[0msessions\u001b[0m\u001b[0;34m.\u001b[0m\u001b[0mSession\u001b[0m\u001b[0;34m(\u001b[0m\u001b[0;34m)\u001b[0m \u001b[0;32mas\u001b[0m \u001b[0msession\u001b[0m\u001b[0;34m:\u001b[0m\u001b[0;34m\u001b[0m\u001b[0;34m\u001b[0m\u001b[0m\n\u001b[0;32m---> 59\u001b[0;31m         \u001b[0;32mreturn\u001b[0m \u001b[0msession\u001b[0m\u001b[0;34m.\u001b[0m\u001b[0mrequest\u001b[0m\u001b[0;34m(\u001b[0m\u001b[0mmethod\u001b[0m\u001b[0;34m=\u001b[0m\u001b[0mmethod\u001b[0m\u001b[0;34m,\u001b[0m \u001b[0murl\u001b[0m\u001b[0;34m=\u001b[0m\u001b[0murl\u001b[0m\u001b[0;34m,\u001b[0m \u001b[0;34m**\u001b[0m\u001b[0mkwargs\u001b[0m\u001b[0;34m)\u001b[0m\u001b[0;34m\u001b[0m\u001b[0;34m\u001b[0m\u001b[0m\n\u001b[0m\u001b[1;32m     60\u001b[0m \u001b[0;34m\u001b[0m\u001b[0m\n\u001b[1;32m     61\u001b[0m \u001b[0;34m\u001b[0m\u001b[0m\n",
            "\u001b[0;32m/usr/local/lib/python3.10/dist-packages/requests/sessions.py\u001b[0m in \u001b[0;36mrequest\u001b[0;34m(self, method, url, params, data, headers, cookies, files, auth, timeout, allow_redirects, proxies, hooks, stream, verify, cert, json)\u001b[0m\n\u001b[1;32m    573\u001b[0m             \u001b[0mhooks\u001b[0m\u001b[0;34m=\u001b[0m\u001b[0mhooks\u001b[0m\u001b[0;34m,\u001b[0m\u001b[0;34m\u001b[0m\u001b[0;34m\u001b[0m\u001b[0m\n\u001b[1;32m    574\u001b[0m         )\n\u001b[0;32m--> 575\u001b[0;31m         \u001b[0mprep\u001b[0m \u001b[0;34m=\u001b[0m \u001b[0mself\u001b[0m\u001b[0;34m.\u001b[0m\u001b[0mprepare_request\u001b[0m\u001b[0;34m(\u001b[0m\u001b[0mreq\u001b[0m\u001b[0;34m)\u001b[0m\u001b[0;34m\u001b[0m\u001b[0;34m\u001b[0m\u001b[0m\n\u001b[0m\u001b[1;32m    576\u001b[0m \u001b[0;34m\u001b[0m\u001b[0m\n\u001b[1;32m    577\u001b[0m         \u001b[0mproxies\u001b[0m \u001b[0;34m=\u001b[0m \u001b[0mproxies\u001b[0m \u001b[0;32mor\u001b[0m \u001b[0;34m{\u001b[0m\u001b[0;34m}\u001b[0m\u001b[0;34m\u001b[0m\u001b[0;34m\u001b[0m\u001b[0m\n",
            "\u001b[0;32m/usr/local/lib/python3.10/dist-packages/requests/sessions.py\u001b[0m in \u001b[0;36mprepare_request\u001b[0;34m(self, request)\u001b[0m\n\u001b[1;32m    482\u001b[0m \u001b[0;34m\u001b[0m\u001b[0m\n\u001b[1;32m    483\u001b[0m         \u001b[0mp\u001b[0m \u001b[0;34m=\u001b[0m \u001b[0mPreparedRequest\u001b[0m\u001b[0;34m(\u001b[0m\u001b[0;34m)\u001b[0m\u001b[0;34m\u001b[0m\u001b[0;34m\u001b[0m\u001b[0m\n\u001b[0;32m--> 484\u001b[0;31m         p.prepare(\n\u001b[0m\u001b[1;32m    485\u001b[0m             \u001b[0mmethod\u001b[0m\u001b[0;34m=\u001b[0m\u001b[0mrequest\u001b[0m\u001b[0;34m.\u001b[0m\u001b[0mmethod\u001b[0m\u001b[0;34m.\u001b[0m\u001b[0mupper\u001b[0m\u001b[0;34m(\u001b[0m\u001b[0;34m)\u001b[0m\u001b[0;34m,\u001b[0m\u001b[0;34m\u001b[0m\u001b[0;34m\u001b[0m\u001b[0m\n\u001b[1;32m    486\u001b[0m             \u001b[0murl\u001b[0m\u001b[0;34m=\u001b[0m\u001b[0mrequest\u001b[0m\u001b[0;34m.\u001b[0m\u001b[0murl\u001b[0m\u001b[0;34m,\u001b[0m\u001b[0;34m\u001b[0m\u001b[0;34m\u001b[0m\u001b[0m\n",
            "\u001b[0;32m/usr/local/lib/python3.10/dist-packages/requests/models.py\u001b[0m in \u001b[0;36mprepare\u001b[0;34m(self, method, url, headers, files, data, params, auth, cookies, hooks, json)\u001b[0m\n\u001b[1;32m    369\u001b[0m         \u001b[0mself\u001b[0m\u001b[0;34m.\u001b[0m\u001b[0mprepare_cookies\u001b[0m\u001b[0;34m(\u001b[0m\u001b[0mcookies\u001b[0m\u001b[0;34m)\u001b[0m\u001b[0;34m\u001b[0m\u001b[0;34m\u001b[0m\u001b[0m\n\u001b[1;32m    370\u001b[0m         \u001b[0mself\u001b[0m\u001b[0;34m.\u001b[0m\u001b[0mprepare_body\u001b[0m\u001b[0;34m(\u001b[0m\u001b[0mdata\u001b[0m\u001b[0;34m,\u001b[0m \u001b[0mfiles\u001b[0m\u001b[0;34m,\u001b[0m \u001b[0mjson\u001b[0m\u001b[0;34m)\u001b[0m\u001b[0;34m\u001b[0m\u001b[0;34m\u001b[0m\u001b[0m\n\u001b[0;32m--> 371\u001b[0;31m         \u001b[0mself\u001b[0m\u001b[0;34m.\u001b[0m\u001b[0mprepare_auth\u001b[0m\u001b[0;34m(\u001b[0m\u001b[0mauth\u001b[0m\u001b[0;34m,\u001b[0m \u001b[0murl\u001b[0m\u001b[0;34m)\u001b[0m\u001b[0;34m\u001b[0m\u001b[0;34m\u001b[0m\u001b[0m\n\u001b[0m\u001b[1;32m    372\u001b[0m \u001b[0;34m\u001b[0m\u001b[0m\n\u001b[1;32m    373\u001b[0m         \u001b[0;31m# Note that prepare_auth must be last to enable authentication schemes\u001b[0m\u001b[0;34m\u001b[0m\u001b[0;34m\u001b[0m\u001b[0m\n",
            "\u001b[0;32m/usr/local/lib/python3.10/dist-packages/requests/models.py\u001b[0m in \u001b[0;36mprepare_auth\u001b[0;34m(self, auth, url)\u001b[0m\n\u001b[1;32m    600\u001b[0m \u001b[0;34m\u001b[0m\u001b[0m\n\u001b[1;32m    601\u001b[0m             \u001b[0;31m# Allow auth to make its changes.\u001b[0m\u001b[0;34m\u001b[0m\u001b[0;34m\u001b[0m\u001b[0m\n\u001b[0;32m--> 602\u001b[0;31m             \u001b[0mr\u001b[0m \u001b[0;34m=\u001b[0m \u001b[0mauth\u001b[0m\u001b[0;34m(\u001b[0m\u001b[0mself\u001b[0m\u001b[0;34m)\u001b[0m\u001b[0;34m\u001b[0m\u001b[0;34m\u001b[0m\u001b[0m\n\u001b[0m\u001b[1;32m    603\u001b[0m \u001b[0;34m\u001b[0m\u001b[0m\n\u001b[1;32m    604\u001b[0m             \u001b[0;31m# Update self to reflect the auth changes.\u001b[0m\u001b[0;34m\u001b[0m\u001b[0;34m\u001b[0m\u001b[0m\n",
            "\u001b[0;32m/usr/local/lib/python3.10/dist-packages/requests/auth.py\u001b[0m in \u001b[0;36m__call__\u001b[0;34m(self, r)\u001b[0m\n\u001b[1;32m     93\u001b[0m \u001b[0;34m\u001b[0m\u001b[0m\n\u001b[1;32m     94\u001b[0m     \u001b[0;32mdef\u001b[0m \u001b[0m__call__\u001b[0m\u001b[0;34m(\u001b[0m\u001b[0mself\u001b[0m\u001b[0;34m,\u001b[0m \u001b[0mr\u001b[0m\u001b[0;34m)\u001b[0m\u001b[0;34m:\u001b[0m\u001b[0;34m\u001b[0m\u001b[0;34m\u001b[0m\u001b[0m\n\u001b[0;32m---> 95\u001b[0;31m         \u001b[0mr\u001b[0m\u001b[0;34m.\u001b[0m\u001b[0mheaders\u001b[0m\u001b[0;34m[\u001b[0m\u001b[0;34m\"Authorization\"\u001b[0m\u001b[0;34m]\u001b[0m \u001b[0;34m=\u001b[0m \u001b[0m_basic_auth_str\u001b[0m\u001b[0;34m(\u001b[0m\u001b[0mself\u001b[0m\u001b[0;34m.\u001b[0m\u001b[0musername\u001b[0m\u001b[0;34m,\u001b[0m \u001b[0mself\u001b[0m\u001b[0;34m.\u001b[0m\u001b[0mpassword\u001b[0m\u001b[0;34m)\u001b[0m\u001b[0;34m\u001b[0m\u001b[0;34m\u001b[0m\u001b[0m\n\u001b[0m\u001b[1;32m     96\u001b[0m         \u001b[0;32mreturn\u001b[0m \u001b[0mr\u001b[0m\u001b[0;34m\u001b[0m\u001b[0;34m\u001b[0m\u001b[0m\n\u001b[1;32m     97\u001b[0m \u001b[0;34m\u001b[0m\u001b[0m\n",
            "\u001b[0;32m/usr/local/lib/python3.10/dist-packages/requests/auth.py\u001b[0m in \u001b[0;36m_basic_auth_str\u001b[0;34m(username, password)\u001b[0m\n\u001b[1;32m     55\u001b[0m \u001b[0;34m\u001b[0m\u001b[0m\n\u001b[1;32m     56\u001b[0m     \u001b[0;32mif\u001b[0m \u001b[0misinstance\u001b[0m\u001b[0;34m(\u001b[0m\u001b[0musername\u001b[0m\u001b[0;34m,\u001b[0m \u001b[0mstr\u001b[0m\u001b[0;34m)\u001b[0m\u001b[0;34m:\u001b[0m\u001b[0;34m\u001b[0m\u001b[0;34m\u001b[0m\u001b[0m\n\u001b[0;32m---> 57\u001b[0;31m         \u001b[0musername\u001b[0m \u001b[0;34m=\u001b[0m \u001b[0musername\u001b[0m\u001b[0;34m.\u001b[0m\u001b[0mencode\u001b[0m\u001b[0;34m(\u001b[0m\u001b[0;34m\"latin1\"\u001b[0m\u001b[0;34m)\u001b[0m\u001b[0;34m\u001b[0m\u001b[0;34m\u001b[0m\u001b[0m\n\u001b[0m\u001b[1;32m     58\u001b[0m \u001b[0;34m\u001b[0m\u001b[0m\n\u001b[1;32m     59\u001b[0m     \u001b[0;32mif\u001b[0m \u001b[0misinstance\u001b[0m\u001b[0;34m(\u001b[0m\u001b[0mpassword\u001b[0m\u001b[0;34m,\u001b[0m \u001b[0mstr\u001b[0m\u001b[0;34m)\u001b[0m\u001b[0;34m:\u001b[0m\u001b[0;34m\u001b[0m\u001b[0;34m\u001b[0m\u001b[0m\n",
            "\u001b[0;31mUnicodeEncodeError\u001b[0m: 'latin-1' codec can't encode characters in position 0-2: ordinal not in range(256)"
          ]
        }
      ]
    },
    {
      "cell_type": "markdown",
      "source": [
        "- requests + bs4의 select 활용"
      ],
      "metadata": {
        "id": "lkNOGB6J-tzo"
      }
    },
    {
      "cell_type": "code",
      "source": [
        "import requests\n",
        "from bs4 import BeautifulSoup as bs\n",
        "\n",
        "# 웹 페이지 요청 (requests는 정적 페이지만 가능)\n",
        "response = requests.get('https://ai-bigdataanalysis.blogspot.com/2024/03/html.html')\n",
        "\n",
        "# 요청된 페이지의 HTML 내용을 텍스트 형태로 가져옴\n",
        "html_doc = response.text\n",
        "\n",
        "# BeautifulSoup 객체 생성 및 HTML 파싱\n",
        "soup = bs(html_doc, 'html.parser')\n",
        "\n",
        "# 특정 div 태그를 선택하여 해당 콘텐츠 가져오기 (클래스가 'post-body'인 div 요소 선택)\n",
        "content = soup.select_one('div.post-body')\n",
        "\n",
        "# 추출한 콘텐츠에서 모든 <span> 태그의 텍스트를 합쳐서 저장\n",
        "text = \"\"\n",
        "if content:  # 'content'가 None이 아닐 경우에만 실행\n",
        "    for para in content.select(\"span\"):\n",
        "        text += para.text.strip()\n",
        "\n",
        "# 최종적으로 텍스트 출력\n",
        "print(text)\n"
      ],
      "metadata": {
        "colab": {
          "base_uri": "https://localhost:8080/"
        },
        "id": "m25j_MMy-ypK",
        "outputId": "1eaf1340-f0b8-4b7c-d27d-af2fab745f06"
      },
      "execution_count": 13,
      "outputs": [
        {
          "output_type": "stream",
          "name": "stdout",
          "text": [
            "참조 :https://wikidocs.net/1278461. HTML 구조의 이해HTML은 웹 문서를 만들기 위하여 사용하는 기본적인 웹 언어의 한 종류이다. 하이퍼텍스트를 작성하기 위해 개발되었으며 인터넷 서비스의 하나인 월드와이드웹(WWW)을 통해서 볼 수 있는 문서를 만들 때 사용하는 웹 언어의 한 종류이다. 특히 인터넷에서 웹을 통해 접근되는 대부분의 웹 페이지들은 HTML로 작성되는데 문서의 글자 크기, 글자색, 글자모양, 그래픽, 문서이동(하이퍼링크) 등을 정의하는 명령어들이 있다. HTML에서 사용하는 명령어는 태그(tag)라고 하는데 꺽쇠괄호'<>'를 사용하여 나타낸다. HTML 문서는 크게 Head 부분과 Body로 나누어지는데 Head 부분에는 문서의 제목을 포함한 기본적인 정보들을 포함하고 있으며 Body 부분에는 실제 웹 페이지에 나타나는 본문 내용으로 구성된다. 그래서 이러한 구조를 간단하게 요약해서 표기하면 아래와 같은 그림으로 표현할 수 있다.좀더 구체적으로 위에 그림 중에 본문 문단을 의미하는 p 태그의 코드 기준으로 설명하면 HTML 요소는 시작 태그와 /로 시작하는 종료 태그 사이에 내용들이 들어 있으며, 시작 태그 안에는 속성명(Attributes) 'class'와 속성값(Values) 'para'를 포함하고 있고, '빅데이터 분석과 활용'이라는 내용을 포함하고 있는 태그이다.보다 다양한 HTML 태그에 대한 이해를 위해서 자주 사용하는 태그들을 표의 형태로 정리하면 아래와 같다.이러한 구조를 사람이 보기 편한 Text 문서로 파싱하기 위해서는 BeautifulSoup라는 라이브러리를 이용해야 한다.이라는 파이썬 라이브러리는 이와 같이 HTML 문서를 파싱하여 텍스트 데이터를 추출할 수 있는 유용한 도구이다.2.HTML 문서의 사례와 텍스트 추출이해를 돕기위해 아래와 같이 HTML 소스코드를 아래와 같이 작성하여 '웹크롤링 연습.html'로 파일을 저장하고 웹브라우저로 열어보면 HTML로 작성된 문서의 규칙을 이해할 수 있다.이해를 돕기위해 아래와 같이 HTML 소스코드를 아래와 같이 작성하여 '웹크롤링 연습.html'로 파일을 저장하고 웹브라우저로 열어보면 HTML로 작성된 문서의 규칙을 이해할 수 있다.<html><head><title>웹크롤링 연습</title></head><body><p class=\"title\"><b><h1>HTML 연습</h1></b></p><p class=\"link\">인터넷 링크를 작성하는 방법은<a class=\"blog\" href='https://ai-bigdataanalysis.blogspot.com/' id=\"link1\">인공지능 기반 덱스트 데이터 분석 블로그</a>와<a class=\"wikidocs\" href=\"https://wikidocs.net/book/6280\" id=\"link2\">인공지능 기반 빅데이터 자연어 처리와 통계 분석</a>처럼HTML 링크로 작성할 수 있습니다.</p><p class=\"story\">그리고 HTML 문서는 글자의 크기도 조정 가능해서<h2>크게</h2>작성할 수도 있고, <h4>작게</h4> 작성할 수도 있습니다.</p></body></html>위에 있는 소스코드로 작성된 HTML 파일을 웹브라우저로 열면 아래와 같은 형태의 웹페이지로 출력됨을 알 수 있다. 특히 여기서 인공지능 기반 덱스트 데이터 분석 블로그와 인공지능 기반 빅데이터 자연어 처리와 통계 분석의 경우는 a 태그에서 href 속성을 이용한 링크로 연결되어 다른 웹페이지로 이동할 수 있다.<html><head><title>웹크롤링 연습</title></head><body><p class=\"title\"><b><h1>HTML 연습</h1></b></p><p class=\"link\">인터넷 링크를 작성하는 방법은<a class=\"blog\" href='https://ai-bigdataanalysis.blogspot.com/' id=\"link1\">인공지능 기반 덱스트 데이터 분석 블로그</a>와<a class=\"wikidocs\" href=\"https://wikidocs.net/book/6280\" id=\"link2\">인공지능 기반 빅데이터 자연어 처리와 통계 분석</a>처럼HTML 링크로 작성할 수 있습니다.</p><p class=\"story\">그리고 HTML 문서는 글자의 크기도 조정 가능해서<h2>크게</h2>작성할 수도 있고, <h4>작게</h4> 작성할 수도 있습니다.</p></body></html>위에 있는 소스코드로 작성된 HTML 파일을 웹브라우저로 열면 아래와 같은 형태의 웹페이지로 출력됨을 알 수 있다. 특히 여기서 인공지능 기반 덱스트 데이터 분석 블로그와 인공지능 기반 빅데이터 자연어 처리와 통계 분석의 경우는 a 태그에서 href 속성을 이용한 링크로 연결되어 다른 웹페이지로 이동할 수 있다.와코랩을 이용해서 위에 그림으로 설명한 P 태그의 내용을 추출하는 방법을 설명하면 아래와 같은 코드를 실행시키면 추출이 가능하다.먼저 뷰티풀소프라는 라이브러리를 아래와 같이 설치한다.먼저 뷰티풀소프라는 라이브러리를 아래와 같이 설치한다.!pip install bs4그리고 태그를 파싱해서 그안에 담겨있는 텍스트를 추출하거나 속성에 해당하는 속성값을 추출는 방법을 정리하면 아래와 같다.그리고 태그를 파싱해서 그안에 담겨있는 텍스트를 추출하거나 속성에 해당하는 속성값을 추출는 방법을 정리하면 아래와 같다.fromimportas'''<p class='para'>빅데이터 분석과 활용</p>''''html.parser'print\"p\"print\"p\"\"class\"3. 웹크롤링 방법 사례3. 웹크롤링 방법 사례웹크롤링을 하기 위해 우선적으로 해야할 일은 우리가 정보를 추출하고자하는 웹페이지의 로봇배제기준을 확인하여 추출이 가능한 웹페이지인지 확인해야한다. 현재 이 블로그의 로봇배제기준을 확인하려면 웹페이지 주소창에 있는 주소에 추가하여 /robots.txt 를 추가하여 확인하는 것이다.웹크롤링을 하기 위해 우선적으로 해야할 일은 우리가 정보를 추출하고자하는 웹페이지의 로봇배제기준을 확인하여 추출이 가능한 웹페이지인지 확인해야한다. 현재 이 블로그의 로봇배제기준을 확인하려면 웹페이지 주소창에 있는 주소에 추가하여 /robots.txt 를 추가하여 확인하는 것이다.가. 기본정보 추출가. 기본정보 추출기본적인 웹페이지의 정보를 크롤링하기 위해서는 아래와 같이 requests나 urllib 라이브러리를 이용하여 HTML 정보를 불러오고 이를 BeautifulSoup으로 파싱하여 구체적인 텍스트 정보를 얻을 수있다.기본적인 웹페이지의 정보를 크롤링하기 위해서는 아래와 같이 requests나 urllib 라이브러리를 이용하여 HTML 정보를 불러오고 이를 BeautifulSoup으로 파싱하여 구체적인 텍스트 정보를 얻을 수있다.import requestsimport requestsfrom bs4 import BeautifulSoup as bsfrom bs4 import BeautifulSoup as bsurl = \"https://enjoystat.blogspot.com/2024/03/html.html\"url = \"https://enjoystat.blogspot.com/2024/03/html.html\"resp = requests.get(url)resp = requests.get(url)print(resp)print(resp)html_src = resp.texthtml_src = resp.textsoup = bs(html_src, 'html.parser')soup = bs(html_src, 'html.parser')나. 태그사이에 있는 정보 추출나. 태그사이에 있는 정보 추출태그사이에 있는 정보를 추출하기 위해서는 f12 또는 Ctrl+Shift+I로 소스코드가 팝업되도록 펼치고, 좌상단 element select 또는 Ctrl+Shift+C로 마우스 선택기를 활성화하여 추출하고자하는 행에서 우측마우 클릭하고, copy - copy selector 선택 복사하여 아래와 같이 Select_one문에 붙여넣기하여 기본정보를 추출할 수 있다.태그사이에 있는 정보를 추출하기 위해서는 f12 또는 Ctrl+Shift+I로 소스코드가 팝업되도록 펼치고, 좌상단 element select 또는 Ctrl+Shift+C로 마우스 선택기를 활성화하여 추출하고자하는 행에서 우측마우 클릭하고, copy - copy selector 선택 복사하여 아래와 같이 Select_one문에 붙여넣기하여 기본정보를 추출할 수 있다.soup.select_one(\"#Blog1 > div.blog-posts.hfeed > div > div > div > div.post.hentry.uncustomized-post-template > h3\").text.strip()soup.select_one(\"#Blog1 > div.blog-posts.hfeed > div > div > div > div.post.hentry.uncustomized-post-template > h3\").text.strip()다. 속성값 추출다. 속성값 추출태그 내에 작성되어 있는 속성값을 추출하기 위해서는 get(\"속성명\") 메소드를 활용하여 속성값을 추출할 수 있다.태그 내에 작성되어 있는 속성값을 추출하기 위해서는 get(\"속성명\") 메소드를 활용하여 속성값을 추출할 수 있다.print(soup.select_one(\"#Profile1 > div > a\").get(\"href\"))print(soup.select_one(\"#Profile1 > div > a\").get(\"href\"))라. 반복되는 내용 추출라. 반복되는 내용 추출웹페이지에 있는 세부 텍스트 내용은 통상 패러그래프 태그인 P 태그에 반복적으로 들어있기 때문에 아래와 같이 for문을 이용하여 추출할 수 있다.웹페이지에 있는 세부 텍스트 내용은 통상 패러그래프 태그인 P 태그에 반복적으로 들어있기 때문에 아래와 같이 for문을 이용하여 추출할 수 있다.text =\"\"text =\"\"body=soup.find(\"div\", {\"class\":\"post-body entry-content\"})body=soup.find(\"div\", {\"class\":\"post-body entry-content\"})for para in body.select(\"p\"):for para in body.select(\"p\"):text=text+para.text.strip()text=text+para.text.strip()texttext\n"
          ]
        }
      ]
    },
    {
      "cell_type": "markdown",
      "source": [
        "### 2-3. urllib"
      ],
      "metadata": {
        "id": "uG-rZF72IVf0"
      }
    },
    {
      "cell_type": "markdown",
      "source": [
        "- requests 라이브러리와 다르게 데이터 전송시 바이너리 데이터로 변환하여 주고 받기에 HTML 문서를 수신했을 때 디코딩 과정이 필요하다\n",
        "- 한글은 UTF-8, EUC-KR, cp949 형태가 존재\n",
        "- HTML 문서의 Head 부분에서 관련된 정보를 찾아 적절한 포맷에 맞게 디코딩을 해야한다\n"
      ],
      "metadata": {
        "id": "Yzc3nRNGgKP6"
      }
    },
    {
      "cell_type": "code",
      "source": [
        "# urllib.request 모듈에서 urlopen 함수를 import\n",
        "from urllib.request import urlopen\n",
        "\n",
        "# 웹 페이지 요청 및 응답 객체 가져오기\n",
        "# 'https://ai-bigdataanalysis.blogspot.com' 페이지에 접근하여 응답 객체를 html 변수에 저장\n",
        "html = urlopen('https://ai-bigdataanalysis.blogspot.com')\n",
        "\n",
        "# 응답된 페이지의 인코딩 방식 확인\n",
        "# 서버에서 응답한 HTTP 헤더에서 'Content-Type'의 charset 값을 가져와 인코딩 방식을 출력\n",
        "print(\"Encoding:\", html.headers.get_content_charset())\n",
        "\n",
        "# HTML 내용을 읽어와서 디코딩 (기본적으로 UTF-8로 인코딩된 경우)\n",
        "# 서버로부터 받은 데이터를 바이너리 형식으로 읽어온 후, 문자열로 디코딩하여 저장\n",
        "html_doc = html.read().decode()\n",
        "\n",
        "# 디코딩된 HTML 문서의 처음 200자를 출력\n",
        "# HTML 소스의 일부를 출력하여 페이지 구조를 확인\n",
        "print(html_doc[:200])\n"
      ],
      "metadata": {
        "colab": {
          "base_uri": "https://localhost:8080/"
        },
        "id": "-g4n3HmQH8fz",
        "outputId": "36c75065-4ea2-4a7c-affd-620418c63017"
      },
      "execution_count": 14,
      "outputs": [
        {
          "output_type": "stream",
          "name": "stdout",
          "text": [
            "Encoding: utf-8\n",
            "<!DOCTYPE html>\n",
            "<html class='v2' dir='ltr' lang='ko'>\n",
            "<head>\n",
            "<link href='https://www.blogger.com/static/v1/widgets/3566091532-css_bundle_v2.css' rel='stylesheet' type='text/css'/>\n",
            "<meta content='width\n"
          ]
        }
      ]
    },
    {
      "cell_type": "markdown",
      "source": [
        "- UTF-8이 아닌 EUC-KR이나 cp949일경우 decode('cp949')로 변경\n",
        "- urllib과 bs4의 find 문 활용한 웹 크롤링 방식"
      ],
      "metadata": {
        "id": "bvcxUeQAg50b"
      }
    },
    {
      "cell_type": "code",
      "source": [
        "# urllib 라이브러리에서 urlopen 함수를 import\n",
        "from urllib.request import urlopen\n",
        "\n",
        "# BeautifulSoup 모듈에서 BeautifulSoup 클래스를 bs라는 이름으로 import\n",
        "from bs4 import BeautifulSoup as bs\n",
        "\n",
        "# 웹 페이지 요청 및 응답 객체 가져오기\n",
        "# 'https://ai-bigdataanalysis.blogspot.com/2024/03/html.html' 페이지에 접근하여 응답 객체를 response 변수에 저장\n",
        "response = urlopen('https://ai-bigdataanalysis.blogspot.com/2024/03/html.html')\n",
        "\n",
        "# 응답된 HTML 문서를 읽어와서 바이너리 데이터를 문자열로 디코딩\n",
        "html_doc = response.read().decode()\n",
        "\n",
        "# BeautifulSoup 객체 생성 및 HTML 파싱\n",
        "# HTML 소스를 BeautifulSoup을 사용하여 파싱하고 soup 변수에 저장\n",
        "soup = bs(html_doc, 'html.parser')\n",
        "\n",
        "# 특정 div 태그를 선택하여 해당 콘텐츠 가져오기\n",
        "# 클래스가 'post-body entry-content'인 div 태그를 찾음\n",
        "content = soup.find(\"div\", {\"class\": \"post-body entry-content\"})\n",
        "\n",
        "# 텍스트를 저장할 변수 초기화\n",
        "text = \"\"\n",
        "\n",
        "# 찾은 div 태그 내부에서 모든 <span> 태그를 순회하면서 텍스트를 추출\n",
        "if content:  # content가 None이 아닐 경우에만 실행\n",
        "    for para in content.find_all(\"span\"):\n",
        "        # 각 <span> 태그의 텍스트를 가져와서 양쪽 공백 제거 후 text 변수에 추가\n",
        "        text += para.text.strip()\n",
        "\n",
        "# 최종적으로 수집된 텍스트 출력\n",
        "print(text)\n"
      ],
      "metadata": {
        "id": "YHp5i4UO-Wrn",
        "colab": {
          "base_uri": "https://localhost:8080/"
        },
        "outputId": "390e9239-bccb-4a6a-bd0f-dcc95950c1a5"
      },
      "execution_count": 15,
      "outputs": [
        {
          "output_type": "stream",
          "name": "stdout",
          "text": [
            "참조 :https://wikidocs.net/1278461. HTML 구조의 이해HTML은 웹 문서를 만들기 위하여 사용하는 기본적인 웹 언어의 한 종류이다. 하이퍼텍스트를 작성하기 위해 개발되었으며 인터넷 서비스의 하나인 월드와이드웹(WWW)을 통해서 볼 수 있는 문서를 만들 때 사용하는 웹 언어의 한 종류이다. 특히 인터넷에서 웹을 통해 접근되는 대부분의 웹 페이지들은 HTML로 작성되는데 문서의 글자 크기, 글자색, 글자모양, 그래픽, 문서이동(하이퍼링크) 등을 정의하는 명령어들이 있다. HTML에서 사용하는 명령어는 태그(tag)라고 하는데 꺽쇠괄호'<>'를 사용하여 나타낸다. HTML 문서는 크게 Head 부분과 Body로 나누어지는데 Head 부분에는 문서의 제목을 포함한 기본적인 정보들을 포함하고 있으며 Body 부분에는 실제 웹 페이지에 나타나는 본문 내용으로 구성된다. 그래서 이러한 구조를 간단하게 요약해서 표기하면 아래와 같은 그림으로 표현할 수 있다.좀더 구체적으로 위에 그림 중에 본문 문단을 의미하는 p 태그의 코드 기준으로 설명하면 HTML 요소는 시작 태그와 /로 시작하는 종료 태그 사이에 내용들이 들어 있으며, 시작 태그 안에는 속성명(Attributes) 'class'와 속성값(Values) 'para'를 포함하고 있고, '빅데이터 분석과 활용'이라는 내용을 포함하고 있는 태그이다.보다 다양한 HTML 태그에 대한 이해를 위해서 자주 사용하는 태그들을 표의 형태로 정리하면 아래와 같다.이러한 구조를 사람이 보기 편한 Text 문서로 파싱하기 위해서는 BeautifulSoup라는 라이브러리를 이용해야 한다.이라는 파이썬 라이브러리는 이와 같이 HTML 문서를 파싱하여 텍스트 데이터를 추출할 수 있는 유용한 도구이다.2.HTML 문서의 사례와 텍스트 추출이해를 돕기위해 아래와 같이 HTML 소스코드를 아래와 같이 작성하여 '웹크롤링 연습.html'로 파일을 저장하고 웹브라우저로 열어보면 HTML로 작성된 문서의 규칙을 이해할 수 있다.이해를 돕기위해 아래와 같이 HTML 소스코드를 아래와 같이 작성하여 '웹크롤링 연습.html'로 파일을 저장하고 웹브라우저로 열어보면 HTML로 작성된 문서의 규칙을 이해할 수 있다.<html><head><title>웹크롤링 연습</title></head><body><p class=\"title\"><b><h1>HTML 연습</h1></b></p><p class=\"link\">인터넷 링크를 작성하는 방법은<a class=\"blog\" href='https://ai-bigdataanalysis.blogspot.com/' id=\"link1\">인공지능 기반 덱스트 데이터 분석 블로그</a>와<a class=\"wikidocs\" href=\"https://wikidocs.net/book/6280\" id=\"link2\">인공지능 기반 빅데이터 자연어 처리와 통계 분석</a>처럼HTML 링크로 작성할 수 있습니다.</p><p class=\"story\">그리고 HTML 문서는 글자의 크기도 조정 가능해서<h2>크게</h2>작성할 수도 있고, <h4>작게</h4> 작성할 수도 있습니다.</p></body></html>위에 있는 소스코드로 작성된 HTML 파일을 웹브라우저로 열면 아래와 같은 형태의 웹페이지로 출력됨을 알 수 있다. 특히 여기서 인공지능 기반 덱스트 데이터 분석 블로그와 인공지능 기반 빅데이터 자연어 처리와 통계 분석의 경우는 a 태그에서 href 속성을 이용한 링크로 연결되어 다른 웹페이지로 이동할 수 있다.<html><head><title>웹크롤링 연습</title></head><body><p class=\"title\"><b><h1>HTML 연습</h1></b></p><p class=\"link\">인터넷 링크를 작성하는 방법은<a class=\"blog\" href='https://ai-bigdataanalysis.blogspot.com/' id=\"link1\">인공지능 기반 덱스트 데이터 분석 블로그</a>와<a class=\"wikidocs\" href=\"https://wikidocs.net/book/6280\" id=\"link2\">인공지능 기반 빅데이터 자연어 처리와 통계 분석</a>처럼HTML 링크로 작성할 수 있습니다.</p><p class=\"story\">그리고 HTML 문서는 글자의 크기도 조정 가능해서<h2>크게</h2>작성할 수도 있고, <h4>작게</h4> 작성할 수도 있습니다.</p></body></html>위에 있는 소스코드로 작성된 HTML 파일을 웹브라우저로 열면 아래와 같은 형태의 웹페이지로 출력됨을 알 수 있다. 특히 여기서 인공지능 기반 덱스트 데이터 분석 블로그와 인공지능 기반 빅데이터 자연어 처리와 통계 분석의 경우는 a 태그에서 href 속성을 이용한 링크로 연결되어 다른 웹페이지로 이동할 수 있다.와코랩을 이용해서 위에 그림으로 설명한 P 태그의 내용을 추출하는 방법을 설명하면 아래와 같은 코드를 실행시키면 추출이 가능하다.먼저 뷰티풀소프라는 라이브러리를 아래와 같이 설치한다.먼저 뷰티풀소프라는 라이브러리를 아래와 같이 설치한다.!pip install bs4그리고 태그를 파싱해서 그안에 담겨있는 텍스트를 추출하거나 속성에 해당하는 속성값을 추출는 방법을 정리하면 아래와 같다.그리고 태그를 파싱해서 그안에 담겨있는 텍스트를 추출하거나 속성에 해당하는 속성값을 추출는 방법을 정리하면 아래와 같다.fromimportas'''<p class='para'>빅데이터 분석과 활용</p>''''html.parser'print\"p\"print\"p\"\"class\"3. 웹크롤링 방법 사례3. 웹크롤링 방법 사례웹크롤링을 하기 위해 우선적으로 해야할 일은 우리가 정보를 추출하고자하는 웹페이지의 로봇배제기준을 확인하여 추출이 가능한 웹페이지인지 확인해야한다. 현재 이 블로그의 로봇배제기준을 확인하려면 웹페이지 주소창에 있는 주소에 추가하여 /robots.txt 를 추가하여 확인하는 것이다.웹크롤링을 하기 위해 우선적으로 해야할 일은 우리가 정보를 추출하고자하는 웹페이지의 로봇배제기준을 확인하여 추출이 가능한 웹페이지인지 확인해야한다. 현재 이 블로그의 로봇배제기준을 확인하려면 웹페이지 주소창에 있는 주소에 추가하여 /robots.txt 를 추가하여 확인하는 것이다.가. 기본정보 추출가. 기본정보 추출기본적인 웹페이지의 정보를 크롤링하기 위해서는 아래와 같이 requests나 urllib 라이브러리를 이용하여 HTML 정보를 불러오고 이를 BeautifulSoup으로 파싱하여 구체적인 텍스트 정보를 얻을 수있다.기본적인 웹페이지의 정보를 크롤링하기 위해서는 아래와 같이 requests나 urllib 라이브러리를 이용하여 HTML 정보를 불러오고 이를 BeautifulSoup으로 파싱하여 구체적인 텍스트 정보를 얻을 수있다.import requestsimport requestsfrom bs4 import BeautifulSoup as bsfrom bs4 import BeautifulSoup as bsurl = \"https://enjoystat.blogspot.com/2024/03/html.html\"url = \"https://enjoystat.blogspot.com/2024/03/html.html\"resp = requests.get(url)resp = requests.get(url)print(resp)print(resp)html_src = resp.texthtml_src = resp.textsoup = bs(html_src, 'html.parser')soup = bs(html_src, 'html.parser')나. 태그사이에 있는 정보 추출나. 태그사이에 있는 정보 추출태그사이에 있는 정보를 추출하기 위해서는 f12 또는 Ctrl+Shift+I로 소스코드가 팝업되도록 펼치고, 좌상단 element select 또는 Ctrl+Shift+C로 마우스 선택기를 활성화하여 추출하고자하는 행에서 우측마우 클릭하고, copy - copy selector 선택 복사하여 아래와 같이 Select_one문에 붙여넣기하여 기본정보를 추출할 수 있다.태그사이에 있는 정보를 추출하기 위해서는 f12 또는 Ctrl+Shift+I로 소스코드가 팝업되도록 펼치고, 좌상단 element select 또는 Ctrl+Shift+C로 마우스 선택기를 활성화하여 추출하고자하는 행에서 우측마우 클릭하고, copy - copy selector 선택 복사하여 아래와 같이 Select_one문에 붙여넣기하여 기본정보를 추출할 수 있다.soup.select_one(\"#Blog1 > div.blog-posts.hfeed > div > div > div > div.post.hentry.uncustomized-post-template > h3\").text.strip()soup.select_one(\"#Blog1 > div.blog-posts.hfeed > div > div > div > div.post.hentry.uncustomized-post-template > h3\").text.strip()다. 속성값 추출다. 속성값 추출태그 내에 작성되어 있는 속성값을 추출하기 위해서는 get(\"속성명\") 메소드를 활용하여 속성값을 추출할 수 있다.태그 내에 작성되어 있는 속성값을 추출하기 위해서는 get(\"속성명\") 메소드를 활용하여 속성값을 추출할 수 있다.print(soup.select_one(\"#Profile1 > div > a\").get(\"href\"))print(soup.select_one(\"#Profile1 > div > a\").get(\"href\"))라. 반복되는 내용 추출라. 반복되는 내용 추출웹페이지에 있는 세부 텍스트 내용은 통상 패러그래프 태그인 P 태그에 반복적으로 들어있기 때문에 아래와 같이 for문을 이용하여 추출할 수 있다.웹페이지에 있는 세부 텍스트 내용은 통상 패러그래프 태그인 P 태그에 반복적으로 들어있기 때문에 아래와 같이 for문을 이용하여 추출할 수 있다.text =\"\"text =\"\"body=soup.find(\"div\", {\"class\":\"post-body entry-content\"})body=soup.find(\"div\", {\"class\":\"post-body entry-content\"})for para in body.select(\"p\"):for para in body.select(\"p\"):text=text+para.text.strip()text=text+para.text.strip()texttext\n"
          ]
        }
      ]
    },
    {
      "cell_type": "markdown",
      "source": [
        "## 3. Selenium"
      ],
      "metadata": {
        "id": "TKozpKCwD_Dj"
      }
    },
    {
      "cell_type": "markdown",
      "source": [
        "### 3-1. selenium 라이브러리 설치"
      ],
      "metadata": {
        "id": "OSOAyTz-D_Dk"
      }
    },
    {
      "cell_type": "markdown",
      "source": [
        "- 웹 브라우저에 필요한 드라이버 사전 설치가 필요하다\n",
        "- 반드시 웹 브라우저의 종류와 version 정보가 일치해야 한다\n"
      ],
      "metadata": {
        "id": "LfzCzcrjD_Dk"
      }
    },
    {
      "cell_type": "code",
      "source": [
        "# 1. Google Chrome 및 ChromeDriver 설치\n",
        "!apt-get update -qq  # 패키지 목록 업데이트 (출력 최소화)\n",
        "!apt-get install -qqy wget unzip  # wget과 unzip 패키지 설치\n",
        "!wget -q https://dl.google.com/linux/direct/google-chrome-stable_current_amd64.deb  # 최신 Google Chrome 다운로드\n",
        "!dpkg -i google-chrome-stable_current_amd64.deb  # Chrome 설치\n",
        "!apt --fix-broken install -y  # 설치 중 발생하는 문제 해결\n",
        "!pip install webdriver-manager #webdriver-manager 설치\n",
        "!pip install selenium #selenium 설치\n",
        "\n",
        "# Chrome 및 ChromeDriver 버전 확인\n",
        "!google-chrome --version  # 설치된 Chrome 버전 출력\n",
        "\n",
        "# ChromeDriver 다운로드 및 설치\n",
        "import os\n",
        "from selenium import webdriver\n",
        "from selenium.webdriver.chrome.service import Service\n",
        "from webdriver_manager.chrome import ChromeDriverManager\n",
        "\n",
        "# webdriver-manager를 사용해 최신 ChromeDriver 설치\n",
        "driver_path = ChromeDriverManager().install()\n",
        "print(f\"ChromeDriver installed at: {driver_path}\")  # ChromeDriver 설치 경로 출력"
      ],
      "metadata": {
        "colab": {
          "base_uri": "https://localhost:8080/"
        },
        "outputId": "59b78f88-aa11-4a08-8b11-603db1bea246",
        "id": "A6UEpEidD_Dl"
      },
      "execution_count": 18,
      "outputs": [
        {
          "output_type": "stream",
          "name": "stdout",
          "text": [
            "W: Skipping acquire of configured file 'main/source/Sources' as repository 'https://r2u.stat.illinois.edu/ubuntu jammy InRelease' does not seem to provide it (sources.list entry misspelt?)\n",
            "(Reading database ... 123784 files and directories currently installed.)\n",
            "Preparing to unpack google-chrome-stable_current_amd64.deb ...\n",
            "Unpacking google-chrome-stable (131.0.6778.69-1) over (131.0.6778.69-1) ...\n",
            "Setting up google-chrome-stable (131.0.6778.69-1) ...\n",
            "Processing triggers for man-db (2.10.2-1) ...\n",
            "Reading package lists... Done\n",
            "Building dependency tree... Done\n",
            "Reading state information... Done\n",
            "0 upgraded, 0 newly installed, 0 to remove and 56 not upgraded.\n",
            "Requirement already satisfied: webdriver-manager in /usr/local/lib/python3.10/dist-packages (4.0.2)\n",
            "Requirement already satisfied: requests in /usr/local/lib/python3.10/dist-packages (from webdriver-manager) (2.32.3)\n",
            "Requirement already satisfied: python-dotenv in /usr/local/lib/python3.10/dist-packages (from webdriver-manager) (1.0.1)\n",
            "Requirement already satisfied: packaging in /usr/local/lib/python3.10/dist-packages (from webdriver-manager) (24.2)\n",
            "Requirement already satisfied: charset-normalizer<4,>=2 in /usr/local/lib/python3.10/dist-packages (from requests->webdriver-manager) (3.4.0)\n",
            "Requirement already satisfied: idna<4,>=2.5 in /usr/local/lib/python3.10/dist-packages (from requests->webdriver-manager) (3.10)\n",
            "Requirement already satisfied: urllib3<3,>=1.21.1 in /usr/local/lib/python3.10/dist-packages (from requests->webdriver-manager) (2.2.3)\n",
            "Requirement already satisfied: certifi>=2017.4.17 in /usr/local/lib/python3.10/dist-packages (from requests->webdriver-manager) (2024.8.30)\n",
            "Collecting selenium\n",
            "  Downloading selenium-4.26.1-py3-none-any.whl.metadata (7.1 kB)\n",
            "Requirement already satisfied: urllib3<3,>=1.26 in /usr/local/lib/python3.10/dist-packages (from urllib3[socks]<3,>=1.26->selenium) (2.2.3)\n",
            "Collecting trio~=0.17 (from selenium)\n",
            "  Downloading trio-0.27.0-py3-none-any.whl.metadata (8.6 kB)\n",
            "Collecting trio-websocket~=0.9 (from selenium)\n",
            "  Downloading trio_websocket-0.11.1-py3-none-any.whl.metadata (4.7 kB)\n",
            "Requirement already satisfied: certifi>=2021.10.8 in /usr/local/lib/python3.10/dist-packages (from selenium) (2024.8.30)\n",
            "Requirement already satisfied: typing_extensions~=4.9 in /usr/local/lib/python3.10/dist-packages (from selenium) (4.12.2)\n",
            "Requirement already satisfied: websocket-client~=1.8 in /usr/local/lib/python3.10/dist-packages (from selenium) (1.8.0)\n",
            "Requirement already satisfied: attrs>=23.2.0 in /usr/local/lib/python3.10/dist-packages (from trio~=0.17->selenium) (24.2.0)\n",
            "Collecting sortedcontainers (from trio~=0.17->selenium)\n",
            "  Downloading sortedcontainers-2.4.0-py2.py3-none-any.whl.metadata (10 kB)\n",
            "Requirement already satisfied: idna in /usr/local/lib/python3.10/dist-packages (from trio~=0.17->selenium) (3.10)\n",
            "Collecting outcome (from trio~=0.17->selenium)\n",
            "  Downloading outcome-1.3.0.post0-py2.py3-none-any.whl.metadata (2.6 kB)\n",
            "Requirement already satisfied: sniffio>=1.3.0 in /usr/local/lib/python3.10/dist-packages (from trio~=0.17->selenium) (1.3.1)\n",
            "Requirement already satisfied: exceptiongroup in /usr/local/lib/python3.10/dist-packages (from trio~=0.17->selenium) (1.2.2)\n",
            "Collecting wsproto>=0.14 (from trio-websocket~=0.9->selenium)\n",
            "  Downloading wsproto-1.2.0-py3-none-any.whl.metadata (5.6 kB)\n",
            "Requirement already satisfied: pysocks!=1.5.7,<2.0,>=1.5.6 in /usr/local/lib/python3.10/dist-packages (from urllib3[socks]<3,>=1.26->selenium) (1.7.1)\n",
            "Requirement already satisfied: h11<1,>=0.9.0 in /usr/local/lib/python3.10/dist-packages (from wsproto>=0.14->trio-websocket~=0.9->selenium) (0.14.0)\n",
            "Downloading selenium-4.26.1-py3-none-any.whl (9.7 MB)\n",
            "\u001b[2K   \u001b[90m━━━━━━━━━━━━━━━━━━━━━━━━━━━━━━━━━━━━━━━━\u001b[0m \u001b[32m9.7/9.7 MB\u001b[0m \u001b[31m49.7 MB/s\u001b[0m eta \u001b[36m0:00:00\u001b[0m\n",
            "\u001b[?25hDownloading trio-0.27.0-py3-none-any.whl (481 kB)\n",
            "\u001b[2K   \u001b[90m━━━━━━━━━━━━━━━━━━━━━━━━━━━━━━━━━━━━━━━━\u001b[0m \u001b[32m481.7/481.7 kB\u001b[0m \u001b[31m24.6 MB/s\u001b[0m eta \u001b[36m0:00:00\u001b[0m\n",
            "\u001b[?25hDownloading trio_websocket-0.11.1-py3-none-any.whl (17 kB)\n",
            "Downloading wsproto-1.2.0-py3-none-any.whl (24 kB)\n",
            "Downloading outcome-1.3.0.post0-py2.py3-none-any.whl (10 kB)\n",
            "Downloading sortedcontainers-2.4.0-py2.py3-none-any.whl (29 kB)\n",
            "Installing collected packages: sortedcontainers, wsproto, outcome, trio, trio-websocket, selenium\n",
            "Successfully installed outcome-1.3.0.post0 selenium-4.26.1 sortedcontainers-2.4.0 trio-0.27.0 trio-websocket-0.11.1 wsproto-1.2.0\n",
            "Google Chrome 131.0.6778.69 \n",
            "ChromeDriver installed at: /root/.wdm/drivers/chromedriver/linux64/131.0.6778.69/chromedriver-linux64/chromedriver\n"
          ]
        }
      ]
    },
    {
      "cell_type": "markdown",
      "source": [
        "### 3-2. Selenium을 활용한 웹 크롤링\n",
        "- 코랩 환경에서는 웹 브라우저에 대한 핸들링이 직접적으로 불가능하다\n",
        "- 아래와 같은 옵션들을 크롬 웹 드라이버에 적용시켜야 한다"
      ],
      "metadata": {
        "id": "DWgsCd8ND_Dl"
      }
    },
    {
      "cell_type": "code",
      "source": [
        "import time\n",
        "from selenium import webdriver\n",
        "from selenium.webdriver.common.by import By\n",
        "from selenium.webdriver.chrome.service import Service\n",
        "\n",
        "# Chrome 옵션 설정 (브라우저 창 없이 백그라운드에서 실행)\n",
        "options = webdriver.ChromeOptions()\n",
        "options.add_argument(\"--headless\")  # GUI 없이 실행\n",
        "options.add_argument(\"--no-sandbox\")  # 샌드박스 모드 비활성화 (Linux 권한 문제 방지)\n",
        "options.add_argument(\"--disable-dev-shm-usage\")  # /dev/shm 사용 비활성화 (메모리 문제 방지)\n",
        "options.add_argument(\"window-size=1920,1080\")  # 창 크기 설정 (전체 화면으로 설정)\n",
        "\n",
        "# ChromeDriver 경로 설정\n",
        "chromedriver_path = \"/root/.wdm/drivers/chromedriver/linux64/131.0.6778.69/chromedriver-linux64/chromedriver\"\n",
        "service = Service(chromedriver_path)\n",
        "\n",
        "# ChromeDriver를 사용하여 브라우저 시작\n",
        "driver = webdriver.Chrome(service=service, options=options)"
      ],
      "metadata": {
        "id": "ry4BVngED_Dm"
      },
      "execution_count": 19,
      "outputs": []
    },
    {
      "cell_type": "markdown",
      "source": [
        "- BBC 사이트에서 인기 뉴스 링크 웹 크롤링한 사례"
      ],
      "metadata": {
        "id": "b7TDYWSGD_Dm"
      }
    },
    {
      "cell_type": "code",
      "source": [
        "import time\n",
        "from selenium import webdriver\n",
        "from selenium.webdriver.common.by import By\n",
        "from selenium.webdriver.chrome.service import Service\n",
        "\n",
        "# Chrome 옵션 설정 (브라우저 창 없이 백그라운드에서 실행)\n",
        "options = webdriver.ChromeOptions()\n",
        "options.add_argument(\"--headless\")  # GUI 없이 실행\n",
        "options.add_argument(\"--no-sandbox\")  # 샌드박스 모드 비활성화 (Linux 권한 문제 방지)\n",
        "options.add_argument(\"--disable-dev-shm-usage\")  # /dev/shm 사용 비활성화 (메모리 문제 방지)\n",
        "options.add_argument(\"window-size=1920,1080\")  # 창 크기 설정 (전체 화면으로 설정)\n",
        "\n",
        "# ChromeDriver 경로 설정\n",
        "chromedriver_path = \"/root/.wdm/drivers/chromedriver/linux64/131.0.6778.69/chromedriver-linux64/chromedriver\"\n",
        "service = Service(chromedriver_path)\n",
        "\n",
        "# ChromeDriver를 사용하여 브라우저 시작\n",
        "driver = webdriver.Chrome(service=service, options=options)\n",
        "\n",
        "# BBC 인기 뉴스 페이지 접속\n",
        "url = \"https://www.bbc.com/korean/popular/read\"\n",
        "driver.get(url)  # 지정된 URL로 이동\n",
        "time.sleep(3)  # 페이지 로딩 대기\n",
        "\n",
        "# 인기 뉴스 목록에서 기사 링크 크롤링\n",
        "articles = []  # 기사 링크를 저장할 리스트\n",
        "for i in range(1, 11):  # 1부터 10까지의 기사 목록을 순회\n",
        "    try:\n",
        "        # 특정 기사 항목의 링크를 찾기 위해 CSS Selector 사용\n",
        "        element = driver.find_element(By.CSS_SELECTOR, f\"#main-wrapper > div > main > div > div > div > div > ol > li:nth-child({i}) > div > div.bbc-14zb6im > a\")\n",
        "        link = element.get_attribute(\"href\")  # 링크 추출\n",
        "        articles.append(link)  # 리스트에 링크 추가\n",
        "        print(f\"Article {i}: {link}\")  # 링크 출력\n",
        "    except Exception as e:\n",
        "        print(f\"Error accessing article {i}: {e}\")  # 에러 발생 시 출력\n",
        "\n",
        "# 크롤링한 기사 링크 출력\n",
        "for article in articles:\n",
        "    print(article)\n",
        "\n",
        "# 브라우저 종료\n",
        "driver.quit()\n"
      ],
      "metadata": {
        "colab": {
          "base_uri": "https://localhost:8080/"
        },
        "outputId": "aba481a3-26f2-4cac-8f65-304c3291ce43",
        "id": "wM17vPZWD_Dm"
      },
      "execution_count": 20,
      "outputs": [
        {
          "output_type": "stream",
          "name": "stdout",
          "text": [
            "Article 1: https://www.bbc.com/korean/articles/c8jyxkgkjvdo\n",
            "Article 2: https://www.bbc.com/korean/international-57147399\n",
            "Article 3: https://www.bbc.com/korean/articles/c5yx9852x80o\n",
            "Article 4: https://www.bbc.com/korean/articles/c80lp2z9gpmo\n",
            "Article 5: https://www.bbc.com/korean/articles/cy4gq7kj94xo\n",
            "Article 6: https://www.bbc.com/korean/60521326\n",
            "Article 7: https://www.bbc.com/korean/articles/cn7md402zk8o\n",
            "Article 8: https://www.bbc.com/korean/articles/c20ldzy6z78o\n",
            "Article 9: https://www.bbc.com/korean/articles/c8rl0n8yrmlo\n",
            "Article 10: https://www.bbc.com/korean/46284880\n",
            "https://www.bbc.com/korean/articles/c8jyxkgkjvdo\n",
            "https://www.bbc.com/korean/international-57147399\n",
            "https://www.bbc.com/korean/articles/c5yx9852x80o\n",
            "https://www.bbc.com/korean/articles/c80lp2z9gpmo\n",
            "https://www.bbc.com/korean/articles/cy4gq7kj94xo\n",
            "https://www.bbc.com/korean/60521326\n",
            "https://www.bbc.com/korean/articles/cn7md402zk8o\n",
            "https://www.bbc.com/korean/articles/c20ldzy6z78o\n",
            "https://www.bbc.com/korean/articles/c8rl0n8yrmlo\n",
            "https://www.bbc.com/korean/46284880\n"
          ]
        }
      ]
    },
    {
      "cell_type": "markdown",
      "source": [
        "- BBC 기사 본문 및 관련 토픽 크롤링"
      ],
      "metadata": {
        "id": "K17MRtdVQrbA"
      }
    },
    {
      "cell_type": "code",
      "source": [
        "from selenium import webdriver\n",
        "from selenium.webdriver.common.by import By\n",
        "from selenium.webdriver.chrome.service import Service\n",
        "import time\n",
        "\n",
        "# Chrome 옵션 설정 (브라우저 창 없이 실행)\n",
        "options = webdriver.ChromeOptions()\n",
        "options.add_argument(\"--headless\")\n",
        "options.add_argument(\"--no-sandbox\")\n",
        "options.add_argument(\"--disable-dev-shm-usage\")\n",
        "options.add_argument(\"window-size=1920,1080\")\n",
        "\n",
        "# ChromeDriver 설정\n",
        "chromedriver_path = \"/root/.wdm/drivers/chromedriver/linux64/131.0.6778.69/chromedriver-linux64/chromedriver\"\n",
        "service = Service(chromedriver_path)\n",
        "driver = webdriver.Chrome(service=service, options=options)\n",
        "\n",
        "# 크롤링할 기사 링크 목록 (수동 입력)\n",
        "article_links = [\n",
        "    \"https://www.bbc.com/korean/articles/c8rl0n8yrmlo\",\n",
        "    \"https://www.bbc.com/korean/articles/c80lp2z9gpmo\",\n",
        "    \"https://www.bbc.com/korean/articles/cq8vdnw2w22o\",\n",
        "    \"https://www.bbc.com/korean/articles/cn7md402zk8o\",\n",
        "    \"https://www.bbc.com/korean/articles/c3vk59q96z5o\",\n",
        "    \"https://www.bbc.com/korean/articles/c5y59jgrwxwo\",\n",
        "    \"https://www.bbc.com/korean/articles/cwy9k9zz807o\",\n",
        "    \"https://www.bbc.com/korean/articles/c4gz5nyv4e2o\",\n",
        "    \"https://www.bbc.com/korean/articles/cn8gemm2ep7o\",\n",
        "    \"https://www.bbc.com/korean/articles/crk407xy2rdo\"\n",
        "]\n",
        "\n",
        "# 각 기사 페이지에서 본문 및 관련 토픽 크롤링\n",
        "for link in article_links:\n",
        "    driver.get(link)  # 기사 페이지로 이동\n",
        "    time.sleep(3)  # 페이지 로딩 대기\n",
        "\n",
        "    try:\n",
        "        # 기사 본문 내용 가져오기 (CSS Selector 사용)\n",
        "        paragraphs = driver.find_elements(By.CSS_SELECTOR, \"main[role='main'] p\")\n",
        "        content = \"\\n\".join([p.text for p in paragraphs])  # 본문을 문자열로 합침\n",
        "\n",
        "        # 관련 토픽 가져오기 (있을 경우)\n",
        "        topics = driver.find_elements(By.CSS_SELECTOR, \"div.bbc-1rf29kq a\")\n",
        "        related_topics = [topic.text for topic in topics]  # 관련 토픽 텍스트 추출\n",
        "\n",
        "        # 기사 내용과 관련 토픽 출력\n",
        "        print(f\"URL: {link}\")\n",
        "        print(f\"관련 토픽: {', '.join(related_topics)}\")\n",
        "        print(f\"기사 내용:\\n{content}\\n\")\n",
        "        print(\"=\" * 80)  # 구분선 출력\n",
        "    except Exception as e:\n",
        "        print(f\"Error accessing article {link}: {e}\")  # 에러 발생 시 출력\n",
        "\n",
        "# 브라우저 종료\n",
        "driver.quit()\n"
      ],
      "metadata": {
        "colab": {
          "base_uri": "https://localhost:8080/"
        },
        "id": "Wz9UdWzvF9Ec",
        "outputId": "a6443314-4fe2-40ce-b880-99e4bd4d5f9d"
      },
      "execution_count": 21,
      "outputs": [
        {
          "output_type": "stream",
          "name": "stdout",
          "text": [
            "URL: https://www.bbc.com/korean/articles/c8rl0n8yrmlo\n",
            "관련 토픽: \n",
            "기사 내용:\n",
            "사진 출처,\n",
            "뉴스1\n",
            "오는 15일 이재명 더불어민주당 대표의 공직선거법 위반(허위사실공표) 혐의 사건 1심 선고를 앞두고 관심이 쏠린다. 차기 대권주자로 꼽히는 제1야당 대표가 유죄를 받아들 경우 대권가도에 큰 변화가 예상되기 때문이다.\n",
            "10일 정치권과 법조계 등에 따르면 서울중앙지법 형사합의34는 오는 15일 공직선거법 위반 혐의로 재판에 넘겨진 이 대표의 1심 선고를 진행한다.\n",
            "이번 결과는 이 대표와 관련해 진행 중인 4건의 재판 중 가장 먼저 나오는 판결이다. 검찰이 2022년 9월 이 대표를 기소한 지 약 2년 2개월 만의 일이다.\n",
            "이 대표는 지난 20대 대선 과정 중 방송사 인터뷰와 국정감사 등에서 대통령에 당선될 목적으로 대장동·백현동 개발사업 관련 의혹에 대해 허위 사실 등을 공표한 혐의를 받는다.\n",
            "이 개발사업은 이 대표의 성남시장시절 성남시에서 추진된 대규모 부동산 개발 프로젝트로, 개발 과정에서 특혜와 비리 의혹이 불거지며 큰 논란이 됐다.\n",
            "지난 2021년 12월 대선후보 인터뷰에서 이 대표가 고 김문기 성남도시개발공사 개발사업 1처장에 대해 한 말이 문제가 됐다. 김 씨는 전날 스스로 목숨을 끊었다.\n",
            "김 씨를 알았냐는 질문에 이 대표는 \"시장할 때는 이 사람의 존재를 몰랐다\"고 답했다. 당시 직원이 워낙 많아 하위직인 김 전 처장을 기억하지 못했다는 것.\n",
            "하지만, 이 대표가 유동규 전 성남도시개발공사 본부장, 김 전 처장과 함께 해외여행을 가 함께 골프 라운딩을 하고 김 전 처장에게서 여러 차례 직접 보고를 받은 정황 등이 알려졌다.\n",
            "검찰은 대장동 비리에 연루된 사실을 감추기 위해 김 전 처장과의 관계를 부인했다고 보고 있다.\n",
            "이번 선거법 위반 재판의 핵심 쟁점은 발언의 고의성 여부다.\n",
            "법정은 '김문기를 모른다'는 이 대표 말이 사실 발언인지 의견 표출인지를 겨루고 있다. 법적 처벌 대상이 되는 건 의견이 아니라 '사실에 관해 거짓을 유포한 행위'이기 때문이다.\n",
            "이 대표 측은 '모른다'는 것이 친분이 없다는 주관적 표현이라고 보는 반면, 검찰은 객관적 사실에 대해 의혹을 부인하는 발언이라고 맞서고 있다.\n",
            "사진 출처,\n",
            "뉴스1\n",
            "검찰은 이 외에도 이 대표가 같은 해 경기도 국정감사장에서 성남시 분당구 백현동 한국식품연구원 부지 용도변경 특혜 의혹과 관련해 한 언급도 허위라고 보고 있다. 국토부의 협박이 없었는데 이 발언으로 이득을 취하려 했다는 것이다.\n",
            "당시 이 대표는 \"국토교통부가 요청해서 한 일이고 공공기관 이전 특별법에 따라서 저희가 응할 수밖에 없는 그런 상황\"이라며 \"만약 안 해주면 직무 유기 이런 것을 문제 삼겠다고 협박을 해서\"라고 말한 바 있다.\n",
            "검찰은 이와 관련해 백현동 개발과 관련해 성남시 직원들이 “국토부의 협박은 없었다”고 밝힌 진술을 허위 발언 증거로 제시했다.\n",
            "지난 9월 20일 최후진술에서 이 대표는 \"화가 나 협박이라고 과하게 표현했지만, 어쨌거나 (국토부가) 성남시를 압박한 것은 사실\"이라고 주장했다.\n",
            "또한 그 증거로 국토부가 성남시에 용도변경을 요청한 공문들이 수사 기록에 모두 빠져있다며 반박했다.\n",
            "검찰은 이 두 가지 선거법 위반 혐의에 대해 징역 2년을 선고해달라고 재판부에 요청해 놓은 상태다.\n",
            "현재 이 대표는 공직선거법상 위증교사 혐의 위반 관련해서도 1심 판결을 기다리고 있다. 대장동·백현동·위례신도시 개발비리 및 성남FC 불법 후원금 의혹 사건 재판도 진행 중이다.\n",
            "그럼에도 15일 선고에 특히 이목이 쏠리는 이유는 유죄 판결 시 이 대표의 정치생명을 좌우할 첫 분수령이 될 수 있기 때문이다.\n",
            "다음 대선 전까지 확정판결이 나올 가능성이 가장 큰 재판이도 하다. 현행법에 따르면 공직선거법 위반 재판의 경우 1심은 기소 6개월 이내에, 2심과 3심은 원심 선고 후 각각 3개월 안에 끝마쳐야 한다고 규정한다.\n",
            "아울러 공직선거법 위반의 경우, 일반형사 사건보다 기준이 엄격해 100만원 이상의 벌금형만 최종 확정되면 향후 5년간 피선거권이 박탈되며 의원직도 잃게 된다.\n",
            "이 경우, 이 대표가 다음 대선에 출마할 수 없는 건 물론 민주당은 지난 대선에서 보전받은 선거비용 434억원까지 반납해야 한다.\n",
            "사진 출처,\n",
            "뉴스1\n",
            "이 대표의 사법리스크가 현실화되면 당내에서는 어떤 변화가 있을까.\n",
            "'사법부 불신'을 기조로 내세우고 있는 더불어민주당 입장에선 '이재명 리더십' 붕괴는 선을 긋고 있다.\n",
            "앞서 친명계 좌장으로 분류되는 정성호 의원은 지난달 9일 MBC 라디오 시사 방송에 출연해 \"피선거권 박탈 형이 선고되면 이 대표가 상당히 위기에 처할 것 같다고 외부에서 말하는데 지금 당내 상황이나 당 지지자들, 국민 여론을 보면 그렇지 않다\"고 말했다.\n",
            "같은 당 장경태 의원 역시 지난 10일 YTN 라디오에서 “(이 대표의) 리더십은 흔들릴 것이 없고, 재판 결과도 무죄가 확실하다고 본다”고 주장했다.\n",
            "하지만 대체로 전문가들은 이 대표가 1심 판결에서 유죄를 받을 경우, 특히 비명계 중심으로 당내 동요와 국민 여론 움직임은 불가피하다고 진단했다.\n",
            "경희대 공공거버넌스연구소 채진원 교수는 BBC코리아에 \"이재명 대표에게 1심에서 유죄판결이 내려지면 '친명계'와 이 대표 지지자들은 강력히 반발할 것이지만 당내 '비명계'와 일반 국민들은 이 대표의 도덕성과 자격에 파탄이 난 만큼, 이 대표에 대한 반감과 비호감이 커지게 되어 결국 3심이 확정될 때까지 대권주자의 경쟁력 하락으로 이어질 것으로 보인다\"고 전망했다.\n",
            "채 교수는 지지층의 이탈화도 피하기 어렵다고 봤다. 그는 \"이재명의 민주당'에서 벗어나는 '탈이재명-이재명 지우기 흐름'이 민주당의 대세가 될 것으로 보인다\"고 예측했다.\n",
            "이종훈 정치평론가 역시 \"유죄 판결이 나오면 이제 빈명계 쪽에서 대표직 사퇴하라고 하는 이제 얘기가 나올 수밖에 없다\"며 \"이 대표의 사법 리스크가 이제 현실화하면서 정치적인 주도권 상실과 정당 지지율이 하락할 가능성이 높아지기 때문\"이라고 말했다.\n",
            "이와 더불어 이 평론가는 국민 사이에서 일고 있는 동정론 역시 사라질 수 있다고 봤다.\n",
            "\"최근 들어 윤석열 대통령이 지지율이 워낙 낮고 소통도 일방적인 상황에서 이재명 대표 부부에 대해서 너무 과한 수사가 아닌가 하는 여론과 또 반사적 이익이 있었거든요. 그런데 검찰이 아닌 사법부 그러니까 법원에서 판결이 유죄 판결이 나오는 건 또 얘기가 다르잖아요…. 그런 게 사라져 버리는 것이죠.\"\n",
            "타격은 있겠지만, 당내 리더십이나 분열이 크지는 않을 것이란 관측도 있다.\n",
            "동국대 정치외교학과 박명호 교수는 유죄 유무보다는 피선거권까지 연결되는 유죄인지 등에 따라 엇갈릴 것이라고 말했다. 아직 재판 과정이 남아있고 다른 재판도 있어서 추이를 더 지켜봐야 한다는 것.\n",
            "박 교수는 \"당내 리더십에는 흠집 정도는 일 수 있지만 심각한 위협이 되기에는 아직 좀 이르다\"며 \"아마 (당에서) 최악의 경우를 전제로 그 나름의 대비가 있지 않을까 싶다\"고 했다.\n",
            "반면 재판부가 15일 법원이 이 대표에게 무죄를 선고할 경우 그동안 야당이 끊임없이 제기해 온 '표적 수사' 주장에 힘이 실릴 예정이다. 현재 민주당은 이 대표를 둘러싼 혐의와 수사가 탄압이라며 연일 장외 투쟁을 이어 가고 있다.\n",
            "박 교수는 이번 재판이 정치적 양극화로까지 이어질 수 있다고 우려했다.\n",
            "그는 \"정치적으로 다툼이 있고 서로의 입장이 있는 부분은 이해되는데 이게 사법의 영역으로 자꾸 넘어가서 OX 문제처럼 돼 버리고 정치적 양극화를 악화시키고 공동체를 위협하는 듯하다\"며 \"그런 면에서는 우리 사회에 꽤 중요한 메시지를 주는 계기가 되지 않겠나\"라고 말했다.\n",
            "한편, 이 대표의 공직선거법 위반 혐의 1심 선고는 금요일인 15일, 오후 2시 30분에 열린다.\n",
            "\n",
            "================================================================================\n",
            "URL: https://www.bbc.com/korean/articles/c80lp2z9gpmo\n",
            "관련 토픽: \n",
            "기사 내용:\n",
            "사진 출처,\n",
            "GETTY IMAGES\n",
            "도널드 트럼프 공화당 대선 후보가 이번 대선에서 역사적인 승리를 거두며 다시 한번 백악관에 입성할 예정이다.\n",
            "카멀라 해리스 민주당 후보와는 치열한 접전을 펼칠 것으로 예상됐으나, 밤사이 개표 결과 트럼프는 승리를 확정할 수 있을 만큼의 표를 확보한 것으로 나타났다.\n",
            "트럼프는 130여 년 만에 재선에 실패했다 다시 당선된 최초의 전직 대통령이자, 현재 78세로 역사상 최고령 당선인이 될 전망이다.\n",
            "베냐민 네타냐후 이스라엘 총리, 키어 스타머 영국 총리 등 각국 정상들이 이미 트럼프의 당선을 축하하긴 했으나, 아직 대선 결과는 공식적으로 확정되지 않았다.\n",
            "앞서 일부 ‘경합’주에서 매우 치열한 접전이 펼쳐지면서 결과를 쉽게 알기 어려울 수도 있다는 우려가 제기되기도 했다.\n",
            "그러나 전통적으로 공화당 강세인 주에서 승리를 확정하고, 노스캐롤라이나, 조지아, 펜실베이니아, 위스콘신에서도 예상보다 일찍 결과가 나오며 트럼프는 당선을 확신할 수 있는 선거인단 270명을 확보하게 됐다.\n",
            "BBC의 미국 현지 파트너인 CBS 뉴스는 불과 선거 다음날인 6일 오전 5시 30분(EST) 트럼프를 최종 당선인으로 예상했다.\n",
            "그러나 각 주의 구체적인 선거 결과가 공식적으로 발표되려면 앞으로 며칠 혹은 몇 주가 걸릴 수 있다.\n",
            "아니다. 트럼프는 이제 대통령 당선인이, 그의 러닝메이트였던 J.D. 밴스는 부통령 당선인이 된다.\n",
            "트럼프는 내년 1월 20일 월요일 대통령 취임식에서 선서를 하게 되는데, 이 순간을 기점으로 법적으로 대통령직에 따르는 권한과 책임을 맡게 된다.\n",
            "모든 유효한 표가 최종 결과에 집계되면 선거인단 제도를 통해 선거 결과를 확정 짓게 된다.\n",
            "각 주마다 배정된 수도 다른 이 선거인단들이 나서 투표를 하게 된다. 유권자들의 지지뿐만 아니라 이들의 지지를 얻어야 궁극적으로 대통령직에 당선될 수 있다.\n",
            "일반적으로 각 주에서는 주민 투표에서 득표율 1위를 차지한 후보 1명에게 자신들의 주에 배당된 모든 선거인단의 표를 몰아준다. 그리고 선거인단들은 각 주에서 모여 투표를 실시한다.\n",
            "그런 다음 내년 1월 6일, 미 의회는 상하원 합동 회의를 열고 선거인단의 표를 집계해 차기 대통령을 공식적으로 확정한다.\n",
            "과거 트럼프가 바이든 후보에 맞서 패배했음을 인정하지 않자 트럼프 지지자들이 국회의사당으로 행진하려고 했는데, 이들이 막으려고 했던 행사가 바로 이 선거 결과를 공식적으로 인증하는 의회 회의였다.\n",
            "사진 출처,\n",
            "GETTY IMAGES\n",
            "트럼프 대통령 당선인과 밴스 부통령 당선인은 정권 인수팀과 협력해 바이든 현 행정부로부터 인수인계를 받게 된다.\n",
            "인수팀은 정책적으로 우선순위를 파악하고, 새 행정부의 주요 인사 후보자를 검증하고, 정부 역할을 인수받을 준비를 할 것이다.\n",
            "아울러 트럼프와 주요 인사들은 현재 직면한 위협이나 진행 중인 군사 작전을 다루는 국가 안보 기밀 사항도 보고받기 시작할 것이다.\n",
            "대통령 당선인과 부통령 당선인은 미국 비밀경호국의 의무 경호 대상이다.\n",
            "한편 현직 대통령은 보통 선거일 이후 차기 대통령을 백악관으로 초대하곤 한다.\n",
            "또한 평화적인 권력 이양의 상징으로 후임 대통령의 취임식에도 참석하나, 트럼프는 2020년 바이든의 취임식에 불참했다.\n",
            "그러나 로널드 레이건 대통령이 시작한 전통에 따라 집무실에 후임자를 위한 친필 메모는 남겼다.\n",
            "당시 바이든 대통령은 기자들에게 전임자가 “매우 관대한 편지”를 남겼다고 말한 바 있다.\n",
            "취임식을 치른 새 대통령은 곧바로 업무를 시작하게 된다.\n",
            "\n",
            "================================================================================\n",
            "URL: https://www.bbc.com/korean/articles/cq8vdnw2w22o\n",
            "관련 토픽: \n",
            "기사 내용:\n",
            "사진 출처,\n",
            "BBC NEWS\n",
            "홀리는 16살이 되던 해, 장애인도 성관계가 가능하냐는 질문을 들었다.\n",
            "이후로 수년 동안 “거친 관계도 가능한지”, 휠체어를 탄 상태로 해야 하는지 등등 여러 질문을 받았다.\n",
            "“사람들은 제게 호의를 베풀고 있다고 생각해요. 희생이라도 하는 것처럼 여기죠. 더 나쁜 점은, 제가 더 이상 충격을 받거나 공격받았다고 느끼지 않는다는 겁니다.”\n",
            "홀리 그리더(26)는 만성 통증과 과운동 증후군을 앓고 있다. 홀리는 다른 장애 여성들과 함께 장애인의 데이트와 연인 관계에 대한 편견과 낙인에 맞서 목소리를 내고 있다.\n",
            "홀리는 장애를 가진 사람들의 행복한 관계성을 보여주는 것이 중요하다고 말한다.\n",
            "홀리는 십대 시절에 지금의 남편 제임스와 사귀기 시작했다. 올해 초 결혼해 9년째 함께하고 있다.\n",
            "홀리는 “미디어에서 장애인의 삶은 주로 비참하게 다뤄진다. 우리는 그저 비극적 소재로 취급된다”고 말한다.\n",
            "또한, 남편에게서는 항상 응원받는 기분이 들지만, 다른 사람들의 태도에서는 고정관념이 느껴진다고 덧붙였다.\n",
            "“처음 동거를 시작했을 때, 주변에서는 제 건강이 나빠지면 남편이 저를 떠날 거라고 했어요.”\n",
            "“부담스럽거나 감당하기 어려울 거라는 거였죠.”\n",
            "홀리는 학교에 다닐 때 사람들이 특정한 편견을 갖고 있었고, 그런 편견을 직접 질문하기도 했다고 말한다.\n",
            "사진 출처,\n",
            "RAM PHOTOGRAPHY & FILM\n",
            "“휠체어를 사용하는 사람이 가장 먼저 듣는 질문은 항상 “성관계를 가질 수 있냐”는 거예요.”\n",
            "홀리는 같은 반 남학생들이 개인적이고 사적인 부분을 질문했다고 털어놓았다.\n",
            "“휠체어를 타야만 관계를 가질 수 있는지, 관절이 탈구되지는 않는지, 본인이 저와 거친 섹스를 하려면 가능한지, 그런 질문들이었죠.”\n",
            "홀리는 SNS에서 성관계를 제안받기도 했다. 주로 홀리가 그런 제안들을 “행운”으로 여겨야 할 것처럼 적혀있었다.\n",
            "홀리는 미디어가 성을 더 긍정적으로 다루길 바란다. 최근 접한 것 중에는 넷플릭스 드라마 “오티스의 비밀 상담소”에 나오는 ‘아이작 굿윈’ 캐릭터가 거의 유일한 사례였다.\n",
            "사진 출처,\n",
            "BBC NEWS\n",
            "케어필리 출신의 니콜라 토마스(38)는 시각장애인으로 등록되어 있다.\n",
            "니콜라는 “가장 많이 듣는 질문 중 하나가 ‘어떻게 섹스를 하느냐’는 것이다. 말도 안 되게 사적이고 개인적인 질문”이라고 말한다.\n",
            "니콜라는 자가면역질환인 시신경척수염을 앓고 있다. 15년 전 한쪽 눈의 시력을, 5년 전에는 나머지 눈의 시력을 잃었다.\n",
            "“많은 사람들이 실명으로 인해 큰 장벽을 마주하죠. 저는 그 장벽을 허무는 사람이에요.\"\n",
            "사진 출처,\n",
            "NICOLA THOMAS\n",
            "니콜라는 시력을 잃었을 당시 남자친구가 있었지만 이후 헤어졌다.\n",
            "“저는 짐짝 취급을 받았어요. 주변에서는 남자친구에게 제 간병인이 되어서는 안 된다고 말했는데, 저는 간병인이 필요하지 않았어요.”\n",
            "지금은 시각 장애를 가진 남자친구와 만나고 있다.\n",
            "“우리 둘 다 시각장애인이지만, 도시를 돌아다니거나 데이트를 할 때 스스로 길을 찾을 수 있어요. 아무것도 우리를 막을 수 없죠.”\n",
            "니콜라는 사람들이 자신에게 관심을 보일 때 고정관념을 느낀다고 말했다.\n",
            "“사람들이 SNS에서 데이트 요청 메시지를 보내는데, 제가 시각장애인이라고 말하면 관심을 잃거나 행동이 바뀌어요.”\n",
            "“마치 내게 호의를 베푸는 것처럼 대하죠. 그러면 바로 기분이 식어버려요.”\n",
            "니콜라는 “사람들이 편견에 싸인 협소한 시선으로 우릴 바라본다. 그 편견을 깨고 싶다. 나는 충만하고 행복한 삶을 살고 있다”고 덧붙였다.\n",
            "캣 왓킨스는 장애인도 비장애인과 마찬가지로 자신의 성적 정체성을 탐구하고 관계를 발전시킬 권리가 있다고 말한다.\n",
            "캣은 비영리단체 ‘웨일즈 장애인 협회’(Disability Wales)에서 정치 참여 프로젝트를 담당한다.\n",
            "“왜 장애인에게 섹스와 관계 형성이 금기처럼 여겨질까요? 우리도 생계를 유지하고 지붕 덮인 집에서 사는 것 외에 더 많은 관심사가 있습니다.”\n",
            "“자신의 삶을 살고 스스로 즐기는 것은 당연히 인생의 일부인데, 장애인에게는 이 부분이 충분히 조명되지 않습니다.”\n",
            "캣은 장애 여성들이 어떤 메시지를 받았는지 들려주는 경우가 “슬프게도 너무 많다”고 말했다.\n",
            "캣은 맞춤형 성인용품과 보조기구가 자신감 형성에 도움이 될 수 있으며, 더 대중적인 성인용품 사이트와 매장에서 이런 제품을 보고 싶다고 말했다.\n",
            "“스스로를 편안하게 느끼고 자신의 몸을 이해해야 다른 사람에게 설명할 수 있습니다. 자기애를 느끼는 것도 정말 중요합니다.”\n",
            "\n",
            "================================================================================\n",
            "URL: https://www.bbc.com/korean/articles/cn7md402zk8o\n",
            "관련 토픽: \n",
            "기사 내용:\n",
            "사진 출처,\n",
            "GETTY IMAGES\n",
            "도널드 트럼프가 이민자·경제·우크라이나 전쟁 등의 사안에서 대응책을 약속하며 백악관으로 복귀할 예정이다.\n",
            "또한 공화당이 상원 다수당 탈환에 성공한 만큼, 의회에서 트럼프의 정치 의제에 힘이 실릴 가능성이 높다.\n",
            "트럼프는 승리 연설에서 “내 통치 원칙은 단순하다. 약속한 것은 지킨다는 것이다. 우리는 계속 약속을 지켜나가겠다”고 말했다.\n",
            "하지만, 각종 목표를 어떻게 달성할 것인지 세부 내용을 거의 밝히지 않은 의제들도 있다.\n",
            "트럼프는 2023년 폭스뉴스 타운홀 대담에서 권력을 남용하거나 정적을 표적으로 삼을 것이냐는 질문에 “첫날만 그럴 것”이라고 답했다.\n",
            "“아니, 아니, 아니, 첫날만 그럴 겁니다. 첫날에만 국경을 닫고 시추를 하는 거죠. 그 이후로는 독재자가 아닐 겁니다.”\n",
            "트럼프는 선거운동 기간 동안 미국 역사상 최대 규모의 불법 이민자 추방을 약속했다.\n",
            "또한, 첫 번째 임기에서 시작한 멕시코 국경의 장벽 건설을 완료하겠다고 공약했다.\n",
            "미국 남부 국경을 넘어온 이민자는 바이든-해리스 행정부 시절인 지난해 말 사상 최고치를 기록한 후 올해 감소세를 보였다.\n",
            "전문가들은 트럼프가 약속한 규모로 추방을 단행하면 법적·절차적 문제가 상당할 것이며 경제 성장을 둔화시킬 수 있다고 BBC에 전했다.\n",
            "이번 미 대선의 출구조사 결과에 따르면 유권자들은 경제 문제를 특히 중요하게 생각했다. 트럼프는 “인플레이션 종식”을 약속했다. 인플레이션은 조 바이든 행정부에서 역사적 고점을 기록한 이후 다시 하락했다. 하지만, 물가에 직접 영향을 미칠 수 있는 대통령의 권한은 제한적이다.\n",
            "또한 트럼프는 2017년부터 시행된 감세 정책을 연장하는 등 광범위한 세금 감면을 약속했다. 트럼프는 팁 소득에 대한 면세, 사회보장 급여에 대한 과세 폐지, 법인세 인하를 내걸었다.\n",
            "한편, 무역 적자 축소를 위해 대부분의 수입품에 최소 10%의 관세를 새로 부과하는 방안을 제시했다. 특히, 중국산 수입품에는 60%의 추가 관세가 부과될 수 있다고 말했다. 일부 경제학자들은 이러한 조치가 소비자 가격 인상으로 이어질 수 있다고 경고했다.\n",
            "2021년 1월 6일 워싱턴DC에서는 2020년 조 바이든의 대선 승리를 저지하기 위해 트럼프 지지자들이 국회 의사당 건물을 습격하는 폭동이 벌어졌다. 트럼프는 이 폭동 사태에서 유죄로 판결난 사람 중 일부를 “자유의 몸”으로 만들겠다고 밝혔다.\n",
            "이 폭동으로 여러 명의 사망자가 나왔고, 트럼프는 폭동을 선동했다는 비난을 받았다.\n",
            "트럼프는 폭동의 심각성을 축소하고 유죄 판결을 받은 수백 명의 지지자가 정치범으로 보이도록 만들었다.\n",
            "트럼프는 폭동범 중 상당수가 “부당하게 수감됐다”는 주장을 유지하면서도, “그들 중 몇 명은 아마도 통제 불능 상태였을 것”이라고 인정했다.\n",
            "트럼프는 본인을 상대로 2건의 형사기소를 지휘한 베테랑 검사를 취임 후 “2초만에” 해임하겠다고 공언했다.\n",
            "잭 스미스 특별검사는 2020년 대선 뒤집기 시도와 기밀문서 유출 혐의로 트럼프를 기소했다.\n",
            "트럼프는 모든 혐의를 부인했고, 두 사건 모두 선거 전 재판 회부를 막아냈다. 트럼프는 스미스 검사가 본인을 “정치적 마녀사냥”의 표적으로 삼았다고 말한다.\n",
            "트럼프는 뉴욕에서 기업 문서 조작 혐의로 유죄 판결을 받은 바 있다. 이로써 사상 처음으로 유죄 판결을 받은 대통령으로서 백악관에 복귀하게 된다.\n",
            "트럼프는 미국이 러시아-우크라이나 전쟁에서 우크라이나에 제공한 수백억 달러의 지출을 비판하며, 협상을 통해 “24시간 내에” 분쟁을 끝내겠다고 약속했다.\n",
            "다만, 양측이 무엇을 양보해야 한다고 생각하는지는 밝히지 않았다. 민주당은 이런 방식이 블라디미르 푸틴 러시아 대통령을 더 대담하게 만들 것이라고 말한다.\n",
            "트럼프는 미국이 세계 각지의 분쟁에서 발을 빼기를 원한다. 가자지구 전쟁과 관련해서는 본인을 이스라엘의 확고한 지지자로 내세우는 한편, 이스라엘에는 신속한 마무리를 촉구했다. 또한 레바논에서 벌어지는 관련 폭력 사태에 대해서도 종식을 약속했지만, 세부 사항은 언급하지 않았다.\n",
            "트럼프는 일부 지지자들의 바람과는 달리 카멀라 해리스와의 대선 토론에서 전국적인 낙태 금지법에 서명하지 않겠다고 말했다.\n",
            "트럼프의 첫 대통령 취임 후 보수 성향 판사가 대법원에서 다수를 차지하게 됐고, 2022년에는 임신 중절에 관한 헌법상의 권리가 뒤집혔다.\n",
            "생식권 보호는 해리스 후보의 주요 선거 공약이 됐다. 여러 주에서는 투표일에 낙태권을 보호하거나 확대하는 조치를 승인했다.\n",
            "트럼프는 각 주에서 낙태 관련법을 자유롭게 결정할 수 있어야 한다고 꾸준히 발언해 왔다. 다만, 본인이 내세울 일관된 메시지를 찾는 데 난항을 겪었다.\n",
            "트럼프는 첫 임기 동안 환경 보호 규제 수백 건을 철회하고 미국을 파리기후협약 최초의 탈퇴국으로 만들었다.\n",
            "이번에도 규제 완화를 다시 한번 공언했고, 특히 그 목적이 미국의 자동차 산업을 지원하는 것이라고 밝혔다. 트럼프는 전기차를 끊임없이 비판하며 청정 자동차 전환을 장려하려던 바이든의 목표를 뒤집겠다고 약속했다.\n",
            "또한, 풍력 등 재생 에너지원 대신 미국의 화석 연료 생산을 늘리기 위해 첫날부터 “시추, 시추, 시추”에 나서겠다고 약속했다.\n",
            "트럼프는 북극 황야와 같은 지역에서 석유 시추를 허용해 에너지 비용을 낮추겠다고 주장하는데, 분석가들은 이에 회의적이다.\n",
            "\n",
            "================================================================================\n",
            "URL: https://www.bbc.com/korean/articles/c3vk59q96z5o\n",
            "관련 토픽: \n",
            "기사 내용:\n",
            "사진 출처,\n",
            "NEWS1\n",
            "딥페이크를 이용한 성범죄를 막고 피해자를 보호하기 위한 이른바 '딥페이크 성범죄 방지법'이 국회 본회의를 통과했다.\n",
            "지난 26일 국회 본회의에서는 딥페이크 범죄에 대한 국가의 책임을 강화하고, 단순 시청 행위도 범죄에 포함하며, 피해자 회복 조치를 강화하는 등의 내용을 담은 개정안 세 건이 모두 통과됐다.\n",
            "이날 통과된 딥페이크 관련 법안은 성폭력범죄처벌특례법(성폭력처벌법), 아동·청소년 성보호에 관한 법(청소년보호법), 성폭력방지 및 피해자 보호 등에 관한 법률(성폭력방지법) 등 총 3개 법 개정안이다.\n",
            "지난 8월 딥페이크를 이용한 성착취물 범죄가 광범위하게 퍼져있고, 특히 가해자와 피의자 상당수가 10대인 것으로 드러나 큰 충격을 준 가운데, 이번에 개정된 법이 딥페이크 이용 성범죄를 근절할 수 있을지 귀추가 주목된다.\n",
            "이날 통과된 법들은 아동·청소년을 대상으로 하는 딥페이크 성착취물의 수사와 처벌을 강화하고, 피해자를 보호하는 내용을 골자로 한다.\n",
            "우선 딥페이크 성범죄물을 시청한 행위도 처벌 대상이 됐다. 개정된 성폭력처벌법은 불법합성 성범죄물을 소지·구입·저장 또는 시청할 경우 3년 이하의 징역 또는 3천만원 이하 벌금에 처하도록 했다.\n",
            "딥페이크 합성물 제작자를 처벌할 때 '반포할 목적'을 입증해야 할 필요성도 사라졌다. 기존 법에서 허위 영상물을 \"반포할 목적\"으로 편집·합성 또는 가공한 자를 처벌한다는 조항에서 \"반포할 목적\"이라는 단서 조항이 빠져, 당사자의 의사에 반해 불법 합성물을 제작할 경우 목적과 관계 없이 처벌할 수 있게 됐다.\n",
            "청소년보호법에서는 아동·청소년 성착취물을 이용한 협박과 강요에 대한 처벌 수위가 높아졌다. 기존 법에서는 협박은 1년 이하, 강요는 3년 이하의 징역이던 수위가 협박은 3년 이하, 강요는 5년 이하로 상향됐다.\n",
            "또 비공개 수사 항목을 신설해 긴급을 요할 때는 경찰이 상급 경찰관서의 승인 없이 비공개 수사를 할 수 있도록 했다.\n",
            "사진 출처,\n",
            "NEWS1\n",
            "딥페이크 성범죄물 등에 대한 국가의 책임도 강화됐다. 성폭력방지법에서는 제3조 국가 등의 책무에 '불법촬영물 등의 삭제지원 및 피해자에 대한 일상 회복 지원' 항목이 신설돼, 삭제와 일상회복 지원이 국가의 책무임을 명시했다.\n",
            "또 불법촬영물 등의 삭제지원을 요청할 수 있는 대상을 기존 '국가'에서 '국가와 지방자치단체'로 바꿔 지방자치단체도 적극적으로 삭제지원에 나서도록 했다. 삭제지원 대상에는 촬영물은 물론 신상정보도 포함할 수 있도록 했고, 가해자에 대한 구상권 행사에 필요한 개인정보를 관계 행정기관 장에게 요청할 수 있도록 하는 내용도 담겼다.\n",
            "또한 현재 서울, 경기, 인천, 부산에만 있는 '디지털성범죄피해자지원센터'가 전국으로 확대될 수 있도록 설치 및 위탁 등 운영 근거를 명시했다.\n",
            "이번 법안에 대해서는 지금이라도 통과돼 다행이라는 반응과 아쉽다는 반응이 동시에 나오고 있다.\n",
            "국회 여성가족위원회 위원장인 국민의힘 이인선 의원은 보도자료를 통해 \"국민들이 안심할 수 있는 사회를 만들기 위해서는 강력한 법적 지원이 필요하기에 이번 법률 제정이 큰 의미가 있다고 생각한다\"고 밝혔다.\n",
            "딥페이크 이용 성범죄와 지난 2019년 이른바 ’N번방 사건’의 존재를 알린 추적단불꽃의 원은지 활동가는 BBC에 이번 개정안에 대해 일부 환영한다는 입장을 밝히면서도 특정 법안이 통과되지 못한 데 대해서는 아쉬움을 전했다.\n",
            "원씨는 성폭력처벌법에서 ‘반포할 목적으로’라는 문구가 삭제된 데 대해 “유포 목적이 입증되지 않더라도 딥페이크를 이용한 성범죄물을 이용한 경우 처벌할 수 있도록 한 부분은 굉장히 좋게 본다”고 밝혔다.\n",
            "사진 출처,\n",
            "대한민국국회\n",
            "서울대 딥페이크 사건의 재판 과정에서도 “유포하려고 제작했는지 여부가 다뤄졌었다”는 원씨는 “유포 목적이 유죄 여부와 판결 형량에 영향을 미쳤는데, 이제 그런 것들이 바뀌었다”며, “이런 부분은 긍정적으로 보고 있다”고 전했다.\n",
            "그러나 원씨는 경찰이 인터넷 서비스 제공자에게 직접 아동·청소년 성착취물의 삭제와 차단을 요청하도록 한 법안이 법제사법위원회를 통과하지 못한 데 대해선 아쉬움을 표했다.\n",
            "현재 경찰이 인터넷 서비스 제공자에게 아동·청소년 성착취물의 삭제를 요청하려면 방송통신심의위원회에 삭제조치에 나설 것을 요청해야 한다. 이 때문에 신속 대응을 위해 경찰이 직접 삭제와 차단을 요청할 수 있어야 한다는 문제제기가 지속적으로 있었다.\n",
            "지난 9일 조국혁신당 박은정 의원 등은 이같은 내용을 담은 성폭력처벌법 개정안인 이른바 '응급조치법'을 발의했지만, 이 안은 이번에 법사위에서 논의되지 않았다.\n",
            "“피해자들이 가장 두려워하는 게 유포잖아요. 그래서 경찰이나 방심위에서 권한을 나눠서 적극적으로 처리하라는 응급조치 법안이 통과되지 않아서 좀 아쉽습니다.”\n",
            "지난 25일 71개 여성 단체가 모인 ‘딥페이크 성범죄 아웃 공동행동’은 이 '응급조치법' 불발을 규탄하는 기자회견을 열기도 했다.\n",
            "사진 출처,\n",
            "NEWS1\n",
            "한편 성폭력처벌법 개정 과정에서는 '알면서'라는 조항이 법률안 심사 과정에서 추가돼 논란이 된 후 최종적으로는 삭제된 안이 통과됐다. 문제가 된 대목은 14조 4항의 불법합성 성범죄물인줄 '알면서' 이를 소지·구입·저장 또는 시청할 경우 3년 이하의 징역 또는 3천만원 이하 벌금에 처하도록 한다는 부분이다.\n",
            "국회 법제사법위원회(법사위) 김용민 더불어민주당 의원은 25일 법사위 회의에서 '알면서'라는 단서 조항이 없으면 \"딥페이크 영상을 누군가가 보냈는데 나도 모르게 소지하고 있고, '이게 뭐지' 하고 시청했다가 처벌될 수 있는 길이 열린다\"며 \"알면서라는 것을 명확하게 규정할 필요가 있다\"고 밝혔다. 이어 여야 의원들의 동의로 이 문구가 추가된 법률안이 본회의에 상정됐다.\n",
            "이후 이 문구에 대해 '가해자들이 모르고 시청했다'는 식으로 처벌을 피해갈 수 있다는 우려의 목소리가 나왔고, 본회의 전 더불어민주당은 이 문구를 뺀 수정안을 다시 제출했다. 최종적으로는 이 '알면서'가 빠진 안이 통과됐다.\n",
            "여성가족위원회 소속 더불어민주당 김한규 의원은 수정안 제안 설명에서 \"현재 법안에 따르면 딥페이크 영상물을 소지·구입·저장·시청한 자가 몰랐다고 주장할 경우 수사기관이 행위자가 알았음을 입증해야지만 처벌할 수 있다\"며 \"부당하게 처벌을 피하는 경우가 있을 수 있어 우려가 큰 상황\"이라고 설명했다.\n",
            "딥페이크 성범죄 문제가 공론화된 지 한 달 여만에 관련법이 통과된 만큼, 이번 딥페이크 방지법과 관련해선 후속 논의와 입법이 필요하다는 의견이 주를 잇는다.\n",
            "전날인 25일 열린 국회 법사위 회의에서 더불어민주당 정청래 위원장은 “딥페이크 관련해 법안이 수십 건이 쏟아져나왔고 물리적으로 심사할 시간이 부족했지만 시급성을 요하기 때문에 빠르게 심사했다”고 밝혔다.\n",
            "이어 “시간이 부족하다 보니 다섯 가지 정도의 법을 담지 못 했다”며 추후 입법 논의의 필요성을 언급했다.\n",
            "김한규 의원도 “추가적인 조치가 필요하다”고 26일 더불어민주당 정책조정회의 모두 발언에서 밝혔다.\n",
            "김 의원은 “성인 대상 디지털성범죄도 비공개, 위장 수사가 필요하다는 요구가 많고, 경찰이 방송통신심의위원회를 거치지 않고 직접 영상물 삭제 요청과 접속 차단 조치를 하는 방안도 고민할 필요가 있다”고 밝히며 추가 입법의 필요성을 설명했다.\n",
            "지난 2017년부터 디지털 성폭력 대응 활동을 해오고 있는 한국사이버성폭력대응센터 이효린 사무국장은 여전히 법이 담지 못한 사각지대를 지적했다.\n",
            "이 사무국장은 \"현재 법은 행위를 저지른 사람을 처벌\"한다며 \"의뢰자는 행위자가 아니게 되는지, 정범이 되는 것인지, 방조범인지, 교사범인지 명확하지 않다\"고 설명했다.\n",
            "그는 이어 \"촬영, 유포, 협박, 합성 이런 식으로 행위들이 나열되는 방식\"의 법제화에 대해서도 우려를 표했다. 그는 \"새로운 형태의 폭력이 등장할 때마다 이 안에 들어가는지 여부가 중요해진다\"며, \"행위를 나열하는 게 아니라 폭력이 발생할 수 있는 과정을 포괄해 법제화하는 것이 필요하다\"는 의견을 전했다.\n",
            "\n",
            "================================================================================\n",
            "URL: https://www.bbc.com/korean/articles/c5y59jgrwxwo\n",
            "관련 토픽: \n",
            "기사 내용:\n",
            "사진 출처,\n",
            "NEWS1\n",
            "2025학년도 대학수학능력시험(수능)이 14일 오전 8시 40분부터 전국 1282개 시험장에서 치러졌다.\n",
            "한국교육과정평가원에 따르면 올해 수능에는 전년도보다 1만8082명 많은 52만2670명이 지원했다.\n",
            "그 중 N수생(고등학교를 졸업한 수험생)은 전체 수능 응시자 중 31%(16만1784명)로 2004년 이후 21년 만에 가장 많다. 특히 입시업계는 이 중 대학에 입학해 1학기를 마치고 수능에 응시하는 반수생을 9만여 명으로 추정하고 있다.\n",
            "의대 증원이 반영된 첫 시험이어서 의대에 도전하는 N수생이 크게 늘어난 것으로 분석된다.\n",
            "2025학년도 의대 신입생 모집 인원은 4610명으로 지난해보다 1497명이 늘어났다.\n",
            "입시 전문가들은 올해 수능 난이도가 '불수능'에 가까울 것이라고 예상했다. 최상위권 경쟁이 치열할 수 있어 국어·수학에서 변별력을 확보할 수 있는 문항들이 많이 출제될 것이라는 전망이다.\n",
            "한편 수능 출제 본부는 “사교육 경감 대책에 따라 이번 수능은 ‘킬러문항(초고난이도 문항)’을 배제했다”고 밝혔다.\n",
            "사진 출처,\n",
            "NEWS1\n",
            "사진 출처,\n",
            "NEWS1\n",
            "사진 출처,\n",
            "NEWS1\n",
            "사진 출처,\n",
            "NEWS1\n",
            "사진 출처,\n",
            "NEWS1\n",
            "사진 출처,\n",
            "NEWS1\n",
            "사진 출처,\n",
            "NEWS1\n",
            "사진 출처,\n",
            "NEWS1\n",
            "사진 출처,\n",
            "NEWS1\n",
            "\n",
            "================================================================================\n",
            "URL: https://www.bbc.com/korean/articles/cwy9k9zz807o\n",
            "관련 토픽: \n",
            "기사 내용:\n",
            "미국의 제47대 대통령을 뽑는 선거가 현지시간 5일 치러졌다.\n",
            "한국시간 6일 오후 8시 기준, 도널드 트럼프 공화당 후보는 승리 요건인 전체 선거인단 538명 중 과반인 270명을 넘는 279명의 선거인단을 확보하면서 사실상 승리를 확정지었다.\n",
            "이날 미국민들은 자신들의 삶에 지대한 영향을 미칠 여러 법안을 통과시키는 데 핵심적인 역할을 하는 차기 상하원 의원도 선출한다.\n",
            "도널드 트럼프 공화당 후보는 최종적으로 7개 경합주 모두에서 승리하며 312명의 선거인단을 확보했다.\n",
            "앞서 트럼프 전 대통령은 조지아와 노스캐롤라이나 등 경합주에서 잇따라 승리한 이후 미국 대통령 선거 승리를 선언했다.\n",
            "트럼프 전 대통령은 자택이 있는 플로리다 팜비치 컨벤션센터에 모인 지지자들 앞에서 \"제45대, 그리고 제47대 대통령으로 당선되는 영광을 누리게 해준 미국민에 감사하고 싶다\"고 말했다.\n",
            "트럼프 전 대통령은 \"이는 미국 국민을 위한 장대한 승리이며 미국을 다시 위대하게 만들 수 있게 해줄 것\"이라고 했다.\n",
            "트럼프 전 대통령이 확보한 선거인단은 다음과 같다.\n",
            "앨라배마(9), 알래스카(3), 애리조나(11), 아칸소(6), 플로리다(30), 조지아(16), 아이다호(4), 인디애나(11), 아이오와(6), 캔자스(6), 켄터키(8), 루이지애나(8), 메인(1), 미시간(15), 미시시피(6), 미주리(10), 몬태나(4), 네브레스카(4), 네바다(6), 노스캐롤라이나(16), 노스다코타(3), 오하이오(17), 오클라호마(7), 펜실베이니아(19), 사우스캐롤라이나(9), 사우스다코타(3), 테네시(11), 텍사스(40), 유타(6), 웨스트버지니아(4), 위스콘신(10), 와이오밍(3)\n",
            "카멀라 해리스 민주당 후보는 최종적으로 총 226명의 선거인단을 확보했다.\n",
            "캘리포니아(54), 콜로라도(10), 코네티컷(7), 델라웨어(3), 워싱턴 DC(3), 하와이(4), 일리노이(19), 메인(3), 메릴랜드(10), 매사추세츠(11), 미네소타(10), 네브레스카(1), 뉴햄프셔(4), 뉴저지(14), 뉴멕시코(5), 뉴욕(28), 오리건(8), 로드아일랜드(4), 버몬트(3), 버지니아(13), 워싱턴(12)\n",
            "*메인주와 네브레스카주는 승자독식제가 아닌 선거인단을 일부 분할하는 제도를 사용하고 있다.\n",
            "*아래 지도에서 개표 결과를 확인할 수 있습니다. 이 정보는 정기적으로 업데이트됩니다.\n",
            "민주당과 공화당은 대선과 더불어 상원과 하원을 장악하기 위해 경쟁하고 있다.\n",
            "상원의원은 6년의 임기를 가지며 2년마다 총 의석수인 100석의 3분의 1을 다시 선출한다. 올해는 총 100석 중 34석의 상원을 뽑는다.\n",
            "하원의원은 2년의 임기를 가지며 선거 때마다 435명 전원을 새로 선발한다.\n",
            "지난 2022년 치러진 선거 당시 공화당은 222석, 민주당은 213석을 차지했다. 현재는 공화당 220석, 민주당 212석, 그리고 3석은 현직 의원의 사망, 사임 등으로 공석이다.\n",
            "\n",
            "================================================================================\n",
            "URL: https://www.bbc.com/korean/articles/c4gz5nyv4e2o\n",
            "관련 토픽: \n",
            "기사 내용:\n",
            "사진 출처,\n",
            "SHUTTERSTOCK\n",
            "13일(현지시간) 오후, 도널드 트럼프 미국 대통령 당선인은 워싱턴 DC에서 우레와 같은 박수를 받으며 맷 게이츠 연방 하원의원(플로리다주)을 법무장관으로 지명했다.\n",
            "맷 게이츠는 지금까지 트럼프 당선인이 행정부 구성원으로 지명한 모든 인물 가운데 가장 논란이 많다. 집권 후 기존 체제를 뒤흔들겠다는 당선인의 메시지가 선명히 드러난다.\n",
            "불같은 태도로 유명한 맷 게이츠는 지난해 케빈 매카시(공화당) 당시 연방 하원의장을 끌어내리는 데 앞장선 것으로 가장 잘 알려져 있다. 한편, 차분한 의회에서 화염방사기처럼 일관된 공격성을 보였다.\n",
            "2018년에는 미국 국정연설(연두교서) 자리에 홀로코스트 부정론자를 불러들였다. 총기 난사 사건으로 자녀를 잃은 두 아버지가 게이츠의 총기 소지 찬성론에 반기를 들자 청문회에서 퇴장시키려 하기도 했다.\n",
            "그 과격한 태도는 본인이 소속된 공화당을 비롯해 여기저기에서 적을 만들었다. 따라서 트럼프가 이 중요한 자리에 게이츠를 지명한 것은 같은 공화당 의원들에게도 신호를 보내는 것이다. 트럼프 2기 행정부가 트럼프 당선인의 공약을 실행할 충성스러운 인사로 채워질 것이고, 기존의 정치적 의견은 묵살하겠다는 신호다.\n",
            "미국 인터넷 매체 악시오스(Axios)는 현장 소식통을 인용해 법무장관 지명이 발표되자 공화당 의원들의 탄식이 들렸다고 보도했다.\n",
            "보도에 따르면, 마이크 심슨 공화당 하원의원(아이다호주)은 비속어를 내뱉었다.\n",
            "리사 머코스키 공화당 상원의원(알래스카주)은 “법무장관 지명이 부적절하게 느껴진다”고 밝혔다. “제 빙고카드(예상 후보)에는 없던 이름입니다.”\n",
            "게이츠의 우군은 트럼프의 변함없는 충신들이다. 게이츠는 의회 청문회, 기자회견, 텔레비전 출연 등을 통해 트럼프 당선인을 가장 적극적이고 끈질기게 옹호하는 사람 중 한 명이다.\n",
            "13일 또 다른 트럼프 충성파 마이크 존슨 하원의장은 게이츠 의원을 “뛰어난 변호사”라고 불렀다.\n",
            "존슨은 “게이츠 의원은 마음과 정신에 개혁을 품고 있으며, (법무부에) 많은 변화를 가져올 수 있을 것”이라고 말했다.\n",
            "트럼프는 SNS 게시물에서 게이츠를 통해 미국 법무부의 근본적 변화를 가져올 계획을 설명했다. 트럼프는 지금까지 여러 법적 문제에 시달리면서 꾸준히 법무부를 비난해 왔다.\n",
            "트럼프 당선인은 “맷은 법무부의 조직적 부패를 뿌리 뽑고, 범죄와 싸우고 민주주의와 헌법을 수호한다는 법무부 본연의 사명을 회복시킬 것”이라고 썼다.\n",
            "트럼프는 선거운동 기간 동안 자신을 겨냥한 수많은 표적 수사에 보복하겠다고 공언했다. 이제 게이츠는 트럼프의 법무부 길들이기 작업에서 최전선에 서게 될 것으로 보인다.\n",
            "법무부는 게이츠에 대한 수사도 진행한 바 있다.\n",
            "작년 법무부는 게이츠가 여성에게 돈을 지불하고 바하마를 여행하면서 성매매법을 위반했다는 혐의에 대해 기소를 거부했다. 게이츠는 하원 윤리위원회에서 성 비위, 불법약물 사용, 선거자금 사적유용 등의 혐의로 지속적인 조사를 받았다.\n",
            "하지만 13일 오후 존슨은 게이츠가 하원의원직을 사임했으며, 윤리위원회 조사 대상은 의원으로 한정되므로 윤리위 조사가 사실상 종료됐다고 말했다.\n",
            "게이츠는 자신에 대한 모든 혐의를 부인했다.\n",
            "CBS 뉴스에 따르면, 게이츠는2021년 1월 트럼프 대통령 퇴임 전에 해당 범죄에 대한 선제적 사면을 요청했다.\n",
            "이 모든 상황을 감안하면, 일반적으로 법에 정통한 고위 정치인에게 주어지는 법무장관 자리에 게이츠가 어울리지 않는 것처럼 보인다.\n",
            "올해로 42세인 게이츠는 법학 학위를 받았으며 플로리다 로펌에서 근무한 이후 정계에 입문해 8년 동안 의원직을 지냈다. 조 바이든 행정부의 메릭 갈랜드 법무장관은 연방 항소법원 고위 판사였다. 트럼프는 첫 임기 때 상원의원 제프 세션스와 빌 바를 법무장관으로 지명했다. 빌 바는 공화당 대통령 행정부에서 수십 년의 경력을 쌓은 인물이다.\n",
            "게이츠의 지명이 확정되려면 상원 인준이 필요하다. 게이츠는 상원에서 공화당 의원을 포함해 많은 이들의 심기를 건드렸다. 공화당이 내년 다수당 지위를 차지하기는 하나, 민주당 및 통합 야당의 반대 표에 4표만 추가되면 상원 인준이 무산될 수 있다.\n",
            "지난해 게이츠는 법무장관이 되고 싶다고 말하면서도 가능성이 희박하다는 점을 인정했다.\n",
            "게이츠는 미국 인터넷 언론 뉴스맥스(Newsmax)와의 인터뷰에서 “세상은 아직 준비가 안 된 것 같다”고 말했다. “상원의 인준은 못 받겠지만, 꿈은 꿀 수 있는 거니까요.”\n",
            "하지만 현재는 트럼프 최측근 지지자들이 게이츠 지명자에게 축하를 보내고 있다.\n",
            "일론 머스크는 X(구 트위터)에서 게이츠를 두고 “정의의 망치가 다가온다”는 글을 올렸다.\n",
            "게이츠 법무장관 인준의 최종 결과에 관계없이, 트럼프는 미국 정부에 경고장을 날린 셈이다. 그의 두 번째 임기는 첫 번째 임기보다 더 조직적일 수도 있겠으나, 결국 더 큰 대립을 가져올 수도 있다.\n",
            "\n",
            "================================================================================\n",
            "URL: https://www.bbc.com/korean/articles/cn8gemm2ep7o\n",
            "관련 토픽: \n",
            "기사 내용:\n",
            "사진 출처,\n",
            "REUTERS\n",
            "테슬라와 X(구 트위터)의 수장 일론 머스크는 지난달 뉴욕시에서 열린 도널드 트럼프 선거 집회에서 “낭비”를 근절하면 미국 정부 지출을 “최소 2조 달러(약 2800조원)” 줄일 수 있다고 주장했다.\n",
            "차기 미국 대통령이 신설 ‘정부효율부’ 수장으로 머스크를 임명한 만큼, 이제 머스크는 본인이 주장한 계획을 실행에 옮길 수 있게 됐다.\n",
            "미국 재무부 자료에 따르면, 가장 최근 회계연도(2023년 10월~2024년 9월) 기준으로 미국 연방정부는 6조7500억달러(약 9490억원)를 지출했다.\n",
            "즉, 머스크가 제안한 2조 달러 삭감은 총 연방정부 지출(다른 나라의 경우 국가 지출)의 약 30%를 잘라낸다는 의미다.\n",
            "이 제안의 현실성은 얼마나 될까?\n",
            "총 지출 내역을 살펴보면 현실성을 가늠하는 데 도움이 될 것이다.\n",
            "총 지출에서 13%를 차지하는 약 8800억달러(약 1237조원)는 국채 이자 지급에 사용된다. 즉, 미국 정부가 채무불이행을 선언하지 않고서는 해당 지출을 줄일 수 없다는 의미다.\n",
            "지출의 22%에 해당하는 약 1조4600억달러(약 2053조원)는 사회보장 비용을 충당한다. 주로 은퇴한 미국인들의 연금 지급을 위한 것이다. 이는 ‘의무지출’ 항목으로, 법에 따라 적격 대상자에게 반드시 지출해야 하는 비용이다.\n",
            "메디케어 또한 금액이 큰 의무지출 항목이다. 메디케어는 주로 65세 이상 미국인을 대상으로 하는 정부 지원 의료보험이다.\n",
            "‘재량지출’(매년 미국 의회에서 표결을 거쳐야 하는 정부 지출)에는 국방(8740억달러/약 1228조원, 13%), 교통(1370억달러/약 193조원, 2%), 교육·훈련·고용·사회 서비스(3050억달러/약 429조원, 5%)가 포함된다.\n",
            "미 의회예산국(CBO)에 따르면, 2023 회계연도 재량지출은 전체 지출의 약 25%를 차지한다. 그중 절반 이상이 국방비로 사용됐다.\n",
            "이론적으로, 차기 트럼프 행정부는 의무지출보다 재량지출을 삭감하는 것이 더 쉬울 것이다.\n",
            "도널드 트럼프는 정부효율부 공동 수장으로 낙점한 일론 머스크와 비벡 라마스와미가 정부 관료주의 해체, 과도한 규제 철폐, 정부기관 구조조정을 통해 지출을 줄일 것이라고 밝혔다. 머스크는 2023년 4월 BBC와의 인터뷰에서 2022년 트위터(현 X)를 인수한 뒤 직원을 8000명에서 1500명으로 줄였다고 주장했다.\n",
            "그러나 분석가들의 계산에 따르면, 현재 머스크가 목표로 삼는 2조 달러의 정부 지출 삭감액이 모두 재량지출에서 나온다면 교통·농업·국토안보부 등 모든 기관을 완전히 폐쇄해야 한다. 2023년 재량지출은 1조7000억달(약 2390조원)에 불과했다.\n",
            "머스크는 2조 달러 삭감이 1년 기준인지, 아니면 장기간에 걸친 계획인지 구체적으로 밝히지 않았다. 다만, 정부 지출 감축에 원칙적으로 찬성하는 전문가를 비롯해 많은 공공재정 전문가들은 중요한 정부 기능의 붕괴나 대중의 큰 저항 없이 이런 대규모 삭감이 가능할지에 대해 회의적인 입장이다.\n",
            "2022년 공화당은 하원 다수당을 차지했지만, 공화당 내에서도 의견이 갈려 정부 재량지출 1300억달러(약 183조원) 삭감 법안을 통과시키지 못했다.\n",
            "또한, 도널드 트럼프가 선거 공약에서 사회보장 급여에 부과되는 소득세를 없애 수급자에게 사회보장을 바탕으로 더 넉넉한 재정 상태를 약속했다는 점도 주목할 만하다. 국방 분야에서는 미국 주변에 “아이언돔 미사일 방어막”을 구축하겠다고 말했는데, 이는 국방비 지출 증가를 시사한다.\n",
            "미국 재무부에 따르면 2024년 미국 연방정부의 총 지출은 미국 경제에서 약 23%를 차지한다.\n",
            "이는 다른 선진국의 중앙정부 지출에 비해 상당히 작은 비중이다.\n",
            "그러나, 미국 정부 지출의 상당 부분(거의 모든 학교 관련 지출을 포함)은 연방정부가 아닌 주정부 차원에서 처리된다. 주정부는 지방 판매세와 재산세로 재원을 조달한다.\n",
            "국제통화기금(IMF)은 주정부 지출을 포함한 미국의 ‘일반정부 지출’ 합계가 2024년 GDP의 약 37.5%에 해당할 것으로 예상했다.\n",
            "이는 영국의 43%, 독일의 48%, 프랑스의 57%와 비교해 상당히 낮은 수준이다.\n",
            "미 정부의 연간 재정 적자(세출과 세수 간 부족분)는 경제 규모의 약 6% 수준이다. 그리고 미국 국민들이 보유한 국채는 현재 경제 규모의 약 97%에 달한다.\n",
            "미국 초당파 비영리 싱크탱크 ‘책임 있는 연방예산위원회’(CRFB)는 이 수치가 2035년까지 125%로 증가한다고 예측했다.\n",
            "또한, 대대적인 지출 감축 없이 도널드 트럼프의 감세 계획이 실행된다면 향후 10년간 미국의 재정 적자가 크게 증가하고 국가 부채 비율은 경제 규모 대비 143%까지 증가할 것으로 예측했다.\n",
            "\n",
            "================================================================================\n",
            "URL: https://www.bbc.com/korean/articles/crk407xy2rdo\n",
            "관련 토픽: \n",
            "기사 내용:\n",
            "미국 유권자들은 대통령 선거일에 민주당 후보 카멀라 해리스 부통령과 공화당 후보 도널드 트럼프 전 대통령 사이에서 중요한 한 표를 행사하게 된다.\n",
            "두 후보의 공약과 다양한 이슈에 대한 정책을 다음과 같이 비교했다.\n",
            "해리스는 가계의 식비·주거비 부담 완화를 최우선 과제로 삼겠다고 밝혔다.\n",
            "해리스는 식료품 가격 부풀리기를 금지하고, 생애 최초 주택 구매자를 지원하고, 주택 공급을 늘리는 방향으로 정책을 펼치겠다고 약속했다.\n",
            "트럼프는 “인플레이션을 종식시키고 미국 물가를 다시 적정 수준으로 되돌리겠다”고 약속했다.\n",
            "트럼프는 대통령에게 권한이 없는 금리 인하를 약속했으며, 불법 이민자를 추방하면 주택 가격 부담이 완화될 것이라고 말했다.\n",
            "해리스는 낙태권 보호를 선거 운동의 핵심으로 삼았으며, 전국적으로 여성의 생식권을 보장하는 법안을 지지하고 있다.\n",
            "트럼프는 최근 몇 주 동안 일관된 메시지를 찾기 위해 고군분투했다.\n",
            "그가 대통령 재임 시절 임명한 3명의 연방 대법관은 ‘로 대 웨이드’ 판결(연방 차원에서 여성의 낙태권을 인정한 판례)의 낙태권 보호를 뒤집는 데 핵심적 역할을 했다.\n",
            "해리스는 남부 국경 문제의 근본 원인을 해결하는 역할을 맡았다. 수십억 달러의 민간 기금을 조성해 지역 투자를 지원함으로써 북쪽(미국)으로의 이민자 유입을 막고자 했다.\n",
            "2023년 말에는 기록적으로 많은 사람들이 멕시코에서 국경을 넘었지만, 이후로는 그 수가 감소했다. 이번 선거 운동에서는 캘리포니아에서 인신매매범들을 상대했던 검사로서의 경험을 강조하며 좀더 강경한 입장을 내세웠다.\n",
            "트럼프는 장벽 건설을 완료하고 단속을 강화해 국경을 봉쇄하겠다고 공언했다. 하지만, 해리스가 지지하는 강경파의 초당적 국경 법안을 폐기할 것을 공화당에 촉구했다.\n",
            "또한, 미국 역사상 최대 규모의 불법 이민자 추방을 약속했다. 전문가들은 BBC에 이 부분이 법적 문제에 직면할 것이라고 말했다.\n",
            "해리스는 대기업과 연봉이 40만달러(약 5억5000만원) 이상인 고연봉자의 세금을 인상하고자 한다.\n",
            "다만, 자녀 세액공제 확대를 포함해 가계의 세금 부담을 완화할 수 있는 여러 가지 조치를 내놓았다.\n",
            "트럼프는 주로 부유층에 유리했던 2017년 감세 정책의 연장을 포함해 수조 달러에 달하는 여러 감세안을 제안했다. 세수 감소분은 더 높은 성장률과 수입품 관세를 통해 충당할 것이라고 말한다.\n",
            "분석가들은 두 계획 모두 재정 적자를 더 부풀릴 것이라고 말하지만, 트럼프 계획의 적자폭이 더 클 것으로 예상한다.\n",
            "해리스는 “필요한 만큼” 우크라이나를 지원하겠다고 약속했으며, 대통령으로 당선되면 중국이 아닌 미국이 “21세기 경쟁에서 승리”하도록 하겠다고 약속했다.\n",
            "해리스는 오랫동안 ‘2국가 해법’(이스라엘과 팔레스타인이 개별 국가로 병존하는 해법)을 지지해 왔으며 가자지구의 전쟁 종식을 촉구해 왔다.\n",
            "트럼프는 고립주의 외교 정책을 추구하며 미국이 세계 각지의 분쟁에서 발을 빼기를 원한다.\n",
            "그는 러시아와의 협상을 통해 우크라이나 전쟁을 24시간 안에 끝내겠다고 했는데, 민주당은 이런 방식이 블라디미르 푸틴 러시아 대통령을 더 대담하게 만들 것이라고 말한다.\n",
            "트럼프는 이스라엘에 대한 확고한 지지를 내세웠지만, 가자지구에서 전쟁을 어떻게 끝낼지는 거의 언급하지 않았다.\n",
            "해리스는 수입품에 관세를 부과하려는 트럼프의 광범위한 계획을 비판하며, 결국 소비자에게 세금처럼 작용해 각 가구에 연간 4000달러(약 552만원)의 비용을 전가할 것이라고 말했다. 해리스는 수입품 과세 대상을 보다 세분화할 것으로 예상된다.\n",
            "트럼프는 이번 선거 운동에서 관세를 핵심 공약으로 내세웠다. 대부분의 수입품에 10~20%의 새로운 관세를 제안했고 중국산 상품에는 훨씬 더 높은 관세를 제안했다.\n",
            "해리스는 부통령으로서 재생에너지와 전기차 세액 공제 및 리베이트 제도에 수천억 달러를 투입하는 인플레이션 감소법 통과에 기여했다.\n",
            "하지만, 환경론자들이 반대하는 수압 파쇄법(셰일가스 시추 기술)에 대한 반대 입장을 철회했다.\n",
            "트럼프는 대통령 재임 당시 발전소와 자동차의 이산화탄소 배출량 제한을 포함해 수백 가지의 환경 보호 조치를 철회했다.\n",
            "이번 선거에서는 북극 시추를 확대하고 전기차 산업을 공격하겠다고 공언했다.\n",
            "해리스는 처방약 비용을 낮추고 인슐린 가격을 35달러(약 4만8000원)로 제한한 바이든 행정부의 일원이었다.\n",
            "트럼프는 대통령 재임 당시 수백만 명에게 보험 혜택을 확대한 건강보험개혁법(ACA)을 폐지하려 했던 시도를 반복하지 않겠다고 밝혔다.\n",
            "트럼프는 정부 차원의 불임 치료 지원을 촉구했으나, 의회의 공화당원들이 반대할 수 있다.\n",
            "해리스는 본인이 검사로 근무한 이력과 트럼프가 범죄로 유죄 판결을 받았다는 사실이 대비되도록 했다.\n",
            "트럼프는 마약 카르텔을 무너뜨리고, 조직 폭력을 근절하며, 민주당 시장 아래에서 범죄의 온상이 된 도시들을 재건하겠다고 공언했다.\n",
            "\n",
            "================================================================================\n"
          ]
        }
      ]
    },
    {
      "cell_type": "markdown",
      "source": [
        "## 4. csv"
      ],
      "metadata": {
        "id": "li9HXDmQRnt4"
      }
    },
    {
      "cell_type": "markdown",
      "source": [
        "### 4-1. csv로 만들어 기사 본문, 관련 토픽으로 구성"
      ],
      "metadata": {
        "id": "4g9aG04vRnt5"
      }
    },
    {
      "cell_type": "markdown",
      "source": [
        "- 크롤링을 하는 모든 과정을 실습\n",
        "- robots.txt로 검사\n",
        "-BBC 인기 뉴스 페이지에서 상위 10개의 기사 링크 자동 크롤링\n",
        "-각 기사 링크로 이동하여 본문 및 기사 제목을 가져와 CSV 파일로 저장\n"
      ],
      "metadata": {
        "id": "vz6UQLVBRnt5"
      }
    },
    {
      "cell_type": "code",
      "source": [
        "!pip install pandas\n",
        "#판다스 설치"
      ],
      "metadata": {
        "colab": {
          "base_uri": "https://localhost:8080/"
        },
        "id": "ObW8LispFyvd",
        "outputId": "347cc174-4b54-4506-93e4-1288548016ca"
      },
      "execution_count": 29,
      "outputs": [
        {
          "output_type": "stream",
          "name": "stdout",
          "text": [
            "Requirement already satisfied: pandas in /usr/local/lib/python3.10/dist-packages (2.2.2)\n",
            "Requirement already satisfied: numpy>=1.22.4 in /usr/local/lib/python3.10/dist-packages (from pandas) (1.26.4)\n",
            "Requirement already satisfied: python-dateutil>=2.8.2 in /usr/local/lib/python3.10/dist-packages (from pandas) (2.8.2)\n",
            "Requirement already satisfied: pytz>=2020.1 in /usr/local/lib/python3.10/dist-packages (from pandas) (2024.2)\n",
            "Requirement already satisfied: tzdata>=2022.7 in /usr/local/lib/python3.10/dist-packages (from pandas) (2024.2)\n",
            "Requirement already satisfied: six>=1.5 in /usr/local/lib/python3.10/dist-packages (from python-dateutil>=2.8.2->pandas) (1.16.0)\n"
          ]
        }
      ]
    },
    {
      "cell_type": "code",
      "source": [
        "import time  # 대기 시간을 설정하기 위해 time 모듈을 가져옴\n",
        "import requests  # HTTP 요청을 보내기 위해 requests 모듈을 가져옴\n",
        "import re  # 정규 표현식을 사용하기 위해 re 모듈을 가져옴\n",
        "import pandas as pd  # 데이터 프레임을 생성하고 CSV 파일로 저장하기 위해 pandas 모듈을 가져옴\n",
        "from selenium import webdriver  # 웹 자동화를 위해 selenium 모듈을 가져옴\n",
        "from selenium.webdriver.common.by import By  # HTML 요소를 찾기 위해 By 모듈을 가져옴\n",
        "from selenium.webdriver.chrome.service import Service  # ChromeDriver 서비스 제어를 위해 Service 모듈을 가져옴\n",
        "\n",
        "# Chrome 옵션 설정\n",
        "options = webdriver.ChromeOptions()\n",
        "options.add_argument(\"--headless\")  # 브라우저를 표시하지 않고 실행 (백그라운드에서 실행)\n",
        "options.add_argument(\"--no-sandbox\")  # 보안 옵션 비활성화 (일부 환경에서 필수)\n",
        "options.add_argument(\"--disable-dev-shm-usage\")  # 메모리 문제를 방지하기 위한 설정\n",
        "options.add_argument(\"window-size=1920,1080\")  # 브라우저 창 크기를 설정\n",
        "\n",
        "# ChromeDriver 경로 설정 (로컬 시스템에 맞게 수정 필요)\n",
        "chromedriver_path = \"/root/.wdm/drivers/chromedriver/linux64/131.0.6778.69/chromedriver-linux64/chromedriver\"\n",
        "service = Service(chromedriver_path)  # ChromeDriver 서비스 생성\n",
        "\n",
        "# BBC 뉴스 사이트의 robots.txt 파일 URL (크롤링이 가능한지 확인하기 위해 사용)\n",
        "robots_url = \"https://www.bbc.com/robots.txt\"\n",
        "\n",
        "# robots.txt 파일을 확인하여 특정 경로의 크롤링 허용 여부를 확인하는 함수\n",
        "def is_crawling_allowed(url):\n",
        "    try:\n",
        "        # HTTP GET 요청으로 robots.txt 파일을 가져옴\n",
        "        response = requests.get(url)\n",
        "\n",
        "        # 응답이 성공적일 경우 (상태 코드 200)\n",
        "        if response.status_code == 200:\n",
        "            lines = response.text.splitlines()  # 텍스트를 줄 단위로 분리\n",
        "            for line in lines:\n",
        "                # 모든 사용자 에이전트에 대한 규칙을 찾음\n",
        "                if line.startswith(\"User-agent: *\"):\n",
        "                    # '/korean/' 경로가 Disallow 되어 있는지 확인\n",
        "                    if \"Disallow: /korean/\" in lines:\n",
        "                        print(\"해당 경로는 크롤링이 허용되지 않습니다.\")\n",
        "                        return False\n",
        "            print(\"크롤링이 허용됩니다.\")\n",
        "            return True  # 크롤링 허용 시 True 반환\n",
        "        else:\n",
        "            print(\"robots.txt 파일을 불러올 수 없습니다.\")\n",
        "            return False  # 파일을 불러오지 못하면 False 반환\n",
        "    except Exception as e:\n",
        "        # 예외 발생 시 오류 메시지 출력\n",
        "        print(f\"robots.txt 확인 중 오류 발생: {e}\")\n",
        "        return False\n",
        "\n",
        "# 크롤링이 허용되는지 확인\n",
        "if not is_crawling_allowed(robots_url):\n",
        "    print(\"크롤링을 종료합니다.\")\n",
        "else:\n",
        "    # 크롬 드라이버 실행\n",
        "    driver = webdriver.Chrome(service=service, options=options)\n",
        "\n",
        "    # BBC 인기 뉴스 페이지 URL 설정\n",
        "    url = \"https://www.bbc.com/korean/popular/read\"\n",
        "    driver.get(url)  # 해당 페이지를 열기\n",
        "    time.sleep(3)  # 페이지 로딩을 기다리기 위해 3초 대기\n",
        "\n",
        "    # 기사 링크 목록을 저장할 리스트 초기화\n",
        "    article_links = []\n",
        "    try:\n",
        "        # 상위 10개의 인기 뉴스 링크를 가져옴\n",
        "        for i in range(1, 11):\n",
        "            # 특정 CSS 선택자를 사용하여 기사 링크를 찾음\n",
        "            element = driver.find_element(By.CSS_SELECTOR, f\"#main-wrapper > div > main > div > div > div > div > ol > li:nth-child({i}) > div > div.bbc-14zb6im > a\")\n",
        "            link = element.get_attribute(\"href\")  # href 속성에서 링크를 추출\n",
        "            article_links.append(link)  # 링크를 리스트에 추가\n",
        "            print(f\"기사 링크 {i}: {link}\")\n",
        "    except Exception as e:\n",
        "        print(f\"기사 링크 크롤링 중 오류 발생: {e}\")\n",
        "\n",
        "    # 데이터를 저장할 빈 DataFrame 생성\n",
        "    df = pd.DataFrame(columns=[\"URL\", \"본문 내용\"])\n",
        "\n",
        "    # 각 기사 페이지에서 본문 크롤링\n",
        "    for link in article_links:\n",
        "        driver.get(link)  # 각 기사 페이지 열기\n",
        "        time.sleep(3)  # 페이지 로딩 대기\n",
        "\n",
        "        try:\n",
        "            # 기사 본문 가져오기 (CSS 선택자를 사용하여 <p> 태그 요소 찾기)\n",
        "            paragraphs = driver.find_elements(By.CSS_SELECTOR, \"main[role='main'] p\")\n",
        "            content = \" \".join([p.text for p in paragraphs])  # 각 <p> 태그의 텍스트를 공백으로 연결\n",
        "\n",
        "            # \\n과 ,를 공백으로 대체 후, 연속된 공백을 하나의 공백으로 정리\n",
        "            content = content.replace(\"\\n\", \" \").replace(\",\", \" \")\n",
        "            content = re.sub(r'\\s+', ' ', content).strip()  # 연속된 공백을 하나로 축소하고 양 끝 공백 제거\n",
        "\n",
        "            # DataFrame에 데이터 추가 (URL과 본문 내용)\n",
        "            df = pd.concat([df, pd.DataFrame({\"URL\": [link], \"본문 내용\": [content]})], ignore_index=True)\n",
        "            print(f\"저장된 기사: {link}\")\n",
        "\n",
        "        except Exception as e:\n",
        "            print(f\"기사 접근 중 오류 발생: {link}, 오류: {e}\")\n",
        "\n",
        "    # 브라우저 종료\n",
        "    driver.quit()\n",
        "\n",
        "    print(\"\\n크롤링 완료. DataFrame으로 데이터 저장 완료.\")\n",
        "\n",
        "    # DataFrame을 CSV 파일로 저장 (UTF-8 인코딩 사용, ';'로 구분)\n",
        "    csv_filename = \"bbc_뉴스_기사.csv\"\n",
        "    df.to_csv(csv_filename, index=False, encoding='utf-8-sig', sep=';')\n",
        "    print(f\"CSV 파일 '{csv_filename}'에 데이터 저장 완료.\")\n",
        "\n",
        "    # 저장된 CSV 파일을 Pandas DataFrame으로 읽기\n",
        "    print(\"\\nPandas DataFrame으로 CSV 파일 읽기:\")\n",
        "    try:\n",
        "        df_loaded = pd.read_csv(csv_filename, delimiter=';', encoding='utf-8-sig')\n",
        "        print(df_loaded)\n",
        "\n",
        "        # 기사 요약 출력\n",
        "        print(\"\\n기사 요약:\")\n",
        "        print(df_loaded[[\"URL\", \"본문 내용\"]])\n",
        "\n",
        "        # 특정 키워드로 기사 필터링 (예: '한국'이 포함된 기사)\n",
        "        keyword = \"한국\"\n",
        "        filtered_df = df_loaded[df_loaded[\"본문 내용\"].str.contains(keyword, case=False, na=False)]\n",
        "        print(f\"\\n'{keyword}' 키워드가 포함된 기사들:\")\n",
        "        print(filtered_df)\n",
        "\n",
        "    except Exception as e:\n",
        "        print(f\"CSV 파일 읽기 중 오류 발생: {e}\")\n"
      ],
      "metadata": {
        "colab": {
          "base_uri": "https://localhost:8080/"
        },
        "id": "-JM7DrulEwu9",
        "outputId": "43f2c75a-e0aa-4097-e463-fd876ca395a5"
      },
      "execution_count": 36,
      "outputs": [
        {
          "output_type": "stream",
          "name": "stdout",
          "text": [
            "크롤링이 허용됩니다.\n",
            "기사 링크 1: https://www.bbc.com/korean/articles/c8jyxkgkjvdo\n",
            "기사 링크 2: https://www.bbc.com/korean/articles/c5yx9852x80o\n",
            "기사 링크 3: https://www.bbc.com/korean/articles/c80lp2z9gpmo\n",
            "기사 링크 4: https://www.bbc.com/korean/international-57147399\n",
            "기사 링크 5: https://www.bbc.com/korean/articles/cy4gq7kj94xo\n",
            "기사 링크 6: https://www.bbc.com/korean/articles/cn7md402zk8o\n",
            "기사 링크 7: https://www.bbc.com/korean/articles/cg5742ml2g4o\n",
            "기사 링크 8: https://www.bbc.com/korean/60521326\n",
            "기사 링크 9: https://www.bbc.com/korean/articles/c20ldzy6z78o\n",
            "기사 링크 10: https://www.bbc.com/korean/articles/c8rl0n8yrmlo\n",
            "저장된 기사: https://www.bbc.com/korean/articles/c8jyxkgkjvdo\n",
            "저장된 기사: https://www.bbc.com/korean/articles/c5yx9852x80o\n",
            "저장된 기사: https://www.bbc.com/korean/articles/c80lp2z9gpmo\n",
            "저장된 기사: https://www.bbc.com/korean/international-57147399\n",
            "저장된 기사: https://www.bbc.com/korean/articles/cy4gq7kj94xo\n",
            "저장된 기사: https://www.bbc.com/korean/articles/cn7md402zk8o\n",
            "저장된 기사: https://www.bbc.com/korean/articles/cg5742ml2g4o\n",
            "저장된 기사: https://www.bbc.com/korean/60521326\n",
            "저장된 기사: https://www.bbc.com/korean/articles/c20ldzy6z78o\n",
            "저장된 기사: https://www.bbc.com/korean/articles/c8rl0n8yrmlo\n",
            "\n",
            "크롤링 완료. DataFrame으로 데이터 저장 완료.\n",
            "CSV 파일 'bbc_뉴스_기사.csv'에 데이터 저장 완료.\n",
            "\n",
            "Pandas DataFrame으로 CSV 파일 읽기:\n",
            "                                                 URL  \\\n",
            "0   https://www.bbc.com/korean/articles/c8jyxkgkjvdo   \n",
            "1   https://www.bbc.com/korean/articles/c5yx9852x80o   \n",
            "2   https://www.bbc.com/korean/articles/c80lp2z9gpmo   \n",
            "3  https://www.bbc.com/korean/international-57147399   \n",
            "4   https://www.bbc.com/korean/articles/cy4gq7kj94xo   \n",
            "5   https://www.bbc.com/korean/articles/cn7md402zk8o   \n",
            "6   https://www.bbc.com/korean/articles/cg5742ml2g4o   \n",
            "7                https://www.bbc.com/korean/60521326   \n",
            "8   https://www.bbc.com/korean/articles/c20ldzy6z78o   \n",
            "9   https://www.bbc.com/korean/articles/c8rl0n8yrmlo   \n",
            "\n",
            "                                               본문 내용  \n",
            "0  사진 출처 GETTY IMAGES 제인 구달 박사는 자신의 상징적인 숄을 어깨에 둘...  \n",
            "1  사진 출처 WHITE SANDS MISSILE RANGE 조 바이든 미국 대통령이 ...  \n",
            "2  사진 출처 GETTY IMAGES 도널드 트럼프 공화당 대선 후보가 이번 대선에서 ...  \n",
            "3  사진 출처 GETTY IMAGES 팔레스타인 무장단체 하마스가 지난 7일(현지시간)...  \n",
            "4  사진 출처 뉴스1 더불어민주당 이재명 대표가 공직선거법 위반 사건 1심에서 의원직 ...  \n",
            "5  사진 출처 GETTY IMAGES 도널드 트럼프가 이민자·경제·우크라이나 전쟁 등의...  \n",
            "6  사진 출처 TT NEWS AGENCY/AFP 스웨덴 국민 수백만 명은 18일(현지시...  \n",
            "7  사진 출처 GETTY IMAGES 공중에서도 지상에서도 바다에서도. 인구 4400만...  \n",
            "8  사진 출처 GETTY IMAGES \"지하철 옆자리에 앉은 사람이 나한테 말을 좀 안...  \n",
            "9  사진 출처 뉴스1 오는 15일 이재명 더불어민주당 대표의 공직선거법 위반(허위사실공...  \n",
            "\n",
            "기사 요약:\n",
            "                                                 URL  \\\n",
            "0   https://www.bbc.com/korean/articles/c8jyxkgkjvdo   \n",
            "1   https://www.bbc.com/korean/articles/c5yx9852x80o   \n",
            "2   https://www.bbc.com/korean/articles/c80lp2z9gpmo   \n",
            "3  https://www.bbc.com/korean/international-57147399   \n",
            "4   https://www.bbc.com/korean/articles/cy4gq7kj94xo   \n",
            "5   https://www.bbc.com/korean/articles/cn7md402zk8o   \n",
            "6   https://www.bbc.com/korean/articles/cg5742ml2g4o   \n",
            "7                https://www.bbc.com/korean/60521326   \n",
            "8   https://www.bbc.com/korean/articles/c20ldzy6z78o   \n",
            "9   https://www.bbc.com/korean/articles/c8rl0n8yrmlo   \n",
            "\n",
            "                                               본문 내용  \n",
            "0  사진 출처 GETTY IMAGES 제인 구달 박사는 자신의 상징적인 숄을 어깨에 둘...  \n",
            "1  사진 출처 WHITE SANDS MISSILE RANGE 조 바이든 미국 대통령이 ...  \n",
            "2  사진 출처 GETTY IMAGES 도널드 트럼프 공화당 대선 후보가 이번 대선에서 ...  \n",
            "3  사진 출처 GETTY IMAGES 팔레스타인 무장단체 하마스가 지난 7일(현지시간)...  \n",
            "4  사진 출처 뉴스1 더불어민주당 이재명 대표가 공직선거법 위반 사건 1심에서 의원직 ...  \n",
            "5  사진 출처 GETTY IMAGES 도널드 트럼프가 이민자·경제·우크라이나 전쟁 등의...  \n",
            "6  사진 출처 TT NEWS AGENCY/AFP 스웨덴 국민 수백만 명은 18일(현지시...  \n",
            "7  사진 출처 GETTY IMAGES 공중에서도 지상에서도 바다에서도. 인구 4400만...  \n",
            "8  사진 출처 GETTY IMAGES \"지하철 옆자리에 앉은 사람이 나한테 말을 좀 안...  \n",
            "9  사진 출처 뉴스1 오는 15일 이재명 더불어민주당 대표의 공직선거법 위반(허위사실공...  \n",
            "\n",
            "'한국' 키워드가 포함된 기사들:\n",
            "                                                URL  \\\n",
            "4  https://www.bbc.com/korean/articles/cy4gq7kj94xo   \n",
            "8  https://www.bbc.com/korean/articles/c20ldzy6z78o   \n",
            "9  https://www.bbc.com/korean/articles/c8rl0n8yrmlo   \n",
            "\n",
            "                                               본문 내용  \n",
            "4  사진 출처 뉴스1 더불어민주당 이재명 대표가 공직선거법 위반 사건 1심에서 의원직 ...  \n",
            "8  사진 출처 GETTY IMAGES \"지하철 옆자리에 앉은 사람이 나한테 말을 좀 안...  \n",
            "9  사진 출처 뉴스1 오는 15일 이재명 더불어민주당 대표의 공직선거법 위반(허위사실공...  \n"
          ]
        }
      ]
    },
    {
      "cell_type": "code",
      "source": [
        "import time\n",
        "import csv\n",
        "import requests\n",
        "from selenium import webdriver\n",
        "from selenium.webdriver.common.by import By\n",
        "from selenium.webdriver.chrome.service import Service\n",
        "\n",
        "# Chrome 옵션 설정\n",
        "options = webdriver.ChromeOptions()\n",
        "options.add_argument(\"--headless\")\n",
        "options.add_argument(\"--no-sandbox\")\n",
        "options.add_argument(\"--disable-dev-shm-usage\")\n",
        "options.add_argument(\"window-size=1920,1080\")\n",
        "\n",
        "# ChromeDriver 경로 설정\n",
        "chromedriver_path = \"/root/.wdm/drivers/chromedriver/linux64/131.0.6778.69/chromedriver-linux64/chromedriver\"\n",
        "service = Service(chromedriver_path)\n",
        "\n",
        "# BBC 뉴스 사이트의 robots.txt 파일 URL\n",
        "robots_url = \"https://www.bbc.com/robots.txt\"\n",
        "\n",
        "# robots.txt 파일 확인 함수\n",
        "def is_crawling_allowed(url):\n",
        "    try:\n",
        "        response = requests.get(url)\n",
        "        if response.status_code == 200:\n",
        "            lines = response.text.splitlines()\n",
        "            for line in lines:\n",
        "                if line.startswith(\"User-agent: *\"):\n",
        "                    if \"Disallow: /korean/\" in lines:\n",
        "                        print(\"해당 경로는 크롤링이 허용되지 않습니다.\")\n",
        "                        return False\n",
        "            print(\"크롤링이 허용됩니다.\")\n",
        "            return True\n",
        "        else:\n",
        "            print(\"robots.txt 파일을 불러올 수 없습니다.\")\n",
        "            return False\n",
        "    except Exception as e:\n",
        "        print(f\"robots.txt 확인 중 오류 발생: {e}\")\n",
        "        return False\n",
        "\n",
        "# 크롤링이 허용되는지 확인\n",
        "if not is_crawling_allowed(robots_url):\n",
        "    print(\"크롤링을 종료합니다.\")\n",
        "else:\n",
        "    # 크롤링 허용 시 크롬 드라이버 실행\n",
        "    driver = webdriver.Chrome(service=service, options=options)\n",
        "\n",
        "    # BBC 인기 뉴스 페이지에서 기사 링크 크롤링\n",
        "    url = \"https://www.bbc.com/korean/popular/read\"\n",
        "    driver.get(url)\n",
        "    time.sleep(3)\n",
        "\n",
        "    # 인기 뉴스 목록에서 기사 링크 가져오기\n",
        "    article_links = []\n",
        "    try:\n",
        "        for i in range(1, 11):  # 상위 10개의 인기 뉴스만 가져오기\n",
        "            element = driver.find_element(By.CSS_SELECTOR, f\"#main-wrapper > div > main > div > div > div > div > ol > li:nth-child({i}) > div > div.bbc-14zb6im > a\")\n",
        "            link = element.get_attribute(\"href\")\n",
        "            article_links.append(link)\n",
        "            print(f\"기사 링크 {i}: {link}\")\n",
        "    except Exception as e:\n",
        "        print(f\"기사 링크 크롤링 중 오류 발생: {e}\")\n",
        "\n",
        "    # CSV 파일 생성 및 헤더 작성 (한글 컬럼명, 세미콜론 구분자 사용)\n",
        "    csv_filename = \"bbc_뉴스_기사.csv\"\n",
        "    with open(csv_filename, mode='w', newline='', encoding='utf-8') as file:\n",
        "        writer = csv.writer(file, delimiter=';')\n",
        "        writer.writerow([\"URL\", \"기사 제목\", \"소제목\", \"본문 내용\"])\n",
        "\n",
        "    # 각 기사 페이지에서 기사 제목 및 본문 크롤링\n",
        "    for link in article_links:\n",
        "        driver.get(link)\n",
        "        time.sleep(3)\n",
        "\n",
        "        try:\n",
        "            # 기사 제목 가져오기\n",
        "            title_element = driver.find_element(By.CSS_SELECTOR, \"h1\")\n",
        "            title = title_element.text\n",
        "\n",
        "            # 기사 본문에서 h2와 p 태그만 가져오기\n",
        "            h2_elements = driver.find_elements(By.CSS_SELECTOR, \"main[role='main'] h2\")\n",
        "            p_elements = driver.find_elements(By.CSS_SELECTOR, \"main[role='main'] p\")\n",
        "\n",
        "            # 소제목과 본문 내용을 가져와 ' '으로 연결\n",
        "            subtitles = ' '.join([h2.text for h2 in h2_elements if h2.text])\n",
        "            content = ' '.join([p.text for p in p_elements if p.text])\n",
        "\n",
        "            # CSV 파일에 데이터 추가 (세미콜론 구분자 사용)\n",
        "            with open(csv_filename, mode='a', newline='', encoding='utf-8') as file:\n",
        "                writer = csv.writer(file, delimiter=';')\n",
        "                writer.writerow([link, title, subtitles, content])\n",
        "\n",
        "            print(f\"저장된 기사: {title} - {link}\")\n",
        "\n",
        "        except Exception as e:\n",
        "            print(f\"기사 접근 중 오류 발생: {link}, 오류: {e}\")\n",
        "\n",
        "    # 브라우저 종료\n",
        "    driver.quit()\n",
        "\n",
        "    print(f\"\\n크롤링 완료. '{csv_filename}' 파일에 저장되었습니다.\")\n",
        "\n",
        "    # CSV 파일 내용 읽고 출력\n",
        "    print(\"\\nCSV 파일 내용 출력:\")\n",
        "    try:\n",
        "        with open(csv_filename, mode='r', encoding='utf-8') as file:\n",
        "            reader = csv.reader(file, delimiter=';')\n",
        "            for row in reader:\n",
        "                print(row)\n",
        "    except Exception as e:\n",
        "        print(f\"CSV 파일 읽기 중 오류 발생: {e}\")\n"
      ],
      "metadata": {
        "colab": {
          "base_uri": "https://localhost:8080/"
        },
        "id": "xG283dPMBKzr",
        "outputId": "30ece4c5-970e-450f-9dbf-3bbdf83d3cb1"
      },
      "execution_count": 24,
      "outputs": [
        {
          "output_type": "stream",
          "name": "stdout",
          "text": [
            "크롤링이 허용됩니다.\n",
            "기사 링크 1: https://www.bbc.com/korean/articles/c8jyxkgkjvdo\n",
            "기사 링크 2: https://www.bbc.com/korean/international-57147399\n",
            "기사 링크 3: https://www.bbc.com/korean/articles/c5yx9852x80o\n",
            "기사 링크 4: https://www.bbc.com/korean/articles/c80lp2z9gpmo\n",
            "기사 링크 5: https://www.bbc.com/korean/articles/cy4gq7kj94xo\n",
            "기사 링크 6: https://www.bbc.com/korean/60521326\n",
            "기사 링크 7: https://www.bbc.com/korean/articles/cn7md402zk8o\n",
            "기사 링크 8: https://www.bbc.com/korean/articles/c20ldzy6z78o\n",
            "기사 링크 9: https://www.bbc.com/korean/articles/c8rl0n8yrmlo\n",
            "기사 링크 10: https://www.bbc.com/korean/46284880\n",
            "저장된 기사: '여섯 번째 대멸종 진행 중' 제인 구달의 경고 - https://www.bbc.com/korean/articles/c8jyxkgkjvdo\n",
            "저장된 기사: 이스라엘-팔레스타인인 분쟁: 이들이 싸우는 이유 - https://www.bbc.com/korean/international-57147399\n",
            "저장된 기사: 바이든, 우크라에 장거리 미사일로 러 내부 타격 허용...'북한군 투입에 대한 대응' - https://www.bbc.com/korean/articles/c5yx9852x80o\n",
            "저장된 기사: 트럼프가 공식적으로 대통령이 되는 시점은? - https://www.bbc.com/korean/articles/c80lp2z9gpmo\n",
            "저장된 기사: 이재명 선거법 위반 의원직 상실형...앞으로 어떻게 되나 - https://www.bbc.com/korean/articles/cy4gq7kj94xo\n",
            "저장된 기사: 러시아가 우크라이나를 침공한 이유... 푸틴이 원하는 바는? - https://www.bbc.com/korean/60521326\n",
            "저장된 기사: 트럼프가 공언한 7가지 대선 공약 - https://www.bbc.com/korean/articles/cn7md402zk8o\n",
            "저장된 기사: 한국에 통일을 바라는 젊은 세대가 점차 사라지는 이유 - https://www.bbc.com/korean/articles/c20ldzy6z78o\n",
            "저장된 기사: 이재명 1심 선고 결과는 한국 정치에 어떤 영향 미칠까 - https://www.bbc.com/korean/articles/c8rl0n8yrmlo\n",
            "저장된 기사: 플라스틱 오염: 죽은 고래 뱃속에 플라스틱 컵 115개 들어있어 - https://www.bbc.com/korean/46284880\n",
            "\n",
            "크롤링 완료. 'bbc_뉴스_기사.csv' 파일에 저장되었습니다.\n",
            "\n",
            "CSV 파일 내용 출력:\n",
            "['URL', '기사 제목', '소제목', '본문 내용']\n",
            "['https://www.bbc.com/korean/articles/c8jyxkgkjvdo', \"'여섯 번째 대멸종 진행 중' 제인 구달의 경고\", \"'여섯 번째 대멸종이 지금 일어나고 있다' '기후 변화 문제를 해결할 수 있는 시간이 점점 줄어들고 있다' '그는 내 눈을 바라보며 내 손가락을 꽉 쥐었다' '우리는 더 강해져야 한다'\", '사진 출처,\\nGETTY IMAGES 제인 구달 박사는 자신의 상징적인 숄을 어깨에 둘러쓰고, 은빛 머리를 뒤로 묶고 있었다. 흐릿한 화상 통화 속에서도 평온한 에너지를 발산했다. 비엔나의 한 호텔 방이었다. 그의 최신 강연 투어를 기록하는 영화 제작자들과 기자들이 구달 박사 주변을 바쁘게 돌아 다니고 있었다. 유명한 영장류학자이자 환경 보호 운동가는 큰 의자에 앉으며 가느다란 몸을 감싸듯 의자에 자리를 잡는다. 화상 화면 속 뒤편 선반에는 장난감 원숭이 ‘미스터 H’가 놓여 있다. 구달 박사는 이 장난감 원숭이를 약 30년 전에 친구로부터 선물받았다. 그리고 함께 오랫동안 세계를 여행해왔다. 현재 90세인 구달 박사는 미스터 H와 함께 여전히 여행을 하고 있다. “조금 피곤하다”고 그는 인정하며, “파리에서 왔고, 여기서 끝난 후에는 베를린, 다음에는 제네바로 간다. 환경에 대한 위협과 해결책에 대해 이야기하는 투어 중이다”라고 덧붙였다. 사진 출처,\\nGETTY IMAGES 구달 박사는 자신의 재단과 비영리 기술 기업 에코시아(Ecosia)가 우간다에서 진행하고 있는 나무 심기와 서식지 복원 프로젝트에 대해 이야기했다. 이 단체들은 지난 5년 동안 지역 사회와 소규모 농부들의 도움을 받아 약 200만 그루의 나무를 심었다. BBC 라디오 4 인사이드 사이언스와의 인터뷰에서 구달 박사는 “우리는 여섯 번째 대멸종의 한가운데에 있다”며 “자연을 복원하고 기존 숲을 보호하기 위해 할 수 있는 일이 많으면 많을수록 좋다”고 강조했다. 이 프로젝트의 주요 목표는 우간다에 서식하는 약 5000마리의 침팬지가 처한 위협받는 서식지를 복원하는 것이다. 수십 년간 침팬지를 연구하고 이들의 보호를 위해 캠페인을 펼쳐온 구달 박사는 산림 벌채가 기후에 미치는 위협을 강조했다. 그는 “나무가 제 역할을 하려면 일정 크기까지 자라야 한다”면서 “나무 심기는 이산화탄소를 흡수하는 데 도움을 준다”고 설명했다. 사진 출처,\\nREUTERS 지난 11일(현지시간) 세계 지도자들이 아제르바이잔 바쿠에서 열린 COP29 유엔 기후 변화 회의에 모였다. 구달 박사는 지구 온난화를 늦추기 위한 행동이 어느 때보다 시급하다고 강조했다. \"우리는 아직 기후 변화와 생물 다양성 손실을 늦추기 시작할 시간적 여유가 있습니다. 하지만 그 시간은 점점 줄어들고 있죠.\" 그는 숲과 자연 서식지의 파괴가 기후 위기와 본질적으로 연결돼 있다고 지적했다. \"제가 살아있는 동안 정말 많은 것이 변했습니다.\" 구달 박사는 탄자니아 숲에서 60년 전 침팬지를 연구하기 시작했을 때 \"두 번의 우기를 기준으로 달력을 맞출 수 있었지만\" 이제는 건기에도 비가 오고 우기에도 가뭄이 나타난다고 설명했다. \"그 결과 나무 열매가 잘못된 시기에 열려 침팬지뿐만 아니라 곤충과 새들도 영향을 받습니다.\" 수십 년 동안 야생 침팬지의 서식지를 연구하고 보호하기 위해 노력해 온 구달 박사는 아프리카 전역에서 숲이 파괴되고 침팬지 개체 수가 감소하고 있다고 말했다. \"우리가 모두 협력해서 환경에 해를 끼치는 행동을 강하게 규제하지 않고, 화석 연료 사용을 신속히 줄이지 않는다면, 환경을 파괴하고 토양을 황폐화시키며 생물 다양성에 치명적인 영향을 미치는 산업 농업을 멈추지 않는다면 암울한 미래가 다가올 것입니다.\" 사진 출처,\\nGETTY IMAGES 구달 박사가 탄자니아 곰베 스트림 국립공원에서 침팬지를 연구하기 시작했을 때, 그는 이 분야의 길을 개척한 선구자였다. 지금은 획기적이라고 평가받는 그의 연구는 당시에는 논란이 많았다. 그는 침팬지가 도구를 제작하고 사용하는 모습을 처음으로 목격하고 기록한 인물이었다. 침팬지들은 흰개미를 잡기 위해 나뭇가지를 준비해 사용했다. 그의 관찰 이전에는 이런 행동이 인간에게만 독특한 특징이라고 여겨졌다. 그는 침팬지들이 강한 가족 유대를 형성하며, 심지어 영토를 두고 전쟁을 벌이기도 한다는 사실을 밝혀냈다. 그러나 연구 대상인 동물들과 밀접히 교감하고, 이름을 붙이며 심지어 그들을 “나의 친구들”이라고 부른 구달 박사의 접근법은 일부 과학자들, 특히 남성 과학자들에게 조롱을 받았다. 구달 박사의 지도교수이자 멘토였던 루이스 리키 교수는 그의 연구 방식에 가치를 뒀다. 구달 박사는 “(멘토가) 동물에 대한 과학적 환원주의적 태도로 인해 사고가 굳어지지 않은 사람을 원했다”며 “우리는 개나 고양이, 토끼, 말에게 이름을 붙이지 않고 기를 수 없다. 내가 어릴 적 정원에서 다람쥐를 관찰할 때도 마찬가지였다. 모든 다람쥐에게 이름이 있다.”고 전했다. 구달 박사가 일생을 바쳐 연구한 영장류들과의 친밀감은 그만의 독특한 시각을 만들어냈다. 구달 박사는 자신이 \"데이비드 그레이비어드\"라고 이름 붙인 침팬지와의 “아름다운 순간”을 떠올렸다. 그는 구달 박사가 처음으로 도구를 제작하고 사용하는 것을 관찰한 수컷 침팬지였다. 구달 박사는 이렇게 회상했다. “처음으로 저에게 두려움을 느끼지 않는 침팬지였어요. 저는 그의 가까이에 앉아 땅 위에 놓여 있던 붉게 익은 오일 팜 열매를 들었습니다. 그것을 침팬지에게 내밀었지만 그는 고개를 돌렸어요. 내가 손을 좀 더 가까이 내밀자 그는 내 눈을 바라보더니 천천히 손을 내밀어 내 손가락을 아주 부드럽게 쥐었습니다.” “그것은 침팬지들이 서로를 안심시킬 때 사용하는 방식입니다. 우리는 몸짓 언어를 통해 완벽히 소통했어요. 이는 분명히 인간 언어가 탄생하기 이전의 소통 방식일 것입니다.” 사진 출처,\\nGETTY IMAGES 구달 박사가 걸어온 길에는 많은 어려움이 따랐다. 그는 저명한 과학자이자 자신의 경력에 막대한 영향을 끼친 리키 교수를 위해 일하던 초창기 시절에 대해 글을 썼다. 리키 교수는 반복적으로 구달 박사에게 사랑을 고백했으며, 오늘날 성희롱으로 받아들여질 수 있는 방식으로까지 구달 박사에게 압력을 가했다. 하지만 구달 박사는 그를 거절하고, 자신의 연구와 사랑하는 침팬지들에 집중했다. 올해 90세가 된 구달 박사는 여전히 기력을 잃지 않은 모습을 유지하며 환경 운동을 위해 힘쓰고 있다. 그렇다면 구달 박사를 계속 나아가게 하는 건 무엇일까? 이에 대해 그는 확고하게 답했다. “사람들은 분명 아이들의 미래를 원합니다. 그렇다면 우리는 [환경] 법률에 대해 더 강하게 대처해야 합니다.” “환경을 도울 수 있는 시간이 얼마 남지 않았습니다. 우리는 환경을 파괴하기 위해 너무 많은 일을 해왔습니다.”']\n",
            "['https://www.bbc.com/korean/international-57147399', '이스라엘-팔레스타인인 분쟁: 이들이 싸우는 이유', \"분쟁의 시작 100년 묵은 '현재 진행형' 이슈들 이스라엘의 건국과 '대참사' 오늘날 무슨일이 벌어지고 있나? 양측 갈등의 핵심 사안 미래 전망은?\", '사진 출처,\\nGETTY IMAGES 팔레스타인 무장단체 하마스가 지난 7일(현지시간) 이스라엘을 향해 로켓 수천 발을 발사하며 전례 없는 이스라엘 공격에 나섰다. 하마스는 가자지구 인근 지역에 무장 대원들을 진입시켜 주민 수백 명을 살해하고 수십 명을 인질로 잡았다. 이스라엘과 팔레스타인인의 무력 충돌을 이해하기 위한 필수적인 맥락을 짚어봤다. 사진 출처,\\nGETTY IMAGES 중동의 패권 국가였던 오스만 제국이 1차 세계대전에서 패망한 뒤 \\'팔레스타인\\'으로 알려진 지역을 영국이 장악하게 된다. 당시 이곳에 사는 사람 중 대부분이 아랍인이었고, 유대인은 소수 민족이었다. 그 뒤 국제사회가 유대인을 위한 \"고국(National Home)\"을 팔레스타인 지역에 건설하는 과제를 영국에 안기면서 두 민족 간의 긴장감이 커지게 된다. 유대인들에게 팔레스타인 땅은 조상들의 고향이었지만, 팔레스타인 아랍인들도 이 땅의 영유권을 주장하며 계획에 반대했다. 사진 출처,\\nGETTY IMAGES 그러던 중 1920년대와 40년대 사이 2차 세계대전에서 벌어진 홀로코스트(나치에 의한 유대인 학살)를 피해 팔레스타인 지역에 도착하는 유대인이 늘게 됐다. 이는 곧 유대인과 아랍인 사이의 폭력 사태로 이어졌고 영국의 통치에 대한 반감도 커졌다. 1947년 유엔은 팔레스타인 지역을 유대인 국가, 아랍 국가로 분리하되 예루살렘은 국제공동 통치구역으로 두는 \\'팔레스타인 분할안\\'을 통과시킨다. 예루살렘은 누구의 소유도 아닌 \\'국제도시\\'가 될 계획이었다. 하지만 이 분할안은 유대인 지도자들은 받아들였지만, 아랍 측의 거부로 결국 실행되지는 못했다. 사진 출처,\\nGETTY IMAGES 1948년 문제를 해결하지 못한 영국 통치자들은 팔레스타인 지역에서 철수했고, 그 뒤 유대인 지도자들은 이스라엘 국가 건국을 선언했다. 많은 팔레스타인인들은 이스라엘의 국가 수립에 반대했고, 1차 중동전쟁이 이어졌다. 이웃 아랍국가의 군대들이 팔레스타인 지역을 침략하게 된다. 이로 인해 팔레스타인 지역 주민 수십만 명이 피난길에 나서야 했고 이 사건은 아랍어로 \\'알 나크바(Al Nakba)\\' 혹은 \\'대재앙\\'으로 불린다. 이듬해 1차 중동전쟁이 휴전으로 끝날 무렵, 이스라엘은 팔레스타인 지역의 대부분을 장악하게 된다. 오늘날 서안지구로 알려진 땅은 요르단이 차지했고, 가자지구는 이집트가 점령했다. 예루살렘의 경우 서쪽은 이스라엘군 지역, 동쪽은 요르단군 지역으로 나뉘게 된다. 하지만 참전 세력들 간 서로를 향한 비난이 끊이지 않으면서 이 전쟁은 결국 평화협정을 맺지 못했고, 이후 수십 년 동안 더 많은 전쟁과 싸움이 지속되고 있다. 그리고 1967년 또 다른 전쟁이 발생한다. 그 결과 이스라엘은 동예루살렘과 서안지구, 시리아 골란고원, 가자지구와 이집트 시나이반도까지 점령하게 된다. 팔레스타인 난민 대다수와 그 후손들은 가자지구와 요르단, 시리아, 레바논에 흩어져 살고 있다. 이스라엘은 이들이 고향으로 돌아오는 것을 허락하지 않고 있다. 이스라엘은 이들이 귀향하면 이스라엘이 압도될 것이고 유대인 국가로서의 존재를 위협당하게 된다고 주장하고 있다. 사진 출처,\\nGETTY IMAGES 이스라엘은 여전히 서안지구를 점령하고 있다. 가자 지구에선 철수했지만, 유엔은 가자지구를 이스라엘 점령지 일부로 간주하고 있다. 이스라엘은 동예루살렘을 포함한 예루살렘 전체를 자국의 수도라고 주장하는 반면, 팔레스타인인들은 동예루살렘은 자국의 미래 수도라고 주장하고 있다. 미국을 비롯한 몇몇 국가들은 이스라엘의 주장을 인정하고 있다. 지난 50년간 이스라엘이 동예루살렘에 유대인 정착촌을 건설한 결과 현재 유대인 60만 명이 동예루살렘에 살고 있다. 팔레스타인 측에선 유대인의 동예루살렘 정착은 국제법상 불법이며 평화의 장애물이라고 말하지만, 이스라엘은 이를 부인하고 있다. 사진 출처,\\nGETTY IMAGES 동예루살렘과 가자지구, 서안지구에서는 여러 차례 이스라엘과 팔레스타인 주민 간 긴장이 고조됐었다. 가자지구는 하마스라고 불리는 팔레스타인 무장단체가 장악하고 있는데 이들은 이스라엘과 여러 번 대치해왔다. 이스라엘과 이집트는 하마스에 무기가 반입되는 걸 막기 위해 가자지구의 국경을 철저히 통제하고 있다. 가자지구와 요르단강 서쪽의 서안지구에 사는 팔레스타인인들은 이스라엘 정부의 행동과 제한으로 고통을 겪고 있다고 말한다. 이스라엘 정부는 팔레스타인의 폭력에 대한 방어 행동일 뿐이라는 입장이다. 이런 가운데 2021년 4월 중순 라마단이 시작된 이후 이스라엘 경찰과 팔레스타인 시민이 야간에 충돌하는 일이 잦아지며 사태가 고조되고 있다. 여기에 이스라엘 당국이 동예루살렘에 거주하는 팔레스타인 시민 일부에게 퇴거를 위협하면서 팔레스타인의 분노가 더 고조됐다. 사진 출처,\\nGETTY IMAGES 이스라엘과 팔레스타인 사이에는 서로 합의하지 못하고 있는 수많은 문제가 산적해 있다. 팔레스타인 난민 처리 문제에서부터, 이스라엘이 점령 중인 요르단강 서안지구의 유대인 정착촌의 잔류 문제, 그리고 양측이 예루살렘을 공유해야 하는지 아닌지가 해결돼야 한다. 또한 팔레스타인을 국가로 만들어져야 하느냐는 가장 답하기 어려운 문제도 있다. 양측은 25년 넘게 평화회담은 해왔지만, 지금까지 갈등을 해결하지 못했다. 결론만 얘기하자면 이런 갈등 상황은 쉽사리 해결되지 않을 것이다. 지난 2020년 당시 도널드 트럼프 미국 대통령은 중동 평화안을 내놓았다. 베냐민 네타냐후 이스라엘 총리는 이를 \\'세기의 딜\\' 이라 부르며 환영했지만, 팔레스타인은 한쪽에 치우쳤다며 거부했다. 중동 평화안은 그 뒤로 실행되지 못하고 있다. 향후 어떤 평화협정이든 이스라엘과 팔레스타인 모두의 동의를 얻어야 할 것이다. 그렇게 될 때까지 양측의 갈등은 이어질 전망이다.']\n",
            "['https://www.bbc.com/korean/articles/c5yx9852x80o', \"바이든, 우크라에 장거리 미사일로 러 내부 타격 허용...'북한군 투입에 대한 대응'\", '', '사진 출처,\\nWHITE SANDS MISSILE RANGE 조 바이든 미국 대통령이 지난 17일(현지시간) 우크라이나가 미국산 육군전술미사일시스템(ATACMS, 에이태큼스)으로 러시아 본토를 타격할 수 있게 허용했다. 이는 미국 정책의 중대한 변화로, BBC의 미국 현지 파트너인 CBS는 미국 정부 관료로부터 이를 확인받았다. 지난 몇 개월간 볼로디미르 젤렌스키 우크라이나 대통령은 장거리 미사일인 에이태큼스를 사용 제한 없이 국경 밖도 공격할 수 있도록 허용해달라고 요구해왔다. 젤렌스키 대통령은 이 같은 보도에 “이런 소식은 발표되는 게 아니다. 미사일은 그 자체로 설명이 필요 없는 존재”라는 반응을 보였다. 앞서 블라디미르 푸틴 러시아 대통령은 이 같은 움직임은 북대서양조약기구(NATO) 군사 동맹이 우크라이나 전쟁에 “직접 참여”한다는 의미라고 서방 국가들에 경고한 바 있다. 일부 러시아 고위 정치인들은 상황의 심각한 확대라고 비판했으나, 아직까지 푸틴 대통령 측은 이번 보도에 대해 별다른 반응을 내놓지 않고 있다. 한편 이러한 미 당국의 결정은 우크라이나가 올해 8월 기습 침투한 러시아 쿠르스크 지역에서 자국군을 지키는 데 에이태큼스를 사용할 수 있다는 의미로 나왔다. 바이든 행정부가 우크라이나가 현재 점령 중인 러시아 내 작은 영토를 지킬 수 있도록 지원하겠다는 의미로, 이를 향후 있을 협상에서의 주요 카드로 활용할 것으로 보인다. 키이우 소재 ‘우크라이나 안보 협력 센터’의 세르게이 쿠잔 회장은 BBC와의 인터뷰에서 바이든 대통령의 이번 결정이 우크라이나에는 “매우 중요하다”고 설명했다. “전쟁의 흐름 자체를 바꿔놓지는 못하더라도, 우크라이나 군이 더 평등한 위치에서 나설 수 있게 되리라 봅니다.” 익명의 미국 관리들은 뉴욕타임스, 워싱턴 포스트와의 인터뷰에서 러시아 내부에 대한 에이태큼스 사용 승인은 러시아가 우크라이나 전쟁에 북한군을 투입한 결정에 대한 대응이라고 설명했다. 쿠잔 회장 또한 이 같은 결정이 러시아 쿠르스크 지역에서 우크라이나 군대를 몰아내기 위한 러시아와 북한군의 대규모 공격이 시작될 것으로 예상되는 시점과 맞물려 적절한 시점에 발표됐다고 설명했다. 러시아와 북한군은 며칠 내로 공세를 시작할 것으로 보인다. 앞서 우크라이나는 쿠르스크 지역에 북한군 1만1000명 정도가 있는 것으로 추산한 바 있다. 한편 예상되는 또 다른 파급 결과도 있다. 미 당국의 이 같은 결정은 영국과 프랑스 또한 마침내 ‘스톰 섀도우’ 장거리 미사일로의 러시아 내부 영토 타격을 허용하는 길을 열어줄 것으로 보인다. 영국과 프랑스 당국은 바이든 대통령의 이번 결정에 아직 입장을 내놓지 않고 있다. 에이태큼스는 사거리가 최대 300km인 미사일로, 속도가 빨라 요격하기 어렵다. 사진 출처,\\nEPA 지난달 젤렌스키 대통령은 우크라이나가 처음으로 미국이 공급 한 장거리 미사일로 자국 동부 지역 내 러시아 관련 목표물을 공격했다고 확인한 바 있다. 우크라이나는 지난 몇 개월간 동부 도네츠크 지역에서 우크라이나군의 주요 보급 거점인 포크로우스크를 향해 서서히 진격해오는 러시아군을 물리치기 위한 전투를 벌이고 있다. 아울러 러시아는 우크라이나를 향한 드론 공격 횟수도 늘리고 있다. 우크라이나군 총참모부에 따르면 10월 한 달 동안 드론 2000여 대가 날아왔으며, 이는 이번 전쟁에서 사상 최대 규모다. 지난 16일 밤에는 러시아가 몇 달 만에 최대 규모의 조직적인 공세를 가해 10여 명이 숨졌다. 젤렌스키 대통령은 미사일 120여 발과 드론 90여 대가 날아들었다고 주장했다. 다음날인 17일 저녁에도 공격은 이어졌는데, 러시아와 가까운 수미 지역 관료들에 따르면 미사일이 민가에 떨어지며 아동 2명을 포함해 8명이 숨졌다고 한다. 우크라이나는 자신들이 효과적으로 방어할 수 있을 만큼 동맹국들이 충분히 지원하고 있지 않다고 주장한다. 내년 1월에 퇴임하는 바이든 대통령은 줄곧 우크라이나를 신속히 추가적으로 지원하고자 노력해왔다. 그의 뒤를 이어 백악관에 입성할 도널드 트럼프 당선인은 이러한 추가 지원을 늦추거나 중단시킬 것이라는 우려가 있다. 실제로 트럼프 당선인은 우크라이나 군사 지원을 미국의 자원 낭비라고 묘사하며, 자신이 대통령이 되면 전쟁을 끝내겠다고 공언한 바 있다. 다만 구체적으로 어떻게 끝낼 것인지는 설명하지 않았다. 미국은 우크라이나의 최대 무기 지원국이다. 독일 ‘킬 세계경제연구소’에 따르면 이번 전쟁 발발 이후 올해 6월 말까지 미국은 555억달러 상당의 무기와 장비를 제공했거나 제공하기로 약속했다.']\n",
            "['https://www.bbc.com/korean/articles/c80lp2z9gpmo', '트럼프가 공식적으로 대통령이 되는 시점은?', '선거 결과 확정 시점은? 이제 트럼프는 대통령인가? 선거일과 취임식 사이 예정된 절차는? 대통령 및 부통령 당선인이 할 일은?', '사진 출처,\\nGETTY IMAGES 도널드 트럼프 공화당 대선 후보가 이번 대선에서 역사적인 승리를 거두며 다시 한번 백악관에 입성할 예정이다. 카멀라 해리스 민주당 후보와는 치열한 접전을 펼칠 것으로 예상됐으나, 밤사이 개표 결과 트럼프는 승리를 확정할 수 있을 만큼의 표를 확보한 것으로 나타났다. 트럼프는 130여 년 만에 재선에 실패했다 다시 당선된 최초의 전직 대통령이자, 현재 78세로 역사상 최고령 당선인이 될 전망이다. 베냐민 네타냐후 이스라엘 총리, 키어 스타머 영국 총리 등 각국 정상들이 이미 트럼프의 당선을 축하하긴 했으나, 아직 대선 결과는 공식적으로 확정되지 않았다. 앞서 일부 ‘경합’주에서 매우 치열한 접전이 펼쳐지면서 결과를 쉽게 알기 어려울 수도 있다는 우려가 제기되기도 했다. 그러나 전통적으로 공화당 강세인 주에서 승리를 확정하고, 노스캐롤라이나, 조지아, 펜실베이니아, 위스콘신에서도 예상보다 일찍 결과가 나오며 트럼프는 당선을 확신할 수 있는 선거인단 270명을 확보하게 됐다. BBC의 미국 현지 파트너인 CBS 뉴스는 불과 선거 다음날인 6일 오전 5시 30분(EST) 트럼프를 최종 당선인으로 예상했다. 그러나 각 주의 구체적인 선거 결과가 공식적으로 발표되려면 앞으로 며칠 혹은 몇 주가 걸릴 수 있다. 아니다. 트럼프는 이제 대통령 당선인이, 그의 러닝메이트였던 J.D. 밴스는 부통령 당선인이 된다. 트럼프는 내년 1월 20일 월요일 대통령 취임식에서 선서를 하게 되는데, 이 순간을 기점으로 법적으로 대통령직에 따르는 권한과 책임을 맡게 된다. 모든 유효한 표가 최종 결과에 집계되면 선거인단 제도를 통해 선거 결과를 확정 짓게 된다. 각 주마다 배정된 수도 다른 이 선거인단들이 나서 투표를 하게 된다. 유권자들의 지지뿐만 아니라 이들의 지지를 얻어야 궁극적으로 대통령직에 당선될 수 있다. 일반적으로 각 주에서는 주민 투표에서 득표율 1위를 차지한 후보 1명에게 자신들의 주에 배당된 모든 선거인단의 표를 몰아준다. 그리고 선거인단들은 각 주에서 모여 투표를 실시한다. 그런 다음 내년 1월 6일, 미 의회는 상하원 합동 회의를 열고 선거인단의 표를 집계해 차기 대통령을 공식적으로 확정한다. 과거 트럼프가 바이든 후보에 맞서 패배했음을 인정하지 않자 트럼프 지지자들이 국회의사당으로 행진하려고 했는데, 이들이 막으려고 했던 행사가 바로 이 선거 결과를 공식적으로 인증하는 의회 회의였다. 사진 출처,\\nGETTY IMAGES 트럼프 대통령 당선인과 밴스 부통령 당선인은 정권 인수팀과 협력해 바이든 현 행정부로부터 인수인계를 받게 된다. 인수팀은 정책적으로 우선순위를 파악하고, 새 행정부의 주요 인사 후보자를 검증하고, 정부 역할을 인수받을 준비를 할 것이다. 아울러 트럼프와 주요 인사들은 현재 직면한 위협이나 진행 중인 군사 작전을 다루는 국가 안보 기밀 사항도 보고받기 시작할 것이다. 대통령 당선인과 부통령 당선인은 미국 비밀경호국의 의무 경호 대상이다. 한편 현직 대통령은 보통 선거일 이후 차기 대통령을 백악관으로 초대하곤 한다. 또한 평화적인 권력 이양의 상징으로 후임 대통령의 취임식에도 참석하나, 트럼프는 2020년 바이든의 취임식에 불참했다. 그러나 로널드 레이건 대통령이 시작한 전통에 따라 집무실에 후임자를 위한 친필 메모는 남겼다. 당시 바이든 대통령은 기자들에게 전임자가 “매우 관대한 편지”를 남겼다고 말한 바 있다. 취임식을 치른 새 대통령은 곧바로 업무를 시작하게 된다.']\n",
            "['https://www.bbc.com/korean/articles/cy4gq7kj94xo', '이재명 선거법 위반 의원직 상실형...앞으로 어떻게 되나', \"1심 판결 내용은? 법원 나온 이 대표 '항소할 것' 앞으로 한국 정치권 판도 바뀔까\", '사진 출처,\\n뉴스1 더불어민주당 이재명 대표가 공직선거법 위반 사건 1심에서 의원직 상실형을 선고받았다. 이 판결이 대법원에서 확정되면 이 대표는 의원직을 잃고, 대선 출마도 불가능해진다. 벌금 100만 원 이상의 형을 받으면 의원직을 상실하고, 향후 5년간 피선거권이 제한돼 대선 출마도 어려워지기 때문이다. 서울중앙지법 형사합의34부(한성진 부장판사)는 15일 공직선거법 위반 혐의로 불구속기소 된 이 대표에게 징역 1년에 집행유예 2년을 선고했다. 재판부는 이 대표의 \"김문기를 몰랐다\"는 발언과 성남 백현동 식품연구원 부지의 용도변경 특혜 의혹에 대해 \"국토부의 협박이 있었다\"는 취지의 발언 모두 허위 사실이라고 판단했다. 재판부는 \"선거 과정에서 유권자에게 허위 사실을 공표하는 경우 민의가 왜곡되고 훼손될 수 있다\"며 \"피고인을 향해 제기된 의혹이 국민의 관심사인 상황에서 방송 매체를 이용해 파급력과 전파력이 컸다\"고 말했다. 이어 \"죄책과 범죄가 상당히 무겁다\"며 \"선거 과정에서 표현의 자유를 인정해야 하지만 허위 사실 공표로 인해 잘못된 정보를 수집해 민의가 왜곡되는 것도 고려해야 한다\"라고 지적했다. 앞서 이 대표는 민주당 대선 후보였던 2021년 고 김문기 성남도시개발공사 개발1처장과 성남 백현동 한국식품연구원 부지 용도변경 특혜 의혹과 관련해 공직선거법 위반(허위 사실 공표)을 한 혐의로 2022년 9월 재판에 넘겨졌다. 지난 2021년 12월 대선후보 인터뷰에서 이 대표가 고 김문기 성남도시개발공사 개발사업 1처장에 대해 한 말이 문제가 됐다. 김 씨는 전날 스스로 목숨을 끊었다. 김 씨를 알았냐는 질문에 이 대표는 \"시장할 때는 이 사람의 존재를 몰랐다\"고 답했다. 당시 직원이 워낙 많아 하위직인 김 전 처장을 기억하지 못했다는 것. 2021년 10월 경기도 국정감사에 나와 식품연구원 부지 특혜 의혹과 관련해 한 발언도 있다. 이 대표는 당시 \"국토교통부에서 저희한테 압박이 왔다\"며 \"만약에 (백현동 용도 변경을) 안 해주면 직무 유기 이런 것을 문제 삼겠다고 협박을 했다\"고 말한 바 있다. 검찰은 이 대표가 당선을 목적으로 대장동 의혹과 거리를 두기 위해 이 같은 허위 발언을 했다고 봤다. 그러면서 지난 9월 20일 결심공판에서 이 대표에게 최대 구형치인 징역 2년을 구형했다. 이 대표는 이날 서울 서초구 서울중앙지법에서 1심 선고를 받고 난 뒤 취재진을 만나 \"항소하게 될 것\"이라고 밝혔다. 그는 취재진에 \"기본적 사실인정부터 도저히 수긍하기 어려운 그런 결론\"이라며 \"국민 여러분들도 상식과 정의에 입각해서 판단해보시면 충분히 결론에 이르실 수 있을 것\"이라고 했다. 그러면서 \"현실의 법정은 아직 두 번 더 남아있고, 민심과 역사의 법정은 영원하다\"며 \"오늘의 이 장면도 대한민국 현대사의 한 장면이 될 것\"이라고 말했다. 사진 출처,\\n뉴스1 이날 재판이 열린 법원 앞은 이 대표를 응원하는 지지자들과 반대하는 이들의 맞불시위가 일어나며 삼엄한 분위기였다. 이 대표 지지자들은 서울중앙지검 앞 대로에서 \\'이재명 무죄\\'를 외쳤고, 보수 지지자들은 서울중앙지법 정문 바깥 대로에서 \\'이재명 구속\\'을 외쳤다. 유죄로 1심 판결이 나자, 일부 지지자들은 강한 불만을 표출했고, 눈물을 흘리는 모습도 보였다. 반면 보수 지지자들은 환호성과 함께 \"이재명 구속\"을 외치며 구호를 외쳤다. 정치권 인사들도 즉각 반응을 내놨다. 여당인 국민의힘 한동훈 대표는 이날 이 대표 선고 직후 SNS를 통해 \"사법부의 결정을 존중하고 경의를 표한다\"며 \"판사 겁박 무력시위에도 불구하고 법에 따른 판단을 했다\"고 말했다. 국민의힘 추경호 원내대표도 선고 직후 긴급 기자회견을 열어 \"대한민국에 정의가 살아있다는 것을 보여줬다\"며 \"아무리 거대 야당의 힘으로 방탄의 둑을 겹겹이 쌓아도 정의의 강물을 막을 순 없다\"고 했다. 반면 국회법사위원장인 민주당 정청래 의원은 \"믿어지지 않는다. 민심이 천심이거늘 하늘이 두렵지 않은가. 우리는 포기하지 않는다. 우리는 끝내 이기리라\"라고 자신의 SNS에 글을 올렸다. 같은 당 박지원 의원도 \"1심의 결과다. 헌법상 사법부는 3심제다. 의연해야 한다\"며 \"트럼프도 대법원 최종심에서 살아 대통령이 되었다. 우리는 어제처럼, 오늘처럼 내일도 치열하게 김건희특검과 민주주의, 민생경제, 남북관계 개선등을 위해 매진할 것\"이라고 밝혔다. 사진 출처,\\n뉴스1 아직 최종 판결이 나온 것은 아니지만 이 대표의 사법리스크가 현실화된 만큼 당내에서도 달라진 분위기가 예상된다. \\'사법부 불신\\'을 기조로 내세우고 있는 더불어민주당 입장에선 \\'이재명 리더십\\' 붕괴는 선을 긋고 있다. 하지만 대체로 전문가들은 이 대표가 1심 판결에서 유죄가 나오면 특히 비명계 중심으로 당내 동요와 국민 여론 움직임은 불가피하다고 진단했다. 경희대 공공거버넌스연구소 채진원 교수는 앞서 BBC코리아에 \"이재명 대표에게 1심에서 유죄판결이 내려지면 \\'친명계\\'와 이 대표 지지자들은 강력히 반발할 것이지만 당내 \\'비명계\\'와 일반 국민들은 이 대표의 도덕성과 자격에 파탄이 난 만큼, 이 대표에 대한 반감과 비호감이 커지게 되어 결국 3심이 확정될 때까지 대권주자의 경쟁력 하락으로 이어질 것으로 보인다\"고 전망했다. 이종훈 정치평론가 역시 \"이 대표의 사법 리스크가 이제 현실화하면서 정치적인 주도권 상실과 정당 지지율이 하락할 가능성이 높아지기 때문\"이라고 말했다. 이와 더불어 이 평론가는 국민 사이에서 일고 있는 동정론 역시 사라질 수 있다고 봤다. \"최근 들어 윤석열 대통령이 지지율이 워낙 낮고 소통도 일방적인 상황에서 이재명 대표 부부에 대해서 너무 과한 수사가 아닌가 하는 여론과 또 반사적 이익이 있었거든요. 그런데 검찰이 아닌 사법부 그러니까 법원에서 판결이 유죄 판결이 나오는 건 또 얘기가 다르잖아요…. 그런 게 사라져 버리는 것이죠.\" 사진 출처,\\n뉴스1 타격은 있겠지만, 당내 리더십이나 분열이 크지는 않을 것이란 관측도 있다. 아직 재판 과정이 남아있고 다른 재판도 있어서 추이를 더 지켜봐야 한다는 것. 동국대 정치외교학과 박명호 교수는 아직 재판 과정이 남아있고 다른 재판도 있어서 추이를 더 지켜봐야 한다는 입장을 보였다. 박 교수는 \"당내 리더십에는 흠집 정도는 일 수 있지만 심각한 위협이 되기에는 아직 좀 이르다\"며 \"아마 (당에서) 최악의 경우를 전제로 그 나름의 대비가 있지 않을까 싶다\"고 했다. 그는 이 대표의 재판이 여럿 남아있는 만큼 여야가 극단적으로 대치하는 대치 정국이 계속 될 것이라며 정치의 사법화, 사법의 정치화를 우려햇다. 그는 \"정치적으로 다툼이 있고 서로의 입장이 있는 부분은 이해되는데 이게 사법의 영역으로 자꾸 넘어가서 OX 문제처럼 돼 버리고 정치적 양극화를 악화시키고 공동체를 위협하는 듯하다\"며 \"그런 면에서는 우리 사회에 꽤 중요한 메시지를 주는 계기가 되지 않겠나\"라고 말했다. 한편, 현재 이 대표는 공직선거법상 위증교사 혐의 위반 관련해서도 25일 1심 판결을 기다리고 있다. 대장동·백현동·위례신도시 개발비리 및 성남FC 불법 후원금 의혹 사건 재판도 진행 중이다.']\n",
            "['https://www.bbc.com/korean/60521326', '러시아가 우크라이나를 침공한 이유... 푸틴이 원하는 바는?', '러시아는 어디까지 갈 것인가? 이번 침공은 유럽에 얼마나 위험한가? 서방세계가 할 수 있는 것은? 푸틴이 원하는 것은? NATO는 뭐라고 했나? 외교적 해법은 없나?', '사진 출처,\\nGETTY IMAGES 공중에서도, 지상에서도, 바다에서도. 인구 4400만, 민주주의 국가인 우크라이나를 향해 러시아는 파괴적인 공격을 가했다. 블라디미르 푸틴 러시아 대통령은 몇 달간 우크라이나 침공설을 부인했다. 그러나 평화 협정을 파기하며 러시아군은 우크라이나의 북쪽, 동쪽, 남쪽 국경을 넘어 쳐들어왔다. 사망자 수가 증가하면서 이제 푸틴 대통령은 유럽의 평화를 깨뜨린 책임을 벗어날 수 없으며, 향후 전개 상황은 유럽 대륙 전체의 안보를 위태롭게 할 수 있다. 러시아 침공 지역은 어디, 이유는? 우크라이나 수도 키예프 근처의 보리스필 국제공항을 비롯해 우크라이나 전역의 공항과 주요 군사시설이 가장 먼저 공격의 대상이 됐다. 그리고 인구 140만 명의 도시이자 우크라이나 북동쪽의 하르키우 인근에서도, 동쪽의 루간스크 인근에서도, 북쪽의 접경 국가 벨라루스에서도, 그리고 남쪽의 크림반도에서도 탱크와 지상군이 밀려들었다. 낙하산 부대가 키예프 바로 외각의 비행장을 점령했으며 러시아군은 우크라이나의 최대 항구도시 오데사와 마리우폴에도 상륙했다. 침공 직전 푸틴 대통령은 TV 연설에서 \"현대 우크라이나로부터의 지속적인 위협\"에 러시아가 \"안전함을 느끼며, 발전하고, 존재하기\" 어렵다고 주장했다. 푸틴 대통령의 주장 대부분은 거짓이며 합리적이지 않다. 푸틴 대통령은 이번 군사 행동의 목표가 우크라이나 정부의 괴롭힘과 집단 학살의 대상이 된 사람들을 보호하고 우크라이나를 \"비무장화, 비나치화\"하는 것이라고 밝혔다. 그러나 우크라이나에서는 집단 학살이 자행되지 않았다. 우크라이나는 유대계 대통령이 이끄는 활기찬 민주주의 국가다. 볼로디미르 젤렌스키 우크라이나 대통령은 이번 러시아의 침공을 제2차 세계 대전 당시의 나치 독일 침공에 비유하며 \"어떻게 내가 나치가 될 수 있나\"라고 되물었다. 푸틴 대통령은 친러시아 성향의 빅토르 야누코비치 전 우크라이나 대통령이 몇 달간 이어진 반정부 시위 끝에 2014년 축출된 이후 우크라이나가 극단주의자들의 손에 넘어갔다고 빈번히 주장했다. 이후 러시아는 우크라이나 남부 크림반도를 합병하며 보복했다. 또한 현재까지 1만4000명의 목숨을 앗아간 우크라이나 동부지역의 분쟁에서 우크라이나 정부군에 맞서 분리주의 반군 세력을 지원했다. 2021년 말 푸틴 대통령은 우크라이나 국경 근처에서 러시아군 병력을 증강하기 시작했다. 그리고 이번 주에 동부지역의 휴전을 위해 맺었던 2015년 평화 협정을 파기하면서 반군이 점령한 자칭 도네츠크 인민공화국(DPR), 루간스크 인민공화국(LPR)의 독립을 인정했다. 러시아는 유럽연합(EU)과 북대서양조약기구(NATO)에 가입하려는 우크라이나의 시도를 오랫동안 반대해왔다. 침공 개시를 명하면서 푸틴 대통령은 NATO가 \"러시아의 국가로서의 역사적 미래\"를 위협하고 있다고 비난했다. 러시아는 우크라이나를 \"해방시키고 나치즘으로부터 정화해야 한다\"고 믿으면서도, 우크라이나 내 민주적으로 선출된 정부를 전복시키고자 하는지에는 답하지 않았다. 푸틴 대통령은 \"민간인을 상대로 수없이 많은 유혈 범죄를 저지른 자들\"을 법정에 세우는 것에 대해 언급했다. 러시아군은 벨라루스에서도 진격해왔으며 키예프 외곽의 우크라이나 군 공항인 호스토멜 공항도 점령당한 상황으로 미뤄보아 수도 키예프를 노리고 있다는 건 의심의 여지가 없다. 우크라이나와의 접경지대에 최대 20만 명의 병력을 배치하기 전, 푸틴 대통령은 우크라이나 동부 지역에 관심을 쏟았다. 동부 지역의 도네츠크 인민공화국(DPR)과 루간스크 인민공화국(LPR)을 독립국으로 인정하면서 푸틴 대통령은 이 지역이 우크라이나의 영토가 아니라고 결정 내렸다. 이후 그는 더 많은 우크라이나의 영토를 원하는 이들 반군 세력을 지지한다고 밝혔다. 자칭 인민공화국인 이 두 곳은 루간스크와 도네츠크 전체 면적의 3분의 1 가량을 차지하고 있는데, 나머지 지역도 탐내고 있는 것이다. 제2차 세계대전 이후 처음으로 유럽 내에서 침략 전쟁이 일어나고 있는 지금은 우크라이나 국민에게는 물론, 나머지 유럽 국가에도 두려운 시간이다. 독일이 \"푸틴의 전쟁\"이라고 부르는 이번 침공으로 이미 민간인과 군인을 포함해 수십 명이 사망했다. 그리고 유럽의 지도자들은 이번 러시아의 침공으로 1940년대 이후 가장 어두운 시간을 보내고 있다. 에마뉘엘 마크롱 프랑스 대통령은 유럽사의 전환점이라고 표현했다. 냉전 시기의 소련을 회상하며 젤렌스키 대통령은 문명 세계로부터 러시아를 고립시키는 새로운 \"철의 장막\"을 피하고자 우크라이나가 노력하고 있다고 말했다. 사진 출처,\\nEPA 양측 군인들의 가족들에게는 불안한 날들이 지속될 것이다. 우크라이나군은 이미 친러 분리주의자들과 지난 8년간 끔찍한 전쟁을 치렀다. 현재 우크라이나군은 18~60세 사이의 모든 예비군을 소집한 상태다. 마크 밀리 미국 합참의장은 러시아군의 규모를 미뤄볼 때 인구가 밀집된 도시 지역에서 교전이 발생하면 \"끔찍한\" 시나리오가 될 수 있다고 말했다. 이번 러시아의 침공은 러시아 및 우크라이나와 국경을 접하는 다른 많은 나라들에도 연쇄적인 영향을 끼쳤다. 라트비아, 폴란드, 몰도바는 대규모 난민 유입에 대비하고 있다고 밝혔다. 국가 비상사태를 선포한 리투아니아와 몰도바에는 이미 여성과 어린이 피난민이 수천 명에 이른다. 이번 전쟁에 러시아 국민들도 준비되지 않은 건 마찬가지다. 이번 침공은 국민들의 보편적인 지지를 얻지 못하고 있는 러시아 상원이 승인한 것이기 때문이다. NATO가 전투기를 경계 태세에 두긴 했지만, 서방 연합군은 우크라이나에 파병할 계획이 없다고 분명히 밝혔다. 대신 서방 국가들은 군사 고문관을 보내며 무기와 야전병원 등을 지원했다. 한편 NATO는 병력 5000명을 발트해 연안국과 폴란드에 배치했다. 병력 4000명이 추가로 루마니아, 불가리아, 헝가리, 슬로바키아에 배치될 수도 있다. 군사적 개입 대신 서방 국가들은 러시아의 경제, 산업, 개인을 겨냥하고 있다. EU는 러시아의 자본 시장 및 최신 기술 접근을 차단한다고 발표했다. 도네츠크 인민공화국(DPR), 루간스크 인민공화국(LPR)의 독립을 인정한 러시아 하원의원 351명은 이미 제재 대상에 올랐다. 독일은 러시아와 유럽 기업들이 대규모로 투자한 노르트스트림-2 가스관 개통을 중단했다. 미국은 서방 금융기관에서 러시아의 접근을 차단하겠다고 발표하며 러시아 \"엘리트\" 고위층을 공략하겠다고 밝혔다. 영국은 모든 주요 러시아 은행들의 자산을 동결했으며, 개인과 기관을 포함한 100명을 제재 대상에 추가했다. 또한 러시아 국적 항공사인 아에로플로트의 영국 내 착륙이 금지될 것이라고 밝혔다. 우크라이나는 동맹국들에게 러시아산 석유와 천연가스 구매를 중단해달라고 촉구했다. 발트 3국은 러시아 은행이 국제은행간통신협회(SWIFT) 결제 시스템에 접근하는 것을 막아달라고 국제 사회에 호소했다. 이러한 제재는 미국과 유럽 경제에도 악영향을 끼칠 수 있다. 러시아 상트페테르부르크에서는 올 시즌 유럽축구연맹(UEFA) 챔피언스리그 결승전이 열릴 예정이었으나 이는 보안상의 이유로 불가능해 보인다. UEFA 또한 추가 조치를 계획 중이다. 사진 출처,\\nREUTERS 푸틴 대통령은 NATO의 동진을 비난해왔다. 앞서 그는 러시아가 \"더 물러날 곳도 없다\"면서 \"서방은 우리가 앉아서 당하고 있으리라 생각하는 것인가\"라며 불평을 토로했다. 우크라이나는 NATO 가입을 위한 일정을 모색하고 있다. 그러나 세르게이 랴브코프 러시아 외무차관은 \"우크라이나가 절대로 NATO에 가입하지 않는다는 보장이 반드시 필요하다\"고 밝혔다. 푸틴 대통령은 지난해 장문의 글에서 러시아와 우크라이나를 \"하나의 국가\"로 묘사했으며 1991년 12월의 소련 붕괴를 \"역사적 러시아의 해체\"라고 표현했다. 또한 그는 현대 우크라이나는 전적으로 공산주의 러시아에 의해 만들어졌다고 주장하며 지금의 우크라이나 정부를 서방 세계에 휘둘리는 꼭두각시라고 표현했다. 푸틴 대통령은 우크라이나가 NTAO에 가입하면 NATO가 크림반도를 탈환하려고 할 수 있다고 주장하기도 했다. 그러나 비단 러시아는 우크라이나에만 집중하고 있는 것이 아니다. 러시아는 NATO 군이 \\'1997년의 경계선\\' 밖으로 철수하길 요구한다. 푸틴 대통령은 NATO가 1997년 이후 가입한 회원국에서 병력과 군사 기반 시설 등을 철수하고 \"러시아 국경 근처에 무기를 배치\"하지 않길 요구한다. 중부 유럽, 동유럽, 발트 3국에서 물러나라는 것이다. 푸틴 대통령은 1990년 서방 세계가 NATO는 \"동쪽으로 1인치도 확장하지 않는다\"고 약속했음에도 동진한 것으로 보고 있다. 하지만 이때는 소련 해체 전이었다. 그래서 당시 미하일 고르바초프 소련 공산당 서기장에게 했던 이 약속은 통일된 독일의 맥락에서 동독을 언급한 것이었다. 나중에 고르바초프 서기장은 당시 \"NATO 확장에 대해서는 논의한 적이 없다\"고 말했다. 서방 국가의 군사동맹체인 NATO는 새로운 회원국에 대해 \"열린 문\" 정책을 펼친다. 그리고 30개 NATO 회원국은 이 정책에 변함은 없다는 뜻을 고수한다. 독일 총리가 분명히 밝혔듯이 우크라이나가 조만간 NATO에 합류할 가능성은 작다. 그러나 현재의 NATO 가입국이 자국의 회원 자격을 포기할 것이라는 생각은 설득력이 없다. 지금 당장은 아니지만, 미래에 어떤 합의가 이뤄지든 간에 군비 축소와 우크라이나 동부 지역의 분쟁을 포함하는 내용이어야 할 것이다. 미국은 대륙간미사일에 대한 새로운 조약과 단거리 및 중거리 미사일 제한을 언급하며 회담을 제안했다. 러시아는 미국의 모든 핵무기가 미국 영토 밖에서 금지되길 원한다. 러시아의 기지 2곳과 루마니아 및 폴란드에 있는 NATO 미사일 기지에 대한 상호 검증의 \"투명성 메커니즘\" 제안에 대해서는 러시아가 긍정적인 반응을 보였다.']\n",
            "['https://www.bbc.com/korean/articles/cn7md402zk8o', '트럼프가 공언한 7가지 대선 공약', '1) 불법 이민자 추방 2) 경제·세금·관세 관련 움직임 3) 1월 6일 폭동범 일부 사면 4) 잭 스미스 특별검사 해임 5) 우크라이나 전쟁 종식 6) 낙태 금지법 서명 안 해 7) 기후 규제 완화', '사진 출처,\\nGETTY IMAGES 도널드 트럼프가 이민자·경제·우크라이나 전쟁 등의 사안에서 대응책을 약속하며 백악관으로 복귀할 예정이다. 또한 공화당이 상원 다수당 탈환에 성공한 만큼, 의회에서 트럼프의 정치 의제에 힘이 실릴 가능성이 높다. 트럼프는 승리 연설에서 “내 통치 원칙은 단순하다. 약속한 것은 지킨다는 것이다. 우리는 계속 약속을 지켜나가겠다”고 말했다. 하지만, 각종 목표를 어떻게 달성할 것인지 세부 내용을 거의 밝히지 않은 의제들도 있다. 트럼프는 2023년 폭스뉴스 타운홀 대담에서 권력을 남용하거나 정적을 표적으로 삼을 것이냐는 질문에 “첫날만 그럴 것”이라고 답했다. “아니, 아니, 아니, 첫날만 그럴 겁니다. 첫날에만 국경을 닫고 시추를 하는 거죠. 그 이후로는 독재자가 아닐 겁니다.” 트럼프는 선거운동 기간 동안 미국 역사상 최대 규모의 불법 이민자 추방을 약속했다. 또한, 첫 번째 임기에서 시작한 멕시코 국경의 장벽 건설을 완료하겠다고 공약했다. 미국 남부 국경을 넘어온 이민자는 바이든-해리스 행정부 시절인 지난해 말 사상 최고치를 기록한 후 올해 감소세를 보였다. 전문가들은 트럼프가 약속한 규모로 추방을 단행하면 법적·절차적 문제가 상당할 것이며 경제 성장을 둔화시킬 수 있다고 BBC에 전했다. 이번 미 대선의 출구조사 결과에 따르면 유권자들은 경제 문제를 특히 중요하게 생각했다. 트럼프는 “인플레이션 종식”을 약속했다. 인플레이션은 조 바이든 행정부에서 역사적 고점을 기록한 이후 다시 하락했다. 하지만, 물가에 직접 영향을 미칠 수 있는 대통령의 권한은 제한적이다. 또한 트럼프는 2017년부터 시행된 감세 정책을 연장하는 등 광범위한 세금 감면을 약속했다. 트럼프는 팁 소득에 대한 면세, 사회보장 급여에 대한 과세 폐지, 법인세 인하를 내걸었다. 한편, 무역 적자 축소를 위해 대부분의 수입품에 최소 10%의 관세를 새로 부과하는 방안을 제시했다. 특히, 중국산 수입품에는 60%의 추가 관세가 부과될 수 있다고 말했다. 일부 경제학자들은 이러한 조치가 소비자 가격 인상으로 이어질 수 있다고 경고했다. 2021년 1월 6일 워싱턴DC에서는 2020년 조 바이든의 대선 승리를 저지하기 위해 트럼프 지지자들이 국회 의사당 건물을 습격하는 폭동이 벌어졌다. 트럼프는 이 폭동 사태에서 유죄로 판결난 사람 중 일부를 “자유의 몸”으로 만들겠다고 밝혔다. 이 폭동으로 여러 명의 사망자가 나왔고, 트럼프는 폭동을 선동했다는 비난을 받았다. 트럼프는 폭동의 심각성을 축소하고 유죄 판결을 받은 수백 명의 지지자가 정치범으로 보이도록 만들었다. 트럼프는 폭동범 중 상당수가 “부당하게 수감됐다”는 주장을 유지하면서도, “그들 중 몇 명은 아마도 통제 불능 상태였을 것”이라고 인정했다. 트럼프는 본인을 상대로 2건의 형사기소를 지휘한 베테랑 검사를 취임 후 “2초만에” 해임하겠다고 공언했다. 잭 스미스 특별검사는 2020년 대선 뒤집기 시도와 기밀문서 유출 혐의로 트럼프를 기소했다. 트럼프는 모든 혐의를 부인했고, 두 사건 모두 선거 전 재판 회부를 막아냈다. 트럼프는 스미스 검사가 본인을 “정치적 마녀사냥”의 표적으로 삼았다고 말한다. 트럼프는 뉴욕에서 기업 문서 조작 혐의로 유죄 판결을 받은 바 있다. 이로써 사상 처음으로 유죄 판결을 받은 대통령으로서 백악관에 복귀하게 된다. 트럼프는 미국이 러시아-우크라이나 전쟁에서 우크라이나에 제공한 수백억 달러의 지출을 비판하며, 협상을 통해 “24시간 내에” 분쟁을 끝내겠다고 약속했다. 다만, 양측이 무엇을 양보해야 한다고 생각하는지는 밝히지 않았다. 민주당은 이런 방식이 블라디미르 푸틴 러시아 대통령을 더 대담하게 만들 것이라고 말한다. 트럼프는 미국이 세계 각지의 분쟁에서 발을 빼기를 원한다. 가자지구 전쟁과 관련해서는 본인을 이스라엘의 확고한 지지자로 내세우는 한편, 이스라엘에는 신속한 마무리를 촉구했다. 또한 레바논에서 벌어지는 관련 폭력 사태에 대해서도 종식을 약속했지만, 세부 사항은 언급하지 않았다. 트럼프는 일부 지지자들의 바람과는 달리 카멀라 해리스와의 대선 토론에서 전국적인 낙태 금지법에 서명하지 않겠다고 말했다. 트럼프의 첫 대통령 취임 후 보수 성향 판사가 대법원에서 다수를 차지하게 됐고, 2022년에는 임신 중절에 관한 헌법상의 권리가 뒤집혔다. 생식권 보호는 해리스 후보의 주요 선거 공약이 됐다. 여러 주에서는 투표일에 낙태권을 보호하거나 확대하는 조치를 승인했다. 트럼프는 각 주에서 낙태 관련법을 자유롭게 결정할 수 있어야 한다고 꾸준히 발언해 왔다. 다만, 본인이 내세울 일관된 메시지를 찾는 데 난항을 겪었다. 트럼프는 첫 임기 동안 환경 보호 규제 수백 건을 철회하고 미국을 파리기후협약 최초의 탈퇴국으로 만들었다. 이번에도 규제 완화를 다시 한번 공언했고, 특히 그 목적이 미국의 자동차 산업을 지원하는 것이라고 밝혔다. 트럼프는 전기차를 끊임없이 비판하며 청정 자동차 전환을 장려하려던 바이든의 목표를 뒤집겠다고 약속했다. 또한, 풍력 등 재생 에너지원 대신 미국의 화석 연료 생산을 늘리기 위해 첫날부터 “시추, 시추, 시추”에 나서겠다고 약속했다. 트럼프는 북극 황야와 같은 지역에서 석유 시추를 허용해 에너지 비용을 낮추겠다고 주장하는데, 분석가들은 이에 회의적이다.']\n",
            "['https://www.bbc.com/korean/articles/c20ldzy6z78o', '한국에 통일을 바라는 젊은 세대가 점차 사라지는 이유', \"10명 중 4명 '통일 불필요' 경제적 부담 깊어지는 단절 탈정치·탈이데올로기 젊은 세대만의 문제인가?\", '사진 출처,\\nGETTY IMAGES \"지하철 옆자리에 앉은 사람이 나한테 말을 좀 안 걸었으면 좋겠는데, 계속 말을 거는 거예요.\" 박준규(32) 씨는 한국의 젊은 세대가 생각하는 \\'통일\\'을 \\'지하철 불청객\\'에 빗대어 표현했다. \"자기 좋자고 다리 쩍 벌리고, 핸드폰 소리 크게 틀고…그래서 대화를 전혀 하고 싶지 않은데 자꾸 말을 거는 상황? 사회·경제 문제나 청년들이 직면한 현실적인 문제도 있고요. 가장 잘못한 건 기성세대가 북한 문제를 정치적으로 양극화된 문제로 각인시켰다는 거죠.\" 박 씨는 남북 청년 싱크탱크 ‘한반도청년미래포럼’의 창립자다. 남북 청년 간 대화와 협력, 정보 공유 등을 통해 장기적인 관점에서 통일을 지향하는 포럼을 이끄는 박 씨조차 젊은 세대의 통일에 대한 “무관심과 부정적”인 감정을 충분히 이해한다고 밝혔다. 많은 한국 청년의 머릿속에 북한에 대한 부정적 이미지가 지배적인 상황에서, 통일담론이 설득력 없이 전개됐다는 지적이다. 오는 15일 윤석열 대통령의 제79주년 광복절 축사를 앞두고 새로운 통일구상에 대한 여러 궁금증이 쏟아진 이유이기도 하다. ‘젊어질수록 통일과 멀어진다.’ 북한·통일 연구자들 사이에서 나오는 우려다. 실제로 여러 설문조사에서 10~30대 젊은 세대의 통일 인식이 다른 연령층에 비해 낮다는 결과가 드러났다. 서울대학교 통일평화연구원에서 전국 17개 시·도에 거주하는 성인 1200명을 대상으로 진행한 ‘2023 통일의식조사’에서 19~29세 응답자 중 통일이 필요하다고 답한 비율은 28.2%, 필요하지 않다고 답한 비율은 41.2%로 60대 이상에서 각각 51.3%, 20.7%을 기록한 것과 큰 차이가 났다. 한편 통일부가 지난해 교육부와 함께 전국 초·중·고 756개교 학생 약 7만4000명을 대상으로 ‘2023년도 학교 통일교육 실태조사’를 시행한 결과 ‘통일이 필요하다’고 답한 비율이 49.8%을 기록했다. 2014년 조사를 시작한 이래 처음으로 50% 아래로 떨어진 것이다. 반면 ‘통일이 불필요하다’고 응답한 학생 비율은 39.8%로 역대 가장 높은 수치를 기록했다. 두 조사에서 응답자들이 공통적으로 통일이 불필요하다고 생각한 이유로 ‘통일의 경제적 부담’과 ‘통일 이후 발생할 사회적 문제’가 꼽혔다. 한국과 북한의 경제 규모가 차이가 크다보니, 통일 후 한국인들의 경제적 부담이 커질 것이라는 우려 때문이다. 특히 서독과 동독 간 통일 사례를 참고했을 때, 인구 비율과 소득 격차 면에서 한국 국민들이 감당해야 할 통일 비용이 크다는 지적이 나온다. 2010년 이명박 정부 시절 한국개발연구원(KDI)은 갑작스러운 통일을 맞이할 경우 30년간 약 2500조원이 필요할 것으로 예상했다. 고등학교 2학년 정현준 군은 “최근 사회적 분위기를 보면 더 이상 자신이 부양해야 할 무언가가 늘지 않기를 원해서 혼자 살거나 자녀를 낳지 않는 등의 양상이 2030세대에서 많이 나타나고 있다”며 “(통일이) 과연 이러한 세대들에게서 지지를 받을 수 있을지 의문”이라고 말했다. 물론 남북 통일이 이뤄졌을 때의 경제적 기대효과도 분명 존재한다. 2014년 박근혜 전 대통령은 새해 기자회견에서 통일 비용보다 실익이 크다는 취지에서 ‘통일 대박론’을 언급하기도 했다. 전영선 건국대 통일인문학연구단 교수는 “통일 대박론을 통해 경제적 관점의 접근이 이뤄졌지만, (젊은 세대에게) 실질적으로 경제적인 부분이 와닿지 않는 상황에서 (통일에 대한) 부담이 올 수밖에 없다”고 설명했다. 고등학교 3학년 권수민 양은 인구 균형과 국제 무역 등 중장기적인 이익을 고려했을 때 통일에 긍정적이라면서도 “주변 친구들을 보면 통일에 대해 관심이 없는 경우가 대부분”이라면서 “굳이 (통일에 대해) 묻는다면 통일을 지향하지만 본인이 후세대가 됐을 때 통일이 됐으면 좋겠다고 말하기도 한다”고 했다. 사진 출처,\\n한반도청년미래포럼 젊은 세대는 갈수록 북한과의 연결고리가 희미해지고 있다. 이런 가운데 하루가 멀다하고 미사일 발사, 오물풍선 등의 속보를 쏟아내는 미디어를 통해 북한을 접한다. 30대 초반인 박 씨는 ‘북한’이라고 했을 때 “연평도 포격 도발, 목함지뢰, 연락사무소 폭발, 오물 풍선” 등의 이미지가 떠오른다고 했다. 전 교수는 “내년이면 벌써 (분단) 80년”이라며 “그러면 본인의 기억 속에 있는 역사가 아니라 교과서에서 나온 역사이기 때문에 자신의 삶과 연관시켜서 얘기하기가 매우 어렵다”고 지적했다. 북한에 대한 세대의 인식과 경험이 달라지고 있는 것에 비해 통일담론은 제자리라는 지적도 나온다. 젊은 세대가 공감하기에는 너무 추상적이고 민족주의적이라는 것. 동국대 북한학연구소의 하승희 교수는 “세대는 계속 변화하고 있는데 (통일) 프레임 자체는 고정돼 있다”며 “(담론을) 현실로 끌고 올 필요가 있다”고 지적했다. “예를 들면 우리가 해외여행을 갔을 때 북한 주민을 만나면 접촉 신고를 해야 하잖아요. 그런데 이걸 모르는 국민들이 많아요. 또 1989년부터 통일부가 북한자료센터를 통해 특수 자료를 개방했는데, 지금도 ‘북한 책 보면 잡혀가는 거 아니야?’ 이런 인식이 있죠. 아직도 북한이나 북한 자료 이런 것들은 전문가 영역에서만 접할 수 있는 것으로 생각되는 거예요.” “우리 세대가 보기에 통일은 너무 레토릭(rhetoric·수사학)스러워요. ‘우리의 소원은 통일’은 더 이상 먹히질 않거든요.” 박 씨는 젊은 세대의 또 다른 특징으로 탈정치·탈이데올로기(이념)를 꼽았다. 민족주의, 반공 등 통일담론을 이끌던 이념들이 더 이상 유효하지 않다는 것. 전 교수는 “예전과 달리 지금은 국적 자체를 선택할 수 있는 시대로, 세계 어디를 가든 선택지가 열려있다”며 “그렇기 때문에 젊은 세대는 (통일을) 숙명적으로 받아들이지는 않는 것”이라고 했다. 박 씨는 남북 연락사무소 폭파, 서해 공무원 피살사건 등 남북 관련 중요한 사건이 발생할 때마다 “국가가 두 개로 갈라져서 싸우”고 선거철 때마다 과거 사건이 다시 끌어올려지는 것을 보면서 눈살이 찌푸려졌다고 했다. “이런 (정치적인) 부분들 때문에 젊은층이 (통일에 대해) 막연하게 거부감이 생긴 거죠. 보기도 싫은 거죠. 근데 이런 상황에서 통일 얘기를 한다? 반대한다고 말할 수밖에 없는 거죠.” 실제로 젊은 세대의 ‘정치혐오’ 또는 ‘정치무관심’ 현상은 두드러지고 있다. 올해 총선에서도 2030세대를 중심으로 무당층 비중이 크게 늘면서 막판까지 중요한 선거 변수로 주목받았다. 사진 출처,\\nGETTY IMAGES 하지만 젊은 세대가 유독 통일에 무관심하다고 보긴 힘들다는 의견도 있다. 고등학교 2학년 서혜주 양은 “그래도 2018년 평창 올림픽에 남북 단일팀이 출전하는 모습을 보기도 했고, 북한관과 남한 간의 관계 증진 관련한 긍정적인 측면도 봐서 그런지 주변에 (통일을) 긍정적으로 보는 친구들이 꽤 많다는 생각이 든다”고 했다. 박주화 통일연구원 연구위원은 젊은 세대의 통일인식이 특별히 낮은 것이 아니라, 사실 모든 세대의 통일인식이 높지 않을 수 있다고 지적했다. 지난 7월 2주차 전국지표조사(NBS)에 따르면 ‘남한과 북한이 앞으로 어떻게 살아가는 것이 좋다고 생각하나’를 묻는 질문에 모든 연령이 ‘자유로운 왕래가 가능한 2국가’가 가장 바람직하다고 선택했다. 선택지 중에는 ‘통일된 단일국가’도 있었다. 반면 ‘남한과 북한이 반드시 통일되어야 한다고 생각하나’를 묻는 항목에 ‘반드시 통일이 되어야 한다’고 한 18~29세 응답자는 28%로 연령대 중 가장 낮았다. 박 연구위원은 “통일이라는 단어는 굉장히 많은 가치를 수반하고 있어 일종의 사회적 의무감을 느끼는 사람들이 많다”고 설명했다. “그래서 ‘통일’이라는 단어를 빼고 ‘남한과 북한이 어떻게 살아갔으면 좋겠’는지 물어보면 의무감이 작동하지 않을 가능성이 상대적으로 높은 거죠. 그러니까, 이게 속마음이라는 거예요.” 그러면서 그는 “젊은 세대의 통일인식이 좋아지지 않는 이유는 어떻게 보면 기성세대들이 그들에게 통일 필요성과 관련해 설득력있는 이야기를 못 해주기 때문”이라며 “어쩌면 기성세대들도 통일을 해야 하는 확실한 이유를 아직 모르고 있는 것일 수 있다”고 지적했다.']\n",
            "['https://www.bbc.com/korean/articles/c8rl0n8yrmlo', '이재명 1심 선고 결과는 한국 정치에 어떤 영향 미칠까', \"'허위 사실 공표 혐의'…. 관련 발언 어땠길래? 이번 선고에 이목이 쏠리는 이유 '정치적 양극화 우려돼'\", '사진 출처,\\n뉴스1 오는 15일 이재명 더불어민주당 대표의 공직선거법 위반(허위사실공표) 혐의 사건 1심 선고를 앞두고 관심이 쏠린다. 차기 대권주자로 꼽히는 제1야당 대표가 유죄를 받아들 경우 대권가도에 큰 변화가 예상되기 때문이다. 10일 정치권과 법조계 등에 따르면 서울중앙지법 형사합의34는 오는 15일 공직선거법 위반 혐의로 재판에 넘겨진 이 대표의 1심 선고를 진행한다. 이번 결과는 이 대표와 관련해 진행 중인 4건의 재판 중 가장 먼저 나오는 판결이다. 검찰이 2022년 9월 이 대표를 기소한 지 약 2년 2개월 만의 일이다. 이 대표는 지난 20대 대선 과정 중 방송사 인터뷰와 국정감사 등에서 대통령에 당선될 목적으로 대장동·백현동 개발사업 관련 의혹에 대해 허위 사실 등을 공표한 혐의를 받는다. 이 개발사업은 이 대표의 성남시장시절 성남시에서 추진된 대규모 부동산 개발 프로젝트로, 개발 과정에서 특혜와 비리 의혹이 불거지며 큰 논란이 됐다. 지난 2021년 12월 대선후보 인터뷰에서 이 대표가 고 김문기 성남도시개발공사 개발사업 1처장에 대해 한 말이 문제가 됐다. 김 씨는 전날 스스로 목숨을 끊었다. 김 씨를 알았냐는 질문에 이 대표는 \"시장할 때는 이 사람의 존재를 몰랐다\"고 답했다. 당시 직원이 워낙 많아 하위직인 김 전 처장을 기억하지 못했다는 것. 하지만, 이 대표가 유동규 전 성남도시개발공사 본부장, 김 전 처장과 함께 해외여행을 가 함께 골프 라운딩을 하고 김 전 처장에게서 여러 차례 직접 보고를 받은 정황 등이 알려졌다. 검찰은 대장동 비리에 연루된 사실을 감추기 위해 김 전 처장과의 관계를 부인했다고 보고 있다. 이번 선거법 위반 재판의 핵심 쟁점은 발언의 고의성 여부다. 법정은 \\'김문기를 모른다\\'는 이 대표 말이 사실 발언인지 의견 표출인지를 겨루고 있다. 법적 처벌 대상이 되는 건 의견이 아니라 \\'사실에 관해 거짓을 유포한 행위\\'이기 때문이다. 이 대표 측은 \\'모른다\\'는 것이 친분이 없다는 주관적 표현이라고 보는 반면, 검찰은 객관적 사실에 대해 의혹을 부인하는 발언이라고 맞서고 있다. 사진 출처,\\n뉴스1 검찰은 이 외에도 이 대표가 같은 해 경기도 국정감사장에서 성남시 분당구 백현동 한국식품연구원 부지 용도변경 특혜 의혹과 관련해 한 언급도 허위라고 보고 있다. 국토부의 협박이 없었는데 이 발언으로 이득을 취하려 했다는 것이다. 당시 이 대표는 \"국토교통부가 요청해서 한 일이고 공공기관 이전 특별법에 따라서 저희가 응할 수밖에 없는 그런 상황\"이라며 \"만약 안 해주면 직무 유기 이런 것을 문제 삼겠다고 협박을 해서\"라고 말한 바 있다. 검찰은 이와 관련해 백현동 개발과 관련해 성남시 직원들이 “국토부의 협박은 없었다”고 밝힌 진술을 허위 발언 증거로 제시했다. 지난 9월 20일 최후진술에서 이 대표는 \"화가 나 협박이라고 과하게 표현했지만, 어쨌거나 (국토부가) 성남시를 압박한 것은 사실\"이라고 주장했다. 또한 그 증거로 국토부가 성남시에 용도변경을 요청한 공문들이 수사 기록에 모두 빠져있다며 반박했다. 검찰은 이 두 가지 선거법 위반 혐의에 대해 징역 2년을 선고해달라고 재판부에 요청해 놓은 상태다. 현재 이 대표는 공직선거법상 위증교사 혐의 위반 관련해서도 1심 판결을 기다리고 있다. 대장동·백현동·위례신도시 개발비리 및 성남FC 불법 후원금 의혹 사건 재판도 진행 중이다. 그럼에도 15일 선고에 특히 이목이 쏠리는 이유는 유죄 판결 시 이 대표의 정치생명을 좌우할 첫 분수령이 될 수 있기 때문이다. 다음 대선 전까지 확정판결이 나올 가능성이 가장 큰 재판이도 하다. 현행법에 따르면 공직선거법 위반 재판의 경우 1심은 기소 6개월 이내에, 2심과 3심은 원심 선고 후 각각 3개월 안에 끝마쳐야 한다고 규정한다. 아울러 공직선거법 위반의 경우, 일반형사 사건보다 기준이 엄격해 100만원 이상의 벌금형만 최종 확정되면 향후 5년간 피선거권이 박탈되며 의원직도 잃게 된다. 이 경우, 이 대표가 다음 대선에 출마할 수 없는 건 물론 민주당은 지난 대선에서 보전받은 선거비용 434억원까지 반납해야 한다. 사진 출처,\\n뉴스1 이 대표의 사법리스크가 현실화되면 당내에서는 어떤 변화가 있을까. \\'사법부 불신\\'을 기조로 내세우고 있는 더불어민주당 입장에선 \\'이재명 리더십\\' 붕괴는 선을 긋고 있다. 앞서 친명계 좌장으로 분류되는 정성호 의원은 지난달 9일 MBC 라디오 시사 방송에 출연해 \"피선거권 박탈 형이 선고되면 이 대표가 상당히 위기에 처할 것 같다고 외부에서 말하는데 지금 당내 상황이나 당 지지자들, 국민 여론을 보면 그렇지 않다\"고 말했다. 같은 당 장경태 의원 역시 지난 10일 YTN 라디오에서 “(이 대표의) 리더십은 흔들릴 것이 없고, 재판 결과도 무죄가 확실하다고 본다”고 주장했다. 하지만 대체로 전문가들은 이 대표가 1심 판결에서 유죄를 받을 경우, 특히 비명계 중심으로 당내 동요와 국민 여론 움직임은 불가피하다고 진단했다. 경희대 공공거버넌스연구소 채진원 교수는 BBC코리아에 \"이재명 대표에게 1심에서 유죄판결이 내려지면 \\'친명계\\'와 이 대표 지지자들은 강력히 반발할 것이지만 당내 \\'비명계\\'와 일반 국민들은 이 대표의 도덕성과 자격에 파탄이 난 만큼, 이 대표에 대한 반감과 비호감이 커지게 되어 결국 3심이 확정될 때까지 대권주자의 경쟁력 하락으로 이어질 것으로 보인다\"고 전망했다. 채 교수는 지지층의 이탈화도 피하기 어렵다고 봤다. 그는 \"이재명의 민주당\\'에서 벗어나는 \\'탈이재명-이재명 지우기 흐름\\'이 민주당의 대세가 될 것으로 보인다\"고 예측했다. 이종훈 정치평론가 역시 \"유죄 판결이 나오면 이제 빈명계 쪽에서 대표직 사퇴하라고 하는 이제 얘기가 나올 수밖에 없다\"며 \"이 대표의 사법 리스크가 이제 현실화하면서 정치적인 주도권 상실과 정당 지지율이 하락할 가능성이 높아지기 때문\"이라고 말했다. 이와 더불어 이 평론가는 국민 사이에서 일고 있는 동정론 역시 사라질 수 있다고 봤다. \"최근 들어 윤석열 대통령이 지지율이 워낙 낮고 소통도 일방적인 상황에서 이재명 대표 부부에 대해서 너무 과한 수사가 아닌가 하는 여론과 또 반사적 이익이 있었거든요. 그런데 검찰이 아닌 사법부 그러니까 법원에서 판결이 유죄 판결이 나오는 건 또 얘기가 다르잖아요…. 그런 게 사라져 버리는 것이죠.\" 타격은 있겠지만, 당내 리더십이나 분열이 크지는 않을 것이란 관측도 있다. 동국대 정치외교학과 박명호 교수는 유죄 유무보다는 피선거권까지 연결되는 유죄인지 등에 따라 엇갈릴 것이라고 말했다. 아직 재판 과정이 남아있고 다른 재판도 있어서 추이를 더 지켜봐야 한다는 것. 박 교수는 \"당내 리더십에는 흠집 정도는 일 수 있지만 심각한 위협이 되기에는 아직 좀 이르다\"며 \"아마 (당에서) 최악의 경우를 전제로 그 나름의 대비가 있지 않을까 싶다\"고 했다. 반면 재판부가 15일 법원이 이 대표에게 무죄를 선고할 경우 그동안 야당이 끊임없이 제기해 온 \\'표적 수사\\' 주장에 힘이 실릴 예정이다. 현재 민주당은 이 대표를 둘러싼 혐의와 수사가 탄압이라며 연일 장외 투쟁을 이어 가고 있다. 박 교수는 이번 재판이 정치적 양극화로까지 이어질 수 있다고 우려했다. 그는 \"정치적으로 다툼이 있고 서로의 입장이 있는 부분은 이해되는데 이게 사법의 영역으로 자꾸 넘어가서 OX 문제처럼 돼 버리고 정치적 양극화를 악화시키고 공동체를 위협하는 듯하다\"며 \"그런 면에서는 우리 사회에 꽤 중요한 메시지를 주는 계기가 되지 않겠나\"라고 말했다. 한편, 이 대표의 공직선거법 위반 혐의 1심 선고는 금요일인 15일, 오후 2시 30분에 열린다.']\n",
            "['https://www.bbc.com/korean/46284880', '플라스틱 오염: 죽은 고래 뱃속에 플라스틱 컵 115개 들어있어', '', '사진 출처,\\nREUTERS 해변에 떠밀려온 향유고래 사체 속에서 6kg에 달하는 플라스틱 쓰레기가 나왔다고 인도네시아의 생태공원 관계자가 말했다. 또, 죽은 고래의 위 안에선 플라스틱 컵 115개, 플라스틱병 4개, 비닐봉지 25개, 엄지와 검지 사이에 끈을 끼어 신는 플립플롭 샌들 2개 등이 포함됐다고 밝혔다. 약 9.5m 크기의 향유고래 사체는 19일 와카토비섬 카포타 지역 근처에서 발견됐다. 이 사실을 접한 환경 보호론자들은 충격을 받았다. 야생동물보호기금(WWF) 인도네시아 해양생물보존 담당자 드위 수프라피는 \"(고래가)왜 죽었는지 알 수 없지만, 지금 우리가 마주한 사실은 정말 끔찍하다\"고 AP 통신에 말했다. 그러면서 고래 사체의 부패가 상당히 진행돼 사인을 정확히 알기 어렵다고 설명했다. WWF 인도네시아 측은 향유고래 몸속에 들어있던 내용물을 다음과 같이 트위터를 통해 알렸다. \"플라스틱(19개, 140g), 플라스틱병(4개, 150g), 비닐봉지(25개, 260g), 플립플롭(2개, 270g), 실 뭉치(3.26kg) 및 플라스틱 컵(115개, 750g)이 고래 사체에서 나왔다.\" 이 기사는 Twitter에서 제공한 콘텐츠를 포함하고 있습니다. 해당 콘텐츠는 쿠키나 다른 기술을 사용할 수 있어 기사를 보기 전 허용 여부를 묻고 있습니다. 허용을 하기 전에 Twitter의 쿠키 정책과 개인정보 보호 정책을 참고하시길 바랍니다. 기사를 계속해서 보시려면 ‘허용하고 계속 보기’ 버튼을 누르십시오. Twitter 포스트 마침 인도네시아를 비롯해 동남아시아에서 플라스틱은 큰 문제로 꼽히고 있다. 비영리 환경단체 해양보전센터(Ocean Conservancy)와 맥킨지 비즈니스 환경 센터가 2015년 내놓은 보고서에 따르면 전 세계 플라스틱 쓰레기 60%가 중국, 인도네시아, 필리핀, 베트남, 태국 5개국에서 나온다. 특히, 매년 수백 마리의 해양 동물들이 이 지역에서 버려진 비닐봉지 때문에 죽고 있다. 지난 6월 태국 남부에서는 한 들쇠고래가 비닐봉지 80개가량을 삼킨 후 죽은 채 발견됐다. 또, 올 초에는 쓰레기양을 줄이지 않으면 바닷속 플라스틱 양이 10년 안에 3배가 될 것이라는 연구 결과가 나오기도 했다. 지난 2017년 유엔은 매해 바다에 약 1000만 톤의 플라스틱 쓰레기가 버려지고, 이로 인해 해양 생물들이 회복이 불가할 정도로 피해를 보고 있다고 경고했다.']\n"
          ]
        }
      ]
    },
    {
      "cell_type": "code",
      "source": [],
      "metadata": {
        "id": "PG3IW3WiDGSW"
      },
      "execution_count": null,
      "outputs": []
    }
  ]
}