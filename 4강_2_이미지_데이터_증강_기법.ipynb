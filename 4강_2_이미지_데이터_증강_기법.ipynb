{
  "nbformat": 4,
  "nbformat_minor": 0,
  "metadata": {
    "colab": {
      "provenance": [],
      "toc_visible": true,
      "authorship_tag": "ABX9TyP4W0eKnes5b2jpAoWCgc2z",
      "include_colab_link": true
    },
    "kernelspec": {
      "name": "python3",
      "display_name": "Python 3"
    },
    "language_info": {
      "name": "python"
    }
  },
  "cells": [
    {
      "cell_type": "markdown",
      "metadata": {
        "id": "view-in-github",
        "colab_type": "text"
      },
      "source": [
        "<a href=\"https://colab.research.google.com/github/UiinKim/Crawling/blob/main/4%EA%B0%95_2_%EC%9D%B4%EB%AF%B8%EC%A7%80_%EB%8D%B0%EC%9D%B4%ED%84%B0_%EC%A6%9D%EA%B0%95_%EA%B8%B0%EB%B2%95.ipynb\" target=\"_parent\"><img src=\"https://colab.research.google.com/assets/colab-badge.svg\" alt=\"Open In Colab\"/></a>"
      ]
    },
    {
      "cell_type": "code",
      "execution_count": 102,
      "metadata": {
        "id": "FuBIi6cHbcyi"
      },
      "outputs": [],
      "source": []
    },
    {
      "cell_type": "markdown",
      "source": [
        "### **Content License Agreement**\n",
        "\n",
        "<font color='red'><b>**WARNING**</b></font> : **TBD** TBU (운영진 작성 영역)"
      ],
      "metadata": {
        "id": "ZOroX1DcV7wN"
      }
    },
    {
      "cell_type": "markdown",
      "source": [
        "### objectives\n",
        "\n",
        "1. 실습 개요\n",
        "  - 이미지 기본 기법 실습\n",
        "  - 이미지 처리 숙달\n",
        "  - 증강을 통한 데이터셋 구축\n",
        "2. 실습 진행 목적 및 배경\n",
        "  -  이미지 데이터 증강(Augmentation)은 머신러닝과 딥러닝 모델의 성능을 향상시키기 위해 원본 이미지를 변형하여 데이터셋의 다양성을 늘리는 기법입니다.\n",
        "본 실습에서는 이미지 기본 증강 기법(회전, 크기 조정, 자르기, 밝기 변화, 노이즈 추가 등)을 직접 구현하고 적용해보며, 증강된 데이터의 효과를 체험하는 것을 목표로 합니다.\n",
        "\n",
        "3. 실습 수행으로 얻어갈 수 있는 역량\n",
        "  - 이미지 증강 기법 이해 및 구현 능력\n",
        "  - OpenCV와 같은 외부 라이브러리를 통한 증강 기법 적용\n",
        "  - 증강을 통한 새로운 데이터셋 구축\n",
        "\n",
        "4. 데이터셋 개요 및 저작권 정보\n",
        "  - 데이터 :  [MNIST Dataset](https://www.kaggle.com/datasets/hojjatk/mnist-dataset)\n",
        "  - 구성:\n",
        "    - 이미지 크기: (28, 28, 3) - 3채널로 변환된 흑백 이미지\n",
        "    - 레이블: 0~9의 숫자 클래스.\n",
        "  - 컬럼명 및 설명\n",
        "    - Image: 증강된 이미지 데이터\n",
        "      - 크기: (28, 28, 3) - 3채널(RGB)로 변환된 이미지\n",
        "    - Label:이미지의 정답 레이블\n",
        "      - 값 범위: 0~9 (0부터 9까지의 숫자)\n",
        "  - 저작권 정보: MNIST는 공개 데이터셋으로, 연구 및 학습 목적으로 자유롭게 사용 가능합니다\n",
        "  - 제공처: Yann LeCun, Corinna Cortes, and Christopher J.C. Burges\n",
        "    \n",
        "\n",
        "5. 실습 핵심 내용\n",
        "  - 이미지 증강 기법 구현\n",
        "  - 증강 도구 활용\n",
        "  - 증강 전후의 데이터 비교\n",
        "  - 증강을 통한 새로운 데이터셋 생성"
      ],
      "metadata": {
        "id": "RZIePhp8nDFW"
      }
    },
    {
      "cell_type": "markdown",
      "source": [
        "### **Prerequisites**\n",
        "\n",
        "```\n",
        "cv2\n",
        "matplolib.pyplot\n",
        "numpy\n",
        "files\n",
        "```"
      ],
      "metadata": {
        "id": "1hZ07njfepij"
      }
    },
    {
      "cell_type": "markdown",
      "source": [
        "# 1. 이미지 증강을 위한 이미지 처리"
      ],
      "metadata": {
        "id": "LfDQXjKpbl29"
      }
    },
    {
      "cell_type": "markdown",
      "source": [
        "- 라이브러리 불러오기"
      ],
      "metadata": {
        "id": "2q_ZPSfvcJb7"
      }
    },
    {
      "cell_type": "code",
      "execution_count": 103,
      "metadata": {
        "id": "WPXZFxiKbMAJ"
      },
      "outputs": [],
      "source": [
        "# 필수 라이브러리 설치 및 가져오기 (Colab에서는 OpenCV와 Matplotlib 기본 설치됨)\n",
        "import cv2  # OpenCV: 이미지 처리 라이브러리\n",
        "import matplotlib.pyplot as plt  # Matplotlib: 이미지 시각화를 위한 라이브러리\n",
        "import numpy as np  # Numpy: 배열 조작 및 수학 연산을 위한 라이브러리"
      ]
    },
    {
      "cell_type": "markdown",
      "source": [
        "## 1-1. 이미지 업로드 및 읽기\n",
        "\n",
        "\n",
        "\n"
      ],
      "metadata": {
        "id": "7_iN_GiCciMr"
      }
    },
    {
      "cell_type": "markdown",
      "source": [
        "- Colab에서 이미지를 로컬에서 업로드하도록 설정\n",
        "- 이미지를 업로드 후 읽기 위한 과정\n",
        "- 본인이 원하는 이미지를 '파일선택' 버튼을 눌러 업로드한다\n",
        "- 반드시 두 개의 이미지를 한 번에 선택하여 업로드한다\n",
        "- 두 이미지의 shape이 같아야 하므로 resize 한다"
      ],
      "metadata": {
        "id": "vAywQ1l-gkpd"
      }
    },
    {
      "cell_type": "code",
      "source": [
        "# Colab에서 두 개의 이미지를 로컬에서 업로드\n",
        "print(\"두 개의 이미지를 선택하여 업로드하세요.\")\n",
        "uploaded = files.upload()  # 사용자가 로컬에서 이미지를 업로드\n",
        "uploaded_files = list(uploaded.keys())  # 업로드된 파일 이름 가져오기\n",
        "\n",
        "# 업로드된 파일 수 확인\n",
        "if len(uploaded_files) < 2:\n",
        "    raise ValueError(\"두 개의 이미지를 업로드해야 합니다. 다시 시도해주세요.\")\n",
        "\n",
        "# OpenCV로 첫 번째 이미지 읽기\n",
        "image = cv2.imread(uploaded_files[0])  # 첫 번째 파일 경로로 이미지 읽기 (BGR 형식)\n",
        "image = cv2.cvtColor(image, cv2.COLOR_BGR2RGB)  # BGR 형식을 RGB 형식으로 변환 (Matplotlib 호환)\n",
        "\n",
        "# OpenCV로 두 번째 이미지 읽기\n",
        "image2 = cv2.imread(uploaded_files[1])  # 두 번째 파일 경로로 이미지 읽기 (BGR 형식)\n",
        "image2 = cv2.cvtColor(image2, cv2.COLOR_BGR2RGB)  # BGR 형식을 RGB 형식으로 변환 (Matplotlib 호환)\n",
        "\n",
        "# 두 번째 이미지를 첫 번째 이미지와 동일한 크기로 조정\n",
        "image2 = cv2.resize(image2, (image.shape[1], image.shape[0]))  # (너비, 높이)\n",
        "\n",
        "# 두 이미지를 시각화하여 확인\n",
        "plt.figure(figsize=(12, 6))  # 시각화 크기 설정\n",
        "\n",
        "plt.subplot(1, 2, 1)  # 첫 번째 이미지 위치\n",
        "plt.imshow(image)  # 첫 번째 이미지 출력\n",
        "plt.title(\"Image 1\")  # 제목\n",
        "plt.axis(\"off\")  # 축 숨기기\n",
        "\n",
        "plt.subplot(1, 2, 2)  # 두 번째 이미지 위치\n",
        "plt.imshow(image2)  # 두 번째 이미지 출력\n",
        "plt.title(\"Image 2 (Resized)\")  # 제목\n",
        "plt.axis(\"off\")  # 축 숨기기\n",
        "\n",
        "plt.show()"
      ],
      "metadata": {
        "colab": {
          "base_uri": "https://localhost:8080/",
          "height": 0
        },
        "id": "E3BOryw8foLb",
        "outputId": "dc78c091-0ed7-4913-ea1f-d8974c368af9"
      },
      "execution_count": null,
      "outputs": [
        {
          "output_type": "stream",
          "name": "stdout",
          "text": [
            "두 개의 이미지를 선택하여 업로드하세요.\n"
          ]
        },
        {
          "output_type": "display_data",
          "data": {
            "text/plain": [
              "<IPython.core.display.HTML object>"
            ],
            "text/html": [
              "\n",
              "     <input type=\"file\" id=\"files-f2a15210-4662-445d-a7b6-84f62bf3012d\" name=\"files[]\" multiple disabled\n",
              "        style=\"border:none\" />\n",
              "     <output id=\"result-f2a15210-4662-445d-a7b6-84f62bf3012d\">\n",
              "      Upload widget is only available when the cell has been executed in the\n",
              "      current browser session. Please rerun this cell to enable.\n",
              "      </output>\n",
              "      <script>// Copyright 2017 Google LLC\n",
              "//\n",
              "// Licensed under the Apache License, Version 2.0 (the \"License\");\n",
              "// you may not use this file except in compliance with the License.\n",
              "// You may obtain a copy of the License at\n",
              "//\n",
              "//      http://www.apache.org/licenses/LICENSE-2.0\n",
              "//\n",
              "// Unless required by applicable law or agreed to in writing, software\n",
              "// distributed under the License is distributed on an \"AS IS\" BASIS,\n",
              "// WITHOUT WARRANTIES OR CONDITIONS OF ANY KIND, either express or implied.\n",
              "// See the License for the specific language governing permissions and\n",
              "// limitations under the License.\n",
              "\n",
              "/**\n",
              " * @fileoverview Helpers for google.colab Python module.\n",
              " */\n",
              "(function(scope) {\n",
              "function span(text, styleAttributes = {}) {\n",
              "  const element = document.createElement('span');\n",
              "  element.textContent = text;\n",
              "  for (const key of Object.keys(styleAttributes)) {\n",
              "    element.style[key] = styleAttributes[key];\n",
              "  }\n",
              "  return element;\n",
              "}\n",
              "\n",
              "// Max number of bytes which will be uploaded at a time.\n",
              "const MAX_PAYLOAD_SIZE = 100 * 1024;\n",
              "\n",
              "function _uploadFiles(inputId, outputId) {\n",
              "  const steps = uploadFilesStep(inputId, outputId);\n",
              "  const outputElement = document.getElementById(outputId);\n",
              "  // Cache steps on the outputElement to make it available for the next call\n",
              "  // to uploadFilesContinue from Python.\n",
              "  outputElement.steps = steps;\n",
              "\n",
              "  return _uploadFilesContinue(outputId);\n",
              "}\n",
              "\n",
              "// This is roughly an async generator (not supported in the browser yet),\n",
              "// where there are multiple asynchronous steps and the Python side is going\n",
              "// to poll for completion of each step.\n",
              "// This uses a Promise to block the python side on completion of each step,\n",
              "// then passes the result of the previous step as the input to the next step.\n",
              "function _uploadFilesContinue(outputId) {\n",
              "  const outputElement = document.getElementById(outputId);\n",
              "  const steps = outputElement.steps;\n",
              "\n",
              "  const next = steps.next(outputElement.lastPromiseValue);\n",
              "  return Promise.resolve(next.value.promise).then((value) => {\n",
              "    // Cache the last promise value to make it available to the next\n",
              "    // step of the generator.\n",
              "    outputElement.lastPromiseValue = value;\n",
              "    return next.value.response;\n",
              "  });\n",
              "}\n",
              "\n",
              "/**\n",
              " * Generator function which is called between each async step of the upload\n",
              " * process.\n",
              " * @param {string} inputId Element ID of the input file picker element.\n",
              " * @param {string} outputId Element ID of the output display.\n",
              " * @return {!Iterable<!Object>} Iterable of next steps.\n",
              " */\n",
              "function* uploadFilesStep(inputId, outputId) {\n",
              "  const inputElement = document.getElementById(inputId);\n",
              "  inputElement.disabled = false;\n",
              "\n",
              "  const outputElement = document.getElementById(outputId);\n",
              "  outputElement.innerHTML = '';\n",
              "\n",
              "  const pickedPromise = new Promise((resolve) => {\n",
              "    inputElement.addEventListener('change', (e) => {\n",
              "      resolve(e.target.files);\n",
              "    });\n",
              "  });\n",
              "\n",
              "  const cancel = document.createElement('button');\n",
              "  inputElement.parentElement.appendChild(cancel);\n",
              "  cancel.textContent = 'Cancel upload';\n",
              "  const cancelPromise = new Promise((resolve) => {\n",
              "    cancel.onclick = () => {\n",
              "      resolve(null);\n",
              "    };\n",
              "  });\n",
              "\n",
              "  // Wait for the user to pick the files.\n",
              "  const files = yield {\n",
              "    promise: Promise.race([pickedPromise, cancelPromise]),\n",
              "    response: {\n",
              "      action: 'starting',\n",
              "    }\n",
              "  };\n",
              "\n",
              "  cancel.remove();\n",
              "\n",
              "  // Disable the input element since further picks are not allowed.\n",
              "  inputElement.disabled = true;\n",
              "\n",
              "  if (!files) {\n",
              "    return {\n",
              "      response: {\n",
              "        action: 'complete',\n",
              "      }\n",
              "    };\n",
              "  }\n",
              "\n",
              "  for (const file of files) {\n",
              "    const li = document.createElement('li');\n",
              "    li.append(span(file.name, {fontWeight: 'bold'}));\n",
              "    li.append(span(\n",
              "        `(${file.type || 'n/a'}) - ${file.size} bytes, ` +\n",
              "        `last modified: ${\n",
              "            file.lastModifiedDate ? file.lastModifiedDate.toLocaleDateString() :\n",
              "                                    'n/a'} - `));\n",
              "    const percent = span('0% done');\n",
              "    li.appendChild(percent);\n",
              "\n",
              "    outputElement.appendChild(li);\n",
              "\n",
              "    const fileDataPromise = new Promise((resolve) => {\n",
              "      const reader = new FileReader();\n",
              "      reader.onload = (e) => {\n",
              "        resolve(e.target.result);\n",
              "      };\n",
              "      reader.readAsArrayBuffer(file);\n",
              "    });\n",
              "    // Wait for the data to be ready.\n",
              "    let fileData = yield {\n",
              "      promise: fileDataPromise,\n",
              "      response: {\n",
              "        action: 'continue',\n",
              "      }\n",
              "    };\n",
              "\n",
              "    // Use a chunked sending to avoid message size limits. See b/62115660.\n",
              "    let position = 0;\n",
              "    do {\n",
              "      const length = Math.min(fileData.byteLength - position, MAX_PAYLOAD_SIZE);\n",
              "      const chunk = new Uint8Array(fileData, position, length);\n",
              "      position += length;\n",
              "\n",
              "      const base64 = btoa(String.fromCharCode.apply(null, chunk));\n",
              "      yield {\n",
              "        response: {\n",
              "          action: 'append',\n",
              "          file: file.name,\n",
              "          data: base64,\n",
              "        },\n",
              "      };\n",
              "\n",
              "      let percentDone = fileData.byteLength === 0 ?\n",
              "          100 :\n",
              "          Math.round((position / fileData.byteLength) * 100);\n",
              "      percent.textContent = `${percentDone}% done`;\n",
              "\n",
              "    } while (position < fileData.byteLength);\n",
              "  }\n",
              "\n",
              "  // All done.\n",
              "  yield {\n",
              "    response: {\n",
              "      action: 'complete',\n",
              "    }\n",
              "  };\n",
              "}\n",
              "\n",
              "scope.google = scope.google || {};\n",
              "scope.google.colab = scope.google.colab || {};\n",
              "scope.google.colab._files = {\n",
              "  _uploadFiles,\n",
              "  _uploadFilesContinue,\n",
              "};\n",
              "})(self);\n",
              "</script> "
            ]
          },
          "metadata": {}
        }
      ]
    },
    {
      "cell_type": "markdown",
      "source": [
        "## 1-2. 이미지 시각화 함수 정의"
      ],
      "metadata": {
        "id": "ZUl7623LsAmO"
      }
    },
    {
      "cell_type": "markdown",
      "source": [
        "- 눈으로 직접 확인을 위해 각 이미지들이 증강 기법마다 시각화 함수가 적용될 수 있도록 미리 정의한다"
      ],
      "metadata": {
        "id": "CgjVz6d3hq9j"
      }
    },
    {
      "cell_type": "code",
      "source": [
        "#이미지 시각화 함수 정의\n",
        "def show_images(images, titles, cols=3):\n",
        "    \"\"\"\n",
        "    여러 이미지를 한 번에 시각화하기 위한 함수\n",
        "    :param images: 이미지 목록 (리스트 형태)\n",
        "    :param titles: 각 이미지의 제목 (리스트 형태)\n",
        "    :param cols: 한 행에 표시할 이미지 개수 (기본값 3)\n",
        "    \"\"\"\n",
        "    plt.figure(figsize=(15, 5))  # 전체 시각화 크기 설정\n",
        "    for i, (img, title) in enumerate(zip(images, titles)):  # 이미지와 제목을 순회\n",
        "        plt.subplot(1, len(images), i + 1)  # 각 이미지를 나란히 배치\n",
        "        plt.imshow(img)  # 이미지 출력\n",
        "        plt.title(title)  # 각 이미지에 제목 추가\n",
        "        plt.axis(\"off\")  # 축 표시 비활성화\n",
        "        print(f\"{title} - Shape: {img.shape}\")\n",
        "    plt.show()  # 시각화 결과 표시\n"
      ],
      "metadata": {
        "id": "MWdIOjUQfyxx"
      },
      "execution_count": null,
      "outputs": []
    },
    {
      "cell_type": "markdown",
      "source": [
        "# 2. 이미지 기본 증강 기법\n"
      ],
      "metadata": {
        "id": "fpvCuBSj0H_L"
      }
    },
    {
      "cell_type": "markdown",
      "source": [
        "- 13가지의 이미지 기본 증강 기법을 실습한다"
      ],
      "metadata": {
        "id": "MUWappmmwqjq"
      }
    },
    {
      "cell_type": "markdown",
      "source": [
        "## 2-1. Flipping (뒤집기)"
      ],
      "metadata": {
        "id": "hWkEUeF2h-Tm"
      }
    },
    {
      "cell_type": "code",
      "source": [
        "# Flipping (뒤집기) 적용\n",
        "\n",
        "# 수평 뒤집기: 이미지를 좌우로 반전\n",
        "horizontal_flip = cv2.flip(image, 1)  # cv2.flip(image, 1)에서 1은 수평 반전을 의미\n",
        "\n",
        "# 수직 뒤집기: 이미지를 위아래로 반전\n",
        "vertical_flip = cv2.flip(image, 0)  # cv2.flip(image, 0)에서 0은 수직 반전을 의미\n",
        "\n",
        "# 상하좌우 뒤집기: 이미지를 상하좌우로 모두 반전\n",
        "diagonal_flip = cv2.flip(image, -1)  # cv2.flip(image, -1)에서 -1은 상하좌우 반전을 의미\n",
        "\n",
        "# 변환된 이미지와 원본 이미지 시각화\n",
        "titles = ['Original', 'Horizontal Flip', 'Vertical Flip', 'Diagonal Flip']  # 각 이미지 제목 정의\n",
        "images = [image, horizontal_flip, vertical_flip, diagonal_flip]  # 이미지 목록 정의\n",
        "\n",
        "show_images(images, titles)  # 시각화 함수 호출하여 이미지와 제목 출력"
      ],
      "metadata": {
        "id": "DvxAdCaN-6le"
      },
      "execution_count": null,
      "outputs": []
    },
    {
      "cell_type": "markdown",
      "source": [
        "## 2-2. Rotation (회전)\n",
        "- 회전에 의해 생기는 빈 공간은 검정색으로 표현된다"
      ],
      "metadata": {
        "id": "nojb9L2S-X3e"
      }
    },
    {
      "cell_type": "code",
      "source": [
        "# 회전 함수 정의\n",
        "def rotate_image(image, angle):\n",
        "    \"\"\"\n",
        "    이미지를 특정 각도로 회전\n",
        "    :param image: 입력 이미지 (numpy 배열)\n",
        "    :param angle: 회전 각도 (양수: 시계 방향, 음수: 반시계 방향)\n",
        "    :return: 회전된 이미지\n",
        "    \"\"\"\n",
        "    h, w = image.shape[:2]  # 이미지의 높이와 너비 가져오기\n",
        "    center = (w // 2, h // 2)  # 이미지 중심 계산\n",
        "    rotation_matrix = cv2.getRotationMatrix2D(center, angle, 1.0)  # 회전 행렬 생성\n",
        "    rotated_image = cv2.warpAffine(image, rotation_matrix, (w, h))  # 회전 적용\n",
        "    return rotated_image"
      ],
      "metadata": {
        "id": "qIjTmJpVyUIo"
      },
      "execution_count": null,
      "outputs": []
    },
    {
      "cell_type": "code",
      "source": [
        "# 다양한 각도로 회전 적용\n",
        "rotated_45 = rotate_image(image, 45)  # 45도 시계 방향 회전\n",
        "rotated_minus45 = rotate_image(image, -45)  # 45도 반시계 방향 회전\n",
        "rotated_90 = rotate_image(image, 90)  # 90도 시계 방향 회전\n",
        "rotated_180 = rotate_image(image, 180)  # 180도 회전\n",
        "\n",
        "# 원본 이미지와 회전된 이미지 시각화\n",
        "titles = ['Original', '45° Clockwise', '45° Counterclockwise', '90° Clockwise', '180° Rotation']\n",
        "images = [image, rotated_45, rotated_minus45, rotated_90, rotated_180]\n",
        "\n",
        "show_images(images, titles)\n"
      ],
      "metadata": {
        "id": "VajSLJi0qcro"
      },
      "execution_count": null,
      "outputs": []
    },
    {
      "cell_type": "markdown",
      "source": [
        "## 2-3. Scaling (확대 및 축소)"
      ],
      "metadata": {
        "id": "I90pg7h8-b7K"
      }
    },
    {
      "cell_type": "markdown",
      "source": [
        "- matplotlib의 한계로 사이즈는 print 된 사이즈를 통해 확인할 수 있다"
      ],
      "metadata": {
        "id": "Cbgw77uar88A"
      }
    },
    {
      "cell_type": "code",
      "source": [
        "# Scaling (확대 및 축소)\n",
        "def scale_image(image, fx, fy):\n",
        "    \"\"\"\n",
        "    이미지를 주어진 비율로 확대 또는 축소\n",
        "    :param image: 입력 이미지 (numpy 배열)\n",
        "    :param fx: 가로 방향 스케일링 비율\n",
        "    :param fy: 세로 방향 스케일링 비율\n",
        "    :return: 크기 조정된 이미지\n",
        "    \"\"\"\n",
        "    scaled_image = cv2.resize(image, None, fx=fx, fy=fy, interpolation=cv2.INTER_LINEAR)\n",
        "    return scaled_image"
      ],
      "metadata": {
        "id": "0y-edztNzicS"
      },
      "execution_count": null,
      "outputs": []
    },
    {
      "cell_type": "code",
      "source": [
        "# 2배 확대와 0.5배 축소 적용\n",
        "scaled_up = scale_image(image, 2.0, 2.0)  # 2배 확대\n",
        "scaled_down = scale_image(image, 0.5, 0.5)  # 0.5배 축소\n",
        "\n",
        "# 시각화 호출\n",
        "titles = ['Original', 'Scaled Up (2x)', 'Scaled Down (0.5x)']\n",
        "images = [image, scaled_up, scaled_down]\n",
        "show_images(images, titles)"
      ],
      "metadata": {
        "id": "wCEvLACkqaFH"
      },
      "execution_count": null,
      "outputs": []
    },
    {
      "cell_type": "markdown",
      "source": [
        "## 2-4. Translation (이동)\n",
        "- 회전과 마찬가지로 빈 공간은 검정색으로 표현된다"
      ],
      "metadata": {
        "id": "SUl3S9Cf-hVX"
      }
    },
    {
      "cell_type": "code",
      "source": [
        "# Translation (이동)\n",
        "def translate_image(image, tx, ty):\n",
        "    \"\"\"\n",
        "    이미지를 주어진 거리만큼 이동\n",
        "    :param image: 입력 이미지 (numpy 배열)\n",
        "    :param tx: 가로 방향 이동 거리\n",
        "    :param ty: 세로 방향 이동 거리\n",
        "    :return: 이동된 이미지\n",
        "    \"\"\"\n",
        "    h, w = image.shape[:2]\n",
        "    translation_matrix = np.float32([[1, 0, tx], [0, 1, ty]])\n",
        "    translated_image = cv2.warpAffine(image, translation_matrix, (w, h))\n",
        "    return translated_image"
      ],
      "metadata": {
        "id": "ITTxREpZ7jHT"
      },
      "execution_count": null,
      "outputs": []
    },
    {
      "cell_type": "code",
      "source": [
        "# 수평 이동 및 수직 이동 적용\n",
        "translated_horizontally = translate_image(image, 50, 0)  # 오른쪽으로 50픽셀 이동\n",
        "translated_vertically = translate_image(image, 0, 50)  # 아래로 50픽셀 이동\n",
        "\n",
        "# 시각화\n",
        "titles = ['Original', 'Translated Horizontally', 'Translated Vertically']\n",
        "images = [image, translated_horizontally, translated_vertically]\n",
        "show_images(images, titles)"
      ],
      "metadata": {
        "id": "CBRYvKWmqWXO"
      },
      "execution_count": null,
      "outputs": []
    },
    {
      "cell_type": "markdown",
      "source": [
        "## 2-5. Color Space (색상 변환)"
      ],
      "metadata": {
        "id": "QKvSxP6yjkYh"
      }
    },
    {
      "cell_type": "code",
      "source": [
        "# Color Space (색상 변환)\n",
        "# RGB → Grayscale 변환\n",
        "gray_image = cv2.cvtColor(image, cv2.COLOR_RGB2GRAY)\n",
        "\n",
        "# RGB → HSV 변환\n",
        "hsv_image = cv2.cvtColor(image, cv2.COLOR_RGB2HSV)\n",
        "\n",
        "# 시각화\n",
        "titles = ['Original', 'Grayscale', 'HSV']\n",
        "images = [image, gray_image, hsv_image]\n",
        "show_images(images, titles)"
      ],
      "metadata": {
        "id": "d-FEMCaDjkYh"
      },
      "execution_count": null,
      "outputs": []
    },
    {
      "cell_type": "code",
      "source": [],
      "metadata": {
        "id": "g2yd3Ziijtpe"
      },
      "execution_count": null,
      "outputs": []
    },
    {
      "cell_type": "markdown",
      "source": [
        "## 2-6. Contrast (대비 조정)"
      ],
      "metadata": {
        "id": "gEZR72Ypjxi9"
      }
    },
    {
      "cell_type": "code",
      "source": [
        "# Contrast (대비 조정)\n",
        "def adjust_contrast(image, alpha):\n",
        "    \"\"\"\n",
        "    이미지 대비를 조정\n",
        "    :param image: 입력 이미지 (numpy 배열)\n",
        "    :param alpha: 대비 조정 계수 (1.0: 원본, >1.0: 대비 증가, <1.0: 대비 감소)\n",
        "    :return: 대비 조정된 이미지\n",
        "    \"\"\"\n",
        "    adjusted_image = cv2.convertScaleAbs(image, alpha=alpha, beta=0)\n",
        "    return adjusted_image"
      ],
      "metadata": {
        "id": "pMVL2kS-jxi9"
      },
      "execution_count": null,
      "outputs": []
    },
    {
      "cell_type": "code",
      "source": [
        "# 대비 조정 적용\n",
        "increased_contrast = adjust_contrast(image, 1.5)  # 대비 증가\n",
        "decreased_contrast = adjust_contrast(image, 0.5)  # 대비 감소\n",
        "\n",
        "# 시각화\n",
        "titles = ['Original', 'Increased Contrast', 'Decreased Contrast']\n",
        "images = [image, increased_contrast, decreased_contrast]\n",
        "show_images(images, titles)"
      ],
      "metadata": {
        "id": "Ut6b9cpmjxi9"
      },
      "execution_count": null,
      "outputs": []
    },
    {
      "cell_type": "markdown",
      "source": [
        "## 2-7. Sharpening (선명도 조정)"
      ],
      "metadata": {
        "id": "mQut1hmbjyD9"
      }
    },
    {
      "cell_type": "code",
      "source": [
        "# Sharpening (선명도 조정)\n",
        "def sharpen_image(image):\n",
        "    \"\"\"\n",
        "    이미지를 선명하게 처리\n",
        "    :param image: 입력 이미지 (numpy 배열)\n",
        "    :return: 선명도 조정된 이미지\n",
        "    \"\"\"\n",
        "    kernel = np.array([[0, -1, 0], [-1, 5, -1], [0, -1, 0]])  # 선명도를 높이는 커널\n",
        "    sharpened_image = cv2.filter2D(image, -1, kernel)\n",
        "    return sharpened_image"
      ],
      "metadata": {
        "id": "965UCJOtjyD-"
      },
      "execution_count": null,
      "outputs": []
    },
    {
      "cell_type": "code",
      "source": [
        "# 선명도 조정 적용\n",
        "sharpened_image = sharpen_image(image)\n",
        "\n",
        "# 시각화\n",
        "titles = ['Original', 'Sharpened']\n",
        "images = [image, sharpened_image]\n",
        "show_images(images, titles)"
      ],
      "metadata": {
        "id": "2kTJNw9SjyD-"
      },
      "execution_count": null,
      "outputs": []
    },
    {
      "cell_type": "markdown",
      "source": [
        "## 2-8. Noise Injection (노이즈 추가)"
      ],
      "metadata": {
        "id": "PqJ30qr_j0At"
      }
    },
    {
      "cell_type": "code",
      "source": [
        "# Noise Injection (노이즈 추가)\n",
        "def add_noise(image):\n",
        "    \"\"\"\n",
        "    이미지에 가우시안 노이즈 추가\n",
        "    :param image: 입력 이미지 (numpy 배열)\n",
        "    :return: 노이즈가 추가된 이미지\n",
        "    \"\"\"\n",
        "    noise = np.random.normal(0, 25, image.shape).astype(np.uint8)  # 가우시안 노이즈 생성\n",
        "    noisy_image = cv2.add(image, noise)  # 원본 이미지에 노이즈 추가\n",
        "    return noisy_image"
      ],
      "metadata": {
        "id": "kdjarfiVj0At"
      },
      "execution_count": null,
      "outputs": []
    },
    {
      "cell_type": "code",
      "source": [
        "# 노이즈 추가 적용\n",
        "noisy_image = add_noise(image)\n",
        "\n",
        "# 시각화\n",
        "titles = ['Original', 'Noisy']\n",
        "images = [image, noisy_image]\n",
        "show_images(images, titles)"
      ],
      "metadata": {
        "id": "iXAx9Xx-j0At"
      },
      "execution_count": null,
      "outputs": []
    },
    {
      "cell_type": "markdown",
      "source": [
        "## 2-9. Cropping (잘라내기)"
      ],
      "metadata": {
        "id": "KnNmVp8Gj0Y9"
      }
    },
    {
      "cell_type": "code",
      "source": [
        "# Cropping (잘라내기)\n",
        "def crop_image(image, x, y, width, height):\n",
        "    \"\"\"\n",
        "    이미지를 특정 영역으로 잘라내기\n",
        "    :param image: 입력 이미지 (numpy 배열)\n",
        "    :param x: 잘라낼 시작 x좌표\n",
        "    :param y: 잘라낼 시작 y좌표\n",
        "    :param width: 잘라낼 영역의 너비\n",
        "    :param height: 잘라낼 영역의 높이\n",
        "    :return: 잘라낸 이미지\n",
        "    \"\"\"\n",
        "    cropped_image = image[y:y+height, x:x+width]\n",
        "    return cropped_image"
      ],
      "metadata": {
        "id": "-s3w-N6kj0Y9"
      },
      "execution_count": null,
      "outputs": []
    },
    {
      "cell_type": "code",
      "source": [
        "# 이미지 잘라내기 적용\n",
        "cropped_image = crop_image(image, 50, 50, 200, 200)  # (50, 50)에서 시작해 200x200 영역 추출\n",
        "\n",
        "# 시각화\n",
        "titles = ['Original', 'Cropped']\n",
        "images = [image, cropped_image]\n",
        "show_images(images, titles)"
      ],
      "metadata": {
        "id": "jj0y4uKzj0Y-"
      },
      "execution_count": null,
      "outputs": []
    },
    {
      "cell_type": "markdown",
      "source": [
        "## 2-10. Cutout"
      ],
      "metadata": {
        "id": "Yh9uXmvAj0tl"
      }
    },
    {
      "cell_type": "code",
      "source": [
        "# Cutout 구현\n",
        "def apply_cutout(image, mask_size):\n",
        "    \"\"\"\n",
        "    Cutout: 이미지 일부 영역 삭제\n",
        "    :param image: 입력 이미지\n",
        "    :param mask_size: 삭제할 영역의 크기\n",
        "    :return: 삭제된 이미지\n",
        "    \"\"\"\n",
        "    h, w, _ = image.shape\n",
        "    mask_size_half = mask_size // 2\n",
        "    cx = np.random.randint(mask_size_half, w - mask_size_half)\n",
        "    cy = np.random.randint(mask_size_half, h - mask_size_half)\n",
        "\n",
        "    x1 = max(0, cx - mask_size_half)\n",
        "    y1 = max(0, cy - mask_size_half)\n",
        "    x2 = min(w, cx + mask_size_half)\n",
        "    y2 = min(h, cy + mask_size_half)\n",
        "\n",
        "    image_copy = image.copy()\n",
        "    image_copy[y1:y2, x1:x2] = 0  # 삭제된 영역을 검정색으로 채움\n",
        "    return image_copy"
      ],
      "metadata": {
        "id": "f5eNbfOlj0tl"
      },
      "execution_count": null,
      "outputs": []
    },
    {
      "cell_type": "code",
      "source": [
        "# Cutout 적용\n",
        "cutout_image = apply_cutout(image, mask_size=100)\n",
        "\n",
        "# 시각화\n",
        "titles = ['Original', 'Cutout']\n",
        "images = [image, cutout_image]\n",
        "show_images(images, titles)\n"
      ],
      "metadata": {
        "id": "a6Y9aA-Zj0tm"
      },
      "execution_count": null,
      "outputs": []
    },
    {
      "cell_type": "markdown",
      "source": [
        "## 2-11. Random Erasing\n",
        "- 어느 부분이 지워지는지 확인해보자"
      ],
      "metadata": {
        "id": "FaCpnzRmj1Bl"
      }
    },
    {
      "cell_type": "code",
      "source": [
        "# Random Erasing 구현\n",
        "def apply_random_erasing(image, max_size):\n",
        "    \"\"\"\n",
        "    Random Erasing: 이미지 랜덤 영역 삭제\n",
        "    :param image: 입력 이미지\n",
        "    :param max_size: 삭제 영역의 최대 크기\n",
        "    :return: 삭제된 이미지\n",
        "    \"\"\"\n",
        "    h, w, _ = image.shape\n",
        "    erase_h = np.random.randint(1, max_size)\n",
        "    erase_w = np.random.randint(1, max_size)\n",
        "\n",
        "    x1 = np.random.randint(0, w - erase_w)\n",
        "    y1 = np.random.randint(0, h - erase_h)\n",
        "\n",
        "    image_copy = image.copy()\n",
        "    image_copy[y1:y1+erase_h, x1:x1+erase_w] = 0  # 삭제된 영역을 검정색으로 채움\n",
        "    return image_copy"
      ],
      "metadata": {
        "id": "eBf2BwUbj1Bl"
      },
      "execution_count": null,
      "outputs": []
    },
    {
      "cell_type": "code",
      "source": [
        "# Random Erasing 적용\n",
        "random_erased_image = apply_random_erasing(image, max_size=100)\n",
        "\n",
        "# 시각화\n",
        "titles = ['Original', 'Random Erasing']\n",
        "images = [image, random_erased_image]\n",
        "show_images(images, titles)"
      ],
      "metadata": {
        "id": "pI3p9BYikvbn"
      },
      "execution_count": null,
      "outputs": []
    },
    {
      "cell_type": "markdown",
      "source": [
        "## 2-12. Mixup\n",
        "- 이미지를 섞기 위해서는 2개의 다른 이미지가 필요하다\n",
        "- 미리 업로드 및 이미지 처리를 해놓은 image2를 사용한다"
      ],
      "metadata": {
        "id": "nLhg_vLTj2HN"
      }
    },
    {
      "cell_type": "markdown",
      "source": [
        "- Mixup 비율에 따라 섞인 이미지를 확인한다\n",
        "- 비율이 커질수록 첫번째 이미지의 비중이 커진다"
      ],
      "metadata": {
        "id": "o4ZOJmBhmX2i"
      }
    },
    {
      "cell_type": "code",
      "source": [
        "# Mixup 함수\n",
        "def apply_mixup(image1, image2, lambda_):\n",
        "    \"\"\"\n",
        "    Mixup: 두 이미지를 혼합\n",
        "    :param image1: 첫 번째 이미지\n",
        "    :param image2: 두 번째 이미지\n",
        "    :param lambda_: 혼합 비율 (0~1 사이 값)\n",
        "    :return: 혼합된 이미지\n",
        "    \"\"\"\n",
        "    mixed_image = (lambda_ * image1 + (1 - lambda_) * image2).astype(np.uint8)\n",
        "    return mixed_image"
      ],
      "metadata": {
        "id": "qL4fdTkdj2HO"
      },
      "execution_count": null,
      "outputs": []
    },
    {
      "cell_type": "code",
      "source": [
        "# Mixup 비율 고정 및 비교\n",
        "lambdas = [0.2, 0.5, 0.8]  # 원하는 Mixup 비율 리스트\n",
        "mixup_images = [apply_mixup(image, image2, lambda_) for lambda_ in lambdas]\n",
        "\n",
        "# 시각화\n",
        "titles = ['Original Image 1', 'Original Image 2'] + [f'Mixup λ={lambda_:.1f}' for lambda_ in lambdas]\n",
        "images = [image, image2] + mixup_images\n",
        "show_images(images, titles)"
      ],
      "metadata": {
        "id": "VP5WnNtepjk7"
      },
      "execution_count": null,
      "outputs": []
    },
    {
      "cell_type": "markdown",
      "source": [
        "## 2-13. CutMix"
      ],
      "metadata": {
        "id": "TDrWnthYj2Ul"
      }
    },
    {
      "cell_type": "markdown",
      "source": [
        "- mask에 따라 섞이는 비율이 달라진다\n",
        "- mask_size가 클수록 더 큰 영역이 섞인다"
      ],
      "metadata": {
        "id": "mYVGLHdRpPg6"
      }
    },
    {
      "cell_type": "code",
      "source": [
        "# CutMix 함수 정의\n",
        "def apply_cutmix(image1, image2, mask_size):\n",
        "    \"\"\"\n",
        "    CutMix: 첫 번째 이미지의 일부 영역을 잘라내고, 두 번째 이미지 삽입\n",
        "    :param image1: 첫 번째 이미지 (배경 이미지)\n",
        "    :param image2: 두 번째 이미지 (삽입할 이미지)\n",
        "    :param mask_size: 잘라낼 영역의 크기 (정사각형 마스크의 한 변 길이)\n",
        "    :return: 혼합된 이미지\n",
        "    \"\"\"\n",
        "    # 이미지 크기 가져오기\n",
        "    h, w, _ = image1.shape  # 이미지의 높이(h), 너비(w), 채널(_) 정보 추출\n",
        "\n",
        "    # 마스크 크기의 절반 계산 (중심 좌표 기준으로 영역 결정)\n",
        "    mask_size_half = mask_size // 2\n",
        "\n",
        "    # 잘라낼 영역의 중심 좌표(cx, cy)를 랜덤으로 선택 (가장자리 제외)\n",
        "    cx = np.random.randint(mask_size_half, w - mask_size_half)  # 중심 x좌표\n",
        "    cy = np.random.randint(mask_size_half, h - mask_size_half)  # 중심 y좌표\n",
        "\n",
        "    # 잘라낼 사각형 영역의 좌상단(x1, y1)과 우하단(x2, y2) 좌표 계산\n",
        "    x1 = max(0, cx - mask_size_half)  # 좌상단 x좌표 (0보다 작지 않게 처리)\n",
        "    y1 = max(0, cy - mask_size_half)  # 좌상단 y좌표 (0보다 작지 않게 처리)\n",
        "    x2 = min(w, cx + mask_size_half)  # 우하단 x좌표 (이미지 너비를 넘지 않게 처리)\n",
        "    y2 = min(h, cy + mask_size_half)  # 우하단 y좌표 (이미지 높이를 넘지 않게 처리)\n",
        "\n",
        "    # 첫 번째 이미지를 복사하고, 해당 영역에 두 번째 이미지 삽입\n",
        "    mixed_image = image1.copy()  # 원본 이미지를 복사 (변형 방지)\n",
        "    mixed_image[y1:y2, x1:x2] = image2[y1:y2, x1:x2]  # 두 번째 이미지의 해당 영역 삽입\n",
        "\n",
        "    return mixed_image  # 혼합된 이미지 반환\n"
      ],
      "metadata": {
        "id": "zAKGGcTIj2Ul"
      },
      "execution_count": null,
      "outputs": []
    },
    {
      "cell_type": "code",
      "source": [
        "# 다양한 mask_size 비율 적용\n",
        "mask_sizes = [50, 100, 200]  # 마스크 크기 리스트 (작을수록 작은 영역, 클수록 큰 영역)\n",
        "cutmix_images = [apply_cutmix(image, image2, mask_size) for mask_size in mask_sizes]\n",
        "\n",
        "# 시각화\n",
        "titles = ['Original Image 1', 'Original Image 2'] + [f'CutMix (mask_size={ms})' for ms in mask_sizes]\n",
        "images = [image, image2] + cutmix_images\n",
        "show_images(images, titles)\n"
      ],
      "metadata": {
        "id": "a6kjoMbxj2Um"
      },
      "execution_count": null,
      "outputs": []
    },
    {
      "cell_type": "code",
      "source": [],
      "metadata": {
        "id": "-PZmW3Obj2hR"
      },
      "execution_count": null,
      "outputs": []
    },
    {
      "cell_type": "markdown",
      "source": [
        "# 3. 새로운 데이터셋 생성"
      ],
      "metadata": {
        "id": "Gi-BB6qAtEnI"
      }
    },
    {
      "cell_type": "markdown",
      "source": [
        "- MNIST 데이터셋을 불러와 회전, 이동, 스케일링, 플립 등 기본 증강 기법을 적용하여 새로운 데이터셋을 생성한다"
      ],
      "metadata": {
        "id": "pv_LwVxdtEnJ"
      }
    },
    {
      "cell_type": "markdown",
      "source": [
        "## 3-1. 데이터 로드"
      ],
      "metadata": {
        "id": "1SDg-w0ZtEnJ"
      }
    },
    {
      "cell_type": "markdown",
      "source": [
        "- 필요한 라이브러리들을 불러온다"
      ],
      "metadata": {
        "id": "n3uFNY0GteRo"
      }
    },
    {
      "cell_type": "code",
      "source": [
        "!pip install tensorflow"
      ],
      "metadata": {
        "id": "zUFq2Rr1thpS"
      },
      "execution_count": null,
      "outputs": []
    },
    {
      "cell_type": "code",
      "source": [
        "import numpy as np\n",
        "import tensorflow as tf\n",
        "import matplotlib.pyplot as plt\n",
        "import cv2\n",
        "from tensorflow.keras.datasets import mnist"
      ],
      "metadata": {
        "id": "tHQcMzmRtEnJ"
      },
      "execution_count": null,
      "outputs": []
    },
    {
      "cell_type": "markdown",
      "source": [
        "- mnist.load_data(): MNIST 데이터셋을 로드합니다.\n",
        "  - 반환값: (x_train, y_train)과 (x_test, y_test)로 구성된 훈련 데이터셋과 테스트 데이터셋.\n",
        "- x_train, x_test:이미지 데이터 (픽셀 값 0~255).\n",
        "  - 크기: (60000, 28, 28) (28x28 크기의 흑백 이미지 60,000개).\n",
        "- y_train, y_test:레이블 데이터 (클래스 값 0~9, 각 숫자에 대한 정답).\n",
        "  - 크기: (60000,)."
      ],
      "metadata": {
        "id": "Up6YoeTJv5vh"
      }
    },
    {
      "cell_type": "code",
      "source": [
        "# 데이터셋 로드 (MNIST)\n",
        "(x_train, y_train), (x_test, y_test) = mnist.load_data()\n",
        "\n",
        "# MNIST 데이터는 흑백(1채널) 이미지로 (28, 28) 크기이며, 이를 3채널로 확장\n",
        "x_train = np.expand_dims(x_train, axis=-1)\n",
        "x_train = np.repeat(x_train, 3, axis=-1)  # 1채널 -> 3채널\n",
        "x_test = np.expand_dims(x_test, axis=-1)\n",
        "x_test = np.repeat(x_test, 3, axis=-1)"
      ],
      "metadata": {
        "id": "dGb0niLBtmfX"
      },
      "execution_count": null,
      "outputs": []
    },
    {
      "cell_type": "markdown",
      "source": [
        "- 전체 변환 과정 요약\n",
        "  - 원본 크기:\n",
        "\n",
        "    - 훈련 데이터: (60000, 28, 28) (흑백 1채널).\n",
        "    - 테스트 데이터: (10000, 28, 28).\n",
        "  - 확장 과정:\n",
        "\n",
        "    - np.expand_dims로 채널 차원 추가 → (60000, 28, 28, 1), (10000, 28, 28, 1).\n",
        "    - np.repeat로 1채널 → 3채널 변환 → (60000, 28, 28, 3), (10000, 28, 28, 3).\n",
        "  - 최종 크기:\n",
        "\n",
        "    - 훈련 데이터: (60000, 28, 28, 3) (3채널 RGB).\n",
        "    - 테스트 데이터: (10000, 28, 28, 3)."
      ],
      "metadata": {
        "id": "rbekLSHhwNdn"
      }
    },
    {
      "cell_type": "markdown",
      "source": [
        "## 3-2. 데이터 증강 함수 정의"
      ],
      "metadata": {
        "id": "ZEAgSpm5tEnK"
      }
    },
    {
      "cell_type": "markdown",
      "source": [
        "- rotate_image: 이미지를 주어진 각도로 회전.\n",
        "- translate_image: 이미지를 지정된 x, y 거리만큼 이동.\n",
        "- scale_image: 이미지를 확대 또는 축소.\n",
        "- flip_image: 이미지를 좌우 반전."
      ],
      "metadata": {
        "id": "5Ij8wMsVwbl6"
      }
    },
    {
      "cell_type": "code",
      "source": [
        "# 데이터 증강 함수들\n",
        "def rotate_image(image, angle):\n",
        "    \"\"\"이미지를 주어진 각도로 회전\"\"\"\n",
        "    h, w = image.shape[:2]  # 이미지의 높이(h), 너비(w) 가져오기\n",
        "    center = (w // 2, h // 2)  # 회전 중심 좌표 (이미지의 중심점)\n",
        "    rotation_matrix = cv2.getRotationMatrix2D(center, angle, 1.0)  # 회전 변환 행렬 생성\n",
        "    rotated_image = cv2.warpAffine(image, rotation_matrix, (w, h))  # 회전 행렬을 적용하여 이미지 변환\n",
        "    return rotated_image  # 회전된 이미지 반환\n",
        "\n",
        "def translate_image(image, tx, ty):\n",
        "    \"\"\"이미지를 주어진 x, y 방향으로 이동\"\"\"\n",
        "    h, w = image.shape[:2]  # 이미지의 높이(h), 너비(w) 가져오기\n",
        "    translation_matrix = np.float32([[1, 0, tx], [0, 1, ty]])  # x, y 이동량에 따른 변환 행렬\n",
        "    translated_image = cv2.warpAffine(image, translation_matrix, (w, h))  # 이동 변환 적용\n",
        "    return translated_image  # 이동된 이미지 반환\n",
        "\n",
        "def scale_image(image, fx, fy):\n",
        "    \"\"\"이미지를 주어진 비율로 확대 또는 축소\"\"\"\n",
        "    scaled_image = cv2.resize(image, None, fx=fx, fy=fy, interpolation=cv2.INTER_LINEAR)  # 크기 조정\n",
        "    return scaled_image  # 크기 조정된 이미지 반환\n",
        "\n",
        "def flip_image(image):\n",
        "    \"\"\"이미지를 좌우 반전\"\"\"\n",
        "    return cv2.flip(image, 1)  # 좌우 반전된 이미지 반환"
      ],
      "metadata": {
        "id": "omasKwa4tEnK"
      },
      "execution_count": null,
      "outputs": []
    },
    {
      "cell_type": "markdown",
      "source": [
        "## 3-3. 증강 데이터 생성"
      ],
      "metadata": {
        "id": "kCE2aRW7tEnK"
      }
    },
    {
      "cell_type": "markdown",
      "source": [
        "- 데이터를 증강하여 새로운 데이터셋을 생성한다"
      ],
      "metadata": {
        "id": "-dI3h6tJtEnL"
      }
    },
    {
      "cell_type": "code",
      "source": [
        "# 모든 증강 이미지를 동일한 크기 (28, 28, 3)로 맞춤\n",
        "fixed_size = (28, 28)  # MNIST 원본 크기\n",
        "\n",
        "def preprocess_image(image, target_size):\n",
        "    \"\"\"이미지를 지정된 크기로 리사이즈\"\"\"\n",
        "    return cv2.resize(image, target_size, interpolation=cv2.INTER_AREA)"
      ],
      "metadata": {
        "id": "_RU98p3JtEnL"
      },
      "execution_count": null,
      "outputs": []
    },
    {
      "cell_type": "code",
      "source": [
        "# 증강 데이터 생성\n",
        "augmented_images = []\n",
        "augmented_labels = []\n",
        "\n",
        "for image, label in zip(x_train[:500], y_train[:500]):  # 500개 샘플만 증강\n",
        "    image = image.astype(np.uint8)  # OpenCV 호환을 위해 uint8 변환\n",
        "    # 원본 추가\n",
        "    augmented_images.append(preprocess_image(image, fixed_size))  # 리사이즈 후 추가\n",
        "    augmented_labels.append(label)\n",
        "    # 회전\n",
        "    rotated = rotate_image(image, 15)  # 15도 회전\n",
        "    augmented_images.append(preprocess_image(rotated, fixed_size))  # 리사이즈 후 추가\n",
        "    augmented_labels.append(label)\n",
        "    # 이동\n",
        "    translated = translate_image(image, 5, 5)  # (5, 5) 이동\n",
        "    augmented_images.append(preprocess_image(translated, fixed_size))  # 리사이즈 후 추가\n",
        "    augmented_labels.append(label)\n",
        "    # 스케일링\n",
        "    scaled = scale_image(image, 1.2, 1.2)  # 1.2배 확대\n",
        "    augmented_images.append(preprocess_image(scaled, fixed_size))  # 리사이즈 후 추가\n",
        "    augmented_labels.append(label)\n",
        "    # 플립\n",
        "    flipped = flip_image(image)  # 좌우 반전\n",
        "    augmented_images.append(preprocess_image(flipped, fixed_size))  # 리사이즈 후 추가\n",
        "    augmented_labels.append(label)"
      ],
      "metadata": {
        "id": "XN0ImrvPtEnL"
      },
      "execution_count": null,
      "outputs": []
    },
    {
      "cell_type": "code",
      "source": [
        "\n",
        "# numpy 배열로 변환\n",
        "augmented_images = np.array(augmented_images)\n",
        "augmented_labels = np.array(augmented_labels)\n",
        "\n",
        "# 데이터 확인\n",
        "print(f\"원본 데이터 크기: {x_train[:500].shape}\")\n",
        "print(f\"증강 데이터 크기: {augmented_images.shape}\")\n"
      ],
      "metadata": {
        "id": "ptvJzgaouT23"
      },
      "execution_count": null,
      "outputs": []
    },
    {
      "cell_type": "code",
      "source": [
        "# 증강 데이터 일부 시각화\n",
        "plt.figure(figsize=(12, 8))\n",
        "for i in range(10):\n",
        "    plt.subplot(2, 5, i + 1)\n",
        "    plt.imshow(augmented_images[i].squeeze(), cmap='gray')\n",
        "    plt.title(f\"Label: {augmented_labels[i]}\")\n",
        "    plt.axis(\"off\")\n",
        "plt.tight_layout()\n",
        "plt.show()\n"
      ],
      "metadata": {
        "id": "CJSLdjHFuWXg"
      },
      "execution_count": null,
      "outputs": []
    },
    {
      "cell_type": "code",
      "source": [],
      "metadata": {
        "id": "YLxgTcRctEnY"
      },
      "execution_count": null,
      "outputs": []
    }
  ]
}