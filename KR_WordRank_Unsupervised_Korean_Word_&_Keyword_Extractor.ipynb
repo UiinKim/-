{
  "nbformat": 4,
  "nbformat_minor": 0,
  "metadata": {
    "colab": {
      "provenance": [],
      "authorship_tag": "ABX9TyM1oT9biNtpxB8zdQttZ0lM",
      "include_colab_link": true
    },
    "kernelspec": {
      "name": "python3",
      "display_name": "Python 3"
    },
    "language_info": {
      "name": "python"
    }
  },
  "cells": [
    {
      "cell_type": "markdown",
      "metadata": {
        "id": "view-in-github",
        "colab_type": "text"
      },
      "source": [
        "<a href=\"https://colab.research.google.com/github/UiinKim/Crawling/blob/main/KR_WordRank_Unsupervised_Korean_Word_%26_Keyword_Extractor.ipynb\" target=\"_parent\"><img src=\"https://colab.research.google.com/assets/colab-badge.svg\" alt=\"Open In Colab\"/></a>"
      ]
    },
    {
      "cell_type": "code",
      "source": [
        "!pip install KRWordRank"
      ],
      "metadata": {
        "colab": {
          "base_uri": "https://localhost:8080/"
        },
        "id": "eoYrza2o7QX1",
        "outputId": "ff600be6-9bf6-43f9-a4b5-e0ee9c4f6224"
      },
      "execution_count": 24,
      "outputs": [
        {
          "output_type": "stream",
          "name": "stdout",
          "text": [
            "Requirement already satisfied: KRWordRank in /usr/local/lib/python3.10/dist-packages (1.0.3)\n",
            "Requirement already satisfied: numpy>=1.18.4 in /usr/local/lib/python3.10/dist-packages (from KRWordRank) (1.23.5)\n",
            "Requirement already satisfied: scipy>=1.4.1 in /usr/local/lib/python3.10/dist-packages (from KRWordRank) (1.11.3)\n",
            "Requirement already satisfied: scikit-learn>=0.22.1 in /usr/local/lib/python3.10/dist-packages (from KRWordRank) (1.2.2)\n",
            "Requirement already satisfied: joblib>=1.1.1 in /usr/local/lib/python3.10/dist-packages (from scikit-learn>=0.22.1->KRWordRank) (1.3.2)\n",
            "Requirement already satisfied: threadpoolctl>=2.0.0 in /usr/local/lib/python3.10/dist-packages (from scikit-learn>=0.22.1->KRWordRank) (3.2.0)\n"
          ]
        }
      ]
    },
    {
      "cell_type": "code",
      "source": [
        "!pip install krwordrank"
      ],
      "metadata": {
        "colab": {
          "base_uri": "https://localhost:8080/"
        },
        "id": "y2WGVQQo7V4p",
        "outputId": "7c2b7f04-7dbc-4854-a3b7-25090f66bb90"
      },
      "execution_count": 25,
      "outputs": [
        {
          "output_type": "stream",
          "name": "stdout",
          "text": [
            "Requirement already satisfied: krwordrank in /usr/local/lib/python3.10/dist-packages (1.0.3)\n",
            "Requirement already satisfied: numpy>=1.18.4 in /usr/local/lib/python3.10/dist-packages (from krwordrank) (1.23.5)\n",
            "Requirement already satisfied: scipy>=1.4.1 in /usr/local/lib/python3.10/dist-packages (from krwordrank) (1.11.3)\n",
            "Requirement already satisfied: scikit-learn>=0.22.1 in /usr/local/lib/python3.10/dist-packages (from krwordrank) (1.2.2)\n",
            "Requirement already satisfied: joblib>=1.1.1 in /usr/local/lib/python3.10/dist-packages (from scikit-learn>=0.22.1->krwordrank) (1.3.2)\n",
            "Requirement already satisfied: threadpoolctl>=2.0.0 in /usr/local/lib/python3.10/dist-packages (from scikit-learn>=0.22.1->krwordrank) (3.2.0)\n"
          ]
        }
      ]
    },
    {
      "cell_type": "code",
      "source": [
        "from krwordrank.word import KRWordRank\n",
        "\n",
        "min_count = 5   # 단어의 최소 출현 빈도수 (그래프 생성 시)\n",
        "max_length = 10 # 단어의 최대 길이\n",
        "wordrank_extractor = KRWordRank(min_count=min_count, max_length=max_length)"
      ],
      "metadata": {
        "id": "0-h8kRml7H1C"
      },
      "execution_count": 26,
      "outputs": []
    },
    {
      "cell_type": "code",
      "source": [
        "from google.colab import files\n",
        "uploaded=files.upload()"
      ],
      "metadata": {
        "colab": {
          "base_uri": "https://localhost:8080/",
          "height": 218
        },
        "id": "pvMpZYBX8FCl",
        "outputId": "4f01b680-6903-404c-96ec-40d7d54d6f3d"
      },
      "execution_count": 27,
      "outputs": [
        {
          "output_type": "display_data",
          "data": {
            "text/plain": [
              "<IPython.core.display.HTML object>"
            ],
            "text/html": [
              "\n",
              "     <input type=\"file\" id=\"files-ccb8ebfe-07af-419c-874d-cbbbe20868a8\" name=\"files[]\" multiple disabled\n",
              "        style=\"border:none\" />\n",
              "     <output id=\"result-ccb8ebfe-07af-419c-874d-cbbbe20868a8\">\n",
              "      Upload widget is only available when the cell has been executed in the\n",
              "      current browser session. Please rerun this cell to enable.\n",
              "      </output>\n",
              "      <script>// Copyright 2017 Google LLC\n",
              "//\n",
              "// Licensed under the Apache License, Version 2.0 (the \"License\");\n",
              "// you may not use this file except in compliance with the License.\n",
              "// You may obtain a copy of the License at\n",
              "//\n",
              "//      http://www.apache.org/licenses/LICENSE-2.0\n",
              "//\n",
              "// Unless required by applicable law or agreed to in writing, software\n",
              "// distributed under the License is distributed on an \"AS IS\" BASIS,\n",
              "// WITHOUT WARRANTIES OR CONDITIONS OF ANY KIND, either express or implied.\n",
              "// See the License for the specific language governing permissions and\n",
              "// limitations under the License.\n",
              "\n",
              "/**\n",
              " * @fileoverview Helpers for google.colab Python module.\n",
              " */\n",
              "(function(scope) {\n",
              "function span(text, styleAttributes = {}) {\n",
              "  const element = document.createElement('span');\n",
              "  element.textContent = text;\n",
              "  for (const key of Object.keys(styleAttributes)) {\n",
              "    element.style[key] = styleAttributes[key];\n",
              "  }\n",
              "  return element;\n",
              "}\n",
              "\n",
              "// Max number of bytes which will be uploaded at a time.\n",
              "const MAX_PAYLOAD_SIZE = 100 * 1024;\n",
              "\n",
              "function _uploadFiles(inputId, outputId) {\n",
              "  const steps = uploadFilesStep(inputId, outputId);\n",
              "  const outputElement = document.getElementById(outputId);\n",
              "  // Cache steps on the outputElement to make it available for the next call\n",
              "  // to uploadFilesContinue from Python.\n",
              "  outputElement.steps = steps;\n",
              "\n",
              "  return _uploadFilesContinue(outputId);\n",
              "}\n",
              "\n",
              "// This is roughly an async generator (not supported in the browser yet),\n",
              "// where there are multiple asynchronous steps and the Python side is going\n",
              "// to poll for completion of each step.\n",
              "// This uses a Promise to block the python side on completion of each step,\n",
              "// then passes the result of the previous step as the input to the next step.\n",
              "function _uploadFilesContinue(outputId) {\n",
              "  const outputElement = document.getElementById(outputId);\n",
              "  const steps = outputElement.steps;\n",
              "\n",
              "  const next = steps.next(outputElement.lastPromiseValue);\n",
              "  return Promise.resolve(next.value.promise).then((value) => {\n",
              "    // Cache the last promise value to make it available to the next\n",
              "    // step of the generator.\n",
              "    outputElement.lastPromiseValue = value;\n",
              "    return next.value.response;\n",
              "  });\n",
              "}\n",
              "\n",
              "/**\n",
              " * Generator function which is called between each async step of the upload\n",
              " * process.\n",
              " * @param {string} inputId Element ID of the input file picker element.\n",
              " * @param {string} outputId Element ID of the output display.\n",
              " * @return {!Iterable<!Object>} Iterable of next steps.\n",
              " */\n",
              "function* uploadFilesStep(inputId, outputId) {\n",
              "  const inputElement = document.getElementById(inputId);\n",
              "  inputElement.disabled = false;\n",
              "\n",
              "  const outputElement = document.getElementById(outputId);\n",
              "  outputElement.innerHTML = '';\n",
              "\n",
              "  const pickedPromise = new Promise((resolve) => {\n",
              "    inputElement.addEventListener('change', (e) => {\n",
              "      resolve(e.target.files);\n",
              "    });\n",
              "  });\n",
              "\n",
              "  const cancel = document.createElement('button');\n",
              "  inputElement.parentElement.appendChild(cancel);\n",
              "  cancel.textContent = 'Cancel upload';\n",
              "  const cancelPromise = new Promise((resolve) => {\n",
              "    cancel.onclick = () => {\n",
              "      resolve(null);\n",
              "    };\n",
              "  });\n",
              "\n",
              "  // Wait for the user to pick the files.\n",
              "  const files = yield {\n",
              "    promise: Promise.race([pickedPromise, cancelPromise]),\n",
              "    response: {\n",
              "      action: 'starting',\n",
              "    }\n",
              "  };\n",
              "\n",
              "  cancel.remove();\n",
              "\n",
              "  // Disable the input element since further picks are not allowed.\n",
              "  inputElement.disabled = true;\n",
              "\n",
              "  if (!files) {\n",
              "    return {\n",
              "      response: {\n",
              "        action: 'complete',\n",
              "      }\n",
              "    };\n",
              "  }\n",
              "\n",
              "  for (const file of files) {\n",
              "    const li = document.createElement('li');\n",
              "    li.append(span(file.name, {fontWeight: 'bold'}));\n",
              "    li.append(span(\n",
              "        `(${file.type || 'n/a'}) - ${file.size} bytes, ` +\n",
              "        `last modified: ${\n",
              "            file.lastModifiedDate ? file.lastModifiedDate.toLocaleDateString() :\n",
              "                                    'n/a'} - `));\n",
              "    const percent = span('0% done');\n",
              "    li.appendChild(percent);\n",
              "\n",
              "    outputElement.appendChild(li);\n",
              "\n",
              "    const fileDataPromise = new Promise((resolve) => {\n",
              "      const reader = new FileReader();\n",
              "      reader.onload = (e) => {\n",
              "        resolve(e.target.result);\n",
              "      };\n",
              "      reader.readAsArrayBuffer(file);\n",
              "    });\n",
              "    // Wait for the data to be ready.\n",
              "    let fileData = yield {\n",
              "      promise: fileDataPromise,\n",
              "      response: {\n",
              "        action: 'continue',\n",
              "      }\n",
              "    };\n",
              "\n",
              "    // Use a chunked sending to avoid message size limits. See b/62115660.\n",
              "    let position = 0;\n",
              "    do {\n",
              "      const length = Math.min(fileData.byteLength - position, MAX_PAYLOAD_SIZE);\n",
              "      const chunk = new Uint8Array(fileData, position, length);\n",
              "      position += length;\n",
              "\n",
              "      const base64 = btoa(String.fromCharCode.apply(null, chunk));\n",
              "      yield {\n",
              "        response: {\n",
              "          action: 'append',\n",
              "          file: file.name,\n",
              "          data: base64,\n",
              "        },\n",
              "      };\n",
              "\n",
              "      let percentDone = fileData.byteLength === 0 ?\n",
              "          100 :\n",
              "          Math.round((position / fileData.byteLength) * 100);\n",
              "      percent.textContent = `${percentDone}% done`;\n",
              "\n",
              "    } while (position < fileData.byteLength);\n",
              "  }\n",
              "\n",
              "  // All done.\n",
              "  yield {\n",
              "    response: {\n",
              "      action: 'complete',\n",
              "    }\n",
              "  };\n",
              "}\n",
              "\n",
              "scope.google = scope.google || {};\n",
              "scope.google.colab = scope.google.colab || {};\n",
              "scope.google.colab._files = {\n",
              "  _uploadFiles,\n",
              "  _uploadFilesContinue,\n",
              "};\n",
              "})(self);\n",
              "</script> "
            ]
          },
          "metadata": {}
        },
        {
          "output_type": "stream",
          "name": "stdout",
          "text": [
            "Saving V&A.csv to V&A (1).csv\n",
            "Saving 닥터지.csv to 닥터지 (1).csv\n",
            "Saving 메이크프렘.csv to 메이크프렘 (1).csv\n",
            "Saving 빌리프.csv to 빌리프 (1).csv\n",
            "Saving 아벤느.csv to 아벤느 (1).csv\n"
          ]
        }
      ]
    },
    {
      "cell_type": "code",
      "source": [
        "import pandas as pd\n",
        "from krwordrank.word import KRWordRank\n",
        "\n",
        "\n",
        "# Assuming 'files' is a list of pandas DataFrames\n",
        "files = [pd.read_csv(file_path, encoding='cp949') for file_path in uploaded]\n",
        "\n",
        "# Assuming 'review_수정' is the second column (index 1)\n",
        "docs = [' '.join(map(str, file.iloc[:, -1])) for file in files]\n",
        "stopwords = {'좋아요', '너무', '사용', '피부','제품','구매','좋은','같아요','있어요','쓰고','많이','만족','아주','좋고','좋네요','좋습니다','쓰는','아직','고객님','닥터지'}\n",
        "\n",
        "preprocessed_docs=[]\n",
        "for doc in docs:\n",
        "  words=doc.split()\n",
        "  filtered_words=[word for word in words if word not in stopwords]\n",
        "  preprocessed_docs.append(' '.join(filtered_words))\n",
        "\n",
        "# Now, you can use the KRWordRank extractor\n",
        "min_count = 5\n",
        "max_length = 10\n",
        "wordrank_extractor = KRWordRank(min_count=min_count, max_length=max_length)\n",
        "\n",
        "beta = 0.85\n",
        "max_iter = 10\n",
        "\n",
        "# Pass the list of documents (strings) to the extract method\n",
        "keywords, rank, graph = wordrank_extractor.extract(preprocessed_docs, beta, max_iter)\n"
      ],
      "metadata": {
        "id": "Fhz-uGlK8REa"
      },
      "execution_count": 43,
      "outputs": []
    },
    {
      "cell_type": "code",
      "source": [
        "for word, r in sorted(keywords.items(), key=lambda x:x[1], reverse=True)[:30]:\n",
        "        print('%8s:\\t%.4f' % (word, r))\n",
        ""
      ],
      "metadata": {
        "colab": {
          "base_uri": "https://localhost:8080/"
        },
        "id": "lUt6sd2l7Kil",
        "outputId": "21bccef5-0d6f-44d3-f6fd-344b8db9c963"
      },
      "execution_count": 44,
      "outputs": [
        {
          "output_type": "stream",
          "name": "stdout",
          "text": [
            "      사용:\t34.9922\n",
            "      촉촉:\t33.3595\n",
            "      항상:\t25.7077\n",
            "     피부가:\t24.6246\n",
            "      구매:\t23.6532\n",
            "     재구매:\t23.3063\n",
            "      제품:\t23.2178\n",
            "     좋아서:\t19.5871\n",
            "      크림:\t18.0391\n",
            "      계속:\t15.2951\n",
            "     꾸준히:\t15.0992\n",
            "     nan:\t14.7082\n",
            "      만족:\t14.5344\n",
            "      바르:\t14.1629\n",
            "     트러블:\t13.3854\n",
            "     순하고:\t12.9969\n",
            "      샘플:\t12.1036\n",
            "    있습니다:\t11.4460\n",
            "      같이:\t11.0015\n",
            "      수분:\t10.7104\n",
            "      처음:\t10.6509\n",
            "      건조:\t10.6107\n",
            "      느낌:\t10.3773\n",
            "     더보기:\t10.0444\n",
            "     발림성:\t9.9995\n",
            "      쓰던:\t9.9798\n",
            "     써보고:\t9.7820\n",
            "      정말:\t9.6405\n",
            "      있는:\t9.6305\n",
            "      자극:\t9.5768\n"
          ]
        }
      ]
    },
    {
      "cell_type": "code",
      "source": [
        "0stopwords = {'좋아요', '너무', '사용', '피부','제품','구매','좋은','같아요','있어요','쓰고','많이','만족','아주','좋고','좋네요','좋습니다','쓰는','아직','고객님','닥터지'}\n",
        "passwords = {word:score for word, score in sorted(\n",
        "    keywords.items(), key=lambda x:-x[1])[:300] if not (word in stopwords)}"
      ],
      "metadata": {
        "id": "yzz3snrd7NFz"
      },
      "execution_count": 40,
      "outputs": []
    },
    {
      "cell_type": "code",
      "source": [
        "from krwordrank.word import summarize_with_keywords\n",
        "\n",
        "keywords = summarize_with_keywords(docs, min_count=5, max_length=10,\n",
        "    beta=0.85, max_iter=10, stopwords=stopwords, verbose=True)\n",
        "keywords = summarize_with_keywords(docs) # with default arguments"
      ],
      "metadata": {
        "colab": {
          "base_uri": "https://localhost:8080/"
        },
        "id": "eBHjjZDJ7OJE",
        "outputId": "2f1435c3-7870-4d08-ac7d-0d99fb532a21"
      },
      "execution_count": 41,
      "outputs": [
        {
          "output_type": "stream",
          "name": "stdout",
          "text": [
            "scan vocabs ... \n",
            "num vocabs = 10598\n",
            "done\n"
          ]
        }
      ]
    },
    {
      "cell_type": "code",
      "source": [
        "print(keywords)"
      ],
      "metadata": {
        "colab": {
          "base_uri": "https://localhost:8080/"
        },
        "id": "X-N6jf_KA1hZ",
        "outputId": "724925bc-2301-4a2b-9411-0b825f713e05"
      },
      "execution_count": 42,
      "outputs": [
        {
          "output_type": "stream",
          "name": "stdout",
          "text": [
            "{'좋아요': 95.54174058822296, '너무': 49.16160780111331, '사용': 36.522249549547894, '촉촉': 31.024969323043127, '피부': 30.88515697734963, '제품': 30.709250553868035, '구매': 25.33089078897484, '항상': 21.74963859094282, '재구매': 21.6237692368832, '좋은': 20.44091391604602, '같아요': 18.677447130912324, '있어요': 17.911535698684048, '쓰고': 17.91033208912281, '많이': 17.834480012205066, '크림': 16.588241510632386, '만족': 14.961467737028247, '아주': 14.852047501386567, '좋고': 14.779070352605766, '좋네요': 14.39883046273019, '좋습니다': 14.33542969562671, '쓰는': 14.18380529248594, '꾸준히': 13.503322950752558, '아직': 13.489445623184903, '계속': 13.482572953301101, '고객님': 13.45783145208927, '바르': 13.115695214400553, 'nan': 13.11068065997767, '트러블': 12.182645500583957, '순하고': 11.571163566762754, '닥터지': 11.424327170403583, '샘플': 11.111837232310725, '있습니다': 10.419435183836585, '같이': 10.23104370947549, '수분': 9.998687381716643, '건조': 9.94247579612005, '처음': 9.72150700704208, '느낌': 9.697209648104169, '더보기': 9.065787543253585, '쓰던': 8.959379922879162, '있는': 8.719124130909966, '자극': 8.705111214899391, '써보고': 8.669532012448522, '바로': 8.470444153615247, '마음에': 8.457640131780847, '저희': 8.390082844193893, '않고': 8.388157996611671, '발림성': 8.370060958183247, '진짜': 8.325352201477717, '정말': 8.309353190102701, '빌리프': 8.100839787164485, '제가': 8.001199757572905, '다시': 7.76737127789083, '다른': 7.636281790030213, '쓰기': 7.634563726269902, '믿고': 7.017358834582768, '엄청': 6.98102624821332, '흡수': 6.865582512246467, '클렌징': 6.812014582736783, '조금': 6.52153330215762, '효과': 6.503137332638178, '향도': 6.422072848464999, '없고': 6.324776692496482, '이거': 6.3042101557536, '부드럽고': 6.204401200719259, '보습': 6.148273927209223, '앞으로도': 6.025985741348881, '샀어요': 6.023377663032573, '해서': 5.995001151543213, '12': 5.969060721349056, '아벤느': 5.960457038173209, '얼굴': 5.936257293662481, '앰플': 5.926570724939492, '확실히': 5.5423406691901915, '통해': 5.486928874219519, '발라': 5.479671238618088, '매번': 5.4448166755963365, '화장': 5.427893012781963, '아침에': 5.402459682346018, '저는': 5.388089681031634, '추천': 5.372174596578917, '진정': 5.350692092468852, '주문': 5.335306511399868, '없어': 5.322379927789405, '저렴': 5.321958358560183, '순해서': 5.222099956562838, '가격': 5.209411139149284, '역시': 5.157908872380696, '감사': 5.152791943259798, '겨울': 5.119355696595583, '다양한': 5.041663793028963, '구입': 4.996680900177339, '끈적': 4.93514703118299, '일단': 4.921847821636124, '않아서': 4.921727257465592, '하겠습니다': 4.888112979208849, '자주': 4.830337756911385, '원래': 4.702673483941132, '한번': 4.654245175721023, '없이': 4.6150287598868545, '판매자22': 4.584044263157005}\n"
          ]
        }
      ]
    },
    {
      "cell_type": "code",
      "source": [],
      "metadata": {
        "id": "z-Phz_kpA7Ry"
      },
      "execution_count": null,
      "outputs": []
    }
  ]
}