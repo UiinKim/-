{
  "cells": [
    {
      "cell_type": "markdown",
      "metadata": {
        "id": "view-in-github",
        "colab_type": "text"
      },
      "source": [
        "<a href=\"https://colab.research.google.com/github/UiinKim/Crawling/blob/main/KR_WordRank_Unsupervised_Korean_Word_%26_Keyword_Extractor.ipynb\" target=\"_parent\"><img src=\"https://colab.research.google.com/assets/colab-badge.svg\" alt=\"Open In Colab\"/></a>"
      ]
    },
    {
      "cell_type": "code",
      "execution_count": 1,
      "metadata": {
        "colab": {
          "base_uri": "https://localhost:8080/"
        },
        "id": "eoYrza2o7QX1",
        "outputId": "bc17928d-fe9e-42b7-c239-a7b33ebfb7af"
      },
      "outputs": [
        {
          "output_type": "stream",
          "name": "stdout",
          "text": [
            "Collecting KRWordRank\n",
            "  Downloading krwordrank-1.0.3-py3-none-any.whl (20 kB)\n",
            "Requirement already satisfied: numpy>=1.18.4 in /usr/local/lib/python3.10/dist-packages (from KRWordRank) (1.25.2)\n",
            "Requirement already satisfied: scipy>=1.4.1 in /usr/local/lib/python3.10/dist-packages (from KRWordRank) (1.11.4)\n",
            "Requirement already satisfied: scikit-learn>=0.22.1 in /usr/local/lib/python3.10/dist-packages (from KRWordRank) (1.2.2)\n",
            "Requirement already satisfied: joblib>=1.1.1 in /usr/local/lib/python3.10/dist-packages (from scikit-learn>=0.22.1->KRWordRank) (1.3.2)\n",
            "Requirement already satisfied: threadpoolctl>=2.0.0 in /usr/local/lib/python3.10/dist-packages (from scikit-learn>=0.22.1->KRWordRank) (3.4.0)\n",
            "Installing collected packages: KRWordRank\n",
            "Successfully installed KRWordRank-1.0.3\n"
          ]
        }
      ],
      "source": [
        "!pip install KRWordRank"
      ]
    },
    {
      "cell_type": "code",
      "execution_count": 2,
      "metadata": {
        "colab": {
          "base_uri": "https://localhost:8080/"
        },
        "id": "y2WGVQQo7V4p",
        "outputId": "bc1f21e2-3e2c-4957-dfec-54f384e55844"
      },
      "outputs": [
        {
          "output_type": "stream",
          "name": "stdout",
          "text": [
            "Requirement already satisfied: krwordrank in /usr/local/lib/python3.10/dist-packages (1.0.3)\n",
            "Requirement already satisfied: numpy>=1.18.4 in /usr/local/lib/python3.10/dist-packages (from krwordrank) (1.25.2)\n",
            "Requirement already satisfied: scipy>=1.4.1 in /usr/local/lib/python3.10/dist-packages (from krwordrank) (1.11.4)\n",
            "Requirement already satisfied: scikit-learn>=0.22.1 in /usr/local/lib/python3.10/dist-packages (from krwordrank) (1.2.2)\n",
            "Requirement already satisfied: joblib>=1.1.1 in /usr/local/lib/python3.10/dist-packages (from scikit-learn>=0.22.1->krwordrank) (1.3.2)\n",
            "Requirement already satisfied: threadpoolctl>=2.0.0 in /usr/local/lib/python3.10/dist-packages (from scikit-learn>=0.22.1->krwordrank) (3.4.0)\n"
          ]
        }
      ],
      "source": [
        "!pip install krwordrank"
      ]
    },
    {
      "cell_type": "code",
      "execution_count": 3,
      "metadata": {
        "id": "0-h8kRml7H1C"
      },
      "outputs": [],
      "source": [
        "from krwordrank.word import KRWordRank\n",
        "\n",
        "min_count = 5   # 단어의 최소 출현 빈도수 (그래프 생성 시)\n",
        "max_length = 10 # 단어의 최대 길이\n",
        "wordrank_extractor = KRWordRank(min_count=min_count, max_length=max_length)"
      ]
    },
    {
      "cell_type": "code",
      "execution_count": 4,
      "metadata": {
        "colab": {
          "base_uri": "https://localhost:8080/",
          "height": 76
        },
        "id": "pvMpZYBX8FCl",
        "outputId": "d771e3cc-2ff8-4d23-d602-c9099ce04f2e"
      },
      "outputs": [
        {
          "output_type": "display_data",
          "data": {
            "text/plain": [
              "<IPython.core.display.HTML object>"
            ],
            "text/html": [
              "\n",
              "     <input type=\"file\" id=\"files-afa86b0e-4383-41e0-9bf4-93bcf7d024f6\" name=\"files[]\" multiple disabled\n",
              "        style=\"border:none\" />\n",
              "     <output id=\"result-afa86b0e-4383-41e0-9bf4-93bcf7d024f6\">\n",
              "      Upload widget is only available when the cell has been executed in the\n",
              "      current browser session. Please rerun this cell to enable.\n",
              "      </output>\n",
              "      <script>// Copyright 2017 Google LLC\n",
              "//\n",
              "// Licensed under the Apache License, Version 2.0 (the \"License\");\n",
              "// you may not use this file except in compliance with the License.\n",
              "// You may obtain a copy of the License at\n",
              "//\n",
              "//      http://www.apache.org/licenses/LICENSE-2.0\n",
              "//\n",
              "// Unless required by applicable law or agreed to in writing, software\n",
              "// distributed under the License is distributed on an \"AS IS\" BASIS,\n",
              "// WITHOUT WARRANTIES OR CONDITIONS OF ANY KIND, either express or implied.\n",
              "// See the License for the specific language governing permissions and\n",
              "// limitations under the License.\n",
              "\n",
              "/**\n",
              " * @fileoverview Helpers for google.colab Python module.\n",
              " */\n",
              "(function(scope) {\n",
              "function span(text, styleAttributes = {}) {\n",
              "  const element = document.createElement('span');\n",
              "  element.textContent = text;\n",
              "  for (const key of Object.keys(styleAttributes)) {\n",
              "    element.style[key] = styleAttributes[key];\n",
              "  }\n",
              "  return element;\n",
              "}\n",
              "\n",
              "// Max number of bytes which will be uploaded at a time.\n",
              "const MAX_PAYLOAD_SIZE = 100 * 1024;\n",
              "\n",
              "function _uploadFiles(inputId, outputId) {\n",
              "  const steps = uploadFilesStep(inputId, outputId);\n",
              "  const outputElement = document.getElementById(outputId);\n",
              "  // Cache steps on the outputElement to make it available for the next call\n",
              "  // to uploadFilesContinue from Python.\n",
              "  outputElement.steps = steps;\n",
              "\n",
              "  return _uploadFilesContinue(outputId);\n",
              "}\n",
              "\n",
              "// This is roughly an async generator (not supported in the browser yet),\n",
              "// where there are multiple asynchronous steps and the Python side is going\n",
              "// to poll for completion of each step.\n",
              "// This uses a Promise to block the python side on completion of each step,\n",
              "// then passes the result of the previous step as the input to the next step.\n",
              "function _uploadFilesContinue(outputId) {\n",
              "  const outputElement = document.getElementById(outputId);\n",
              "  const steps = outputElement.steps;\n",
              "\n",
              "  const next = steps.next(outputElement.lastPromiseValue);\n",
              "  return Promise.resolve(next.value.promise).then((value) => {\n",
              "    // Cache the last promise value to make it available to the next\n",
              "    // step of the generator.\n",
              "    outputElement.lastPromiseValue = value;\n",
              "    return next.value.response;\n",
              "  });\n",
              "}\n",
              "\n",
              "/**\n",
              " * Generator function which is called between each async step of the upload\n",
              " * process.\n",
              " * @param {string} inputId Element ID of the input file picker element.\n",
              " * @param {string} outputId Element ID of the output display.\n",
              " * @return {!Iterable<!Object>} Iterable of next steps.\n",
              " */\n",
              "function* uploadFilesStep(inputId, outputId) {\n",
              "  const inputElement = document.getElementById(inputId);\n",
              "  inputElement.disabled = false;\n",
              "\n",
              "  const outputElement = document.getElementById(outputId);\n",
              "  outputElement.innerHTML = '';\n",
              "\n",
              "  const pickedPromise = new Promise((resolve) => {\n",
              "    inputElement.addEventListener('change', (e) => {\n",
              "      resolve(e.target.files);\n",
              "    });\n",
              "  });\n",
              "\n",
              "  const cancel = document.createElement('button');\n",
              "  inputElement.parentElement.appendChild(cancel);\n",
              "  cancel.textContent = 'Cancel upload';\n",
              "  const cancelPromise = new Promise((resolve) => {\n",
              "    cancel.onclick = () => {\n",
              "      resolve(null);\n",
              "    };\n",
              "  });\n",
              "\n",
              "  // Wait for the user to pick the files.\n",
              "  const files = yield {\n",
              "    promise: Promise.race([pickedPromise, cancelPromise]),\n",
              "    response: {\n",
              "      action: 'starting',\n",
              "    }\n",
              "  };\n",
              "\n",
              "  cancel.remove();\n",
              "\n",
              "  // Disable the input element since further picks are not allowed.\n",
              "  inputElement.disabled = true;\n",
              "\n",
              "  if (!files) {\n",
              "    return {\n",
              "      response: {\n",
              "        action: 'complete',\n",
              "      }\n",
              "    };\n",
              "  }\n",
              "\n",
              "  for (const file of files) {\n",
              "    const li = document.createElement('li');\n",
              "    li.append(span(file.name, {fontWeight: 'bold'}));\n",
              "    li.append(span(\n",
              "        `(${file.type || 'n/a'}) - ${file.size} bytes, ` +\n",
              "        `last modified: ${\n",
              "            file.lastModifiedDate ? file.lastModifiedDate.toLocaleDateString() :\n",
              "                                    'n/a'} - `));\n",
              "    const percent = span('0% done');\n",
              "    li.appendChild(percent);\n",
              "\n",
              "    outputElement.appendChild(li);\n",
              "\n",
              "    const fileDataPromise = new Promise((resolve) => {\n",
              "      const reader = new FileReader();\n",
              "      reader.onload = (e) => {\n",
              "        resolve(e.target.result);\n",
              "      };\n",
              "      reader.readAsArrayBuffer(file);\n",
              "    });\n",
              "    // Wait for the data to be ready.\n",
              "    let fileData = yield {\n",
              "      promise: fileDataPromise,\n",
              "      response: {\n",
              "        action: 'continue',\n",
              "      }\n",
              "    };\n",
              "\n",
              "    // Use a chunked sending to avoid message size limits. See b/62115660.\n",
              "    let position = 0;\n",
              "    do {\n",
              "      const length = Math.min(fileData.byteLength - position, MAX_PAYLOAD_SIZE);\n",
              "      const chunk = new Uint8Array(fileData, position, length);\n",
              "      position += length;\n",
              "\n",
              "      const base64 = btoa(String.fromCharCode.apply(null, chunk));\n",
              "      yield {\n",
              "        response: {\n",
              "          action: 'append',\n",
              "          file: file.name,\n",
              "          data: base64,\n",
              "        },\n",
              "      };\n",
              "\n",
              "      let percentDone = fileData.byteLength === 0 ?\n",
              "          100 :\n",
              "          Math.round((position / fileData.byteLength) * 100);\n",
              "      percent.textContent = `${percentDone}% done`;\n",
              "\n",
              "    } while (position < fileData.byteLength);\n",
              "  }\n",
              "\n",
              "  // All done.\n",
              "  yield {\n",
              "    response: {\n",
              "      action: 'complete',\n",
              "    }\n",
              "  };\n",
              "}\n",
              "\n",
              "scope.google = scope.google || {};\n",
              "scope.google.colab = scope.google.colab || {};\n",
              "scope.google.colab._files = {\n",
              "  _uploadFiles,\n",
              "  _uploadFilesContinue,\n",
              "};\n",
              "})(self);\n",
              "</script> "
            ]
          },
          "metadata": {}
        },
        {
          "output_type": "stream",
          "name": "stdout",
          "text": [
            "Saving combined_data_메이크업.csv to combined_data_메이크업.csv\n"
          ]
        }
      ],
      "source": [
        "from google.colab import files\n",
        "uploaded=files.upload()"
      ]
    },
    {
      "cell_type": "code",
      "execution_count": null,
      "metadata": {
        "id": "Fhz-uGlK8REa"
      },
      "outputs": [],
      "source": [
        "import pandas as pd\n",
        "from krwordrank.word import KRWordRank\n",
        "\n",
        "\n",
        "# Assuming 'files' is a list of pandas DataFrames\n",
        "files = [pd.read_csv(file_path, encoding='cp949') for file_path in uploaded]\n",
        "\n",
        "# Assuming 'review_수정' is the second column (index 1)\n",
        "docs = [' '.join(map(str, file.iloc[:, -1])) for file in files]\n",
        "stopwords = {'너무', '진짜', '사용', '좋아', '제품', '정말', '구매', '저는', '많이', '같아', '피부', '좋은',\n",
        "             '조금', '아주', '느낌', '다른', '살짝', '있는', '엄청', '좋고', '제가', '그냥', '완전', '있어',\n",
        "             '약간', '않고', '않고', '마음에', '그리고', 'ㅎㅎ', '이거', '근데', '처음', '생각', '그래서', '바로',\n",
        "             '만족', '쓰고', '같이', '발라', '맘에', '않아서', '하고', '아니', '거의', '해서', '분들', '한번',\n",
        "             '그런', '계속', '같은', '들어', '일단', '확실히', '원래', '정도', '제일', 'ㅠㅠ', '다시', '괜찮',\n",
        "             '가장', '샀는데', '하나', '이건', '쓰는', '편이'}\n",
        "\n",
        "\n",
        "preprocessed_docs=[]\n",
        "for doc in docs:\n",
        "  words=doc.split()\n",
        "  filtered_words=[word for word in words if word not in stopwords]\n",
        "  preprocessed_docs.append(' '.join(filtered_words))\n",
        "\n",
        "# Now, you can use the KRWordRank extractor\n",
        "min_count = 5\n",
        "max_length = 10\n",
        "wordrank_extractor = KRWordRank(min_count=min_count, max_length=max_length)\n",
        "\n",
        "beta = 0.85\n",
        "max_iter = 10\n",
        "\n",
        "# Pass the list of documents (strings) to the extract method\n",
        "keywords, rank, graph = wordrank_extractor.extract(preprocessed_docs, beta, max_iter)\n"
      ]
    },
    {
      "cell_type": "code",
      "execution_count": null,
      "metadata": {
        "id": "lUt6sd2l7Kil"
      },
      "outputs": [],
      "source": [
        "for word, r in sorted(keywords.items(), key=lambda x:x[1], reverse=True)[:100]:\n",
        "        print('%8s:\\t%.4f' % (word, r))\n"
      ]
    },
    {
      "cell_type": "code",
      "execution_count": null,
      "metadata": {
        "id": "yzz3snrd7NFz"
      },
      "outputs": [],
      "source": [
        "stopwords = {'너무', '진짜', '사용', '좋아', '제품', '정말', '구매', '저는', '많이', '같아', '피부', '좋은',\n",
        "             '조금', '아주', '느낌', '다른', '살짝', '있는', '엄청', '좋고', '제가', '그냥', '완전', '있어',\n",
        "             '약간', '않고', '않고', '마음에', '그리고', 'ㅎㅎ', '이거', '근데', '처음', '생각', '그래서', '바로',\n",
        "             '만족', '쓰고', '같이', '발라', '맘에', '않아서', '하고', '아니', '거의', '해서', '분들', '한번',\n",
        "             '그런', '계속', '같은', '들어', '일단', '확실히', '원래', '정도', '제일', 'ㅠㅠ', '다시', '괜찮',\n",
        "             '가장', '샀는데', '하나', '이건', '쓰는', '편이'}\n",
        "passwords = {word:score for word, score in sorted(\n",
        "    keywords.items(), key=lambda x:-x[1])[:300] if not (word in stopwords)}"
      ]
    },
    {
      "cell_type": "code",
      "execution_count": null,
      "metadata": {
        "colab": {
          "base_uri": "https://localhost:8080/"
        },
        "id": "eBHjjZDJ7OJE",
        "outputId": "01aa3fad-41db-4fce-cfe5-0e56a1779c05"
      },
      "outputs": [
        {
          "name": "stdout",
          "output_type": "stream",
          "text": [
            "scan vocabs ... \n",
            "num vocabs = 30532\n",
            "done\n"
          ]
        }
      ],
      "source": [
        "from krwordrank.word import summarize_with_keywords\n",
        "\n",
        "keywords = summarize_with_keywords(docs, min_count=5, max_length=10,\n",
        "    beta=0.85, max_iter=10, stopwords=stopwords, verbose=True)\n",
        "keywords = summarize_with_keywords(docs) # with default arguments"
      ]
    },
    {
      "cell_type": "code",
      "execution_count": null,
      "metadata": {
        "colab": {
          "base_uri": "https://localhost:8080/"
        },
        "id": "X-N6jf_KA1hZ",
        "outputId": "173867ac-3b76-4293-dae5-00a875ca286d"
      },
      "outputs": [
        {
          "name": "stdout",
          "output_type": "stream",
          "text": [
            "{'좋아요': 235.70731949003604, '너무': 120.73154477425776, '사용': 98.73345035695817, '피부': 94.04595038859117, '재구매': 93.61110337125515, '촉촉': 82.30967414529162, '제품': 70.6953486156975, '구매': 58.33930401101678, '항상': 50.840992717112464, '많이': 49.2046668866926, '같아요': 48.172784640362195, '있어요': 45.392633553625664, '쓰고': 45.048753891815956, 'nan': 43.16249055601478, '좋은': 42.87893167764632, '꾸준히': 42.55785446388515, '크림': 41.30108540706107, '트러블': 37.502540039944485, '만족': 35.674377709969946, '좋고': 35.398108401725864, '아주': 35.23618079287857, '좋네요': 34.57305907410483, '바르': 34.46285732422776, '좋습니다': 34.12302691698525, '아직': 33.66956403951975, '계속': 33.34030622104287, '쓰는': 30.76142799490735, '샘플': 30.35482733344562, '처음': 28.37507119065171, '느낌': 27.657985874123842, '순하고': 26.657627052921306, '정말': 26.06059957866357, '건조': 25.796915030880385, '수분': 25.539669207397473, '같이': 25.107085468593443, '효과': 24.343786605016398, '진짜': 24.089902692847804, '있습니다': 23.566982207759487, '있는': 23.278559726738084, '다른': 22.75114991661101, '자극': 22.139967055990564, '바로': 21.989551744293966, '않고': 21.840775765586475, '배송': 21.60638135707836, '써보': 20.79274369014151, '흡수': 20.781027093773712, '쓰기': 20.55844151537335, '조금': 19.797164885450133, '쓰던': 18.776137684680837, '다시': 18.669134099823502, '이거': 18.344655184009873, '엄청': 17.787422380774256, '발림성': 17.57423794476411, '믿고': 17.436299448283055, '확실히': 17.25976644630366, '저는': 17.202766870868995, '얼굴': 16.914607114654174, '스킨': 15.82577480616385, '없고': 15.125004104048537, '샀어요': 15.101848917573445, '보습': 14.882387423790318, '고객님': 14.814438856059487, '향도': 14.67033467479247, '토너': 14.539622385426462, '발라': 14.021343248671071, '화장': 13.813372795422831, '세럼': 13.793598917675341, '여름에': 13.77163245619759, '해서': 13.696821754263878, '주문': 13.64746535906257, '일단': 13.518512024509034, '제가': 13.452297504238201, '추천': 13.22623864475849, '역시': 13.214584026836194, '없어': 12.995870305472327, '진정': 12.935858836663517, '한번': 12.87641939937334, '겨울': 12.665275049120458, '아침에': 12.34033829922537, '않아': 12.235267535729344, '약간': 12.224691460589193, '가격': 12.209539639783241, '요즘': 12.072518629014041, '감사': 12.05890085606354, '이번에': 12.031779891702186, '저렴': 11.980584811761146, '마음에': 11.890831195965347, '원래': 11.837507019349692, '끈적': 11.825525078034703, '모르': 11.67991363832441, '자주': 11.663793822287664, '부드': 11.502815855963881, '순해서': 11.435886805757399, '괜찮': 11.375684772998449, '빠르고': 11.344077079050711, '구입': 11.30338689671866, '앰플': 11.28654849281986, '합니다': 11.259728770280757, '매번': 11.026340455507903, '샀는데': 10.989286364558808}\n"
          ]
        }
      ],
      "source": [
        "print(keywords)"
      ]
    },
    {
      "cell_type": "code",
      "execution_count": null,
      "metadata": {
        "id": "z-Phz_kpA7Ry"
      },
      "outputs": [],
      "source": []
    }
  ],
  "metadata": {
    "colab": {
      "provenance": [],
      "authorship_tag": "ABX9TyODcxEmL+jD79fnbSbh4y1l",
      "include_colab_link": true
    },
    "kernelspec": {
      "display_name": "Python 3",
      "name": "python3"
    },
    "language_info": {
      "name": "python"
    }
  },
  "nbformat": 4,
  "nbformat_minor": 0
}