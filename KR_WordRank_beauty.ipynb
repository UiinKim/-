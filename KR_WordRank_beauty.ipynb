{
  "cells": [
    {
      "cell_type": "markdown",
      "metadata": {
        "id": "view-in-github",
        "colab_type": "text"
      },
      "source": [
        "<a href=\"https://colab.research.google.com/github/UiinKim/Crawling/blob/main/KR_WordRank_beauty.ipynb\" target=\"_parent\"><img src=\"https://colab.research.google.com/assets/colab-badge.svg\" alt=\"Open In Colab\"/></a>"
      ]
    },
    {
      "cell_type": "code",
      "execution_count": 17,
      "metadata": {
        "colab": {
          "base_uri": "https://localhost:8080/"
        },
        "id": "eoYrza2o7QX1",
        "outputId": "a34c5b81-defa-4bf4-8b13-c9ef54310dea"
      },
      "outputs": [
        {
          "output_type": "stream",
          "name": "stdout",
          "text": [
            "Requirement already satisfied: KRWordRank in /usr/local/lib/python3.10/dist-packages (1.0.3)\n",
            "Requirement already satisfied: numpy>=1.18.4 in /usr/local/lib/python3.10/dist-packages (from KRWordRank) (1.25.2)\n",
            "Requirement already satisfied: scipy>=1.4.1 in /usr/local/lib/python3.10/dist-packages (from KRWordRank) (1.11.4)\n",
            "Requirement already satisfied: scikit-learn>=0.22.1 in /usr/local/lib/python3.10/dist-packages (from KRWordRank) (1.2.2)\n",
            "Requirement already satisfied: joblib>=1.1.1 in /usr/local/lib/python3.10/dist-packages (from scikit-learn>=0.22.1->KRWordRank) (1.4.0)\n",
            "Requirement already satisfied: threadpoolctl>=2.0.0 in /usr/local/lib/python3.10/dist-packages (from scikit-learn>=0.22.1->KRWordRank) (3.4.0)\n"
          ]
        }
      ],
      "source": [
        "!pip install KRWordRank"
      ]
    },
    {
      "cell_type": "code",
      "execution_count": 18,
      "metadata": {
        "colab": {
          "base_uri": "https://localhost:8080/"
        },
        "id": "y2WGVQQo7V4p",
        "outputId": "459067ae-27f7-4265-98f0-59e0517368e2"
      },
      "outputs": [
        {
          "output_type": "stream",
          "name": "stdout",
          "text": [
            "Requirement already satisfied: krwordrank in /usr/local/lib/python3.10/dist-packages (1.0.3)\n",
            "Requirement already satisfied: numpy>=1.18.4 in /usr/local/lib/python3.10/dist-packages (from krwordrank) (1.25.2)\n",
            "Requirement already satisfied: scipy>=1.4.1 in /usr/local/lib/python3.10/dist-packages (from krwordrank) (1.11.4)\n",
            "Requirement already satisfied: scikit-learn>=0.22.1 in /usr/local/lib/python3.10/dist-packages (from krwordrank) (1.2.2)\n",
            "Requirement already satisfied: joblib>=1.1.1 in /usr/local/lib/python3.10/dist-packages (from scikit-learn>=0.22.1->krwordrank) (1.4.0)\n",
            "Requirement already satisfied: threadpoolctl>=2.0.0 in /usr/local/lib/python3.10/dist-packages (from scikit-learn>=0.22.1->krwordrank) (3.4.0)\n"
          ]
        }
      ],
      "source": [
        "!pip install krwordrank"
      ]
    },
    {
      "cell_type": "code",
      "execution_count": 19,
      "metadata": {
        "id": "0-h8kRml7H1C"
      },
      "outputs": [],
      "source": [
        "from krwordrank.word import KRWordRank\n",
        "\n",
        "min_count = 5   # 단어의 최소 출현 빈도수 (그래프 생성 시)\n",
        "max_length = 10 # 단어의 최대 길이\n",
        "wordrank_extractor = KRWordRank(min_count=min_count, max_length=max_length)"
      ]
    },
    {
      "cell_type": "code",
      "execution_count": 23,
      "metadata": {
        "colab": {
          "base_uri": "https://localhost:8080/",
          "height": 77
        },
        "id": "pvMpZYBX8FCl",
        "outputId": "b03a9cf4-077a-45d7-d9ef-7db5809eafb4"
      },
      "outputs": [
        {
          "output_type": "display_data",
          "data": {
            "text/plain": [
              "<IPython.core.display.HTML object>"
            ],
            "text/html": [
              "\n",
              "     <input type=\"file\" id=\"files-0e988d78-123c-43a6-9ec9-867b9576bc86\" name=\"files[]\" multiple disabled\n",
              "        style=\"border:none\" />\n",
              "     <output id=\"result-0e988d78-123c-43a6-9ec9-867b9576bc86\">\n",
              "      Upload widget is only available when the cell has been executed in the\n",
              "      current browser session. Please rerun this cell to enable.\n",
              "      </output>\n",
              "      <script>// Copyright 2017 Google LLC\n",
              "//\n",
              "// Licensed under the Apache License, Version 2.0 (the \"License\");\n",
              "// you may not use this file except in compliance with the License.\n",
              "// You may obtain a copy of the License at\n",
              "//\n",
              "//      http://www.apache.org/licenses/LICENSE-2.0\n",
              "//\n",
              "// Unless required by applicable law or agreed to in writing, software\n",
              "// distributed under the License is distributed on an \"AS IS\" BASIS,\n",
              "// WITHOUT WARRANTIES OR CONDITIONS OF ANY KIND, either express or implied.\n",
              "// See the License for the specific language governing permissions and\n",
              "// limitations under the License.\n",
              "\n",
              "/**\n",
              " * @fileoverview Helpers for google.colab Python module.\n",
              " */\n",
              "(function(scope) {\n",
              "function span(text, styleAttributes = {}) {\n",
              "  const element = document.createElement('span');\n",
              "  element.textContent = text;\n",
              "  for (const key of Object.keys(styleAttributes)) {\n",
              "    element.style[key] = styleAttributes[key];\n",
              "  }\n",
              "  return element;\n",
              "}\n",
              "\n",
              "// Max number of bytes which will be uploaded at a time.\n",
              "const MAX_PAYLOAD_SIZE = 100 * 1024;\n",
              "\n",
              "function _uploadFiles(inputId, outputId) {\n",
              "  const steps = uploadFilesStep(inputId, outputId);\n",
              "  const outputElement = document.getElementById(outputId);\n",
              "  // Cache steps on the outputElement to make it available for the next call\n",
              "  // to uploadFilesContinue from Python.\n",
              "  outputElement.steps = steps;\n",
              "\n",
              "  return _uploadFilesContinue(outputId);\n",
              "}\n",
              "\n",
              "// This is roughly an async generator (not supported in the browser yet),\n",
              "// where there are multiple asynchronous steps and the Python side is going\n",
              "// to poll for completion of each step.\n",
              "// This uses a Promise to block the python side on completion of each step,\n",
              "// then passes the result of the previous step as the input to the next step.\n",
              "function _uploadFilesContinue(outputId) {\n",
              "  const outputElement = document.getElementById(outputId);\n",
              "  const steps = outputElement.steps;\n",
              "\n",
              "  const next = steps.next(outputElement.lastPromiseValue);\n",
              "  return Promise.resolve(next.value.promise).then((value) => {\n",
              "    // Cache the last promise value to make it available to the next\n",
              "    // step of the generator.\n",
              "    outputElement.lastPromiseValue = value;\n",
              "    return next.value.response;\n",
              "  });\n",
              "}\n",
              "\n",
              "/**\n",
              " * Generator function which is called between each async step of the upload\n",
              " * process.\n",
              " * @param {string} inputId Element ID of the input file picker element.\n",
              " * @param {string} outputId Element ID of the output display.\n",
              " * @return {!Iterable<!Object>} Iterable of next steps.\n",
              " */\n",
              "function* uploadFilesStep(inputId, outputId) {\n",
              "  const inputElement = document.getElementById(inputId);\n",
              "  inputElement.disabled = false;\n",
              "\n",
              "  const outputElement = document.getElementById(outputId);\n",
              "  outputElement.innerHTML = '';\n",
              "\n",
              "  const pickedPromise = new Promise((resolve) => {\n",
              "    inputElement.addEventListener('change', (e) => {\n",
              "      resolve(e.target.files);\n",
              "    });\n",
              "  });\n",
              "\n",
              "  const cancel = document.createElement('button');\n",
              "  inputElement.parentElement.appendChild(cancel);\n",
              "  cancel.textContent = 'Cancel upload';\n",
              "  const cancelPromise = new Promise((resolve) => {\n",
              "    cancel.onclick = () => {\n",
              "      resolve(null);\n",
              "    };\n",
              "  });\n",
              "\n",
              "  // Wait for the user to pick the files.\n",
              "  const files = yield {\n",
              "    promise: Promise.race([pickedPromise, cancelPromise]),\n",
              "    response: {\n",
              "      action: 'starting',\n",
              "    }\n",
              "  };\n",
              "\n",
              "  cancel.remove();\n",
              "\n",
              "  // Disable the input element since further picks are not allowed.\n",
              "  inputElement.disabled = true;\n",
              "\n",
              "  if (!files) {\n",
              "    return {\n",
              "      response: {\n",
              "        action: 'complete',\n",
              "      }\n",
              "    };\n",
              "  }\n",
              "\n",
              "  for (const file of files) {\n",
              "    const li = document.createElement('li');\n",
              "    li.append(span(file.name, {fontWeight: 'bold'}));\n",
              "    li.append(span(\n",
              "        `(${file.type || 'n/a'}) - ${file.size} bytes, ` +\n",
              "        `last modified: ${\n",
              "            file.lastModifiedDate ? file.lastModifiedDate.toLocaleDateString() :\n",
              "                                    'n/a'} - `));\n",
              "    const percent = span('0% done');\n",
              "    li.appendChild(percent);\n",
              "\n",
              "    outputElement.appendChild(li);\n",
              "\n",
              "    const fileDataPromise = new Promise((resolve) => {\n",
              "      const reader = new FileReader();\n",
              "      reader.onload = (e) => {\n",
              "        resolve(e.target.result);\n",
              "      };\n",
              "      reader.readAsArrayBuffer(file);\n",
              "    });\n",
              "    // Wait for the data to be ready.\n",
              "    let fileData = yield {\n",
              "      promise: fileDataPromise,\n",
              "      response: {\n",
              "        action: 'continue',\n",
              "      }\n",
              "    };\n",
              "\n",
              "    // Use a chunked sending to avoid message size limits. See b/62115660.\n",
              "    let position = 0;\n",
              "    do {\n",
              "      const length = Math.min(fileData.byteLength - position, MAX_PAYLOAD_SIZE);\n",
              "      const chunk = new Uint8Array(fileData, position, length);\n",
              "      position += length;\n",
              "\n",
              "      const base64 = btoa(String.fromCharCode.apply(null, chunk));\n",
              "      yield {\n",
              "        response: {\n",
              "          action: 'append',\n",
              "          file: file.name,\n",
              "          data: base64,\n",
              "        },\n",
              "      };\n",
              "\n",
              "      let percentDone = fileData.byteLength === 0 ?\n",
              "          100 :\n",
              "          Math.round((position / fileData.byteLength) * 100);\n",
              "      percent.textContent = `${percentDone}% done`;\n",
              "\n",
              "    } while (position < fileData.byteLength);\n",
              "  }\n",
              "\n",
              "  // All done.\n",
              "  yield {\n",
              "    response: {\n",
              "      action: 'complete',\n",
              "    }\n",
              "  };\n",
              "}\n",
              "\n",
              "scope.google = scope.google || {};\n",
              "scope.google.colab = scope.google.colab || {};\n",
              "scope.google.colab._files = {\n",
              "  _uploadFiles,\n",
              "  _uploadFilesContinue,\n",
              "};\n",
              "})(self);\n",
              "</script> "
            ]
          },
          "metadata": {}
        },
        {
          "output_type": "stream",
          "name": "stdout",
          "text": [
            "Saving 립 아이리무버.csv to 립 아이리무버.csv\n"
          ]
        }
      ],
      "source": [
        "from google.colab import files\n",
        "uploaded=files.upload()"
      ]
    },
    {
      "cell_type": "code",
      "execution_count": 26,
      "metadata": {
        "id": "Fhz-uGlK8REa"
      },
      "outputs": [],
      "source": [
        "import pandas as pd\n",
        "from krwordrank.word import KRWordRank\n",
        "\n",
        "\n",
        "# Assuming 'files' is a list of pandas DataFrames\n",
        "files = [pd.read_csv(file_path, encoding='cp949') for file_path in uploaded]\n",
        "\n",
        "# Assuming 'review_수정' is the second column (index 1)\n",
        "docs = [' '.join(map(str, file.iloc[:, -1])) for file in files]\n",
        "stopwords = {'너무', '진짜', '사용', '좋아', '제품', '정말', '구매', '저는', '많이', '같아', '피부', '좋은',\n",
        "             '조금', '아주', '느낌', '다른', '살짝', '있는', '엄청', '좋고', '제가', '그냥', '완전', '있어',\n",
        "             '약간', '않고', '않고', '마음에', '그리고', 'ㅎㅎ', '이거', '근데', '처음', '생각', '그래서', '바로',\n",
        "             '만족', '쓰고', '같이', '발라', '맘에', '않아서', '하고', '아니', '거의', '해서', '분들', '한번',\n",
        "             '그런', '계속', '같은', '들어', '일단', '확실히', '원래', '정도', '제일', 'ㅠㅠ', '다시', '괜찮',\n",
        "             '가장', '샀는데', '하나', '이건', '쓰는', '편이', '좋아요', '사용', '같아요', '구매', '제품', '느낌',\n",
        "             '있어', '생각', '그래도', '아니', '들어', '요즘', '없어서', '항상', '괜찮', '제형', '하는', '없고',\n",
        "             '하지만', '분들', '없는', '올라', '좋았', '편이', '없이', '이번에', '사진', '이런', '별로', '있는데',\n",
        "             '그런지', '되는', '위에', '역시', '않아', '어울', '쓰면', '적당히', '않은', '무조건', '보고', '그리',\n",
        "             '이게', '다만', '좋아', '제품', '구매', '같아', '느낌이', '있어서', '좋다고', '쓰기', '괜찮', '들어', '아니',\n",
        "             '좋네요', '생각', '전에', '나서', '좋을', '좋았', '하나', '아직', '많은', '특히', '좋습', '이제', '때문에',\n",
        "             '올리브영', '때문에', '굉장히', 'ㅋㅋ', '느껴', '써보', '사서', '여러', '지금', '분들', '워낙', '저도',\n",
        "             '리무버', '지워', '눈에', '사용', '제품'}\n",
        "\n",
        "\n",
        "preprocessed_docs=[]\n",
        "for doc in docs:\n",
        "  words=doc.split()\n",
        "  filtered_words=[word for word in words if word not in stopwords]\n",
        "  preprocessed_docs.append(' '.join(filtered_words))\n",
        "\n",
        "# Now, you can use the KRWordRank extractor\n",
        "min_count = 5\n",
        "max_length = 10\n",
        "wordrank_extractor = KRWordRank(min_count=min_count, max_length=max_length)\n",
        "\n",
        "beta = 0.85\n",
        "max_iter = 10\n",
        "\n",
        "# Pass the list of documents (strings) to the extract method\n",
        "keywords, rank, graph = wordrank_extractor.extract(preprocessed_docs, beta, max_iter)\n"
      ]
    },
    {
      "cell_type": "code",
      "execution_count": 27,
      "metadata": {
        "id": "lUt6sd2l7Kil",
        "outputId": "1629c997-0366-41d9-feab-ae054b20ffbf",
        "colab": {
          "base_uri": "https://localhost:8080/"
        }
      },
      "outputs": [
        {
          "output_type": "stream",
          "name": "stdout",
          "text": [
            "      지워:\t264.5177\n",
            "      사용:\t246.3350\n",
            "      자극:\t209.0160\n",
            "      제품:\t199.5038\n",
            "     클렌징:\t175.9781\n",
            "      아이:\t143.0679\n",
            "     세정력:\t143.0081\n",
            "      화장:\t131.5160\n",
            "      구매:\t126.4749\n",
            "     리무버:\t119.7429\n",
            "     마스카:\t113.5229\n",
            "      좋아:\t103.6832\n",
            "      눈이:\t102.8991\n",
            "     순하고:\t99.5187\n",
            "      폰즈:\t95.4210\n",
            "      립앤:\t86.2701\n",
            "     재구매:\t80.0403\n",
            "      들어:\t79.3441\n",
            "      세일:\t65.5994\n",
            "    메이크업:\t62.9257\n",
            "      같아:\t62.3078\n",
            "      오일:\t61.2288\n",
            "      지우:\t61.1239\n",
            "      추천:\t58.7623\n",
            "      가격:\t58.0095\n",
            "      순한:\t56.1229\n",
            "     가성비:\t55.3123\n",
            "      용량:\t54.9559\n",
            "     대용량:\t54.8875\n",
            "      만족:\t53.5909\n",
            "     순해서:\t53.0259\n",
            "      자주:\t52.8994\n",
            "     있어요:\t50.5222\n",
            "     눈시림:\t46.3581\n",
            "     눈화장:\t43.2425\n",
            "      오래:\t41.6230\n",
            "     따갑지:\t41.4921\n",
            "      여행:\t41.1000\n",
            "    바닐라코:\t40.3623\n",
            "      전혀:\t40.1208\n",
            "      지울:\t39.5294\n",
            "      피부:\t38.3770\n",
            "      작은:\t38.0534\n",
            "     속눈썹:\t38.0221\n",
            "      워터:\t37.9913\n",
            "     묻혀서:\t37.3916\n",
            "      깔끔:\t35.4204\n",
            "     잘지워:\t35.0468\n",
            "      생각:\t34.5413\n",
            "     이걸로:\t34.4757\n",
            "     포인트:\t33.8704\n",
            "      쓰던:\t33.6513\n",
            "      괜찮:\t33.0713\n",
            "      매일:\t32.5481\n",
            "    부드럽게:\t32.1563\n",
            "      닦아:\t31.9523\n",
            "      없어:\t31.0235\n",
            "     일리윤:\t30.5191\n",
            "      솜에:\t30.1530\n",
            "      믿고:\t29.7851\n",
            "      저렴:\t28.7139\n",
            "      좋았:\t28.6020\n",
            "     충분히:\t28.5437\n",
            "      잔여:\t28.4363\n",
            "      할인:\t28.2328\n",
            "     쓰다가:\t28.0707\n",
            "     한번에:\t28.0349\n",
            "      진한:\t27.9844\n",
            "      따가:\t27.5525\n",
            "     꾸준히:\t27.3631\n",
            "      편이:\t26.9781\n",
            "     이것만:\t26.8019\n",
            "    써봤는데:\t26.6265\n",
            "     진하게:\t26.5523\n",
            "      아니:\t26.2038\n",
            "     하나도:\t25.8686\n",
            "      눈가:\t25.8582\n",
            "     키스미:\t25.7863\n",
            "     유명한:\t25.7359\n",
            "     아리얼:\t25.5122\n",
            "      금방:\t25.2216\n",
            "     급하게:\t24.5384\n",
            "     흔들어:\t24.4470\n",
            "      있습:\t24.3139\n",
            "      의사:\t24.0859\n",
            "      매번:\t23.5964\n",
            "     많아서:\t23.2668\n",
            "      따로:\t23.2512\n",
            "      정착:\t23.1693\n",
            "      느낌:\t22.6075\n",
            "      성분:\t22.4190\n",
            "      평소:\t22.2651\n",
            "      패드:\t21.9904\n",
            "     이렇게:\t21.9804\n",
            "      좋습:\t21.8069\n",
            "      하면:\t21.7456\n",
            "      !!:\t21.4909\n",
            "      쟁여:\t21.4571\n",
            "      비해:\t21.3133\n",
            "     적셔서:\t21.2114\n"
          ]
        }
      ],
      "source": [
        "for word, r in sorted(keywords.items(), key=lambda x:x[1], reverse=True)[:100]:\n",
        "        print('%8s:\\t%.4f' % (word, r))\n"
      ]
    },
    {
      "cell_type": "code",
      "execution_count": 28,
      "metadata": {
        "id": "yzz3snrd7NFz"
      },
      "outputs": [],
      "source": [
        "stopwords = {'너무', '진짜', '사용', '좋아', '제품', '정말', '구매', '저는', '많이', '같아', '피부', '좋은',\n",
        "             '조금', '아주', '느낌', '다른', '살짝', '있는', '엄청', '좋고', '제가', '그냥', '완전', '있어',\n",
        "             '약간', '않고', '않고', '마음에', '그리고', 'ㅎㅎ', '이거', '근데', '처음', '생각', '그래서', '바로',\n",
        "             '만족', '쓰고', '같이', '발라', '맘에', '않아서', '하고', '아니', '거의', '해서', '분들', '한번',\n",
        "             '그런', '계속', '같은', '들어', '일단', '확실히', '원래', '정도', '제일', 'ㅠㅠ', '다시', '괜찮',\n",
        "             '가장', '샀는데', '하나', '이건', '쓰는', '편이', '좋아요', '사용', '같아요', '구매', '제품', '느낌',\n",
        "             '있어', '생각', '그래도', '아니', '들어', '요즘', '없어서', '항상', '괜찮', '제형', '하는', '없고',\n",
        "             '하지만', '분들', '없는', '올라', '좋았', '편이', '없이', '이번에', '사진', '이런', '별로', '있는데',\n",
        "             '그런지', '되는', '위에', '역시', '않아', '어울', '쓰면', '적당히', '않은', '무조건', '보고', '그리',\n",
        "             '이게', '다만', '좋아', '제품', '구매', '같아', '느낌이', '있어서', '좋다고', '쓰기', '괜찮', '들어', '아니',\n",
        "             '좋네요', '생각', '전에', '나서', '좋을', '좋았', '하나', '아직', '많은', '특히', '좋습', '이제', '때문에',\n",
        "             '올리브영', '때문에', '굉장히', 'ㅋㅋ', '느껴', '써보', '사서', '여러', '지금', '분들', '워낙', '저도',\n",
        "             '리무버', '지워', '눈에', '사용', '제품'}\n",
        "passwords = {word:score for word, score in sorted(\n",
        "    keywords.items(), key=lambda x:-x[1])[:300] if not (word in stopwords)}"
      ]
    },
    {
      "cell_type": "code",
      "execution_count": 29,
      "metadata": {
        "colab": {
          "base_uri": "https://localhost:8080/"
        },
        "id": "eBHjjZDJ7OJE",
        "outputId": "2136e6d7-b31e-4906-c5a8-da499b893439"
      },
      "outputs": [
        {
          "output_type": "stream",
          "name": "stdout",
          "text": [
            "scan vocabs ... \n",
            "num vocabs = 91067\n",
            "done\n"
          ]
        }
      ],
      "source": [
        "from krwordrank.word import summarize_with_keywords\n",
        "\n",
        "keywords = summarize_with_keywords(docs, min_count=5, max_length=10,\n",
        "    beta=0.85, max_iter=10, stopwords=stopwords, verbose=True)\n",
        "keywords = summarize_with_keywords(docs) # with default arguments"
      ]
    },
    {
      "cell_type": "code",
      "execution_count": null,
      "metadata": {
        "id": "X-N6jf_KA1hZ"
      },
      "outputs": [],
      "source": [
        "print(keywords)"
      ]
    },
    {
      "cell_type": "code",
      "execution_count": null,
      "metadata": {
        "id": "z-Phz_kpA7Ry"
      },
      "outputs": [],
      "source": []
    }
  ],
  "metadata": {
    "colab": {
      "provenance": [],
      "authorship_tag": "ABX9TyMaEflTskhg6pFlUv1x37Fy",
      "include_colab_link": true
    },
    "kernelspec": {
      "display_name": "Python 3",
      "name": "python3"
    },
    "language_info": {
      "name": "python"
    }
  },
  "nbformat": 4,
  "nbformat_minor": 0
}