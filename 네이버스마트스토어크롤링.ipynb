{
  "nbformat": 4,
  "nbformat_minor": 0,
  "metadata": {
    "colab": {
      "provenance": [],
      "authorship_tag": "ABX9TyOAta/p8nDgjdewTL+RRv3d",
      "include_colab_link": true
    },
    "kernelspec": {
      "name": "python3",
      "display_name": "Python 3"
    },
    "language_info": {
      "name": "python"
    }
  },
  "cells": [
    {
      "cell_type": "markdown",
      "metadata": {
        "id": "view-in-github",
        "colab_type": "text"
      },
      "source": [
        "<a href=\"https://colab.research.google.com/github/UiinKim/Crawling/blob/main/%EB%84%A4%EC%9D%B4%EB%B2%84%EC%8A%A4%EB%A7%88%ED%8A%B8%EC%8A%A4%ED%86%A0%EC%96%B4%ED%81%AC%EB%A1%A4%EB%A7%81.ipynb\" target=\"_parent\"><img src=\"https://colab.research.google.com/assets/colab-badge.svg\" alt=\"Open In Colab\"/></a>"
      ]
    },
    {
      "cell_type": "code",
      "source": [
        "import time\n",
        "import requests\n",
        "from time import sleep\n",
        "import re, requests, csv\n",
        "from bs4 import BeautifulSoup as bs\n",
        "from selenium.webdriver.common.keys import Keys\n",
        "from selenium.webdriver.common.by import By\n",
        "import pandas as pd\n",
        "from selenium import webdriver\n",
        "from selenium.common.exceptions import NoSuchElementException\n",
        "keys=Keys()\n",
        "\n",
        "url='https://brand.naver.com/roundlab/products/5956405279'\n",
        "options = webdriver.ChromeOptions()\n",
        "options.add_argument('--headless')\n",
        "chrome_driver_path = '/Users/UiinKim/.ipython/chromedriver'\n",
        "driver = webdriver.Chrome(options=options)\n",
        "driver.get(url)\n",
        "time.sleep(3)\n",
        "\n",
        "page=requests.get(url)\n",
        "while True:\n",
        "    last_height = driver.execute_script(\"return document.body.scrollHeight\")\n",
        "    driver.find_element(By.TAG_NAME, 'body').send_keys(Keys.END)\n",
        "    time.sleep(2)\n",
        "    new_height = driver.execute_script(\"return document.body.scrollHeight\")\n",
        "    if new_height == last_height:\n",
        "        break"
      ],
      "metadata": {
        "colab": {
          "base_uri": "https://localhost:8080/",
          "height": 402
        },
        "id": "WGJCNTLVqR5L",
        "outputId": "fdf09f09-b256-4a52-c3d7-5059a5482e5e"
      },
      "execution_count": 1,
      "outputs": [
        {
          "output_type": "error",
          "ename": "ModuleNotFoundError",
          "evalue": "ignored",
          "traceback": [
            "\u001b[0;31m---------------------------------------------------------------------------\u001b[0m",
            "\u001b[0;31mModuleNotFoundError\u001b[0m                       Traceback (most recent call last)",
            "\u001b[0;32m<ipython-input-1-90d92378c0d3>\u001b[0m in \u001b[0;36m<cell line: 6>\u001b[0;34m()\u001b[0m\n\u001b[1;32m      4\u001b[0m \u001b[0;32mimport\u001b[0m \u001b[0mre\u001b[0m\u001b[0;34m,\u001b[0m \u001b[0mrequests\u001b[0m\u001b[0;34m,\u001b[0m \u001b[0mcsv\u001b[0m\u001b[0;34m\u001b[0m\u001b[0;34m\u001b[0m\u001b[0m\n\u001b[1;32m      5\u001b[0m \u001b[0;32mfrom\u001b[0m \u001b[0mbs4\u001b[0m \u001b[0;32mimport\u001b[0m \u001b[0mBeautifulSoup\u001b[0m \u001b[0;32mas\u001b[0m \u001b[0mbs\u001b[0m\u001b[0;34m\u001b[0m\u001b[0;34m\u001b[0m\u001b[0m\n\u001b[0;32m----> 6\u001b[0;31m \u001b[0;32mfrom\u001b[0m \u001b[0mselenium\u001b[0m\u001b[0;34m.\u001b[0m\u001b[0mwebdriver\u001b[0m\u001b[0;34m.\u001b[0m\u001b[0mcommon\u001b[0m\u001b[0;34m.\u001b[0m\u001b[0mkeys\u001b[0m \u001b[0;32mimport\u001b[0m \u001b[0mKeys\u001b[0m\u001b[0;34m\u001b[0m\u001b[0;34m\u001b[0m\u001b[0m\n\u001b[0m\u001b[1;32m      7\u001b[0m \u001b[0;32mfrom\u001b[0m \u001b[0mselenium\u001b[0m\u001b[0;34m.\u001b[0m\u001b[0mwebdriver\u001b[0m\u001b[0;34m.\u001b[0m\u001b[0mcommon\u001b[0m\u001b[0;34m.\u001b[0m\u001b[0mby\u001b[0m \u001b[0;32mimport\u001b[0m \u001b[0mBy\u001b[0m\u001b[0;34m\u001b[0m\u001b[0;34m\u001b[0m\u001b[0m\n\u001b[1;32m      8\u001b[0m \u001b[0;32mimport\u001b[0m \u001b[0mpandas\u001b[0m \u001b[0;32mas\u001b[0m \u001b[0mpd\u001b[0m\u001b[0;34m\u001b[0m\u001b[0;34m\u001b[0m\u001b[0m\n",
            "\u001b[0;31mModuleNotFoundError\u001b[0m: No module named 'selenium'",
            "",
            "\u001b[0;31m---------------------------------------------------------------------------\u001b[0;32m\nNOTE: If your import is failing due to a missing package, you can\nmanually install dependencies using either !pip or !apt.\n\nTo view examples of installing some common dependencies, click the\n\"Open Examples\" button below.\n\u001b[0;31m---------------------------------------------------------------------------\u001b[0m\n"
          ],
          "errorDetails": {
            "actions": [
              {
                "action": "open_url",
                "actionText": "Open Examples",
                "url": "/notebooks/snippets/importing_libraries.ipynb"
              }
            ]
          }
        }
      ]
    },
    {
      "cell_type": "code",
      "source": [
        "html=driver.page_source\n",
        "soup=bs(html, 'html.parser')\n",
        "text=[]\n",
        "result=[]\n",
        "for tag1 in soup.find_all(class_='_1iuv6pLHMD'):\n",
        "    text.append(tag1.text)\n",
        "for tag2 in soup.find_all(class_='ABROiEshTD'):\n",
        "    result.append(tag2.text)\n",
        "for tag, name in zip(text, result):\n",
        "    if tag=='모델명':\n",
        "        model=name\n",
        "    if tag=='브랜드':\n",
        "        brand=name\n",
        "    if tag=='상품번호':\n",
        "        number=name\n",
        "#model='클래식 에센스 인크리멘트 50 mL'\n",
        "#brand='아벤느'\n",
        "print(model, brand, number)"
      ],
      "metadata": {
        "id": "S_u7pY-Zmsp3"
      },
      "execution_count": null,
      "outputs": []
    },
    {
      "cell_type": "code",
      "source": [
        "count=0\n",
        "stop=int(input('전체 리뷰 수를 입력해주세요 : '))\n",
        "next_btn = ['a:nth-child(2)', 'a:nth-child(3)', 'a:nth-child(4)', 'a:nth-child(5)', 'a:nth-child(6)', 'a:nth-child(7)', 'a:nth-child(8)', 'a:nth-child(9)', 'a:nth-child(10)', 'a:nth-child(11)','a.fAUKm1ewwo._2Ar8-aEUTq']\n",
        "review_list=[]\n",
        "while count<stop:\n",
        "    for pagenum in next_btn:\n",
        "        driver.find_element(By.CSS_SELECTOR, f'#REVIEW > div > div._180GG7_7yx > div.cv6id6JEkg > div > div > '+str(pagenum)+'').send_keys(Keys.ENTER)\n",
        "        time.sleep(5)\n",
        "        for i in range(0,20):\n",
        "            html=driver.page_source\n",
        "            soup=bs(html, 'html.parser')\n",
        "            review=soup.find_all('div', class_='_19SE1Dnqkf')\n",
        "            review=review[i].text\n",
        "            review=re.sub('[^#0-9a-zA-Zㄱ-ㅣ가-힣\\s]', \" \", review)\n",
        "            review=re.sub(r'한달사용기', '',review)\n",
        "            review=re.sub(r'BEST', '',review)\n",
        "            review=review.replace('\\n', ' ')\n",
        "            review=re.sub(r' {2,}', ' ', review)\n",
        "            review_list.append(review)\n",
        "            count+=1\n",
        "            if(count==stop):\n",
        "                break\n",
        "        if count==stop:\n",
        "            break\n",
        "\n",
        "\n",
        "review_list"
      ],
      "metadata": {
        "id": "PgUGWRfhBXYL"
      },
      "execution_count": null,
      "outputs": []
    },
    {
      "cell_type": "code",
      "source": [
        "df=pd.DataFrame({'brand_en':brand, 'product_name':model, 'product_num': number, 'review':review_list})\n",
        "df.to_csv('c:/Users/UiinKim/crawling_2023/화장품추천시스템/라운드랩/라운드랩_%s.csv'%(model), encoding='cp949')\n",
        "print('저장 완료되었습니다.')"
      ],
      "metadata": {
        "id": "Jp7QjWgNBYZC"
      },
      "execution_count": null,
      "outputs": []
    }
  ]
}