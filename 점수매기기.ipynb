{
  "nbformat": 4,
  "nbformat_minor": 0,
  "metadata": {
    "colab": {
      "provenance": [],
      "authorship_tag": "ABX9TyNrUmIuwWOBvKpf5V5kIDBI",
      "include_colab_link": true
    },
    "kernelspec": {
      "name": "python3",
      "display_name": "Python 3"
    },
    "language_info": {
      "name": "python"
    }
  },
  "cells": [
    {
      "cell_type": "markdown",
      "metadata": {
        "id": "view-in-github",
        "colab_type": "text"
      },
      "source": [
        "<a href=\"https://colab.research.google.com/github/UiinKim/Crawling/blob/main/%EC%A0%90%EC%88%98%EB%A7%A4%EA%B8%B0%EA%B8%B0.ipynb\" target=\"_parent\"><img src=\"https://colab.research.google.com/assets/colab-badge.svg\" alt=\"Open In Colab\"/></a>"
      ]
    },
    {
      "cell_type": "code",
      "execution_count": 12,
      "metadata": {
        "colab": {
          "base_uri": "https://localhost:8080/",
          "height": 827
        },
        "id": "9ATpYTsQL-_o",
        "outputId": "e76197d6-7fa2-4461-b5b4-a65604437d56"
      },
      "outputs": [
        {
          "output_type": "display_data",
          "data": {
            "text/plain": [
              "<IPython.core.display.HTML object>"
            ],
            "text/html": [
              "\n",
              "     <input type=\"file\" id=\"files-18a8d9cb-971b-4be2-a8dd-1d09373c129e\" name=\"files[]\" multiple disabled\n",
              "        style=\"border:none\" />\n",
              "     <output id=\"result-18a8d9cb-971b-4be2-a8dd-1d09373c129e\">\n",
              "      Upload widget is only available when the cell has been executed in the\n",
              "      current browser session. Please rerun this cell to enable.\n",
              "      </output>\n",
              "      <script>// Copyright 2017 Google LLC\n",
              "//\n",
              "// Licensed under the Apache License, Version 2.0 (the \"License\");\n",
              "// you may not use this file except in compliance with the License.\n",
              "// You may obtain a copy of the License at\n",
              "//\n",
              "//      http://www.apache.org/licenses/LICENSE-2.0\n",
              "//\n",
              "// Unless required by applicable law or agreed to in writing, software\n",
              "// distributed under the License is distributed on an \"AS IS\" BASIS,\n",
              "// WITHOUT WARRANTIES OR CONDITIONS OF ANY KIND, either express or implied.\n",
              "// See the License for the specific language governing permissions and\n",
              "// limitations under the License.\n",
              "\n",
              "/**\n",
              " * @fileoverview Helpers for google.colab Python module.\n",
              " */\n",
              "(function(scope) {\n",
              "function span(text, styleAttributes = {}) {\n",
              "  const element = document.createElement('span');\n",
              "  element.textContent = text;\n",
              "  for (const key of Object.keys(styleAttributes)) {\n",
              "    element.style[key] = styleAttributes[key];\n",
              "  }\n",
              "  return element;\n",
              "}\n",
              "\n",
              "// Max number of bytes which will be uploaded at a time.\n",
              "const MAX_PAYLOAD_SIZE = 100 * 1024;\n",
              "\n",
              "function _uploadFiles(inputId, outputId) {\n",
              "  const steps = uploadFilesStep(inputId, outputId);\n",
              "  const outputElement = document.getElementById(outputId);\n",
              "  // Cache steps on the outputElement to make it available for the next call\n",
              "  // to uploadFilesContinue from Python.\n",
              "  outputElement.steps = steps;\n",
              "\n",
              "  return _uploadFilesContinue(outputId);\n",
              "}\n",
              "\n",
              "// This is roughly an async generator (not supported in the browser yet),\n",
              "// where there are multiple asynchronous steps and the Python side is going\n",
              "// to poll for completion of each step.\n",
              "// This uses a Promise to block the python side on completion of each step,\n",
              "// then passes the result of the previous step as the input to the next step.\n",
              "function _uploadFilesContinue(outputId) {\n",
              "  const outputElement = document.getElementById(outputId);\n",
              "  const steps = outputElement.steps;\n",
              "\n",
              "  const next = steps.next(outputElement.lastPromiseValue);\n",
              "  return Promise.resolve(next.value.promise).then((value) => {\n",
              "    // Cache the last promise value to make it available to the next\n",
              "    // step of the generator.\n",
              "    outputElement.lastPromiseValue = value;\n",
              "    return next.value.response;\n",
              "  });\n",
              "}\n",
              "\n",
              "/**\n",
              " * Generator function which is called between each async step of the upload\n",
              " * process.\n",
              " * @param {string} inputId Element ID of the input file picker element.\n",
              " * @param {string} outputId Element ID of the output display.\n",
              " * @return {!Iterable<!Object>} Iterable of next steps.\n",
              " */\n",
              "function* uploadFilesStep(inputId, outputId) {\n",
              "  const inputElement = document.getElementById(inputId);\n",
              "  inputElement.disabled = false;\n",
              "\n",
              "  const outputElement = document.getElementById(outputId);\n",
              "  outputElement.innerHTML = '';\n",
              "\n",
              "  const pickedPromise = new Promise((resolve) => {\n",
              "    inputElement.addEventListener('change', (e) => {\n",
              "      resolve(e.target.files);\n",
              "    });\n",
              "  });\n",
              "\n",
              "  const cancel = document.createElement('button');\n",
              "  inputElement.parentElement.appendChild(cancel);\n",
              "  cancel.textContent = 'Cancel upload';\n",
              "  const cancelPromise = new Promise((resolve) => {\n",
              "    cancel.onclick = () => {\n",
              "      resolve(null);\n",
              "    };\n",
              "  });\n",
              "\n",
              "  // Wait for the user to pick the files.\n",
              "  const files = yield {\n",
              "    promise: Promise.race([pickedPromise, cancelPromise]),\n",
              "    response: {\n",
              "      action: 'starting',\n",
              "    }\n",
              "  };\n",
              "\n",
              "  cancel.remove();\n",
              "\n",
              "  // Disable the input element since further picks are not allowed.\n",
              "  inputElement.disabled = true;\n",
              "\n",
              "  if (!files) {\n",
              "    return {\n",
              "      response: {\n",
              "        action: 'complete',\n",
              "      }\n",
              "    };\n",
              "  }\n",
              "\n",
              "  for (const file of files) {\n",
              "    const li = document.createElement('li');\n",
              "    li.append(span(file.name, {fontWeight: 'bold'}));\n",
              "    li.append(span(\n",
              "        `(${file.type || 'n/a'}) - ${file.size} bytes, ` +\n",
              "        `last modified: ${\n",
              "            file.lastModifiedDate ? file.lastModifiedDate.toLocaleDateString() :\n",
              "                                    'n/a'} - `));\n",
              "    const percent = span('0% done');\n",
              "    li.appendChild(percent);\n",
              "\n",
              "    outputElement.appendChild(li);\n",
              "\n",
              "    const fileDataPromise = new Promise((resolve) => {\n",
              "      const reader = new FileReader();\n",
              "      reader.onload = (e) => {\n",
              "        resolve(e.target.result);\n",
              "      };\n",
              "      reader.readAsArrayBuffer(file);\n",
              "    });\n",
              "    // Wait for the data to be ready.\n",
              "    let fileData = yield {\n",
              "      promise: fileDataPromise,\n",
              "      response: {\n",
              "        action: 'continue',\n",
              "      }\n",
              "    };\n",
              "\n",
              "    // Use a chunked sending to avoid message size limits. See b/62115660.\n",
              "    let position = 0;\n",
              "    do {\n",
              "      const length = Math.min(fileData.byteLength - position, MAX_PAYLOAD_SIZE);\n",
              "      const chunk = new Uint8Array(fileData, position, length);\n",
              "      position += length;\n",
              "\n",
              "      const base64 = btoa(String.fromCharCode.apply(null, chunk));\n",
              "      yield {\n",
              "        response: {\n",
              "          action: 'append',\n",
              "          file: file.name,\n",
              "          data: base64,\n",
              "        },\n",
              "      };\n",
              "\n",
              "      let percentDone = fileData.byteLength === 0 ?\n",
              "          100 :\n",
              "          Math.round((position / fileData.byteLength) * 100);\n",
              "      percent.textContent = `${percentDone}% done`;\n",
              "\n",
              "    } while (position < fileData.byteLength);\n",
              "  }\n",
              "\n",
              "  // All done.\n",
              "  yield {\n",
              "    response: {\n",
              "      action: 'complete',\n",
              "    }\n",
              "  };\n",
              "}\n",
              "\n",
              "scope.google = scope.google || {};\n",
              "scope.google.colab = scope.google.colab || {};\n",
              "scope.google.colab._files = {\n",
              "  _uploadFiles,\n",
              "  _uploadFilesContinue,\n",
              "};\n",
              "})(self);\n",
              "</script> "
            ]
          },
          "metadata": {}
        },
        {
          "output_type": "stream",
          "name": "stdout",
          "text": [
            "Saving 김의인_레이블링.csv to 김의인_레이블링 (1).csv\n",
            "       Unnamed: 0   idx brand_en brand_ko         product_name  product_num  \\\n",
            "0               1     1      V&A    브이앤에이  안티옥시던트 래디언스 앰플 50ml   5931851297   \n",
            "1               2     2      V&A    브이앤에이  안티옥시던트 래디언스 앰플 50ml   5931851297   \n",
            "2               3     3      V&A    브이앤에이  안티옥시던트 래디언스 앰플 50ml   5931851297   \n",
            "3               4     4      V&A    브이앤에이  안티옥시던트 래디언스 앰플 50ml   5931851297   \n",
            "4               5     5      V&A    브이앤에이  안티옥시던트 래디언스 앰플 50ml   5931851297   \n",
            "...           ...   ...      ...      ...                  ...          ...   \n",
            "11195       11196  2125    avene      아벤느        트릭세라 로션 100ml   7800018262   \n",
            "11196       11197  2126    avene      아벤느        트릭세라 로션 100ml   7800018262   \n",
            "11197       11198  2127    avene      아벤느        트릭세라 로션 100ml   7800018262   \n",
            "11198       11199  2128    avene      아벤느        트릭세라 로션 100ml   7800018262   \n",
            "11199       11200  2129    avene      아벤느        트릭세라 로션 100ml   7800018262   \n",
            "\n",
            "                                                  review   수분  보습  향  자극  발림성  \\\n",
            "0      원래 사용 하던 제품인데 할인이랑 증정 행사 많이 하셔서 쟁여 놓았네요 잡티도 흐려...  NaN   0  0 NaN    1   \n",
            "1      피부결 촘촘해지고 단단해지는 느낌 듦다만 올영에서 5050리필 행사하고 있는거랑 착...  NaN   0  0 NaN    0   \n",
            "2      흡수력도 좋고 매우 촉촉해요 바르고 피부도 진정되고 미백 효과도 있는 듯해요 꾸준히...  1.0   0  0 NaN    0   \n",
            "3      재구매몇병째 꾸준히 쓰고 있는데 미백이나 흔적 케어에 효과가 있는지는 잘 모르겠지만...  NaN   0  0 NaN    0   \n",
            "4                 애 낳고 생긴 잡티 좀 없어졌음 좋겠어요 좋다는 얘기 듣고 구매합니다  NaN   0  0 NaN    0   \n",
            "...                                                  ...  ...  .. ..  ..  ...   \n",
            "11195                                               좋아요   NaN   0  0 NaN    0   \n",
            "11196                                     좋더라고요 잘 쓰고 있어요  NaN   0  0 NaN    0   \n",
            "11197                        늘쓰는제품입니다 이만큼 촉촉하고 순한것 못찾겠어요  1.0   0  0 NaN    0   \n",
            "11198                                       항상 쓰는 건데 좋아요  NaN   0  0 NaN    0   \n",
            "11199                                         토너입니다 대용량   NaN   0  0 NaN    0   \n",
            "\n",
            "      피부타입  \n",
            "0      NaN  \n",
            "1      NaN  \n",
            "2      NaN  \n",
            "3      NaN  \n",
            "4      NaN  \n",
            "...    ...  \n",
            "11195  NaN  \n",
            "11196  NaN  \n",
            "11197  NaN  \n",
            "11198  NaN  \n",
            "11199  NaN  \n",
            "\n",
            "[11200 rows x 13 columns]\n"
          ]
        }
      ],
      "source": [
        "import pandas as pd\n",
        "from google.colab import files\n",
        "\n",
        "# 파일 업로드\n",
        "uploaded = files.upload()\n",
        "\n",
        "# 업로드된 파일 이름 추출\n",
        "file_name = next(iter(uploaded))\n",
        "\n",
        "# 'utf-8-sig'로 파일 읽기\n",
        "df = pd.read_csv(file_name, encoding='cp949')\n",
        "\n",
        "# 데이터프레임 확인\n",
        "print(df)"
      ]
    },
    {
      "cell_type": "code",
      "source": [
        "data=df.drop(['Unnamed: 0', 'idx', 'brand_en', 'product_num'], axis=1)"
      ],
      "metadata": {
        "id": "tLIJesZ1MDMN"
      },
      "execution_count": 13,
      "outputs": []
    },
    {
      "cell_type": "code",
      "source": [
        "def count_values_by_product_name(df, column_name):\n",
        "    # 상품명에 따라 1, 0, NaN의 개수를 세는 함수\n",
        "    counts = df.groupby('product_name')[column_name].value_counts(dropna=False).unstack(fill_value=0)\n",
        "    output_filename = f\"{column_name}_count_result.csv\"\n",
        "    counts.to_csv(output_filename, index=True, encoding='cp949')\n",
        "    print(f\"결과가 '{output_filename}' 파일로 저장되었습니다.\")\n",
        "    return counts"
      ],
      "metadata": {
        "id": "OcwElOLjMwjA"
      },
      "execution_count": 19,
      "outputs": []
    },
    {
      "cell_type": "code",
      "source": [
        "column_name = '피부타입'\n",
        "result = count_values_by_product_name(df, column_name)\n",
        "print(result)"
      ],
      "metadata": {
        "colab": {
          "base_uri": "https://localhost:8080/"
        },
        "id": "ODvM2EOEM-yS",
        "outputId": "ee1839f8-c2e6-4ce4-b18b-d91189a4197d"
      },
      "execution_count": 25,
      "outputs": [
        {
          "output_type": "stream",
          "name": "stdout",
          "text": [
            "결과가 '피부타입_count_result.csv' 파일로 저장되었습니다.\n",
            "피부타입                                   NaN   0   1  1,0\n",
            "product_name                                           \n",
            "1025 독도 필링젤 120ml 듀오 세트                498   0   2    0\n",
            "닥터지 더모이스처 배리어.D 데일리 로션 200ml           474  12  14    0\n",
            "닥터지 더모이스처 배리어.D 인텐스 크림 100ml           442  53   5    0\n",
            "닥터지 레드 블레미쉬 클리어 수딩 크림 50ml             475  13  12    0\n",
            "닥터지 블랙 스네일 크림 50ml 탄력 달팽이 크림           481  15   4    0\n",
            "라운드랩 자작나무 수분 크림 80ml                   491   0   8    1\n",
            "레드 블레미쉬 포 맨 올인원 플루이드 200ml             490   4   6    0\n",
            "세이프 미 릴리프 모이스처 클렌징 밀크                  472  17  11    0\n",
            "세이프 미 릴리프 모이스처 클렌징 오일                  469   3  28    0\n",
            "소나무 진정 시카 패드 50매 + 소나무 진정 앰플 대용량 50ml  490   0   9    1\n",
            "시칼파트 플러스 SOS 크림 100ml                  374   4   1    0\n",
            "안티옥시던트 래디언스 앰플 50ml                    491   5   4    0\n",
            "안티옥시던트 에센스 토너 120ml                     83   3   1    0\n",
            "안티옥시던트 하이드레이션 크림 50ml                  473  20   7    0\n",
            "오 떼르말 스프레이 300ml                       494   5   1    0\n",
            "이드랑스 아쿠아 크림 인 젤 50ml                   482  17   1    0\n",
            "인테카 수딩 앰플                              496   0   4    0\n",
            "인테카 수딩 크림                              479   4  17    0\n",
            "인테카 진정 토너                              469   2  29    0\n",
            "자작나무 수분 크림 80ml                        495   0   5    0\n",
            "자작나무 수분 패드 80매 2개세트                    494   0   6    0\n",
            "컨투어 액티브 앰플 50ml                        394   6   0    0\n",
            "컨투어 인텐스 크림 50ml                         75   9   0    0\n",
            "클리낭스 클렌징 젤 400ml                       492   2   6    0\n",
            "트릭세라 로션 100ml                          244   6   0    0\n"
          ]
        }
      ]
    },
    {
      "cell_type": "code",
      "source": [
        "df['product_name'].nunique()"
      ],
      "metadata": {
        "colab": {
          "base_uri": "https://localhost:8080/"
        },
        "id": "caB9SA19NUUv",
        "outputId": "8ea8bd06-9db3-4e58-a6d6-8d3ba2c1aa48"
      },
      "execution_count": 16,
      "outputs": [
        {
          "output_type": "execute_result",
          "data": {
            "text/plain": [
              "25"
            ]
          },
          "metadata": {},
          "execution_count": 16
        }
      ]
    },
    {
      "cell_type": "code",
      "source": [],
      "metadata": {
        "id": "d-jjI7zoNnsJ"
      },
      "execution_count": null,
      "outputs": []
    }
  ]
}