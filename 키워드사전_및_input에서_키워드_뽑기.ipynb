{
  "nbformat": 4,
  "nbformat_minor": 0,
  "metadata": {
    "colab": {
      "provenance": [],
      "authorship_tag": "ABX9TyMuT1J9jSY4KSMXdw4XwVJK",
      "include_colab_link": true
    },
    "kernelspec": {
      "name": "python3",
      "display_name": "Python 3"
    },
    "language_info": {
      "name": "python"
    }
  },
  "cells": [
    {
      "cell_type": "markdown",
      "metadata": {
        "id": "view-in-github",
        "colab_type": "text"
      },
      "source": [
        "<a href=\"https://colab.research.google.com/github/UiinKim/Crawling/blob/main/%ED%82%A4%EC%9B%8C%EB%93%9C%EC%82%AC%EC%A0%84_%EB%B0%8F_input%EC%97%90%EC%84%9C_%ED%82%A4%EC%9B%8C%EB%93%9C_%EB%BD%91%EA%B8%B0.ipynb\" target=\"_parent\"><img src=\"https://colab.research.google.com/assets/colab-badge.svg\" alt=\"Open In Colab\"/></a>"
      ]
    },
    {
      "cell_type": "code",
      "execution_count": 1,
      "metadata": {
        "id": "4QdPtGBqpQUh"
      },
      "outputs": [],
      "source": [
        "list=['촉촉',\n",
        "'트러블',\n",
        "'순하고',\n",
        "'건조',\n",
        "'수분',\n",
        "'자극',\n",
        "'발림성',\n",
        "'향도',\n",
        "'보습',\n",
        "'순해서',\n",
        "'진정',\n",
        "'향이',\n",
        "'부드럽고',\n",
        "'여드름',\n",
        "'건성',\n",
        "'민감',\n",
        "'아이',\n",
        "'지성',]"
      ]
    },
    {
      "cell_type": "code",
      "source": [],
      "metadata": {
        "id": "ZOrDJ72Ks_gb"
      },
      "execution_count": null,
      "outputs": []
    }
  ]
}